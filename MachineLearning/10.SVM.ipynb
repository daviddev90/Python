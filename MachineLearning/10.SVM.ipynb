{
 "cells": [
  {
   "cell_type": "markdown",
   "metadata": {},
   "source": [
    "# SVM (Support Vector Machine)"
   ]
  },
  {
   "cell_type": "markdown",
   "metadata": {},
   "source": [
    "### SVM을 활용한 BMI(비만도) 측정 예측\n",
    "- BMI = 몸무게(KG) / 키(m) * 키(m)\n",
    "- 표준 몸무게는 BMI 18.5 ~ 25\n"
   ]
  },
  {
   "cell_type": "markdown",
   "metadata": {},
   "source": [
    "##### 데이터를 획득하기 위해 무작위로 2만명 데이터를 생성\n",
    "- 키(cm), 몸무게(kg), Label(저체중(thin), 정상체중(normal), 비만(fat))의 csv 생성"
   ]
  },
  {
   "cell_type": "code",
   "execution_count": 2,
   "metadata": {},
   "outputs": [],
   "source": [
    "import random"
   ]
  },
  {
   "cell_type": "code",
   "execution_count": 3,
   "metadata": {},
   "outputs": [],
   "source": [
    "def get_bmi_label(h, w):\n",
    "    bmi = w / (h / 100) ** 2\n",
    "    if bmi < 18.5:\n",
    "        return 'thin'\n",
    "    if bmi < 25:\n",
    "        return 'normal'\n",
    "    return 'fat'"
   ]
  },
  {
   "cell_type": "code",
   "execution_count": 24,
   "metadata": {},
   "outputs": [
    {
     "name": "stdout",
     "output_type": "stream",
     "text": [
      "{'thin': 6455, 'normal': 5883, 'fat': 7662}\n"
     ]
    }
   ],
   "source": [
    "# 저장 파일 준비하기\n",
    "fp = open('data/bmi.csv', 'w', encoding='utf-8')\n",
    "fp.write('height,weight,label\\n')\n",
    "\n",
    "count = {'thin': 0, 'normal': 0, 'fat': 0}\n",
    "\n",
    "for i in range(20000):\n",
    "    h = random.randint(120, 200)\n",
    "    w = random.randint(35, 80)\n",
    "    label = get_bmi_label(h, w)\n",
    "    count[label] += 1\n",
    "    fp.write(f'{h},{w},{label}\\n')\n",
    "fp.close()\n",
    "print(count)"
   ]
  },
  {
   "cell_type": "markdown",
   "metadata": {},
   "source": [
    "# BMI공식 없이 BMI 예측"
   ]
  },
  {
   "cell_type": "code",
   "execution_count": 25,
   "metadata": {},
   "outputs": [],
   "source": [
    "import pandas as pd"
   ]
  },
  {
   "cell_type": "code",
   "execution_count": 26,
   "metadata": {},
   "outputs": [
    {
     "name": "stdout",
     "output_type": "stream",
     "text": [
      "   height  weight label\n",
      "0     133      47   fat\n",
      "1     143      52   fat\n",
      "2     126      42   fat\n",
      "3     143      36  thin\n",
      "4     144      70   fat\n"
     ]
    }
   ],
   "source": [
    "# 데이터 불러오기\n",
    "tbl = pd.read_csv('data/bmi.csv')\n",
    "print(tbl.head())"
   ]
  },
  {
   "cell_type": "code",
   "execution_count": 27,
   "metadata": {},
   "outputs": [
    {
     "data": {
      "text/html": [
       "<div>\n",
       "<style scoped>\n",
       "    .dataframe tbody tr th:only-of-type {\n",
       "        vertical-align: middle;\n",
       "    }\n",
       "\n",
       "    .dataframe tbody tr th {\n",
       "        vertical-align: top;\n",
       "    }\n",
       "\n",
       "    .dataframe thead th {\n",
       "        text-align: right;\n",
       "    }\n",
       "</style>\n",
       "<table border=\"1\" class=\"dataframe\">\n",
       "  <thead>\n",
       "    <tr style=\"text-align: right;\">\n",
       "      <th></th>\n",
       "      <th>height</th>\n",
       "      <th>weight</th>\n",
       "    </tr>\n",
       "  </thead>\n",
       "  <tbody>\n",
       "    <tr>\n",
       "      <th>count</th>\n",
       "      <td>20000.000000</td>\n",
       "      <td>20000.000000</td>\n",
       "    </tr>\n",
       "    <tr>\n",
       "      <th>mean</th>\n",
       "      <td>159.993350</td>\n",
       "      <td>57.461000</td>\n",
       "    </tr>\n",
       "    <tr>\n",
       "      <th>std</th>\n",
       "      <td>23.436625</td>\n",
       "      <td>13.302181</td>\n",
       "    </tr>\n",
       "    <tr>\n",
       "      <th>min</th>\n",
       "      <td>120.000000</td>\n",
       "      <td>35.000000</td>\n",
       "    </tr>\n",
       "    <tr>\n",
       "      <th>25%</th>\n",
       "      <td>140.000000</td>\n",
       "      <td>46.000000</td>\n",
       "    </tr>\n",
       "    <tr>\n",
       "      <th>50%</th>\n",
       "      <td>160.000000</td>\n",
       "      <td>57.000000</td>\n",
       "    </tr>\n",
       "    <tr>\n",
       "      <th>75%</th>\n",
       "      <td>180.000000</td>\n",
       "      <td>69.000000</td>\n",
       "    </tr>\n",
       "    <tr>\n",
       "      <th>max</th>\n",
       "      <td>200.000000</td>\n",
       "      <td>80.000000</td>\n",
       "    </tr>\n",
       "  </tbody>\n",
       "</table>\n",
       "</div>"
      ],
      "text/plain": [
       "             height        weight\n",
       "count  20000.000000  20000.000000\n",
       "mean     159.993350     57.461000\n",
       "std       23.436625     13.302181\n",
       "min      120.000000     35.000000\n",
       "25%      140.000000     46.000000\n",
       "50%      160.000000     57.000000\n",
       "75%      180.000000     69.000000\n",
       "max      200.000000     80.000000"
      ]
     },
     "execution_count": 27,
     "metadata": {},
     "output_type": "execute_result"
    }
   ],
   "source": [
    "tbl.describe()"
   ]
  },
  {
   "cell_type": "markdown",
   "metadata": {},
   "source": [
    "#### 데이터 min max 차이가 크고 std가 너무 높으면 정규화해야 한다 > 여기서는 해도 되고 안 해도 됨"
   ]
  },
  {
   "cell_type": "code",
   "execution_count": 30,
   "metadata": {},
   "outputs": [],
   "source": [
    "# 컬럼을 분리하여 정규화 하기\n",
    "label = tbl.label\n",
    "h = tbl['height'] / 200\n",
    "w = tbl['weight'] / 80"
   ]
  },
  {
   "cell_type": "code",
   "execution_count": 36,
   "metadata": {},
   "outputs": [],
   "source": [
    "# data 다시 합치기\n",
    "data = pd.DataFrame({ 'h': h, 'w': w})"
   ]
  },
  {
   "cell_type": "code",
   "execution_count": 37,
   "metadata": {},
   "outputs": [],
   "source": [
    "# 학습용 데이터와 훈련용 데이터 나누기\n",
    "from sklearn.model_selection import train_test_split\n",
    "# 학습용 데이터와 훈련용 데이터 나누기\n",
    "train_data, test_data, train_label, test_label = train_test_split(data, label, test_size=0.2)"
   ]
  },
  {
   "cell_type": "code",
   "execution_count": 38,
   "metadata": {},
   "outputs": [
    {
     "name": "stdout",
     "output_type": "stream",
     "text": [
      "정확도: 0.99625\n"
     ]
    }
   ],
   "source": [
    "# SVM import 하기\n",
    "from sklearn.svm import SVC\n",
    "# SVM 학습시키기\n",
    "model = SVC()\n",
    "model.fit(train_data, train_label)\n",
    "\n",
    "# 테스트용 데이터에 대한 예측값 저장하기\n",
    "pred = model.predict(test_data)\n",
    "\n",
    "# 예측값과 테스트용 라벨을 비교하여 정확도 계산하기\n",
    "from sklearn.metrics import accuracy_score\n",
    "print('정확도:', accuracy_score(test_label, pred))\n"
   ]
  },
  {
   "cell_type": "code",
   "execution_count": 39,
   "metadata": {},
   "outputs": [
    {
     "name": "stdout",
     "output_type": "stream",
     "text": [
      "[[1508    3    0]\n",
      " [   0 1200    5]\n",
      " [   0    7 1277]]\n"
     ]
    }
   ],
   "source": [
    "# Confusion Matrix\n",
    "from sklearn.metrics import confusion_matrix\n",
    "print(confusion_matrix(test_label, pred))\n"
   ]
  },
  {
   "cell_type": "code",
   "execution_count": 47,
   "metadata": {},
   "outputs": [
    {
     "name": "stdout",
     "output_type": "stream",
     "text": [
      "expect normal pred thin\n",
      "h    0.90\n",
      "w    0.75\n",
      "Name: 8886, dtype: float64\n",
      "\n",
      "expect thin pred normal\n",
      "h    0.99\n",
      "w    0.90\n",
      "Name: 2644, dtype: float64\n",
      "\n",
      "expect fat pred normal\n",
      "h    0.60\n",
      "w    0.45\n",
      "Name: 19179, dtype: float64\n",
      "\n",
      "expect normal pred thin\n",
      "h    0.735\n",
      "w    0.500\n",
      "Name: 1241, dtype: float64\n",
      "\n",
      "expect normal pred thin\n",
      "h    0.915\n",
      "w    0.775\n",
      "Name: 5841, dtype: float64\n",
      "\n",
      "expect thin pred normal\n",
      "h    1.0000\n",
      "w    0.9125\n",
      "Name: 12238, dtype: float64\n",
      "\n",
      "expect thin pred normal\n",
      "h    0.99\n",
      "w    0.90\n",
      "Name: 14285, dtype: float64\n",
      "\n",
      "expect fat pred normal\n",
      "h    0.8050\n",
      "w    0.8125\n",
      "Name: 11277, dtype: float64\n",
      "\n",
      "expect thin pred normal\n",
      "h    1.0000\n",
      "w    0.9125\n",
      "Name: 12905, dtype: float64\n",
      "\n",
      "expect thin pred normal\n",
      "h    1.0000\n",
      "w    0.9125\n",
      "Name: 3917, dtype: float64\n",
      "\n",
      "expect thin pred normal\n",
      "h    0.9950\n",
      "w    0.9125\n",
      "Name: 6442, dtype: float64\n",
      "\n",
      "expect thin pred normal\n",
      "h    0.9800\n",
      "w    0.8875\n",
      "Name: 12935, dtype: float64\n",
      "\n",
      "expect normal pred thin\n",
      "h    0.735\n",
      "w    0.500\n",
      "Name: 4048, dtype: float64\n",
      "\n",
      "expect normal pred thin\n",
      "h    0.90\n",
      "w    0.75\n",
      "Name: 11088, dtype: float64\n",
      "\n",
      "expect fat pred normal\n",
      "h    0.8050\n",
      "w    0.8125\n",
      "Name: 7093, dtype: float64\n",
      "\n"
     ]
    }
   ],
   "source": [
    "# test_label to list\n",
    "test_label_list = test_label.tolist()\n",
    "\n",
    "# 틀린 값 확인하기\n",
    "for i in range(len(test_label)):\n",
    "    if test_label_list[i] != pred[i]:\n",
    "        print('expect', test_label_list[i],'pred', pred[i])\n",
    "        print(test_data.iloc[i])\n",
    "        print()"
   ]
  },
  {
   "cell_type": "code",
   "execution_count": 55,
   "metadata": {},
   "outputs": [
    {
     "data": {
      "image/png": "[encoded data removed]",
      "text/plain": [
       "<Figure size 432x288 with 1 Axes>"
      ]
     },
     "metadata": {
      "needs_background": "light"
     },
     "output_type": "display_data"
    }
   ],
   "source": [
    "import matplotlib.pyplot as plt\n",
    "tbl = pd.read_csv('data/bmi.csv', index_col=2)\n",
    "fig = plt.figure()\n",
    "ax = fig.add_subplot(1,1,1)\n",
    "\n",
    "def scatter(lbl, color):\n",
    "  b = tbl.loc[lbl]\n",
    "  ax.scatter(b['weight'], b['height'], c=color, label = lbl)\n",
    "\n",
    "scatter('fat', 'red')\n",
    "scatter('normal', 'yellow')\n",
    "scatter('thin', 'purple')\n",
    "\n",
    "ax.legend()\n",
    "plt.show()\n"
   ]
  },
  {
   "cell_type": "markdown",
   "metadata": {},
   "source": [
    "---\n",
    "# SVM의 종류\n",
    "- SVC(Classification)\n",
    "- NuSVC: 위와 사실 동일   \n",
    "- LinearSVC: SVM 중에서 가장 빠름. SVC대비 약 3배"
   ]
  },
  {
   "cell_type": "code",
   "execution_count": 57,
   "metadata": {},
   "outputs": [
    {
     "name": "stdout",
     "output_type": "stream",
     "text": [
      "정확도: 0.91725\n",
      "[[1511    0    0]\n",
      " [ 176  875  154]\n",
      " [   0    1 1283]]\n"
     ]
    }
   ],
   "source": [
    "# linearSVC로 예측하기\n",
    "from sklearn.svm import LinearSVC\n",
    "model2 = LinearSVC()\n",
    "model2.fit(train_data, train_label)\n",
    "pred2 = model2.predict(test_data)\n",
    "print('정확도:', accuracy_score(test_label, pred2))\n",
    "print(confusion_matrix(test_label, pred2))"
   ]
  }
 ],
 "metadata": {
  "kernelspec": {
   "display_name": "Python 3.9.7 ('base')",
   "language": "python",
   "name": "python3"
  },
  "language_info": {
   "codemirror_mode": {
    "name": "ipython",
    "version": 3
   },
   "file_extension": ".py",
   "mimetype": "text/x-python",
   "name": "python",
   "nbconvert_exporter": "python",
   "pygments_lexer": "ipython3",
   "version": "3.9.7"
  },
  "orig_nbformat": 4,
  "vscode": {
   "interpreter": {
    "hash": "c34e8390e776d2ee205b71ed5a6130fee3cef8da5e87e926ce18e14f4a070d72"
   }
  }
 },
 "nbformat": 4,
 "nbformat_minor": 2
}
