{
 "cells": [
  {
   "cell_type": "markdown",
   "metadata": {},
   "source": [
    "# 뒤지게 중요함"
   ]
  },
  {
   "cell_type": "markdown",
   "metadata": {},
   "source": [
    "### 모델이 아니라, 각 모델들에서 최적점을 찾는 방법에 대한 이야기"
   ]
  },
  {
   "cell_type": "markdown",
   "metadata": {},
   "source": [
    "# 확률적 경사 하강법\n",
    "### SGD: Stochastic Gradient Descent\n",
    "https://www.mltut.com/stochastic-gradient-descent-a-super-easy-complete-guide/"
   ]
  },
  {
   "cell_type": "markdown",
   "metadata": {},
   "source": [
    "- 머신러닝에도 많이 사용하지만 딥러닝에서 많이 사용\n",
    "- 데이터가 추가되었을 경우 모델을 새로 만드는 대신 기존 모델을 자체적으로 조금씩 수정하면서 사용\n",
    "- 이게 등장하면서 딥러닝이 아주 유용해졌음\n",
    "\n",
    "1. 최초 학습한다.\n",
    "2. 새로운 데이터로 모델을 추가하여 새롭게 학습한다.\n",
    "3. 추가된 갯수만큼 기존의 데이터를 버린다.\n",
    "(기존 모델이 조금씩 수정됨)\n",
    "\n",
    "- 확률적: 랜덤\n",
    "- 경사: 기울기\n",
    "- 곡선의 최적점을 찾기 위해 아래로 하강하면서 최적점(기울기가 0이 되는 지점)을 탐색하는 방법\n",
    "- 방금 찾아낸 지점이 global minimum이 아닐 가능성이 있기 때문에 랜덤하게 여러 곳에서 시작한다."
   ]
  },
  {
   "cell_type": "markdown",
   "metadata": {},
   "source": [
    "### 한 번에 한 개씩 뽑아서 경사하강법을 실시\n",
    "### 한 번에 여러개 뽑아서 경사하강법: mini-batch 경사하강법  V 딥러닝에서 주로 씀\n",
    "### 한 번에 다 뽑아(3억개라도 전부 다): batch 검사하강법"
   ]
  },
  {
   "cell_type": "markdown",
   "metadata": {},
   "source": [
    "- Epoch: 훈련세트를 다 사용하였을 경우의 단계(리필함)\n",
    "- 미니배치(mini batch) 경사 하강법 중 미니배치의 갯수: Hyper Parameter. 보통 2의 배수\n",
    "- 배치경사하강법: 샘플을 한 번에 몽땅 꺼냄 > 메모리나 CPU에 영향을 많이 주기 때문에 잘 안 쓰임"
   ]
  },
  {
   "cell_type": "markdown",
   "metadata": {},
   "source": [
    "### 손실함수(비용함수)\n",
    "- 머신러닝 알고리즘이 에러율을 측정하는 함수\n",
    "- 손실함수 값이 적은 것이 정확도가 높다\n",
    "- 내가 예측한 y^이 10인데 실제 y가 6: 손실값 4\n",
    "- 내가 예측한 y^이 5인데 실제 y가 4: 손실값 1 -> 이녀석이 더 좋다.\n",
    "\n",
    "- 확률적 검사함수를 통해 손실함수 낮은 값 찾는 것\n",
    "- 분류함수인 경우 정확도를 사용하는데, 이 정확도의 값은 미분할 수 없어(연속X) 손실함수로 사용할 수 없다.\n",
    "- 그래서 분류함수인 경우 로지스틱 손실함수, 이진크로스엔트로피 손실함수를 사용한다."
   ]
  },
  {
   "cell_type": "code",
   "execution_count": 25,
   "metadata": {},
   "outputs": [
    {
     "data": {
      "text/html": [
       "<div>\n",
       "<style scoped>\n",
       "    .dataframe tbody tr th:only-of-type {\n",
       "        vertical-align: middle;\n",
       "    }\n",
       "\n",
       "    .dataframe tbody tr th {\n",
       "        vertical-align: top;\n",
       "    }\n",
       "\n",
       "    .dataframe thead th {\n",
       "        text-align: right;\n",
       "    }\n",
       "</style>\n",
       "<table border=\"1\" class=\"dataframe\">\n",
       "  <thead>\n",
       "    <tr style=\"text-align: right;\">\n",
       "      <th></th>\n",
       "      <th>Species</th>\n",
       "      <th>Weight</th>\n",
       "      <th>Length</th>\n",
       "      <th>Diagonal</th>\n",
       "      <th>Height</th>\n",
       "      <th>Width</th>\n",
       "    </tr>\n",
       "  </thead>\n",
       "  <tbody>\n",
       "    <tr>\n",
       "      <th>0</th>\n",
       "      <td>Bream</td>\n",
       "      <td>242.0</td>\n",
       "      <td>25.4</td>\n",
       "      <td>30.0</td>\n",
       "      <td>11.5200</td>\n",
       "      <td>4.0200</td>\n",
       "    </tr>\n",
       "    <tr>\n",
       "      <th>1</th>\n",
       "      <td>Bream</td>\n",
       "      <td>290.0</td>\n",
       "      <td>26.3</td>\n",
       "      <td>31.2</td>\n",
       "      <td>12.4800</td>\n",
       "      <td>4.3056</td>\n",
       "    </tr>\n",
       "    <tr>\n",
       "      <th>2</th>\n",
       "      <td>Bream</td>\n",
       "      <td>340.0</td>\n",
       "      <td>26.5</td>\n",
       "      <td>31.1</td>\n",
       "      <td>12.3778</td>\n",
       "      <td>4.6961</td>\n",
       "    </tr>\n",
       "    <tr>\n",
       "      <th>3</th>\n",
       "      <td>Bream</td>\n",
       "      <td>363.0</td>\n",
       "      <td>29.0</td>\n",
       "      <td>33.5</td>\n",
       "      <td>12.7300</td>\n",
       "      <td>4.4555</td>\n",
       "    </tr>\n",
       "    <tr>\n",
       "      <th>4</th>\n",
       "      <td>Bream</td>\n",
       "      <td>430.0</td>\n",
       "      <td>29.0</td>\n",
       "      <td>34.0</td>\n",
       "      <td>12.4440</td>\n",
       "      <td>5.1340</td>\n",
       "    </tr>\n",
       "  </tbody>\n",
       "</table>\n",
       "</div>"
      ],
      "text/plain": [
       "  Species  Weight  Length  Diagonal   Height   Width\n",
       "0   Bream   242.0    25.4      30.0  11.5200  4.0200\n",
       "1   Bream   290.0    26.3      31.2  12.4800  4.3056\n",
       "2   Bream   340.0    26.5      31.1  12.3778  4.6961\n",
       "3   Bream   363.0    29.0      33.5  12.7300  4.4555\n",
       "4   Bream   430.0    29.0      34.0  12.4440  5.1340"
      ]
     },
     "execution_count": 25,
     "metadata": {},
     "output_type": "execute_result"
    }
   ],
   "source": [
    "import pandas as pd\n",
    "\n",
    "fish = pd.read_csv('data/fishes.csv')\n",
    "fish.head()"
   ]
  },
  {
   "cell_type": "code",
   "execution_count": 26,
   "metadata": {},
   "outputs": [
    {
     "name": "stdout",
     "output_type": "stream",
     "text": [
      "[[242.      25.4     30.      11.52     4.02  ]\n",
      " [290.      26.3     31.2     12.48     4.3056]\n",
      " [340.      26.5     31.1     12.3778   4.6961]\n",
      " [363.      29.      33.5     12.73     4.4555]\n",
      " [430.      29.      34.      12.444    5.134 ]]\n",
      "['Bream' 'Bream' 'Bream' 'Bream' 'Bream']\n"
     ]
    }
   ],
   "source": [
    "# Feature = drop Species\n",
    "fish_input = fish.drop('Species', axis=1).to_numpy()\n",
    "fith_target = fish['Species'].to_numpy()\n",
    "\n",
    "print(fish_input[:5])\n",
    "print(fith_target[:5])"
   ]
  },
  {
   "cell_type": "code",
   "execution_count": 27,
   "metadata": {},
   "outputs": [],
   "source": [
    "# Train/Test Split\n",
    "from sklearn.model_selection import train_test_split\n",
    "train_input, test_input, train_target, test_target = train_test_split(fish_input, fith_target, random_state=42)"
   ]
  },
  {
   "cell_type": "markdown",
   "metadata": {},
   "source": [
    "### 표준화 시키기\n",
    ": 경사 하강법을 사용할 경우 샘플의 크기때문에 경사 각도가 바뀔 수 있으므로 각 Feature의 Scale을 표준화해야 한다"
   ]
  },
  {
   "cell_type": "code",
   "execution_count": 28,
   "metadata": {},
   "outputs": [],
   "source": [
    "# 표준화 시키기\n",
    "from sklearn.preprocessing import StandardScaler\n",
    "scaler = StandardScaler()\n",
    "train_scaled = scaler.fit_transform(train_input)\n",
    "test_scaled = scaler.transform(test_input)"
   ]
  },
  {
   "cell_type": "markdown",
   "metadata": {},
   "source": [
    "---\n",
    "### 확률적 경사하강법의 분류 알고리즘 적용"
   ]
  },
  {
   "cell_type": "code",
   "execution_count": 29,
   "metadata": {},
   "outputs": [],
   "source": [
    "from sklearn.linear_model import SGDClassifier # SGD Regressor도 있음\n",
    "sgdc = SGDClassifier(\n",
    "    loss='log', # 분류의 경우 손실함수는 logistic 손실함수를 사용해야 함\n",
    "    max_iter=10, # 최대 반복 횟수: Epoch\n",
    "    random_state=42\n",
    ")"
   ]
  },
  {
   "cell_type": "code",
   "execution_count": 30,
   "metadata": {},
   "outputs": [
    {
     "name": "stdout",
     "output_type": "stream",
     "text": [
      "train score: 0.773109243697479\n",
      "test score: 0.775\n"
     ]
    },
    {
     "name": "stderr",
     "output_type": "stream",
     "text": [
      "/Users/tj/opt/anaconda3/lib/python3.9/site-packages/sklearn/linear_model/_stochastic_gradient.py:574: ConvergenceWarning: Maximum number of iteration reached before convergence. Consider increasing max_iter to improve the fit.\n",
      "  warnings.warn(\"Maximum number of iteration reached before \"\n"
     ]
    }
   ],
   "source": [
    "sgdc.fit(train_scaled, train_target)\n",
    "print('train score:', sgdc.score(train_scaled, train_target))\n",
    "print('test score:', sgdc.score(test_scaled, test_target))"
   ]
  },
  {
   "cell_type": "markdown",
   "metadata": {},
   "source": [
    "> score가 낮고 과소적합됨 > partial_fit을 사용한다.   \n",
    "> 기존 w와 b의 계수값을 유지한 채 Update 수행   \n",
    "> 만약 다시 fit을 사용하면 기존에 학습했던 내용을 모두 버리는 것 > 그라믄 안 됨   \n",
    "> 10번 찍어본 것에서 이어서 하는 것이 partial_fit"
   ]
  },
  {
   "cell_type": "code",
   "execution_count": 31,
   "metadata": {},
   "outputs": [
    {
     "name": "stdout",
     "output_type": "stream",
     "text": [
      "train score: 0.8151260504201681\n",
      "test score: 0.85\n"
     ]
    }
   ],
   "source": [
    "sgdc.partial_fit(train_scaled, train_target)\n",
    "print('train score:', sgdc.score(train_scaled, train_target))\n",
    "print('test score:', sgdc.score(test_scaled, test_target))"
   ]
  },
  {
   "cell_type": "markdown",
   "metadata": {},
   "source": [
    "##### 수행할 수록 좋아짐"
   ]
  },
  {
   "cell_type": "markdown",
   "metadata": {},
   "source": [
    "> 처음 점수보다 새 학습내용을 수정해서 사용하니 점수가 증가했다.   \n",
    "> 이와 같이 점진적으로 정확도를 높이는 방법이 확률적 경사 하강법.   \n",
    "> 그런데, 처음보다 점수가 증가했지만 아직 과소적합.   \n",
    "> 일단 과대적합을 만들고 규제를 할 것이다"
   ]
  },
  {
   "cell_type": "markdown",
   "metadata": {},
   "source": [
    "---\n",
    "### Epoch와 과대/과소적합\n",
    "- 초반에는 과소로 시작해서 Epoch가 늘어나면 과대적합으로 이동함\n",
    "- 적절한 시점에 중단하는 것이 중요 - 조기종료(Early Stopping) 시점 파악\n",
    "- 규제값이 작아지면 과대적합이 된다.\n",
    "- 규제값이 커지면 과소적합에 머무른다.\n",
    "- 조기종료 시점은 Train score와 Test score의 차이가 적어지면 종료해라 이런 식으로 쓸 수 있음"
   ]
  },
  {
   "cell_type": "code",
   "execution_count": 50,
   "metadata": {},
   "outputs": [
    {
     "data": {
      "text/plain": [
       "array(['Bream', 'Parkki', 'Perch', 'Pike', 'Roach', 'Smelt', 'Whitefish'],\n",
       "      dtype=object)"
      ]
     },
     "execution_count": 50,
     "metadata": {},
     "output_type": "execute_result"
    }
   ],
   "source": [
    "import numpy as np\n",
    "# sg는 모델이 아니라 일찍 끝내기 위해 도와주는 녀석. 모델은 log임\n",
    "sc = SGDClassifier(loss='log', random_state=42) # max_iter 안 줌\n",
    "train_score = []\n",
    "test_score = []\n",
    "\n",
    "classes = np.unique(train_target)\n",
    "classes"
   ]
  },
  {
   "cell_type": "code",
   "execution_count": 33,
   "metadata": {},
   "outputs": [],
   "source": [
    "for _ in range(0, 500): # partial fit을 신나게 돌려보자\n",
    "  # partial fit을 하기 전에 fit을 한 번도 한 적이 없으면 classes를 정의해 주어 전체 classes에 대한 수정 작업이 일어나게 해 줘야 함\n",
    "  sc.partial_fit(train_scaled, train_target, classes=classes)\n",
    "  train_score.append(sc.score(train_scaled, train_target))\n",
    "  test_score.append(sc.score(test_scaled, test_target))"
   ]
  },
  {
   "cell_type": "code",
   "execution_count": 48,
   "metadata": {},
   "outputs": [
    {
     "data": {
      "image/png": "[encoded data removed]",
      "text/plain": [
       "<Figure size 864x576 with 1 Axes>"
      ]
     },
     "metadata": {
      "needs_background": "light"
     },
     "output_type": "display_data"
    }
   ],
   "source": [
    "# 시각화\n",
    "import matplotlib.pyplot as plt\n",
    "# plt size\n",
    "plt.figure(figsize=(12, 8))\n",
    "plt.plot(train_score, label='train')\n",
    "plt.plot(test_score, label='test')\n",
    "plt.legend()\n",
    "plt.show()"
   ]
  },
  {
   "cell_type": "markdown",
   "metadata": {},
   "source": [
    "##### 100번쯤에서 test가 높으면서 train과 test 차이가 가장 적다"
   ]
  },
  {
   "cell_type": "code",
   "execution_count": 35,
   "metadata": {},
   "outputs": [
    {
     "name": "stdout",
     "output_type": "stream",
     "text": [
      "train score: 0.957983193277311\n",
      "test score: 0.925\n"
     ]
    }
   ],
   "source": [
    "# max_iter 100으로 새롭게 학습하기\n",
    "sc = SGDClassifier(loss='log', max_iter=100, random_state=42, tol=None)\n",
    "# tol: 따로 설정한 조기 종료 기준: 지금은 조건에 따라 종료하는게 아니라 100번 돌고 종료하는 것이라 조기종료 기준이 없음\n",
    "# tol이 없는 지금은 최적의 손실값보다 큰 경우 종료됨(무작정 끝까지 가지는 않음)\n",
    "\n",
    "sc.fit(train_scaled, train_target)\n",
    "print('train score:', sc.score(train_scaled, train_target))\n",
    "print('test score:', sc.score(test_scaled, test_target))"
   ]
  },
  {
   "cell_type": "code",
   "execution_count": 49,
   "metadata": {},
   "outputs": [
    {
     "name": "stdout",
     "output_type": "stream",
     "text": [
      "train score: 0.8403361344537815\n",
      "test score: 0.8\n"
     ]
    }
   ],
   "source": [
    "# 조기종료 기준을 설정해보자\n",
    "sc = SGDClassifier(loss='log', max_iter=1000, random_state=42, tol=0.001)\n",
    "sc.fit(train_scaled, train_target)\n",
    "print('train score:', sc.score(train_scaled, train_target))\n",
    "print('test score:', sc.score(test_scaled, test_target))"
   ]
  },
  {
   "cell_type": "markdown",
   "metadata": {},
   "source": [
    "##### train 선과 test 선이 중간에 교차해버리기 때문에 일찍 종료가 되어버림 > 그냥 쓰면 안 됨"
   ]
  },
  {
   "cell_type": "markdown",
   "metadata": {},
   "source": [
    "---\n",
    "### SVM을 이용한 확률적 경사 하강법"
   ]
  },
  {
   "cell_type": "code",
   "execution_count": 51,
   "metadata": {},
   "outputs": [
    {
     "name": "stdout",
     "output_type": "stream",
     "text": [
      "train score: 0.9495798319327731\n",
      "test score: 0.925\n"
     ]
    }
   ],
   "source": [
    "sc = SGDClassifier(loss='hinge', # hinge = svm\n",
    "  max_iter=100, random_state=42, tol=None)\n",
    "\n",
    "sc.fit(train_scaled, train_target)\n",
    "print('train score:', sc.score(train_scaled, train_target))\n",
    "print('test score:', sc.score(test_scaled, test_target))"
   ]
  }
 ],
 "metadata": {
  "kernelspec": {
   "display_name": "Python 3.8.9 64-bit",
   "language": "python",
   "name": "python3"
  },
  "language_info": {
   "codemirror_mode": {
    "name": "ipython",
    "version": 3
   },
   "file_extension": ".py",
   "mimetype": "text/x-python",
   "name": "python",
   "nbconvert_exporter": "python",
   "pygments_lexer": "ipython3",
   "version": "3.8.9"
  },
  "orig_nbformat": 4,
  "vscode": {
   "interpreter": {
    "hash": "31f2aee4e71d21fbe5cf8b01ff0e069b9275f58929596ceb00d14d90e3e16cd6"
   }
  }
 },
 "nbformat": 4,
 "nbformat_minor": 2
}
