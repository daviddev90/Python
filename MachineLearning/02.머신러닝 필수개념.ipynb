{
 "cells": [
  {
   "cell_type": "markdown",
   "metadata": {},
   "source": [
    "# 지도학습과 비지도 학습\n",
    "- 학습: 데이터를 특별한 알고리즘에 적용해 머신러닝 모델을 정의된 문제에 최적화\n",
    "\n",
    "### 지도 학습(supervised Learning)\n",
    "- 정답을 알려주면서 진행되는 학습\n",
    "- 정답, 실제값, 레이블, 타깃, 클래스, y값: 동일한 의미\n",
    "- 머신러닝 모델을 통해 예측된 값을 예측값, 분류값, Y^ 등으로 표현\n",
    "- 지도학습늬 예로는 분류(classification)와 회귀(regression)이 대표적\n",
    "\n",
    "### 비지도학습(Unsupervised Learning)\n",
    "- 정답(레이블)이 없이 진행되는 학습\n",
    "- 데이터 자체에서 패턴을 찾아내야 할 때 사용\n",
    "- 예로는 군집화와 차원축소가 대표적"
   ]
  },
  {
   "cell_type": "markdown",
   "metadata": {},
   "source": [
    "--- \n",
    "# 분류와 회귀\n",
    "- 분류: 분리된 값\n",
    "- 회귀: 연속된 값\n",
    "\n",
    "### 분류(Classification)\n",
    "- 데이터가 입력되었을 때 지도학습을 통해 미리 학습된 레이블 중 하나 또는 여러개의 레이블로 예측하는 것\n",
    "\n",
    "##### 이진분류\n",
    "- 둘 중 하나의 값으로 분류 (sigmoid)\n",
    "\n",
    "##### 다중분류\n",
    "- 여러 개의 분류값 중에서 하나로 예측하는 경우 (softmax)"
   ]
  },
  {
   "cell_type": "markdown",
   "metadata": {},
   "source": [
    "--- \n",
    "# 과대적합(overfitting)과 과소적합(underfitting)\n",
    "- 데이터에서 충분히 특징을 찾아내지 못하고 모델 학습 -> 과소적합이 되기 쉬움\n",
    "- 필요 이상의 특징으로 학습할 경우 -> 과대적합이 되기 쉬움\n",
    "\n",
    "##### 과대적합이 더 나쁨\n",
    "\n",
    "##### 과소적합: 테스트 데이터, 학습데이터 모두 정확도가 낮게 나올 경우 과소적합인 경우가 많음\n",
    "##### 과대적합\n",
    "- 학습 데이터보다 테스트 데이터 정확도가 많이 떨어지는 모델\n",
    "- 데이터의 특징들 수치값을 정규화함으로써 특정 특징에 의한 편향을 줄이는 것도 좋음\n",
    "- 딥러닝 같은 경우 조기종료(early stopping), 드롭아웃(drop out)을 사용해 과대적합을 피할 수 있다"
   ]
  },
  {
   "cell_type": "markdown",
   "metadata": {},
   "source": [
    "---\n",
    "# 혼동행렬(confusion matrix)\n",
    "- 모델의 성능을 평가할 때 사용하는 지표\n",
    "- 실제값과 예측값을 비교하여 실제값에 예측값이 어느정도 일치되었는지를 파악\n",
    "- 모델의 성능은 이 혼동행렬을 기반으로 단 하나의 수치로 표현 가능"
   ]
  },
  {
   "cell_type": "markdown",
   "metadata": {},
   "source": [
    "# 머신러닝 모델의 성능 평가\n",
    "### TP(True Positive): 맞은 것을 맞다고 예측\n",
    "### TN(True Negative): 틀린 것을 틀렸다고 예측\n",
    "### FP(False Positive): 틀린 것을 맞다고 잘못 예측\n",
    "### FN(False Negative): 맞은 것을 틀리다고 잘못 예측\n",
    "\n",
    "# 정확도(Accuracy)\n",
    "- 가장 일반적인 모델 성능 평가 지표\n",
    "- 혼동행렬상에서는 TP를 전체 셀로 나눈 값에 해당"
   ]
  },
  {
   "cell_type": "code",
   "execution_count": null,
   "metadata": {},
   "outputs": [],
   "source": [
    "def 정확도(ar):\n",
    "  for i in range(len(ar)):\n",
    "    if len(ar[i]) != len(ar[0]):\n",
    "      return '정사각 행렬이 아닙니다.'\n",
    "  sumall = 0\n",
    "  tp = 0\n",
    "  "
   ]
  },
  {
   "cell_type": "code",
   "execution_count": 3,
   "metadata": {},
   "outputs": [
    {
     "name": "stdout",
     "output_type": "stream",
     "text": [
      "78.75\n"
     ]
    }
   ],
   "source": [
    "# make 4x4 array\n",
    "\n",
    "ar = [[9,1,0,0],[1,15,3,1],[5,0,24,1],[0,4,1,15]]\n",
    "sumall = 0\n",
    "tp = 0\n",
    "for i in range(4):\n",
    "    for j in range(4):\n",
    "        if(i == j):\n",
    "            tp += ar[i][j]\n",
    "        sumall += ar[i][j]\n",
    "print(tp/sumall * 100)"
   ]
  },
  {
   "cell_type": "markdown",
   "metadata": {},
   "source": [
    "---\n",
    "# 정밀도\n",
    "- 각 모델들의 예측값이 얼마나 정확하게 예측 되었는가?\n",
    "- 2가지 모델의 정밀도: TP / (TP+FP)"
   ]
  },
  {
   "cell_type": "code",
   "execution_count": 18,
   "metadata": {},
   "outputs": [],
   "source": [
    "def 정밀도(ar):\n",
    "  #정사각 행렬인지 확인\n",
    "  for i in range(len(ar)):\n",
    "    if len(ar[i]) != len(ar[0]):\n",
    "      return '정사각 행렬이 아닙니다.'\n",
    "  fp = 0\n",
    "  tp = 0\n",
    "  for i in range(len(ar)):\n",
    "    for j in range(len(ar)):\n",
    "        if(i == 0 and j == 0): # 암환자 예측의 TP는 죄상단만! 전체 TP는 \n",
    "            tp += ar[i][j]\n",
    "        elif(i > j): # 죄하단 - FP\n",
    "            fp += ar[i][j]\n",
    "  return (tp / (tp + fp))"
   ]
  },
  {
   "cell_type": "code",
   "execution_count": 27,
   "metadata": {},
   "outputs": [
    {
     "data": {
      "text/plain": [
       "0.23076923076923078"
      ]
     },
     "execution_count": 27,
     "metadata": {},
     "output_type": "execute_result"
    }
   ],
   "source": [
    "ar1 = [[9, 1], [30,60]]\n",
    "ar2 = [[1,9], [20, 70]]\n",
    "\n",
    "정밀도(ar1)\n"
   ]
  },
  {
   "cell_type": "code",
   "execution_count": 28,
   "metadata": {},
   "outputs": [
    {
     "data": {
      "text/plain": [
       "0.047619047619047616"
      ]
     },
     "execution_count": 28,
     "metadata": {},
     "output_type": "execute_result"
    }
   ],
   "source": [
    "정밀도(ar2)"
   ]
  },
  {
   "cell_type": "markdown",
   "metadata": {},
   "source": [
    "### 재현율(Recall)\n",
    "- 실제값 중에서 모델이 검출한 실제값의 비율을 나타낸 지표\n",
    "- 재현율 = TP / (TP + FN)"
   ]
  },
  {
   "cell_type": "code",
   "execution_count": 23,
   "metadata": {},
   "outputs": [],
   "source": [
    "def 재현율(ar):\n",
    "  #정사각 행렬인지 확인\n",
    "  for i in range(len(ar)):\n",
    "    if len(ar[i]) != len(ar[0]):\n",
    "      return '정사각 행렬이 아닙니다.'\n",
    "  fn = 0\n",
    "  tp = 0\n",
    "  for i in range(len(ar)):\n",
    "    for j in range(len(ar)):\n",
    "        if(i == 0 and j == 0): # 암환자 예측의 TP는 죄상단만! 전체 TP는 \n",
    "            tp += ar[i][j]\n",
    "        elif(i ==0 and j == 1): # 우하단 - FP\n",
    "            fn += ar[i][j]\n",
    "  return (tp / (tp + fn))"
   ]
  },
  {
   "cell_type": "code",
   "execution_count": 29,
   "metadata": {},
   "outputs": [
    {
     "name": "stdout",
     "output_type": "stream",
     "text": [
      "0.9\n",
      "0.1\n"
     ]
    }
   ],
   "source": [
    "ar1 = [[9, 1], [30,60]]\n",
    "ar2 = [[1,9], [20, 70]]\n",
    "\n",
    "print(재현율(ar1))\n",
    "print(재현율(ar2))\n"
   ]
  },
  {
   "cell_type": "markdown",
   "metadata": {},
   "source": [
    "### F1점수 (F1 Score)\n",
    "- 정밀도도 중요하고 재현율도 중요한데 어떤 것을 선택할 지 혼돈시 이 두 값을 조화평균 해서 수치로 나타낸 지표"
   ]
  },
  {
   "cell_type": "code",
   "execution_count": 30,
   "metadata": {},
   "outputs": [
    {
     "data": {
      "text/plain": [
       "0.3673469387755102"
      ]
     },
     "execution_count": 30,
     "metadata": {},
     "output_type": "execute_result"
    }
   ],
   "source": [
    "# F1 of ar1\n",
    "2 * 정밀도(ar1) * 재현율(ar1) / (정밀도(ar1) + 재현율(ar1))"
   ]
  },
  {
   "cell_type": "code",
   "execution_count": 31,
   "metadata": {},
   "outputs": [
    {
     "data": {
      "text/plain": [
       "0.06451612903225806"
      ]
     },
     "execution_count": 31,
     "metadata": {},
     "output_type": "execute_result"
    }
   ],
   "source": [
    "# F1 of ar2\n",
    "2 * 정밀도(ar2) * 재현율(ar2) / (정밀도(ar2) + 재현율(ar2))"
   ]
  },
  {
   "cell_type": "code",
   "execution_count": 34,
   "metadata": {},
   "outputs": [
    {
     "data": {
      "text/plain": [
       "'bat.y.abcdefgh'"
      ]
     },
     "execution_count": 34,
     "metadata": {},
     "output_type": "execute_result"
    }
   ],
   "source": [
    "answer = 'bat.y.abcdefghijklm'\n",
    "if len(answer) > 15:\n",
    "    answer = answer[:14]\n",
    "else:\n",
    "    pass\n",
    "\n",
    "answer"
   ]
  },
  {
   "cell_type": "markdown",
   "metadata": {},
   "source": [
    "---\n",
    "# K-폴드 교차 검증\n",
    "- r에서 5번 돌려 평균 낸 것처럼 test/train을 k번 나눠서 학습과 테스트 반복\n",
    "- 데이터가 적은 머신러닝에서 사용하고, 딥러닝에서는 거의 안 씀"
   ]
  },
  {
   "cell_type": "code",
   "execution_count": 37,
   "metadata": {},
   "outputs": [],
   "source": [
    "def solution(s):\n",
    "    words = ['zero', 'one', 'two', 'three', 'four', 'five', 'six', 'seven', 'eight', 'nine']\n",
    "    \n",
    "    for word in words:\n",
    "        s = s.replace(word, str(words.index(word)))\n",
    "    \n",
    "    return int(s)"
   ]
  }
 ],
 "metadata": {
  "kernelspec": {
   "display_name": "Python 3.9.7 ('base')",
   "language": "python",
   "name": "python3"
  },
  "language_info": {
   "codemirror_mode": {
    "name": "ipython",
    "version": 3
   },
   "file_extension": ".py",
   "mimetype": "text/x-python",
   "name": "python",
   "nbconvert_exporter": "python",
   "pygments_lexer": "ipython3",
   "version": "3.9.7"
  },
  "orig_nbformat": 4,
  "vscode": {
   "interpreter": {
    "hash": "c34e8390e776d2ee205b71ed5a6130fee3cef8da5e87e926ce18e14f4a070d72"
   }
  }
 },
 "nbformat": 4,
 "nbformat_minor": 2
}
