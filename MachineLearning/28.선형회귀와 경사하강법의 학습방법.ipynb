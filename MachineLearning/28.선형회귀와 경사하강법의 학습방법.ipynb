{
 "cells": [
  {
   "cell_type": "code",
   "execution_count": 57,
   "metadata": {},
   "outputs": [],
   "source": [
    "# 당뇨병 환자의 데이터\n",
    "from sklearn.datasets import load_diabetes\n",
    "diabates = load_diabetes() \n",
    "# load로 시작하는 bunch class > 공부하라고 만들어놓은 녀석들 > data, target까지 지정되어있음\n",
    "# 심지어 표준화까지 되어있음"
   ]
  },
  {
   "cell_type": "code",
   "execution_count": 58,
   "metadata": {},
   "outputs": [
    {
     "name": "stdout",
     "output_type": "stream",
     "text": [
      ".. _diabetes_dataset:\n",
      "\n",
      "Diabetes dataset\n",
      "----------------\n",
      "\n",
      "Ten baseline variables, age, sex, body mass index, average blood\n",
      "pressure, and six blood serum measurements were obtained for each of n =\n",
      "442 diabetes patients, as well as the response of interest, a\n",
      "quantitative measure of disease progression one year after baseline.\n",
      "\n",
      "**Data Set Characteristics:**\n",
      "\n",
      "  :Number of Instances: 442\n",
      "\n",
      "  :Number of Attributes: First 10 columns are numeric predictive values\n",
      "\n",
      "  :Target: Column 11 is a quantitative measure of disease progression one year after baseline\n",
      "\n",
      "  :Attribute Information:\n",
      "      - age     age in years\n",
      "      - sex\n",
      "      - bmi     body mass index\n",
      "      - bp      average blood pressure\n",
      "      - s1      tc, total serum cholesterol\n",
      "      - s2      ldl, low-density lipoproteins\n",
      "      - s3      hdl, high-density lipoproteins\n",
      "      - s4      tch, total cholesterol / HDL\n",
      "      - s5      ltg, possibly log of serum triglycerides level\n",
      "      - s6      glu, blood sugar level\n",
      "\n",
      "Note: Each of these 10 feature variables have been mean centered and scaled by the standard deviation times `n_samples` (i.e. the sum of squares of each column totals 1).\n",
      "\n",
      "Source URL:\n",
      "https://www4.stat.ncsu.edu/~boos/var.select/diabetes.html\n",
      "\n",
      "For more information see:\n",
      "Bradley Efron, Trevor Hastie, Iain Johnstone and Robert Tibshirani (2004) \"Least Angle Regression,\" Annals of Statistics (with discussion), 407-499.\n",
      "(https://web.stanford.edu/~hastie/Papers/LARS/LeastAngle_2002.pdf)\n",
      "(442, 10)\n",
      "(442,)\n"
     ]
    }
   ],
   "source": [
    "# 데이터 확인\n",
    "print(diabates.DESCR)\n",
    "print(diabates.data.shape)\n",
    "print(diabates.target.shape)"
   ]
  },
  {
   "cell_type": "markdown",
   "metadata": {},
   "source": [
    "> data는 442개의 행과 10개의 열로 구성된 2차원 배열   \n",
    "> target은 442개의 요소를 가진 1차원 배열(442 뒤에 1이 없음)  \n",
    "> 여기서 442개를 Sample갯수라고 하며 10개를 특성(Feature)갯수라고 함"
   ]
  },
  {
   "cell_type": "code",
   "execution_count": 59,
   "metadata": {},
   "outputs": [
    {
     "name": "stdout",
     "output_type": "stream",
     "text": [
      "['age', 'sex', 'bmi', 'bp', 's1', 's2', 's3', 's4', 's5', 's6']\n",
      "[[ 0.03807591  0.05068012  0.06169621  0.02187235 -0.0442235  -0.03482076\n",
      "  -0.04340085 -0.00259226  0.01990842 -0.01764613]\n",
      " [-0.00188202 -0.04464164 -0.05147406 -0.02632783 -0.00844872 -0.01916334\n",
      "   0.07441156 -0.03949338 -0.06832974 -0.09220405]]\n"
     ]
    }
   ],
   "source": [
    "print(diabates.feature_names)\n",
    "print(diabates.data[:2])\n",
    "# 그냥 다짜고짜 예측만 하면 됨"
   ]
  },
  {
   "cell_type": "code",
   "execution_count": 60,
   "metadata": {},
   "outputs": [
    {
     "data": {
      "text/plain": [
       "array([151.,  75.])"
      ]
     },
     "execution_count": 60,
     "metadata": {},
     "output_type": "execute_result"
    }
   ],
   "source": [
    "diabates.target[:2]"
   ]
  },
  {
   "cell_type": "markdown",
   "metadata": {},
   "source": [
    "## 데이터 시각화"
   ]
  },
  {
   "cell_type": "code",
   "execution_count": 61,
   "metadata": {},
   "outputs": [
    {
     "data": {
      "image/png": "[encoded data removed]",
      "text/plain": [
       "<Figure size 720x432 with 1 Axes>"
      ]
     },
     "metadata": {
      "needs_background": "light"
     },
     "output_type": "display_data"
    }
   ],
   "source": [
    "import matplotlib.pyplot as plt\n",
    "\n",
    "# size\n",
    "plt.figure(figsize=(10,6))\n",
    "\n",
    "# 2번째 feature와 target 보기\n",
    "plt.scatter(diabates.data[:,2], diabates.target)\n",
    "plt.show()"
   ]
  },
  {
   "cell_type": "code",
   "execution_count": 62,
   "metadata": {},
   "outputs": [
    {
     "data": {
      "text/plain": [
       "array([[1.        , 0.58645013],\n",
       "       [0.58645013, 1.        ]])"
      ]
     },
     "execution_count": 62,
     "metadata": {},
     "output_type": "execute_result"
    }
   ],
   "source": [
    "# 상관계수 확인\n",
    "import numpy as np\n",
    "np.corrcoef(diabates.data[:,2], diabates.target)"
   ]
  },
  {
   "cell_type": "markdown",
   "metadata": {},
   "source": [
    "---\n",
    "## 경사 하강법\n",
    "- 모델(수식)이 데이터를 잘 표현할 수 있도록 기울기(변화율)을 사용해 모델을 조금씩 조정하는 최적화 알고리즘\n",
    "- 요래조래 찍어보면서 변화율이 0이 되는 지점을 계속 탐색해감"
   ]
  },
  {
   "cell_type": "markdown",
   "metadata": {},
   "source": [
    "## 예측값과 변화율\n",
    "#### 예측값(y^)\n",
    "- 하나의 모델에서 수식의 결과로 나온 값\n",
    "\n",
    "#### 훈련데이터에서 잘 맞는 w와 b를 찾는 방법\n",
    "1. 무작위로 w와 b를 정한다\n",
    "2. x에서 샘플 하나를 선택하여 y^을 계산한다\n",
    "3. y^과 선택한 샘플의 진짜 y를 비교(예측값과 정답 비교)해 오차를 구한다\n",
    "4. y^이 y와 가까워지도록 w, b를 조정한다 (모델 조정하기: 학습하기)\n",
    "5. 모든 샘플을 처리할 때까지 2~4 반복"
   ]
  },
  {
   "cell_type": "markdown",
   "metadata": {},
   "source": [
    "## 나의 경사(변화율) = 현재 나의 x값\n",
    "- 편미분 해보면 알 수 있음   \n",
    "http://aikorea.org/cs231n/optimization-1/\n",
    "\n",
    "- w_rate = y_pred_inc - y_pred / w_inc -w\n",
    "- w_rate = (x[i]*w_inc + b) - (x[i]*w + b) / w_inc - w\n",
    "- w_rate = x[i](w_inc - w) / w_inc - w\n",
    "- w_rate = x[i]\n",
    "\n",
    "- b_rate = y_pred_inc - y_pred / b_inc - b\n",
    "- b_rate = (x[i]*w + b_inc) - (x[i]*w + b) / b_inc - b\n",
    "- b_rate = b_inc - b / b_inc - b\n",
    "- b_rate = 1"
   ]
  },
  {
   "cell_type": "code",
   "execution_count": 63,
   "metadata": {},
   "outputs": [
    {
     "name": "stdout",
     "output_type": "stream",
     "text": [
      "[ 0.06169621 -0.05147406  0.04445121 -0.01159501 -0.03638469]\n",
      "[151.  75. 141. 206. 135.]\n"
     ]
    }
   ],
   "source": [
    "# 훈련데이터의 Feature와 Target 정하기\n",
    "\n",
    "x = diabates.data[:,2]\n",
    "y = diabates.target\n",
    "\n",
    "# 5개만 출력해보기\n",
    "print(x[:5])\n",
    "print(y[:5])\n",
    "\n",
    "# w와 b를 임의로 정하기\n",
    "# w = np.random.randn()\n",
    "# b = np.random.randn()\n",
    "w = 1\n",
    "b = 1"
   ]
  },
  {
   "cell_type": "code",
   "execution_count": 64,
   "metadata": {},
   "outputs": [
    {
     "name": "stdout",
     "output_type": "stream",
     "text": [
      "1.0616962065186886\n"
     ]
    }
   ],
   "source": [
    "# 훈련데이터의 첫 번째 Sample 데이터로 y^ 계산하기\n",
    "y_pred = x[0] * w + b\n",
    "print(y_pred)"
   ]
  },
  {
   "cell_type": "code",
   "execution_count": 65,
   "metadata": {},
   "outputs": [
    {
     "name": "stdout",
     "output_type": "stream",
     "text": [
      "149.9383037934813\n"
     ]
    }
   ],
   "source": [
    "# Target과 y_pred의 차이를 오차로 하기\n",
    "y_pred_error = y[0] - y_pred\n",
    "print(y_pred_error)"
   ]
  },
  {
   "cell_type": "markdown",
   "metadata": {},
   "source": [
    "> Target과 예측값 차이가 매우 큼\n",
    "### w값을 조절하기\n",
    "- w와 b를 조금씩 변경해서 y_pred(y_hat)이 증가하는지 감소하는지 살펴보기"
   ]
  },
  {
   "cell_type": "markdown",
   "metadata": {},
   "source": [
    "#### 오차 역전파로 가중치의 절편을 업데이트 > 손실함수(비용함수)를 구성\n",
    "#### 오차 역전파(backpropagation)는 y^과 y의 차이를 이용하여 w와 b를 업데이트 하는 것"
   ]
  },
  {
   "cell_type": "code",
   "execution_count": 66,
   "metadata": {},
   "outputs": [
    {
     "name": "stdout",
     "output_type": "stream",
     "text": [
      "10.250624555904478 150.9383037934813\n"
     ]
    }
   ],
   "source": [
    "w_new = w + x[0]\n",
    "b_new = b + 1\n",
    "\n",
    "# 오차와 변화율을 곱하여 가중치 업데이트 하기\n",
    "\n",
    "w_new = w + x[0] * y_pred_error\n",
    "b_new = b + 1 * y_pred_error\n",
    "print(w_new, b_new)"
   ]
  },
  {
   "cell_type": "code",
   "execution_count": 67,
   "metadata": {},
   "outputs": [
    {
     "name": "stdout",
     "output_type": "stream",
     "text": [
      "-75.41066251735467\n",
      "14.132317616381732 75.52764127612664\n"
     ]
    }
   ],
   "source": [
    "# 1번째 샘플 (x[1])을 사용하여 새로운 오차를 구하고 새로운 w와 b를 구하기\n",
    "y_pred = x[1] * w_new + b_new\n",
    "y_pred_error = y[1] - y_pred\n",
    "print(y_pred_error)\n",
    "# 오차율이 149 > -75로 줄어들었음\n",
    "\n",
    "w_new = w_new + x[1] * y_pred_error\n",
    "b_new = b_new + 1 * y_pred_error\n",
    "print(w_new, b_new)"
   ]
  },
  {
   "cell_type": "code",
   "execution_count": 68,
   "metadata": {},
   "outputs": [
    {
     "name": "stdout",
     "output_type": "stream",
     "text": [
      "64.84416005856707\n",
      "17.01471920877735 140.3718013346937\n"
     ]
    }
   ],
   "source": [
    "# 2번째 샘플 (x[2])을 사용하여 새로운 오차를 구하고 새로운 w와 b를 구하기\n",
    "y_pred = x[2] * w_new + b_new\n",
    "y_pred_error = y[2] - y_pred\n",
    "print(y_pred_error)\n",
    "# 오차율이 -75 > -64.8로 줄어들었음\n",
    "\n",
    "w_new = w_new + x[2] * y_pred_error\n",
    "b_new = b_new + 1 * y_pred_error\n",
    "print(w_new, b_new)"
   ]
  },
  {
   "cell_type": "markdown",
   "metadata": {},
   "source": [
    "### 반복문을 통해 전체 샘플 반복하기"
   ]
  },
  {
   "cell_type": "code",
   "execution_count": 71,
   "metadata": {},
   "outputs": [
    {
     "name": "stdout",
     "output_type": "stream",
     "text": [
      "587.8654539985689 99.40935564531424\n",
      "-97.992641777963\n"
     ]
    }
   ],
   "source": [
    "w = b = 1\n",
    "\n",
    "for x_i, y_i in zip(x, y):\n",
    "    y_pred = x_i * w + b\n",
    "    y_pred_error = y_i - y_pred\n",
    "    w = w + x_i * y_pred_error\n",
    "    b = b + 1 * y_pred_error\n",
    "print(w, b)"
   ]
  },
  {
   "cell_type": "markdown",
   "metadata": {},
   "source": [
    "### 시각화해서 공식을 확인해보자"
   ]
  },
  {
   "cell_type": "code",
   "execution_count": 77,
   "metadata": {},
   "outputs": [
    {
     "data": {
      "image/png": "[encoded data removed]",
      "text/plain": [
       "<Figure size 432x288 with 1 Axes>"
      ]
     },
     "metadata": {
      "needs_background": "light"
     },
     "output_type": "display_data"
    }
   ],
   "source": [
    "y_pred = x * w + b\n",
    "# 시각화\n",
    "plt.scatter(x, y)\n",
    "plt.plot(x, y_pred, 'r')\n",
    "plt.show()"
   ]
  },
  {
   "cell_type": "markdown",
   "metadata": {},
   "source": [
    "### 약간 애매하게 그려짐 > 에포크를 안 해서"
   ]
  },
  {
   "cell_type": "code",
   "execution_count": 86,
   "metadata": {},
   "outputs": [
    {
     "name": "stdout",
     "output_type": "stream",
     "text": [
      "913.5973364345905 123.39414383177204\n"
     ]
    }
   ],
   "source": [
    "# do epochs: w와 b를 반복적으로 계산해보기\n",
    "# 오차를 계산하고 오차를 저장하고 오차를 계속 계산하고 오차를 저장하면서 가중치와 편향을 업데이트하기\n",
    "\n",
    "for _ in range(100):\n",
    "  for x_i, y_i in zip(x, y):\n",
    "    y_pred = x_i * w + b\n",
    "    y_pred_error = y_i - y_pred\n",
    "    w = w + x_i * y_pred_error\n",
    "    b = b + 1 * y_pred_error\n",
    "\n",
    "print(w, b)"
   ]
  },
  {
   "cell_type": "code",
   "execution_count": 80,
   "metadata": {},
   "outputs": [
    {
     "data": {
      "image/png": "[encoded data removed]",
      "text/plain": [
       "<Figure size 432x288 with 1 Axes>"
      ]
     },
     "metadata": {
      "needs_background": "light"
     },
     "output_type": "display_data"
    }
   ],
   "source": [
    "y_pred = x * w + b\n",
    "# 시각화\n",
    "plt.scatter(x, y)\n",
    "plt.plot(x, y_pred, 'r')\n",
    "plt.show()"
   ]
  },
  {
   "cell_type": "markdown",
   "metadata": {},
   "source": [
    "### 올ㅋ 좀 더 나아짐\n",
    "> y^ = 913.6X + 123.4"
   ]
  },
  {
   "cell_type": "code",
   "execution_count": 87,
   "metadata": {},
   "outputs": [
    {
     "name": "stdout",
     "output_type": "stream",
     "text": [
      "287.8416643899983\n"
     ]
    }
   ],
   "source": [
    "# 모델로 예측하기\n",
    "x_new = 0.18\n",
    "y_pred = x_new * w + b\n",
    "print(y_pred)"
   ]
  },
  {
   "cell_type": "code",
   "execution_count": 92,
   "metadata": {},
   "outputs": [
    {
     "data": {
      "image/png": "[encoded data removed]",
      "text/plain": [
       "<Figure size 432x288 with 1 Axes>"
      ]
     },
     "metadata": {
      "needs_background": "light"
     },
     "output_type": "display_data"
    }
   ],
   "source": [
    "# 예측한 값 시각화\n",
    "plt.scatter(x, y)\n",
    "plt.scatter(x_new, y_pred)\n",
    "plt.show()"
   ]
  },
  {
   "cell_type": "markdown",
   "metadata": {},
   "source": [
    "---\n",
    "# 모델 만들기 정리\n",
    "1. w와 b를 임의의 값(1, 1)으로 초기화하고 훈련데이터의 샘플을 하나씩 대입해 y와 y^의 오차를 구한다.\n",
    "2. 1에서 구한 오차를 w와 b의 변화율에 곱하고 이 값을 이용하여 w와 b를 업데이트한다.(학습한다)\n",
    "3. 만약 y^이 y보다 커지는 오차는 음수가 되어 자동으로 w와 b가 줄어드는 방향으로 업데이트가 된다.\n",
    "4. 반대로 y^이 y보다 작으면 오차는 양수가 되어 w와 b는 더 커지도록 업데이트가 된다."
   ]
  },
  {
   "cell_type": "markdown",
   "metadata": {},
   "source": [
    "# 쉽게 사용하기 위해 Class 만들기 > .py로 저장해놓고 쓰면 좋다"
   ]
  },
  {
   "cell_type": "code",
   "execution_count": 95,
   "metadata": {},
   "outputs": [],
   "source": [
    "class LRModel:\n",
    "  # w와 b를 초기화하기\n",
    "  def __init__(self):\n",
    "    self.w = 1.0\n",
    "    self.b = 1.0\n",
    "\n",
    "  # 정방향 계산\n",
    "  def forpass(self, x):\n",
    "    y_hat = self.w * x + self.b\n",
    "    return y_hat # 직선방정식을 계산해 y^을 return\n",
    "\n",
    "  # 역방향 계산\n",
    "  def backprop(self, x, err):\n",
    "    w_grad = x * err # 가중치에 대한 그래디언트 계산\n",
    "    b_grad = 1 * err # 편향에 대한 그래디언트 계산\n",
    "    return w_grad, b_grad\n",
    "\n",
    "  # 훈련\n",
    "  def fit(self, x, y, epoch):\n",
    "    for _ in range(epoch):\n",
    "      for x_i, y_i in zip(x, y):\n",
    "        y_hat = self.forpass(x_i)\n",
    "        err = y_i - y_hat\n",
    "        w_grad, b_grad = self.backprop(x_i, err)\n",
    "        self.w += w_grad\n",
    "        self.b += b_grad\n",
    "    return self.w, self.b\n"
   ]
  },
  {
   "cell_type": "code",
   "execution_count": 105,
   "metadata": {},
   "outputs": [
    {
     "name": "stdout",
     "output_type": "stream",
     "text": [
      "913.5656499923714 123.39181064719298\n"
     ]
    }
   ],
   "source": [
    "lrmodel = LRModel()\n",
    "w, b = lrmodel.fit(x, y, epoch=10)\n",
    "print(w, b)"
   ]
  },
  {
   "cell_type": "markdown",
   "metadata": {},
   "source": [
    "---\n",
    "# 용어정리\n",
    "### 선형 회귀\n",
    "- 선형방정식을 사용하여 연속적인 값을 예측하는 알고리즘으로, 데이터를 가장 잘 표현하는 방정식의 계수를 구할 수 있음\n",
    "- 머신러닝 알고리즘이지만 딥러닝에서 사용하는 인공신경망 알고리즘의 기초가 됨\n",
    "\n",
    "### 경사 하강법\n",
    "- 최적화 알고리즘 중의 하나로, 핵심 훈련 알고리즘\n",
    "- 최적의 모델을 만드는 가중치를 한 번에 찾지 않음\n",
    "- 먼저 임의로 정한 가중치에서 출력을 만든 후, 타깃과 비교하여 오차를 줄이는 방향으로 가중치 조정\n",
    "- 이런 과정의 모든 훈련샘플에 대해 반복하면서 최적의 가중치를 찾음\n",
    "\n",
    "### 손실함수\n",
    "- 모델이 얼마만큼의 오류가 있는지 측정하는 기준\n",
    "- 손실함수의 값을 최소로 만드는 것이 이 모델 훈련의 목적\n",
    "- 다른 말로는 비용함수(Cost Function) 또는 목적함수(Objective Function - 잘 안 쓰는 표현)라고도 부름"
   ]
  }
 ],
 "metadata": {
  "kernelspec": {
   "display_name": "Python 3.9.7 ('base')",
   "language": "python",
   "name": "python3"
  },
  "language_info": {
   "codemirror_mode": {
    "name": "ipython",
    "version": 3
   },
   "file_extension": ".py",
   "mimetype": "text/x-python",
   "name": "python",
   "nbconvert_exporter": "python",
   "pygments_lexer": "ipython3",
   "version": "3.9.7"
  },
  "orig_nbformat": 4,
  "vscode": {
   "interpreter": {
    "hash": "c34e8390e776d2ee205b71ed5a6130fee3cef8da5e87e926ce18e14f4a070d72"
   }
  }
 },
 "nbformat": 4,
 "nbformat_minor": 2
}
