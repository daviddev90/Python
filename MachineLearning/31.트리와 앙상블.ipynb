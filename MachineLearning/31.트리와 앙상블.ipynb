{
 "cells": [
  {
   "cell_type": "code",
   "execution_count": 1,
   "metadata": {},
   "outputs": [],
   "source": [
    "import warnings\n",
    "warnings.filterwarnings('ignore')"
   ]
  },
  {
   "cell_type": "markdown",
   "metadata": {},
   "source": [
    "# 앙상블(Ensenble)\n",
    "- 여러 개의 분류 모델을 조합해서 더 나은 성능을 내는 방법\n",
    "- Decision Tree 모델을 이용한 랜덤포레스트가 대표적임"
   ]
  },
  {
   "cell_type": "markdown",
   "metadata": {},
   "source": [
    "---\n",
    "# 랜덤포레스트(Random Forest)\n",
    "- 랜덤포레스트는 부트스트랩 샘플을 사용한다.\n",
    "- 부트스트랩 샘플링은 중복을 허용하는 샘플링 방법이다."
   ]
  },
  {
   "cell_type": "code",
   "execution_count": 2,
   "metadata": {},
   "outputs": [
    {
     "data": {
      "text/html": [
       "<div>\n",
       "<style scoped>\n",
       "    .dataframe tbody tr th:only-of-type {\n",
       "        vertical-align: middle;\n",
       "    }\n",
       "\n",
       "    .dataframe tbody tr th {\n",
       "        vertical-align: top;\n",
       "    }\n",
       "\n",
       "    .dataframe thead th {\n",
       "        text-align: right;\n",
       "    }\n",
       "</style>\n",
       "<table border=\"1\" class=\"dataframe\">\n",
       "  <thead>\n",
       "    <tr style=\"text-align: right;\">\n",
       "      <th></th>\n",
       "      <th>alcohol</th>\n",
       "      <th>sugar</th>\n",
       "      <th>pH</th>\n",
       "      <th>class</th>\n",
       "    </tr>\n",
       "  </thead>\n",
       "  <tbody>\n",
       "    <tr>\n",
       "      <th>0</th>\n",
       "      <td>9.4</td>\n",
       "      <td>1.9</td>\n",
       "      <td>3.51</td>\n",
       "      <td>0.0</td>\n",
       "    </tr>\n",
       "    <tr>\n",
       "      <th>1</th>\n",
       "      <td>9.8</td>\n",
       "      <td>2.6</td>\n",
       "      <td>3.20</td>\n",
       "      <td>0.0</td>\n",
       "    </tr>\n",
       "    <tr>\n",
       "      <th>2</th>\n",
       "      <td>9.8</td>\n",
       "      <td>2.3</td>\n",
       "      <td>3.26</td>\n",
       "      <td>0.0</td>\n",
       "    </tr>\n",
       "    <tr>\n",
       "      <th>3</th>\n",
       "      <td>9.8</td>\n",
       "      <td>1.9</td>\n",
       "      <td>3.16</td>\n",
       "      <td>0.0</td>\n",
       "    </tr>\n",
       "    <tr>\n",
       "      <th>4</th>\n",
       "      <td>9.4</td>\n",
       "      <td>1.9</td>\n",
       "      <td>3.51</td>\n",
       "      <td>0.0</td>\n",
       "    </tr>\n",
       "  </tbody>\n",
       "</table>\n",
       "</div>"
      ],
      "text/plain": [
       "   alcohol  sugar    pH  class\n",
       "0      9.4    1.9  3.51    0.0\n",
       "1      9.8    2.6  3.20    0.0\n",
       "2      9.8    2.3  3.26    0.0\n",
       "3      9.8    1.9  3.16    0.0\n",
       "4      9.4    1.9  3.51    0.0"
      ]
     },
     "execution_count": 2,
     "metadata": {},
     "output_type": "execute_result"
    }
   ],
   "source": [
    "import pandas as pd\n",
    "wine = pd.read_csv('data/wine.csv',)\n",
    "wine.head()"
   ]
  },
  {
   "cell_type": "code",
   "execution_count": 5,
   "metadata": {},
   "outputs": [],
   "source": [
    "data = wine.drop('class', axis=1)\n",
    "target = wine['class']"
   ]
  },
  {
   "cell_type": "code",
   "execution_count": 7,
   "metadata": {},
   "outputs": [],
   "source": [
    "from sklearn.model_selection import train_test_split\n",
    "\n",
    "train_input, test_input, train_target, test_target = train_test_split(data, target, test_size=0.2, random_state=42)"
   ]
  },
  {
   "cell_type": "code",
   "execution_count": 12,
   "metadata": {},
   "outputs": [
    {
     "name": "stdout",
     "output_type": "stream",
     "text": [
      "train_score: 0.9973541965122431\n",
      "test_score: 0.8905151032797809\n"
     ]
    }
   ],
   "source": [
    "# import\n",
    "import numpy as np\n",
    "from sklearn.model_selection import cross_validate\n",
    "from sklearn.ensemble import RandomForestClassifier\n",
    "\n",
    "# model\n",
    "rf = RandomForestClassifier(n_jobs=-1, random_state=42)\n",
    "# n_jobs: 병렬처리 수: -1은 모든 코어를 사용하는 것을 의미한다.\n",
    "\n",
    "# scores\n",
    "scores = cross_validate(rf, train_input, train_target, return_train_score=True, n_jobs=-1)\n",
    "print('train_score:', np.mean(scores['train_score']))\n",
    "print('test_score:', np.mean(scores['test_score']))"
   ]
  },
  {
   "cell_type": "code",
   "execution_count": 10,
   "metadata": {},
   "outputs": [
    {
     "name": "stdout",
     "output_type": "stream",
     "text": [
      "[0.23167441 0.50039841 0.26792718]\n"
     ]
    }
   ],
   "source": [
    "rf.fit(train_input, train_target)\n",
    "# Feature 중요도 확인\n",
    "print(rf.feature_importances_)"
   ]
  },
  {
   "cell_type": "code",
   "execution_count": 13,
   "metadata": {},
   "outputs": [
    {
     "name": "stdout",
     "output_type": "stream",
     "text": [
      "oob_score: 0.8934000384837406\n"
     ]
    }
   ],
   "source": [
    "# 부트스트랩 결정 시 남은 생플(oob: out of bag)로도 특성을 구분할 수 있다.\n",
    "rf = RandomForestClassifier(n_jobs=-1, random_state=42, oob_score=True)\n",
    "rf.fit(train_input, train_target)\n",
    "print('oob_score:', rf.oob_score_)\n"
   ]
  },
  {
   "cell_type": "markdown",
   "metadata": {},
   "source": [
    "---\n",
    "# Extra Tree\n",
    "- 기본적으로 100개의 트리를 사용\n",
    "- 노드 분할 시 특성의 제곱근의 갯수를 사용\n",
    "- 특성을 랜덤하게 선택한다. (Sugar를 뺄 수도 있음)\n",
    "- 속도는 랜덤포레스트보다 빠르다(특성을 막 선택해서)"
   ]
  },
  {
   "cell_type": "code",
   "execution_count": 14,
   "metadata": {},
   "outputs": [
    {
     "name": "stdout",
     "output_type": "stream",
     "text": [
      "[0.20183568 0.52242907 0.27573525]\n",
      "train_score: 0.9974503966084433\n",
      "test_score: 0.8887848893166506\n"
     ]
    }
   ],
   "source": [
    "# extra tree import\n",
    "from sklearn.ensemble import ExtraTreesClassifier\n",
    "et = ExtraTreesClassifier(n_jobs=-1, random_state=42)\n",
    "\n",
    "# 주요 Feature 확인을 위해 fit 해봄\n",
    "et.fit(train_input, train_target)\n",
    "\n",
    "# 주요 feature 확인\n",
    "print(et.feature_importances_)\n",
    "\n",
    "# scores 계산해 출력\n",
    "scores = cross_validate(et, train_input, train_target, return_train_score=True, n_jobs=-1)\n",
    "print('train_score:', np.mean(scores['train_score']))\n",
    "print('test_score:', np.mean(scores['test_score']))"
   ]
  },
  {
   "cell_type": "markdown",
   "metadata": {},
   "source": [
    "---\n",
    "# Gradient Boosting(그래디언트 부스팅)\n",
    "- 가장 유명한 알고리즘 중 하나.\n",
    "- 경사하강법처럼 손실함수를 사용한다.\n",
    "- 손실함수를 보고 트리를 추가하여 최적값을 도출한다.\n",
    "- Decision Tree Regressor를 사용하여 손실함수를 계산하고이를 계속 낮추기 위해 트리를 추가한다.(Max Depth가 추가됨)\n",
    "- 경사를 이동하면서 경사의 이동거리를 제어하는 learning-rate(기본:0.1)를 사용한다.\n",
    "- max_depth를 3으로 제어하여 깊이가 낮으므로 과대적합을 방지할 수 있다.\n",
    "- 단점은 손실함수를 보고 트리를 추가하면서 진행하기 때문에 병렬처리(n_jobs)를 할 수 없다.\n",
    "(한꺼번에 막 트리를 만드는게 아니라 하나 하고 판단하고 하나 하고 판단하고...)"
   ]
  },
  {
   "cell_type": "code",
   "execution_count": 15,
   "metadata": {},
   "outputs": [
    {
     "name": "stdout",
     "output_type": "stream",
     "text": [
      "train_score: 0.8881086892152563\n",
      "test_score: 0.8720430147331015\n"
     ]
    }
   ],
   "source": [
    "from sklearn.ensemble import GradientBoostingClassifier\n",
    "gbc = GradientBoostingClassifier(random_state=42)\n",
    "\n",
    "# scores 계산해 출력\n",
    "scores = cross_validate(gbc, train_input, train_target, return_train_score=True)\n",
    "print('train_score:', np.mean(scores['train_score']))\n",
    "print('test_score:', np.mean(scores['test_score']))"
   ]
  },
  {
   "cell_type": "code",
   "execution_count": 16,
   "metadata": {},
   "outputs": [
    {
     "name": "stdout",
     "output_type": "stream",
     "text": [
      "train_score: 0.9464595437171814\n",
      "test_score: 0.8780082549788999\n"
     ]
    }
   ],
   "source": [
    "# 기본값 변경해 실험: tree 500개, learning rate 0.2로\n",
    "gbc = GradientBoostingClassifier(n_estimators=500, learning_rate=0.2, random_state=42)\n",
    "scores = cross_validate(gbc, train_input, train_target, return_train_score=True)\n",
    "print('train_score:', np.mean(scores['train_score']))\n",
    "print('test_score:', np.mean(scores['test_score']))"
   ]
  },
  {
   "cell_type": "markdown",
   "metadata": {},
   "source": [
    "---\n",
    "# 히스토그램 기반 그래디언트 부스팅(Histogram gradient Boosting)\n",
    "- 훈련데이터를 256개의 구간으로 나누어서 훈련시키는 방법\n",
    "- 특성의 범위가 제한되어 빠른 속도를 제공한다.\n",
    "- 제한된 구간이므로 과대적합을 방지한다\n",
    "- 아직은 실험단계인 모델"
   ]
  },
  {
   "cell_type": "code",
   "execution_count": 26,
   "metadata": {},
   "outputs": [
    {
     "name": "stdout",
     "output_type": "stream",
     "text": [
      "train_score: 0.9321723946453317\n",
      "test_score: 0.8801241948619236\n"
     ]
    }
   ],
   "source": [
    "from sklearn.experimental import enable_hist_gradient_boosting\n",
    "from sklearn.ensemble import HistGradientBoostingClassifier\n",
    "hgbc = HistGradientBoostingClassifier(random_state=42)\n",
    "scores = cross_validate(hgbc, train_input, train_target, return_train_score=True, n_jobs=-1)\n",
    "print('train_score:', np.mean(scores['train_score']))\n",
    "print('test_score:', np.mean(scores['test_score']))"
   ]
  },
  {
   "cell_type": "markdown",
   "metadata": {},
   "source": [
    "# * 번외 기능 *\n",
    "### Permutation Importance(치환 중요도) - RDE처럼 중요 Column 찾는 것\n",
    "- 어떤 특성이 중요한지를 알아내는 방법\n",
    "- 각 특성(Feature)별 샘플을 섞어서 계산을 한 후, 원래 sample들과의 차이를 계산해서 차이가 많이 나는 Feature가 중요하다는 판단\n",
    "- 예를 들어 Sugar Data가 막 섞이면 차이가 더 심해질 것."
   ]
  },
  {
   "cell_type": "code",
   "execution_count": 30,
   "metadata": {},
   "outputs": [
    {
     "name": "stdout",
     "output_type": "stream",
     "text": [
      "[0.08876275 0.23438522 0.08027708]\n"
     ]
    }
   ],
   "source": [
    "from sklearn.inspection import permutation_importance\n",
    "\n",
    "# Train data를 가지고 확인\n",
    "\n",
    "# hgbc 말고 아무 모델이라도 무관\n",
    "hgbc.fit(train_input, train_target)\n",
    "result = permutation_importance(hgbc, train_input, train_target, n_repeats=10, random_state=42)\n",
    "print(result.importances_mean)"
   ]
  },
  {
   "cell_type": "markdown",
   "metadata": {},
   "source": [
    "### 해석\n",
    "- Sugar의 Sample을 무작위로 섞으면 23%만큼 정확도가 떨어진다\n",
    "- 나머지들은 막 섞어도 정확도가 8%정도밖에 안 떨어진다\n",
    "- 정확도에 가장 큰 영향을 미치는 것은 Sugar다 - 주요 특성은 Sugar"
   ]
  },
  {
   "cell_type": "code",
   "execution_count": 31,
   "metadata": {},
   "outputs": [
    {
     "name": "stdout",
     "output_type": "stream",
     "text": [
      "[0.05969231 0.20238462 0.049     ]\n"
     ]
    }
   ],
   "source": [
    "# Test data를 가지고 확인\n",
    "hgbc.fit(train_input, train_target)\n",
    "result = permutation_importance(hgbc, test_input, test_target, n_repeats=10, random_state=42, n_jobs=-1)\n",
    "print(result.importances_mean)"
   ]
  },
  {
   "cell_type": "markdown",
   "metadata": {},
   "source": [
    "---\n",
    "# XGBoost\n",
    "- kaggle에서 제일 많이 사용"
   ]
  },
  {
   "cell_type": "code",
   "execution_count": 35,
   "metadata": {},
   "outputs": [],
   "source": [
    "#!pip install xgboost"
   ]
  },
  {
   "cell_type": "code",
   "execution_count": 36,
   "metadata": {},
   "outputs": [],
   "source": [
    "# xgboost import\n",
    "from xgboost import XGBClassifier"
   ]
  },
  {
   "cell_type": "code",
   "execution_count": 41,
   "metadata": {},
   "outputs": [
    {
     "name": "stdout",
     "output_type": "stream",
     "text": [
      "train_score: 0.9555033709953124\n",
      "test_score: 0.8799326275264677\n"
     ]
    }
   ],
   "source": [
    "xgbc = XGBClassifier(\n",
    "  random_state=42, \n",
    "  tree_method='hist',  # 히스토그램 그레디언트 부스팅\n",
    "  use_label_encoder=False, \n",
    "  n_jobs=-1, \n",
    "  eval_metric='logloss' # 로지스틱 손실함수 사용\n",
    ")\n",
    "scores = cross_validate(xgbc, train_input, train_target, return_train_score=True, n_jobs=-1)\n",
    "print('train_score:', np.mean(scores['train_score']))\n",
    "print('test_score:', np.mean(scores['test_score']))"
   ]
  },
  {
   "cell_type": "markdown",
   "metadata": {},
   "source": [
    "---\n",
    "# LightGBM"
   ]
  },
  {
   "cell_type": "code",
   "execution_count": 50,
   "metadata": {},
   "outputs": [],
   "source": [
    "from lightgbm import LGBMClassifier"
   ]
  },
  {
   "cell_type": "code",
   "execution_count": 51,
   "metadata": {},
   "outputs": [
    {
     "name": "stdout",
     "output_type": "stream",
     "text": [
      "train_score: 0.935828414851749\n",
      "test_score: 0.8801251203079884\n"
     ]
    }
   ],
   "source": [
    "lgbc = LGBMClassifier(random_state=42)\n",
    "\n",
    "scores = cross_validate(lgbc, train_input, train_target, return_train_score=True, n_jobs=-1)\n",
    "print('train_score:', np.mean(scores['train_score']))\n",
    "print('test_score:', np.mean(scores['test_score']))"
   ]
  },
  {
   "cell_type": "markdown",
   "metadata": {},
   "source": [
    "---\n",
    "# 앙상블 정리\n",
    "- 앙상블 학습은 정형데이터에서 가장 뛰어난 성능을 내는 머신러닝 알고리즘 중의 하나\n",
    "### 랜덤포레스트\n",
    "- 부트스트랩 사용, 대표 앙상블 학습 알고리즘\n",
    "### 엑스트라 트리\n",
    "- 결정트리의 노드를 랜덤하게 분할\n",
    "### 그래디언트 부스팅\n",
    "- 결정트리의 손실을 보완하는 식으로 얕은 결정트리를 연속해 추가해 사용\n",
    "### 히스토그램 기반 그래디언트 부스팅\n",
    "- 훈련데이터를 256개 정수 구간으로 나누어 빠르고 높은 성능을 냄\n",
    "### 기타\n",
    "- XGBoost\n",
    "- lightGBM"
   ]
  }
 ],
 "metadata": {
  "kernelspec": {
   "display_name": "Python 3.9.7 ('base')",
   "language": "python",
   "name": "python3"
  },
  "language_info": {
   "codemirror_mode": {
    "name": "ipython",
    "version": 3
   },
   "file_extension": ".py",
   "mimetype": "text/x-python",
   "name": "python",
   "nbconvert_exporter": "python",
   "pygments_lexer": "ipython3",
   "version": "3.9.7"
  },
  "orig_nbformat": 4,
  "vscode": {
   "interpreter": {
    "hash": "c34e8390e776d2ee205b71ed5a6130fee3cef8da5e87e926ce18e14f4a070d72"
   }
  }
 },
 "nbformat": 4,
 "nbformat_minor": 2
}
