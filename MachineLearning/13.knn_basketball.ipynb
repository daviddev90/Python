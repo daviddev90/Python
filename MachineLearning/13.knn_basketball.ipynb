{
 "cells": [
  {
   "cell_type": "markdown",
   "metadata": {},
   "source": [
    "### knn에서 가장 중요한 것: 하이퍼파라미터 k값을 찾는 것"
   ]
  },
  {
   "cell_type": "code",
   "execution_count": 33,
   "metadata": {},
   "outputs": [],
   "source": [
    "# set seed\n",
    "import numpy as np\n",
    "np.random.seed(5)"
   ]
  },
  {
   "cell_type": "code",
   "execution_count": 34,
   "metadata": {},
   "outputs": [],
   "source": [
    "import pandas as pd"
   ]
  },
  {
   "cell_type": "code",
   "execution_count": 35,
   "metadata": {},
   "outputs": [],
   "source": [
    "train = pd.read_csv('data/basketball/train.csv')\n",
    "test = pd.read_csv('data/basketball/test.csv')"
   ]
  },
  {
   "cell_type": "code",
   "execution_count": 36,
   "metadata": {},
   "outputs": [
    {
     "name": "stdout",
     "output_type": "stream",
     "text": [
      "(80, 5)\n",
      "Player    80\n",
      "Pos       80\n",
      "3P        80\n",
      "TRB       80\n",
      "BLK       80\n",
      "dtype: int64\n",
      "Player    0\n",
      "Pos       0\n",
      "3P        0\n",
      "TRB       0\n",
      "BLK       0\n",
      "dtype: int64\n",
      "(20, 5)\n",
      "Player    20\n",
      "Pos       20\n",
      "3P        20\n",
      "TRB       20\n",
      "BLK       20\n",
      "dtype: int64\n",
      "Player    0\n",
      "Pos       0\n",
      "3P        0\n",
      "TRB       0\n",
      "BLK       0\n",
      "dtype: int64\n"
     ]
    }
   ],
   "source": [
    "print(train.shape)\n",
    "print(train.count())\n",
    "print(train.isnull().sum())\n",
    "print(test.shape)\n",
    "print(test.count())\n",
    "print(test.isnull().sum())"
   ]
  },
  {
   "cell_type": "markdown",
   "metadata": {},
   "source": [
    "### K-Fold 교차검증\n",
    "- 4-fold 예시\n",
    "- 1~5까지를 테스트로, 6~10까지를 테스트로, 11~15까지를 테스트로, 16~20까지를 테스트로 바꿔가며 교차검증"
   ]
  },
  {
   "cell_type": "markdown",
   "metadata": {},
   "source": [
    "### 최적의 K 찾기(교차검증 - Cross Validation)"
   ]
  },
  {
   "cell_type": "code",
   "execution_count": 37,
   "metadata": {},
   "outputs": [],
   "source": [
    "#knn import\n",
    "from sklearn.neighbors import KNeighborsClassifier\n",
    "from sklearn.model_selection import cross_val_score # 교차검증 해주는 애"
   ]
  },
  {
   "cell_type": "code",
   "execution_count": 38,
   "metadata": {},
   "outputs": [],
   "source": [
    "x_train = train[['3P', 'BLK']]\n",
    "y_train = train['Pos']"
   ]
  },
  {
   "cell_type": "code",
   "execution_count": 39,
   "metadata": {},
   "outputs": [
    {
     "data": {
      "image/png": "[encoded data removed]",
      "text/plain": [
       "<Figure size 432x288 with 1 Axes>"
      ]
     },
     "metadata": {
      "needs_background": "light"
     },
     "output_type": "display_data"
    }
   ],
   "source": [
    "# 최적의 k를 찾기 위해 교차 검증을 수행할 k의 범위를 3부터 학습데이터의 절반까지 설정\n",
    "k_range = range(3, int(train.shape[0]/2), 2) # 3부터 학습데이터의 절반까지 2씩 증가\n",
    "k_scores = []\n",
    "for k in k_range:\n",
    "    knn = KNeighborsClassifier(n_neighbors=k)\n",
    "    scores = cross_val_score(\n",
    "        knn, # 모델명\n",
    "        x_train, # 훈련 데이터\n",
    "        y_train, # 훈련 데이터의 레이블\n",
    "        cv=10, # 10-fold cross validation (10번 교차검증 수행)\n",
    "        scoring='accuracy' # 정확도를 평가하는 것이므로 'accuracy'를 사용\n",
    "        ) \n",
    "    k_scores.append(scores.mean()) # 각 k에 대한 10번 교차검증 한 평균 정확도를 저장\n",
    "\n",
    "# 확인\n",
    "import matplotlib.pyplot as plt\n",
    "plt.plot(k_range, k_scores)\n",
    "plt.xlabel('Value of K for KNN')\n",
    "plt.ylabel('Cross-Validated Accuracy')\n",
    "plt.show()"
   ]
  },
  {
   "cell_type": "code",
   "execution_count": 40,
   "metadata": {},
   "outputs": [
    {
     "name": "stdout",
     "output_type": "stream",
     "text": [
      "[0.9125, 0.9375, 0.9375, 0.9375, 0.95, 0.925, 0.9125, 0.9125, 0.8875, 0.8875, 0.8875, 0.8875, 0.8875, 0.8875, 0.8875, 0.8875, 0.9, 0.9, 0.9]\n"
     ]
    }
   ],
   "source": [
    "print(k_scores)"
   ]
  },
  {
   "cell_type": "code",
   "execution_count": 41,
   "metadata": {},
   "outputs": [
    {
     "name": "stdout",
     "output_type": "stream",
     "text": [
      "Best K: 11\n"
     ]
    }
   ],
   "source": [
    "# 가장 예측률이 높은 k를 선정\n",
    "best_k = k_range[k_scores.index(max(k_scores))]\n",
    "print('Best K:', best_k)"
   ]
  },
  {
   "cell_type": "code",
   "execution_count": 42,
   "metadata": {},
   "outputs": [
    {
     "data": {
      "text/plain": [
       "KNeighborsClassifier(n_neighbors=11)"
      ]
     },
     "execution_count": 42,
     "metadata": {},
     "output_type": "execute_result"
    }
   ],
   "source": [
    "# k값을 설정하고 모델을 생성\n",
    "knn = KNeighborsClassifier(n_neighbors=best_k)\n",
    "knn.fit(x_train, y_train)\n"
   ]
  },
  {
   "cell_type": "code",
   "execution_count": 44,
   "metadata": {},
   "outputs": [
    {
     "name": "stdout",
     "output_type": "stream",
     "text": [
      "['C' 'C' 'SG' 'SG' 'C' 'C' 'SG' 'C' 'C' 'C' 'C' 'C' 'SG' 'SG' 'SG' 'SG'\n",
      " 'SG' 'SG' 'SG' 'SG']\n"
     ]
    }
   ],
   "source": [
    "x_test = test[['3P', 'BLK']]\n",
    "y_test = test['Pos']\n",
    "\n",
    "knn.score(x_test, y_test)\n",
    "\n",
    "pred = knn.predict(x_test)\n",
    "print(pred)"
   ]
  },
  {
   "cell_type": "code",
   "execution_count": 46,
   "metadata": {},
   "outputs": [
    {
     "name": "stdout",
     "output_type": "stream",
     "text": [
      "   Actual Predicted\n",
      "0       C         C\n",
      "1       C         C\n",
      "2      SG        SG\n",
      "3      SG        SG\n",
      "4       C         C\n",
      "5       C         C\n",
      "6      SG        SG\n",
      "7       C         C\n",
      "8       C         C\n",
      "9       C         C\n",
      "10      C         C\n",
      "11      C         C\n",
      "12     SG        SG\n",
      "13     SG        SG\n",
      "14     SG        SG\n",
      "15     SG        SG\n",
      "16     SG        SG\n",
      "17     SG        SG\n",
      "18     SG        SG\n",
      "19     SG        SG\n"
     ]
    }
   ],
   "source": [
    "# 실제 데이터와 예측 데이터를 비교\n",
    "comparison = pd.DataFrame({\n",
    "    'Actual': y_test,\n",
    "    'Predicted': pred\n",
    "})\n",
    "print(comparison)"
   ]
  },
  {
   "cell_type": "code",
   "execution_count": 52,
   "metadata": {},
   "outputs": [
    {
     "data": {
      "image/png": "[encoded data removed]",
      "text/plain": [
       "<Figure size 432x288 with 2 Axes>"
      ]
     },
     "metadata": {
      "needs_background": "light"
     },
     "output_type": "display_data"
    }
   ],
   "source": [
    "# confusion matrix\n",
    "from sklearn.metrics import confusion_matrix\n",
    "from sklearn.metrics import ConfusionMatrixDisplay\n",
    "confusion_matrix = confusion_matrix(y_test, pred)\n",
    "target_names = ['Center', 'S-Guard']\n",
    "display = ConfusionMatrixDisplay(confusion_matrix, display_labels=target_names)\n",
    "display.plot(include_values=True, cmap='Blues', xticks_rotation=45)\n",
    "plt.show()"
   ]
  },
  {
   "cell_type": "markdown",
   "metadata": {},
   "source": [
    "---\n",
    "### 3개의 feature(특징)으로 예측하기"
   ]
  },
  {
   "cell_type": "code",
   "execution_count": 53,
   "metadata": {},
   "outputs": [],
   "source": [
    "x_train = train[['3P', 'BLK', 'TRB']]\n",
    "y_train = train['Pos']"
   ]
  },
  {
   "cell_type": "code",
   "execution_count": 54,
   "metadata": {},
   "outputs": [
    {
     "data": {
      "image/png": "[encoded data removed]",
      "text/plain": [
       "<Figure size 432x288 with 1 Axes>"
      ]
     },
     "metadata": {
      "needs_background": "light"
     },
     "output_type": "display_data"
    }
   ],
   "source": [
    "# 최적의 k 값 찾기\n",
    "k_range = range(3, int(train.shape[0]/2), 2)\n",
    "k_scores = []\n",
    "for k in k_range:\n",
    "    knn = KNeighborsClassifier(n_neighbors=k)\n",
    "    scores = cross_val_score(\n",
    "        knn,\n",
    "        x_train,\n",
    "        y_train,\n",
    "        cv=10,\n",
    "        scoring='accuracy'\n",
    "        )\n",
    "    k_scores.append(scores.mean())\n",
    "\n",
    "# 확인\n",
    "import matplotlib.pyplot as plt\n",
    "plt.plot(k_range, k_scores)\n",
    "plt.xlabel('Value of K for KNN')\n",
    "plt.ylabel('Cross-Validated Accuracy')\n",
    "plt.show()"
   ]
  },
  {
   "cell_type": "code",
   "execution_count": 55,
   "metadata": {},
   "outputs": [
    {
     "name": "stdout",
     "output_type": "stream",
     "text": [
      "Best K: 9\n"
     ]
    }
   ],
   "source": [
    "# 가장 예측률이 높은 k를 선정\n",
    "best_k = k_range[k_scores.index(max(k_scores))]\n",
    "print('Best K:', best_k)"
   ]
  },
  {
   "cell_type": "code",
   "execution_count": 56,
   "metadata": {},
   "outputs": [
    {
     "name": "stdout",
     "output_type": "stream",
     "text": [
      "['C' 'C' 'SG' 'SG' 'C' 'C' 'SG' 'C' 'C' 'C' 'C' 'C' 'SG' 'SG' 'SG' 'SG'\n",
      " 'SG' 'SG' 'SG' 'SG']\n"
     ]
    }
   ],
   "source": [
    "# k값을 설정하고 모델을 생성\n",
    "knn = KNeighborsClassifier(n_neighbors=best_k)\n",
    "knn.fit(x_train, y_train)\n",
    "\n",
    "# 테스트 데이터 설정\n",
    "x_test = test[['3P', 'BLK', 'TRB']]\n",
    "y_test = test['Pos']\n",
    "\n",
    "# 예측을 수행\n",
    "pred = knn.predict(x_test)\n",
    "print(pred)"
   ]
  },
  {
   "cell_type": "code",
   "execution_count": 58,
   "metadata": {},
   "outputs": [
    {
     "name": "stdout",
     "output_type": "stream",
     "text": [
      "   Actual Predicted\n",
      "0       C         C\n",
      "1       C         C\n",
      "2      SG        SG\n",
      "3      SG        SG\n",
      "4       C         C\n",
      "5       C         C\n",
      "6      SG        SG\n",
      "7       C         C\n",
      "8       C         C\n",
      "9       C         C\n",
      "10      C         C\n",
      "11      C         C\n",
      "12     SG        SG\n",
      "13     SG        SG\n",
      "14     SG        SG\n",
      "15     SG        SG\n",
      "16     SG        SG\n",
      "17     SG        SG\n",
      "18     SG        SG\n",
      "19     SG        SG\n"
     ]
    }
   ],
   "source": [
    "# 실제 데이터와 예측 데이터를 비교\n",
    "comparison = pd.DataFrame({\n",
    "    'Actual': y_test,\n",
    "    'Predicted': pred\n",
    "})\n",
    "print(comparison)"
   ]
  },
  {
   "cell_type": "code",
   "execution_count": 59,
   "metadata": {},
   "outputs": [
    {
     "data": {
      "image/png": "[encoded data removed]",
      "text/plain": [
       "<Figure size 432x288 with 2 Axes>"
      ]
     },
     "metadata": {
      "needs_background": "light"
     },
     "output_type": "display_data"
    }
   ],
   "source": [
    "# confusion matrix\n",
    "from sklearn.metrics import confusion_matrix\n",
    "from sklearn.metrics import ConfusionMatrixDisplay\n",
    "confusion_matrix = confusion_matrix(y_test, pred)\n",
    "target_names = ['Center', 'S-Guard']\n",
    "display = ConfusionMatrixDisplay(confusion_matrix, display_labels=target_names)\n",
    "display.plot(include_values=True, cmap='Blues', xticks_rotation=45)\n",
    "plt.show()\n"
   ]
  },
  {
   "cell_type": "code",
   "execution_count": 65,
   "metadata": {},
   "outputs": [
    {
     "data": {
      "text/plain": [
       "array(['SG'], dtype=object)"
      ]
     },
     "execution_count": 65,
     "metadata": {},
     "output_type": "execute_result"
    }
   ],
   "source": [
    "# 실제 데이터 예측해보기\n",
    "knn.predict([[3.4, 0.5, 3.7]])"
   ]
  }
 ],
 "metadata": {
  "kernelspec": {
   "display_name": "Python 3.9.7 ('base')",
   "language": "python",
   "name": "python3"
  },
  "language_info": {
   "codemirror_mode": {
    "name": "ipython",
    "version": 3
   },
   "file_extension": ".py",
   "mimetype": "text/x-python",
   "name": "python",
   "nbconvert_exporter": "python",
   "pygments_lexer": "ipython3",
   "version": "3.9.7"
  },
  "orig_nbformat": 4,
  "vscode": {
   "interpreter": {
    "hash": "c34e8390e776d2ee205b71ed5a6130fee3cef8da5e87e926ce18e14f4a070d72"
   }
  }
 },
 "nbformat": 4,
 "nbformat_minor": 2
}
