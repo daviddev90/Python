{
 "cells": [
  {
   "cell_type": "markdown",
   "metadata": {},
   "source": [
    "# 앙상블\n",
    "- 여러개의 분류 모델을 조합해서 더 나은 성능을 내는 방법"
   ]
  },
  {
   "cell_type": "markdown",
   "metadata": {},
   "source": [
    "## RandomForest\n",
    ": 의사결정트리를 Bagging(단일 모델 조합)해서 예측을 실행하는 모델"
   ]
  },
  {
   "cell_type": "code",
   "execution_count": 1,
   "metadata": {},
   "outputs": [],
   "source": [
    "from sklearn import datasets\n",
    "import numpy as np\n",
    "np.random.seed(5)"
   ]
  },
  {
   "cell_type": "code",
   "execution_count": 3,
   "metadata": {},
   "outputs": [],
   "source": [
    "mnist = datasets.load_digits()\n",
    "X, y = mnist.data, mnist.target"
   ]
  },
  {
   "cell_type": "code",
   "execution_count": 6,
   "metadata": {},
   "outputs": [
    {
     "name": "stdout",
     "output_type": "stream",
     "text": [
      "[0.819137181874612, 0.8285878336436996, 0.8274736188702668, 0.8280446927374301, 0.8319304779639974, 0.8308162631905649, 0.8230446927374302, 0.8269056486654252, 0.8280229671011794, 0.8352638112973307]\n"
     ]
    }
   ],
   "source": [
    "# 의사결정 나무를 이용한 10번의 교차검증 10회 실시\n",
    "from sklearn.model_selection import cross_val_score\n",
    "from sklearn.tree import DecisionTreeClassifier\n",
    "clf = DecisionTreeClassifier()\n",
    "cv_scores = []\n",
    "for i in range(10):\n",
    "    scores = cross_val_score(clf, X, y, cv=10, scoring='accuracy')\n",
    "    cv_scores.append(scores.mean())\n",
    "print(cv_scores)"
   ]
  },
  {
   "cell_type": "code",
   "execution_count": 7,
   "metadata": {},
   "outputs": [
    {
     "name": "stdout",
     "output_type": "stream",
     "text": [
      "[0.9499068901303538, 0.9527001862197393, 0.9476908752327746, 0.9521446306641836, 0.9504686530105524, 0.9415549348230912, 0.9510273122284294, 0.947687771570453, 0.9487988826815641, 0.9510273122284294]\n"
     ]
    }
   ],
   "source": [
    "# RandomForestClassifier를 이용한 10번의 교차검증 10회 실시\n",
    "from sklearn.ensemble import RandomForestClassifier\n",
    "clf = RandomForestClassifier()\n",
    "cv_scores = []\n",
    "for i in range(10):\n",
    "    scores = cross_val_score(clf, X, y, cv=10, scoring='accuracy')\n",
    "    cv_scores.append(scores.mean())\n",
    "print(cv_scores)"
   ]
  },
  {
   "cell_type": "code",
   "execution_count": 12,
   "metadata": {},
   "outputs": [],
   "source": [
    "def cross_validation(classifier, X, y):\n",
    "    cv_scores = []\n",
    "    for i in range(10):\n",
    "        scores = cross_val_score(classifier, X, y, cv=10, scoring='accuracy')\n",
    "        cv_scores.append(scores.mean())\n",
    "    return cv_scores"
   ]
  },
  {
   "cell_type": "code",
   "execution_count": 13,
   "metadata": {},
   "outputs": [
    {
     "name": "stdout",
     "output_type": "stream",
     "text": [
      "[0.834137181874612, 0.839723774053383, 0.8263780260707636, 0.8219242706393544, 0.8308131595282434, 0.8152234636871508, 0.8341558038485413, 0.8352638112973307, 0.8336064556176288, 0.8246772191185598]\n",
      "[0.9476784605834885, 0.9526877715704531, 0.9549224084419615, 0.9549193047796398, 0.9476846679081316, 0.9476753569211669, 0.9482464307883302, 0.948786468032278, 0.9482371198013656, 0.9432278088144008]\n"
     ]
    }
   ],
   "source": [
    "dt_cv_scores = cross_validation(DecisionTreeClassifier(), X, y)\n",
    "rf_cv_scores = cross_validation(RandomForestClassifier(), X, y)\n",
    "print(dt_cv_scores)\n",
    "print(rf_cv_scores)\n"
   ]
  },
  {
   "cell_type": "markdown",
   "metadata": {},
   "source": [
    "## 랜덤포레스트와 의사결정나무 정확도 시각화"
   ]
  },
  {
   "cell_type": "code",
   "execution_count": 19,
   "metadata": {},
   "outputs": [
    {
     "data": {
      "image/png": "[encoded data removed]",
      "text/plain": [
       "<Figure size 432x288 with 1 Axes>"
      ]
     },
     "metadata": {
      "needs_background": "light"
     },
     "output_type": "display_data"
    }
   ],
   "source": [
    "import matplotlib.pyplot as plt\n",
    "import pandas as pd\n",
    "\n",
    "cv_list = {'DecisionTree': dt_cv_scores, 'RandomForest': rf_cv_scores}\n",
    "df = pd.DataFrame(cv_list)\n",
    "# xlim\n",
    "df.plot()\n",
    "plt.show()"
   ]
  },
  {
   "cell_type": "markdown",
   "metadata": {},
   "source": [
    "---\n",
    "# 보팅(voting) 앙상블\n",
    "- 단일 모델들을 앙상블하여 더 나은 예측을 하는 모델 생성"
   ]
  },
  {
   "cell_type": "code",
   "execution_count": 20,
   "metadata": {},
   "outputs": [],
   "source": [
    "from sklearn.model_selection import train_test_split\n",
    "X_train, X_test, y_train, y_test = train_test_split(X, y, test_size=0.2)"
   ]
  },
  {
   "cell_type": "markdown",
   "metadata": {},
   "source": [
    "### 단일 모델들의 정확도 측정"
   ]
  },
  {
   "cell_type": "code",
   "execution_count": 25,
   "metadata": {},
   "outputs": [],
   "source": [
    "# import models\n",
    "from sklearn.neighbors import KNeighborsClassifier\n",
    "from sklearn.svm import SVC"
   ]
  },
  {
   "cell_type": "code",
   "execution_count": 38,
   "metadata": {},
   "outputs": [
    {
     "name": "stdout",
     "output_type": "stream",
     "text": [
      "의사결정나무:  0.8361\n",
      "KNN:  0.9806\n",
      "SVM:  0.9806\n"
     ]
    }
   ],
   "source": [
    "# 의사결정 나무\n",
    "dtree = DecisionTreeClassifier().fit(X_train, y_train)\n",
    "dtree_score = dtree.score(X_test, y_test)\n",
    "print('의사결정나무: ', round(dtree_score,4))\n",
    "\n",
    "\n",
    "# KNN\n",
    "knn = KNeighborsClassifier().fit(X_train, y_train)\n",
    "knn_score = knn.score(X_test, y_test)\n",
    "print('KNN: ', round(knn_score,4))\n",
    "\n",
    "# SVM\n",
    "svm = SVC(probability=True).fit(X_train, y_train)\n",
    "svm_score = svm.score(X_test, y_test)\n",
    "print('SVM: ', round(svm_score,4))\n"
   ]
  },
  {
   "cell_type": "markdown",
   "metadata": {},
   "source": [
    "### 하드 보팅\n",
    ": 각각의 분류기의 예측값들을 모아, 가장 많은 득표를 받은 예측값으로 최종 결론을 내는 방식"
   ]
  },
  {
   "cell_type": "code",
   "execution_count": 39,
   "metadata": {},
   "outputs": [
    {
     "name": "stdout",
     "output_type": "stream",
     "text": [
      "Voting:  0.9778\n"
     ]
    }
   ],
   "source": [
    "from sklearn.ensemble import VotingClassifier\n",
    "voting_clf = VotingClassifier(\n",
    "  estimators=[('dt', dtree), ('knn', knn), ('svm', svm)], \n",
    "    weights=[1, 1, 1],\n",
    "    voting='hard'\n",
    "  ).fit(X_train, y_train)\n",
    "voting_clf_score = voting_clf.score(X_test, y_test)\n",
    "print('Voting: ', round(voting_clf_score,4))"
   ]
  },
  {
   "cell_type": "markdown",
   "metadata": {},
   "source": [
    "# 소프트 보팅\n",
    ": 각각의 분류모델을 활용하여 모든 분류값들의 확률들을 더해서 가장 높은 점수를 획득한 분류값으로 최종결론을 내는 방식   \n",
    ": 과대적합이 안 생김"
   ]
  },
  {
   "cell_type": "code",
   "execution_count": 36,
   "metadata": {},
   "outputs": [
    {
     "name": "stdout",
     "output_type": "stream",
     "text": [
      "Voting:  0.975\n"
     ]
    }
   ],
   "source": [
    "from sklearn.ensemble import VotingClassifier\n",
    "voting_clf = VotingClassifier(\n",
    "  estimators=[\n",
    "    ('dt', dtree), ('knn', knn), ('svm', svm)],\n",
    "  voting='soft')\n",
    "voting_clf = voting_clf.fit(X_train, y_train)\n",
    "voting_clf_score = voting_clf.score(X_test, y_test)\n",
    "print('Voting: ', round(voting_clf_score,4))"
   ]
  }
 ],
 "metadata": {
  "kernelspec": {
   "display_name": "Python 3.9.7 ('base')",
   "language": "python",
   "name": "python3"
  },
  "language_info": {
   "codemirror_mode": {
    "name": "ipython",
    "version": 3
   },
   "file_extension": ".py",
   "mimetype": "text/x-python",
   "name": "python",
   "nbconvert_exporter": "python",
   "pygments_lexer": "ipython3",
   "version": "3.9.7"
  },
  "orig_nbformat": 4,
  "vscode": {
   "interpreter": {
    "hash": "c34e8390e776d2ee205b71ed5a6130fee3cef8da5e87e926ce18e14f4a070d72"
   }
  }
 },
 "nbformat": 4,
 "nbformat_minor": 2
}
