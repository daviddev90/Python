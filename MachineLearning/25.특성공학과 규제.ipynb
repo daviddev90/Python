{
 "cells": [
  {
   "cell_type": "markdown",
   "metadata": {},
   "source": [
    "### 특성(Feature)공학과 규제(Regularization: 정형화, 규제, 일반화 > 가중치의 값이 커지지 않도록 제한)"
   ]
  },
  {
   "cell_type": "markdown",
   "metadata": {},
   "source": [
    "##### 일반화 성능이 좋아지도록 규제한다\n",
    "- train data를 100% 쫓아가게 선을 개떡같이 그리면 train data는 100% 맞출 수 있다.\n",
    "- 하지만 그렇게 하면 train data에 '특수화' 된 모델이 탄생한다.\n",
    "- 이것을 방지하기 위해 train data를 지나치게 추종하는 것을 규제(학습을 막음!)해 일반화된 모델이 탄생할 수 있도록 한다"
   ]
  },
  {
   "cell_type": "code",
   "execution_count": 130,
   "metadata": {},
   "outputs": [
    {
     "data": {
      "text/html": [
       "<div>\n",
       "<style scoped>\n",
       "    .dataframe tbody tr th:only-of-type {\n",
       "        vertical-align: middle;\n",
       "    }\n",
       "\n",
       "    .dataframe tbody tr th {\n",
       "        vertical-align: top;\n",
       "    }\n",
       "\n",
       "    .dataframe thead th {\n",
       "        text-align: right;\n",
       "    }\n",
       "</style>\n",
       "<table border=\"1\" class=\"dataframe\">\n",
       "  <thead>\n",
       "    <tr style=\"text-align: right;\">\n",
       "      <th></th>\n",
       "      <th>length</th>\n",
       "      <th>height</th>\n",
       "      <th>width</th>\n",
       "    </tr>\n",
       "  </thead>\n",
       "  <tbody>\n",
       "    <tr>\n",
       "      <th>0</th>\n",
       "      <td>8.4</td>\n",
       "      <td>2.11</td>\n",
       "      <td>1.41</td>\n",
       "    </tr>\n",
       "    <tr>\n",
       "      <th>1</th>\n",
       "      <td>13.7</td>\n",
       "      <td>3.53</td>\n",
       "      <td>2.00</td>\n",
       "    </tr>\n",
       "    <tr>\n",
       "      <th>2</th>\n",
       "      <td>15.0</td>\n",
       "      <td>3.82</td>\n",
       "      <td>2.43</td>\n",
       "    </tr>\n",
       "    <tr>\n",
       "      <th>3</th>\n",
       "      <td>16.2</td>\n",
       "      <td>4.59</td>\n",
       "      <td>2.63</td>\n",
       "    </tr>\n",
       "    <tr>\n",
       "      <th>4</th>\n",
       "      <td>17.4</td>\n",
       "      <td>4.59</td>\n",
       "      <td>2.94</td>\n",
       "    </tr>\n",
       "  </tbody>\n",
       "</table>\n",
       "</div>"
      ],
      "text/plain": [
       "   length   height   width\n",
       "0     8.4     2.11    1.41\n",
       "1    13.7     3.53    2.00\n",
       "2    15.0     3.82    2.43\n",
       "3    16.2     4.59    2.63\n",
       "4    17.4     4.59    2.94"
      ]
     },
     "execution_count": 130,
     "metadata": {},
     "output_type": "execute_result"
    }
   ],
   "source": [
    "import pandas as pd\n",
    "df = pd.read_csv('data/fish.csv') # feature 데이터\n",
    "df.head()"
   ]
  },
  {
   "cell_type": "markdown",
   "metadata": {},
   "source": [
    "##### 길이, 높이, 두께로 구성된 데이터로 weight를 맞출 예정"
   ]
  },
  {
   "cell_type": "code",
   "execution_count": 131,
   "metadata": {},
   "outputs": [
    {
     "data": {
      "text/plain": [
       "array([[ 8.4 ,  2.11,  1.41],\n",
       "       [13.7 ,  3.53,  2.  ],\n",
       "       [15.  ,  3.82,  2.43],\n",
       "       [16.2 ,  4.59,  2.63],\n",
       "       [17.4 ,  4.59,  2.94],\n",
       "       [18.  ,  5.22,  3.32]])"
      ]
     },
     "execution_count": 131,
     "metadata": {},
     "output_type": "execute_result"
    }
   ],
   "source": [
    "# Dataframe을 Numpy 배열로 변환 > 빠름!\n",
    "fish_full = df.to_numpy()\n",
    "fish_full[0:6] # numpy array는 head()가 없음"
   ]
  },
  {
   "cell_type": "code",
   "execution_count": 132,
   "metadata": {},
   "outputs": [],
   "source": [
    "df2 = pd.read_csv('data/fish_weight.csv') # target 데이터"
   ]
  },
  {
   "cell_type": "code",
   "execution_count": 133,
   "metadata": {},
   "outputs": [
    {
     "data": {
      "text/plain": [
       "array([[  5.9],\n",
       "       [ 32. ],\n",
       "       [ 40. ],\n",
       "       [ 51.5],\n",
       "       [ 70. ],\n",
       "       [100. ]])"
      ]
     },
     "execution_count": 133,
     "metadata": {},
     "output_type": "execute_result"
    }
   ],
   "source": [
    "fish_weight = df2.to_numpy()\n",
    "fish_weight[0:6] # 1차원 데이터지만 numpy로 바꾸는 과정에서 자동으로 2차원이 됨"
   ]
  },
  {
   "cell_type": "code",
   "execution_count": 134,
   "metadata": {},
   "outputs": [],
   "source": [
    "# Train / Test 분리\n",
    "from sklearn.model_selection import train_test_split\n",
    "X_train, X_test, y_train, y_test = train_test_split(fish_full, fish_weight, random_state=42)"
   ]
  },
  {
   "cell_type": "code",
   "execution_count": 135,
   "metadata": {},
   "outputs": [],
   "source": [
    "# 다중회귀분석을 위한 전처리 단계\n",
    "from sklearn.preprocessing import PolynomialFeatures"
   ]
  },
  {
   "cell_type": "markdown",
   "metadata": {},
   "source": [
    "---\n",
    "### 다항 특성 만들기 연습(Fish 하던것과 무관)"
   ]
  },
  {
   "cell_type": "code",
   "execution_count": 136,
   "metadata": {},
   "outputs": [
    {
     "data": {
      "text/plain": [
       "PolynomialFeatures()"
      ]
     },
     "execution_count": 136,
     "metadata": {},
     "output_type": "execute_result"
    }
   ],
   "source": [
    "poly = PolynomialFeatures()\n",
    "poly.fit([[2, 3]])"
   ]
  },
  {
   "cell_type": "code",
   "execution_count": 137,
   "metadata": {},
   "outputs": [
    {
     "name": "stdout",
     "output_type": "stream",
     "text": [
      "[[1. 2. 3. 4. 6. 9.]]\n"
     ]
    }
   ],
   "source": [
    "print(poly.transform([[2, 3]]))"
   ]
  },
  {
   "cell_type": "markdown",
   "metadata": {},
   "source": [
    "- 1: 절편\n",
    "- 2: 원래 a값\n",
    "- 3: 원래 b값\n",
    "- 4: a를 제곱해 봄\n",
    "- 6: a * b를 해봄\n",
    "- 9: b를 제곱해 봄"
   ]
  },
  {
   "cell_type": "markdown",
   "metadata": {},
   "source": [
    "- 절편이 1이 나오는 이유: Y = aX + b에서 b는 b * 1로 해석해 1이 튀어나온 것 [a, b] * [x, 1]"
   ]
  },
  {
   "cell_type": "code",
   "execution_count": 138,
   "metadata": {},
   "outputs": [
    {
     "name": "stdout",
     "output_type": "stream",
     "text": [
      "[[ 1.  2.  3.  4.  4.  6.  8.  9. 12. 16.]]\n"
     ]
    }
   ],
   "source": [
    "poly.fit([[2, 3, 4]])\n",
    "print(poly.transform([[2, 3, 4]]))"
   ]
  },
  {
   "cell_type": "markdown",
   "metadata": {},
   "source": [
    "#### 절편이 필요없다면 아래처럼"
   ]
  },
  {
   "cell_type": "code",
   "execution_count": 139,
   "metadata": {},
   "outputs": [
    {
     "name": "stdout",
     "output_type": "stream",
     "text": [
      "[[2. 3. 4. 6. 9.]]\n"
     ]
    }
   ],
   "source": [
    "poly = PolynomialFeatures(include_bias=False)\n",
    "poly.fit([[2, 3]])\n",
    "print(poly.transform([[2, 3]]))"
   ]
  },
  {
   "cell_type": "markdown",
   "metadata": {},
   "source": [
    "---\n",
    "### 다항 특성 만들기"
   ]
  },
  {
   "cell_type": "code",
   "execution_count": 140,
   "metadata": {},
   "outputs": [],
   "source": [
    "# x_train으로 다항 특성 만들기\n",
    "poly = PolynomialFeatures(include_bias=False) # degree = 2 (2단계 = 제곱까지)가 default\n",
    "X_train_poly = poly.fit_transform(X_train) # fit과 transform을 동시에 처리\n",
    "\n",
    "# x_test으로 다항 특성 만들기\n",
    "X_test_poly = poly.transform(X_test) # test data는 fit을 다시 해주지 않음 > transform만 처리"
   ]
  },
  {
   "cell_type": "code",
   "execution_count": 141,
   "metadata": {},
   "outputs": [
    {
     "data": {
      "text/plain": [
       "(42, 9)"
      ]
     },
     "execution_count": 141,
     "metadata": {},
     "output_type": "execute_result"
    }
   ],
   "source": [
    "X_train_poly.shape # 컬럼이 9개로 확장됨"
   ]
  },
  {
   "cell_type": "code",
   "execution_count": 142,
   "metadata": {},
   "outputs": [
    {
     "data": {
      "text/plain": [
       "['x0', 'x1', 'x2', 'x0^2', 'x0 x1', 'x0 x2', 'x1^2', 'x1 x2', 'x2^2']"
      ]
     },
     "execution_count": 142,
     "metadata": {},
     "output_type": "execute_result"
    }
   ],
   "source": [
    "poly.get_feature_names() # 생긴 것들이 무엇들인지 확인할 수 있음"
   ]
  },
  {
   "cell_type": "markdown",
   "metadata": {},
   "source": [
    "---\n",
    "### 다중회귀모델 훈련하기"
   ]
  },
  {
   "cell_type": "code",
   "execution_count": 143,
   "metadata": {},
   "outputs": [
    {
     "name": "stdout",
     "output_type": "stream",
     "text": [
      "train score:  0.9903183436982125\n",
      "test score:  0.9714559911594155\n"
     ]
    }
   ],
   "source": [
    "from sklearn.linear_model import LinearRegression # 모델 임포트해서\n",
    "lr = LinearRegression() # 인스턴스 만들고\n",
    "lr.fit(X_train_poly, y_train) # 학습\n",
    "\n",
    "# score 확인\n",
    "print('train score: ',  lr.score(X_train_poly, y_train)) # 테스트 세트 정확도\n",
    "print('test score: ',  lr.score(X_test_poly, y_test)) # 테스트 세트 정확도\n"
   ]
  },
  {
   "cell_type": "markdown",
   "metadata": {},
   "source": [
    "# Degree를 늘려보자"
   ]
  },
  {
   "cell_type": "code",
   "execution_count": 144,
   "metadata": {},
   "outputs": [
    {
     "name": "stdout",
     "output_type": "stream",
     "text": [
      "(42, 55)\n"
     ]
    },
    {
     "data": {
      "text/plain": [
       "['x0',\n",
       " 'x1',\n",
       " 'x2',\n",
       " 'x0^2',\n",
       " 'x0 x1',\n",
       " 'x0 x2',\n",
       " 'x1^2',\n",
       " 'x1 x2',\n",
       " 'x2^2',\n",
       " 'x0^3',\n",
       " 'x0^2 x1',\n",
       " 'x0^2 x2',\n",
       " 'x0 x1^2',\n",
       " 'x0 x1 x2',\n",
       " 'x0 x2^2',\n",
       " 'x1^3',\n",
       " 'x1^2 x2',\n",
       " 'x1 x2^2',\n",
       " 'x2^3',\n",
       " 'x0^4',\n",
       " 'x0^3 x1',\n",
       " 'x0^3 x2',\n",
       " 'x0^2 x1^2',\n",
       " 'x0^2 x1 x2',\n",
       " 'x0^2 x2^2',\n",
       " 'x0 x1^3',\n",
       " 'x0 x1^2 x2',\n",
       " 'x0 x1 x2^2',\n",
       " 'x0 x2^3',\n",
       " 'x1^4',\n",
       " 'x1^3 x2',\n",
       " 'x1^2 x2^2',\n",
       " 'x1 x2^3',\n",
       " 'x2^4',\n",
       " 'x0^5',\n",
       " 'x0^4 x1',\n",
       " 'x0^4 x2',\n",
       " 'x0^3 x1^2',\n",
       " 'x0^3 x1 x2',\n",
       " 'x0^3 x2^2',\n",
       " 'x0^2 x1^3',\n",
       " 'x0^2 x1^2 x2',\n",
       " 'x0^2 x1 x2^2',\n",
       " 'x0^2 x2^3',\n",
       " 'x0 x1^4',\n",
       " 'x0 x1^3 x2',\n",
       " 'x0 x1^2 x2^2',\n",
       " 'x0 x1 x2^3',\n",
       " 'x0 x2^4',\n",
       " 'x1^5',\n",
       " 'x1^4 x2',\n",
       " 'x1^3 x2^2',\n",
       " 'x1^2 x2^3',\n",
       " 'x1 x2^4',\n",
       " 'x2^5']"
      ]
     },
     "execution_count": 144,
     "metadata": {},
     "output_type": "execute_result"
    }
   ],
   "source": [
    "poly = PolynomialFeatures(include_bias=False, degree=5)\n",
    "X_train_poly = poly.fit_transform(X_train)\n",
    "X_test_poly = poly.transform(X_test)\n",
    "\n",
    "print(X_train_poly.shape)\n",
    "# print names\n",
    "poly.get_feature_names() # 5제곱까지 만들어짐"
   ]
  },
  {
   "cell_type": "code",
   "execution_count": 145,
   "metadata": {},
   "outputs": [
    {
     "name": "stdout",
     "output_type": "stream",
     "text": [
      "train score:  0.9999999999938143\n",
      "test score:  -144.40744533753661\n"
     ]
    }
   ],
   "source": [
    "# 모델 확인하기\n",
    "lr.fit(X_train_poly, y_train)\n",
    "print('train score: ',  lr.score(X_train_poly, y_train))\n",
    "print('test score: ',  lr.score(X_test_poly, y_test))\n"
   ]
  },
  {
   "cell_type": "markdown",
   "metadata": {},
   "source": [
    "### 망함\n",
    "- train은 완벽, test는 엉망\n",
    "- 과대적합이 발생\n",
    "- 이런 경우 사용하는 것: 규제"
   ]
  },
  {
   "cell_type": "markdown",
   "metadata": {},
   "source": [
    "---\n",
    "### 규제(Regularization)\n",
    "- 모델이 과적합되지 않고 일반성을 가질 수 있도록 규제(일반화)하는 것\n",
    "- train을 너무 잘 맞추는 것을 방해하는 것\n",
    "\n",
    "#### 규제 전에 표준화\n",
    "- 표준점수(Z점수)를 sklearn을 사용해 구함"
   ]
  },
  {
   "cell_type": "code",
   "execution_count": 146,
   "metadata": {},
   "outputs": [],
   "source": [
    "from sklearn.preprocessing import StandardScaler\n",
    "ss = StandardScaler()\n",
    "train_scaled =  ss.fit_transform(X_train_poly)\n",
    "test_scaled = ss.transform(X_test_poly)"
   ]
  },
  {
   "cell_type": "markdown",
   "metadata": {},
   "source": [
    "### Ridge 규제(L2 규제)\n",
    ": 가중치(Ridge alpha값)의 제곱으로 규제하는 방법"
   ]
  },
  {
   "cell_type": "code",
   "execution_count": 147,
   "metadata": {},
   "outputs": [
    {
     "name": "stdout",
     "output_type": "stream",
     "text": [
      "train score:  0.9896101671037343\n",
      "test score:  0.9790693977615386\n"
     ]
    }
   ],
   "source": [
    "from sklearn.linear_model import Ridge\n",
    "ridge = Ridge()\n",
    "ridge.fit(train_scaled, y_train)\n",
    "print('train score: ',  ridge.score(train_scaled, y_train))\n",
    "print('test score: ',  ridge.score(test_scaled, y_test))"
   ]
  },
  {
   "cell_type": "markdown",
   "metadata": {},
   "source": [
    "### 적절한 규제 강도 (Hyper Parameter) 찾기"
   ]
  },
  {
   "cell_type": "code",
   "execution_count": 148,
   "metadata": {},
   "outputs": [
    {
     "name": "stdout",
     "output_type": "stream",
     "text": [
      "[0.9930455252088589, 0.9917809981250533, 0.9903815817570368, 0.9896101671037343, 0.988728468997471, 0.9841843235774494]\n",
      "[0.9569388961572401, 0.9800187936873217, 0.9827976465386896, 0.9790693977615386, 0.9725329582461569, 0.9627042641050291]\n"
     ]
    }
   ],
   "source": [
    "train_scores = []\n",
    "test_scores = []\n",
    "\n",
    "alpha_list = [0.001, 0.01, 0.1, 1, 10, 100]\n",
    "for alpha in alpha_list:\n",
    "    ridge = Ridge(alpha=alpha)\n",
    "    ridge.fit(train_scaled, y_train)\n",
    "    train_scores.append(ridge.score(train_scaled, y_train))\n",
    "    test_scores.append(ridge.score(test_scaled, y_test))\n",
    "\n",
    "print(train_scores)\n",
    "print(test_scores)"
   ]
  },
  {
   "cell_type": "code",
   "execution_count": 149,
   "metadata": {},
   "outputs": [
    {
     "data": {
      "text/plain": [
       "[<matplotlib.lines.Line2D at 0x7fc38792feb0>]"
      ]
     },
     "execution_count": 149,
     "metadata": {},
     "output_type": "execute_result"
    },
    {
     "data": {
      "image/png": "[encoded data removed]",
      "text/plain": [
       "<Figure size 432x288 with 1 Axes>"
      ]
     },
     "metadata": {
      "needs_background": "light"
     },
     "output_type": "display_data"
    }
   ],
   "source": [
    "import matplotlib.pyplot as plt\n",
    "\n",
    "# best alpha를 찾기 위한 시각화\n",
    "plt.plot(alpha_list, train_scores, label='train')\n",
    "plt.plot(alpha_list, test_scores, label='test')"
   ]
  },
  {
   "cell_type": "markdown",
   "metadata": {},
   "source": [
    "### x축의 데이터 범위가 1 이하에 몰려있고 그 이상에서 너무 커져서 소수인 경우에 확인할 수 없음\n",
    "##### log를 사용하면 됨"
   ]
  },
  {
   "cell_type": "code",
   "execution_count": 150,
   "metadata": {},
   "outputs": [
    {
     "data": {
      "image/png": "[encoded data removed]",
      "text/plain": [
       "<Figure size 432x288 with 1 Axes>"
      ]
     },
     "metadata": {
      "needs_background": "light"
     },
     "output_type": "display_data"
    }
   ],
   "source": [
    "import numpy as np\n",
    "# log를 이용해서 시각화\n",
    "plt.plot(np.log10(alpha_list), train_scores, label='train')\n",
    "plt.plot(np.log10(alpha_list), test_scores, label='test')\n",
    "plt.xlabel('log(alpha)')\n",
    "plt.ylabel('score')\n",
    "plt.legend()\n",
    "plt.show()"
   ]
  },
  {
   "cell_type": "markdown",
   "metadata": {},
   "source": [
    "## 골디락스 지점\n",
    "- log alpha가 -1인 경우(alpha = 0.1)가 train과 test의 간격이 가장 가깝다 > 골디락스 지점이다. (Goldilocks)\n",
    "- 수도꼭지의 물이 뜨겁지도 차갑지도 않은 적절한 지점"
   ]
  },
  {
   "cell_type": "code",
   "execution_count": 151,
   "metadata": {},
   "outputs": [
    {
     "name": "stdout",
     "output_type": "stream",
     "text": [
      "0.1\n"
     ]
    }
   ],
   "source": [
    "# get best alpha\n",
    "best_alpha = alpha_list[np.argmax(test_scores)] # test score가 가장 높은 alpha를 찾음\n",
    "# 단, test score가 train score를 초과하지는 않는지 확인해야 함\n",
    "print(best_alpha)"
   ]
  },
  {
   "cell_type": "code",
   "execution_count": 152,
   "metadata": {},
   "outputs": [
    {
     "name": "stdout",
     "output_type": "stream",
     "text": [
      "train score:  0.9903815817570368\n",
      "test score:  0.9827976465386896\n"
     ]
    }
   ],
   "source": [
    "ridge = Ridge(alpha=best_alpha)\n",
    "ridge.fit(train_scaled, y_train)\n",
    "print('train score: ',  ridge.score(train_scaled, y_train))\n",
    "print('test score: ',  ridge.score(test_scaled, y_test))"
   ]
  },
  {
   "cell_type": "markdown",
   "metadata": {},
   "source": [
    "---\n",
    "# Lasso(L1 규제)\n",
    "#### 가중치의 절대값으로 규제하는 방법"
   ]
  },
  {
   "cell_type": "code",
   "execution_count": 153,
   "metadata": {},
   "outputs": [
    {
     "name": "stdout",
     "output_type": "stream",
     "text": [
      "train score:  0.989789897208096\n",
      "test score:  0.9800593698421886\n"
     ]
    }
   ],
   "source": [
    "from sklearn.linear_model import Lasso\n",
    "\n",
    "lasso = Lasso() # alpha값이 있음\n",
    "lasso.fit(train_scaled, y_train)\n",
    "print('train score: ',  lasso.score(train_scaled, y_train))\n",
    "print('test score: ',  lasso.score(test_scaled, y_test))"
   ]
  },
  {
   "cell_type": "code",
   "execution_count": 154,
   "metadata": {},
   "outputs": [
    {
     "name": "stdout",
     "output_type": "stream",
     "text": [
      "[0.990856843502147, 0.9907921500205304, 0.9901376311284481, 0.989789897208096, 0.9888067471131866, 0.9078632190121444]\n",
      "[0.9836870822242815, 0.9836730006301536, 0.9819405116249365, 0.9800593698421886, 0.9824470598706695, 0.9089071866576978]\n"
     ]
    },
    {
     "name": "stderr",
     "output_type": "stream",
     "text": [
      "/Users/tj/opt/anaconda3/lib/python3.9/site-packages/sklearn/linear_model/_coordinate_descent.py:530: ConvergenceWarning: Objective did not converge. You might want to increase the number of iterations. Duality gap: 23364.07596994002, tolerance: 518.2793833333334\n",
      "  model = cd_fast.enet_coordinate_descent(\n",
      "/Users/tj/opt/anaconda3/lib/python3.9/site-packages/sklearn/linear_model/_coordinate_descent.py:530: ConvergenceWarning: Objective did not converge. You might want to increase the number of iterations. Duality gap: 20251.975097474788, tolerance: 518.2793833333334\n",
      "  model = cd_fast.enet_coordinate_descent(\n",
      "/Users/tj/opt/anaconda3/lib/python3.9/site-packages/sklearn/linear_model/_coordinate_descent.py:530: ConvergenceWarning: Objective did not converge. You might want to increase the number of iterations. Duality gap: 806.2370926334916, tolerance: 518.2793833333334\n",
      "  model = cd_fast.enet_coordinate_descent(\n"
     ]
    }
   ],
   "source": [
    "# find best alpha\n",
    "train_scores = []\n",
    "test_scores = []\n",
    "\n",
    "alpha_list = [0.001, 0.01, 0.1, 1, 10, 100]\n",
    "\n",
    "for alpha in alpha_list:\n",
    "    lasso = Lasso(alpha=alpha)\n",
    "    lasso.fit(train_scaled, y_train)\n",
    "    train_scores.append(lasso.score(train_scaled, y_train))\n",
    "    test_scores.append(lasso.score(test_scaled, y_test))\n",
    "\n",
    "print(train_scores)\n",
    "print(test_scores)"
   ]
  },
  {
   "cell_type": "code",
   "execution_count": 155,
   "metadata": {},
   "outputs": [
    {
     "data": {
      "image/png": "[encoded data removed]",
      "text/plain": [
       "<Figure size 432x288 with 1 Axes>"
      ]
     },
     "metadata": {
      "needs_background": "light"
     },
     "output_type": "display_data"
    }
   ],
   "source": [
    "# best alpha를 찾기 위해 로그를 씌워 시각화\n",
    "plt.plot(np.log10(alpha_list), train_scores, label='train')\n",
    "plt.plot(np.log10(alpha_list), test_scores, label='test')\n",
    "plt.xlabel('log(alpha)')\n",
    "plt.ylabel('score')\n",
    "plt.legend()\n",
    "plt.show()\n"
   ]
  },
  {
   "cell_type": "code",
   "execution_count": 156,
   "metadata": {},
   "outputs": [
    {
     "name": "stdout",
     "output_type": "stream",
     "text": [
      "0.001\n"
     ]
    }
   ],
   "source": [
    "# get best alpha\n",
    "best_alpha = alpha_list[np.argmax(test_scores)]\n",
    "print(best_alpha)"
   ]
  },
  {
   "cell_type": "code",
   "execution_count": 161,
   "metadata": {},
   "outputs": [
    {
     "name": "stdout",
     "output_type": "stream",
     "text": [
      "train score:  0.990856843502147\n",
      "test score:  0.9836870822242815\n"
     ]
    },
    {
     "name": "stderr",
     "output_type": "stream",
     "text": [
      "/Users/tj/opt/anaconda3/lib/python3.9/site-packages/sklearn/linear_model/_coordinate_descent.py:530: ConvergenceWarning: Objective did not converge. You might want to increase the number of iterations. Duality gap: 23364.07596994002, tolerance: 518.2793833333334\n",
      "  model = cd_fast.enet_coordinate_descent(\n"
     ]
    }
   ],
   "source": [
    "# get score\n",
    "lasso = Lasso(alpha=best_alpha)\n",
    "lasso.fit(train_scaled, y_train)\n",
    "print('train score: ',  lasso.score(train_scaled, y_train))\n",
    "print('test score: ',  lasso.score(test_scaled, y_test))\n"
   ]
  },
  {
   "cell_type": "code",
   "execution_count": 158,
   "metadata": {},
   "outputs": [
    {
     "data": {
      "text/plain": [
       "array([ 0.        ,  0.        ,  0.        , 95.61184844, 11.60230215,\n",
       "        0.        , 10.5804005 ,  0.        , 31.51508869,  0.        ,\n",
       "       22.30028081,  0.        , 29.10414951,  0.        ,  0.        ,\n",
       "       18.50441438,  0.        ,  0.        , 41.93702532,  0.        ,\n",
       "        0.        ,  0.        ,  0.        ,  0.        ,  0.        ,\n",
       "        5.74835225,  0.        ,  0.        ,  0.        , 20.53363452,\n",
       "        0.        ,  0.        ,  0.        ,  8.8783085 ,  0.        ,\n",
       "        0.        ,  0.        ,  0.        ,  0.        ,  0.        ,\n",
       "        0.        ,  0.        ,  0.        ,  0.        , 35.3124872 ,\n",
       "        0.        ,  0.        ,  0.        ,  0.        , 21.35881131,\n",
       "        0.        ,  0.        ,  0.        ,  0.        ,  0.        ])"
      ]
     },
     "execution_count": 158,
     "metadata": {},
     "output_type": "execute_result"
    }
   ],
   "source": [
    "lasso.coef_"
   ]
  },
  {
   "cell_type": "code",
   "execution_count": 159,
   "metadata": {},
   "outputs": [
    {
     "data": {
      "text/plain": [
       "array([[ 27.61933479,  -1.64022156, -19.73256036,  30.03061951,\n",
       "         16.99800255,  17.83247301,   4.46928273,   3.87258547,\n",
       "         22.8351822 ,  19.50417483,  17.75985317,  14.53122144,\n",
       "         13.34875736,   7.57294011,  19.2573194 ,   5.12766348,\n",
       "         -2.05671393,  10.62376405,  41.72322888,   5.90722851,\n",
       "         14.93389276,  -0.4506018 ,  19.86035413,   1.27084276,\n",
       "         -1.00708878,  19.69043816,  -1.15817017,  -3.57357468,\n",
       "         11.96629206,  13.68484378,  -8.41738209,  -9.97919956,\n",
       "          8.42421045,  45.51544903,  -6.23828569,  13.36080282,\n",
       "        -17.64759601,  28.23566212,  -6.56619234, -25.89115813,\n",
       "         37.3785331 ,  -0.39779345, -20.82275921, -23.80607786,\n",
       "         39.96650626,   0.10569722, -20.49768851, -21.74712923,\n",
       "         -4.12579289,  35.39224119,  -5.59195   , -25.3889504 ,\n",
       "        -23.93962265,  -1.89229971,  39.44235556]])"
      ]
     },
     "execution_count": 159,
     "metadata": {},
     "output_type": "execute_result"
    }
   ],
   "source": [
    "ridge.coef_"
   ]
  },
  {
   "cell_type": "code",
   "execution_count": 160,
   "metadata": {},
   "outputs": [
    {
     "name": "stdout",
     "output_type": "stream",
     "text": [
      "42\n",
      "0\n"
     ]
    }
   ],
   "source": [
    "print(np.sum(lasso.coef_ == 0))\n",
    "print(np.sum(ridge.coef_ == 0))"
   ]
  },
  {
   "cell_type": "markdown",
   "metadata": {},
   "source": [
    "### 같은 정도의 규제를 가했을 때 ridge가 더 잘 나옴\n",
    "- 규제는 적을 수록 좋기 때문에 ridge를 씀\n",
    "- lasso는 컬럼들을 많이 죽여버림"
   ]
  }
 ],
 "metadata": {
  "kernelspec": {
   "display_name": "Python 3.9.7 ('base')",
   "language": "python",
   "name": "python3"
  },
  "language_info": {
   "codemirror_mode": {
    "name": "ipython",
    "version": 3
   },
   "file_extension": ".py",
   "mimetype": "text/x-python",
   "name": "python",
   "nbconvert_exporter": "python",
   "pygments_lexer": "ipython3",
   "version": "3.9.7"
  },
  "orig_nbformat": 4,
  "vscode": {
   "interpreter": {
    "hash": "c34e8390e776d2ee205b71ed5a6130fee3cef8da5e87e926ce18e14f4a070d72"
   }
  }
 },
 "nbformat": 4,
 "nbformat_minor": 2
}
