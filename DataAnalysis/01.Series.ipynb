{
 "cells": [
  {
   "cell_type": "markdown",
   "metadata": {},
   "source": [
    "# Series\n",
    "- 데이터가 순차적으로 나열된 1차원 배열의 형태"
   ]
  },
  {
   "cell_type": "code",
   "execution_count": 2,
   "metadata": {},
   "outputs": [],
   "source": [
    "import pandas as pd"
   ]
  },
  {
   "cell_type": "code",
   "execution_count": 4,
   "metadata": {},
   "outputs": [
    {
     "data": {
      "text/plain": [
       "a    1\n",
       "b    2\n",
       "c    3\n",
       "dtype: int64"
      ]
     },
     "execution_count": 4,
     "metadata": {},
     "output_type": "execute_result"
    }
   ],
   "source": [
    "# Dictionary -> Series\n",
    "dict = {'a': 1, 'b': 2, 'c': 3}\n",
    "s = pd.Series(dict)\n",
    "s"
   ]
  },
  {
   "cell_type": "code",
   "execution_count": 5,
   "metadata": {},
   "outputs": [
    {
     "data": {
      "text/plain": [
       "0    2021-12-31\n",
       "1          3.14\n",
       "2           abc\n",
       "3           100\n",
       "4          True\n",
       "dtype: object"
      ]
     },
     "execution_count": 5,
     "metadata": {},
     "output_type": "execute_result"
    }
   ],
   "source": [
    "# List -> Series\n",
    "list = ['2021-12-31', 3.14, 'abc', 100, True]\n",
    "s = pd.Series(list)\n",
    "s"
   ]
  },
  {
   "cell_type": "code",
   "execution_count": 9,
   "metadata": {},
   "outputs": [
    {
     "name": "stdout",
     "output_type": "stream",
     "text": [
      "Index(['a', 'b', 'c', 'd', 'e'], dtype='object')\n"
     ]
    }
   ],
   "source": [
    "# index와 value를 따로 저장\n",
    "index = s.index\n",
    "value = s.values\n",
    "print(index)"
   ]
  },
  {
   "cell_type": "code",
   "execution_count": 10,
   "metadata": {},
   "outputs": [
    {
     "data": {
      "text/plain": [
       "0            유비\n",
       "1    2002-12-31\n",
       "2            서울\n",
       "3           대학교\n",
       "4           전문자\n",
       "dtype: object"
      ]
     },
     "execution_count": 10,
     "metadata": {},
     "output_type": "execute_result"
    }
   ],
   "source": [
    "# Tuple -> Series\n",
    "tuple = ('유비', '2002-12-31', '서울', '대학교', '전문자')\n",
    "s = pd.Series(tuple)\n",
    "s"
   ]
  },
  {
   "cell_type": "code",
   "execution_count": 11,
   "metadata": {},
   "outputs": [
    {
     "data": {
      "text/plain": [
       "이름              유비\n",
       "생년월일    2002-12-31\n",
       "주소              서울\n",
       "학교             대학교\n",
       "직업             전문자\n",
       "dtype: object"
      ]
     },
     "execution_count": 11,
     "metadata": {},
     "output_type": "execute_result"
    }
   ],
   "source": [
    "# index 이름 변경하기\n",
    "s.index = ['이름', '생년월일', '주소', '학교', '직업']\n",
    "s"
   ]
  },
  {
   "cell_type": "code",
   "execution_count": 13,
   "metadata": {},
   "outputs": [
    {
     "name": "stdout",
     "output_type": "stream",
     "text": [
      "유비\n",
      "유비\n"
     ]
    }
   ],
   "source": [
    "# Series에서 Data 출력하기\n",
    "print(s['이름'])\n",
    "print(s[0])"
   ]
  },
  {
   "cell_type": "code",
   "execution_count": 17,
   "metadata": {},
   "outputs": [
    {
     "name": "stdout",
     "output_type": "stream",
     "text": [
      "이름    유비\n",
      "주소    서울\n",
      "dtype: object\n",
      "이름              유비\n",
      "생년월일    2002-12-31\n",
      "dtype: object\n",
      "이름     유비\n",
      "학교    대학교\n",
      "dtype: object\n"
     ]
    }
   ],
   "source": [
    "# 두 개의 인덱스 선택하기\n",
    "print(s[['이름', '주소']])\n",
    "print(s[0:2])\n",
    "print(s[[0, 3]])"
   ]
  },
  {
   "cell_type": "code",
   "execution_count": 19,
   "metadata": {},
   "outputs": [
    {
     "name": "stdout",
     "output_type": "stream",
     "text": [
      "생년월일    2002-12-31\n",
      "주소              서울\n",
      "dtype: object\n",
      "이름              유비\n",
      "생년월일    2002-12-31\n",
      "주소              서울\n",
      "학교             대학교\n",
      "dtype: object\n"
     ]
    }
   ],
   "source": [
    "# 범위로 index 선택(slicing)\n",
    "print(s[1:3])\n",
    "print(s['이름':'학교'])"
   ]
  },
  {
   "cell_type": "code",
   "execution_count": 22,
   "metadata": {},
   "outputs": [
    {
     "name": "stdout",
     "output_type": "stream",
     "text": [
      "국어    90\n",
      "영어    80\n",
      "수학    70\n",
      "dtype: int64\n"
     ]
    }
   ],
   "source": [
    "# Series의 연산\n",
    "scores = pd.Series({'국어': 90, '영어': 80, '수학': 70})\n",
    "scores2 = pd.Series({'국어': 70, '영어': 80, '수학': 95})\n",
    "print(scores)"
   ]
  },
  {
   "cell_type": "code",
   "execution_count": 25,
   "metadata": {},
   "outputs": [
    {
     "name": "stdout",
     "output_type": "stream",
     "text": [
      "국어    160\n",
      "영어    160\n",
      "수학    165\n",
      "dtype: int64\n"
     ]
    }
   ],
   "source": [
    "addition = scores + scores2\n",
    "print(addition)"
   ]
  },
  {
   "cell_type": "code",
   "execution_count": 28,
   "metadata": {},
   "outputs": [
    {
     "name": "stdout",
     "output_type": "stream",
     "text": [
      "              국어      영어           수학\n",
      "덧셈    160.000000   160.0   165.000000\n",
      "뺄셈     20.000000     0.0   -25.000000\n",
      "곱셈   6300.000000  6400.0  6650.000000\n",
      "나눗셈     1.285714     1.0     0.736842\n"
     ]
    }
   ],
   "source": [
    "# make dataframe with results of addition, subtraction, multiplication, division\n",
    "addition = scores + scores2\n",
    "subtraction = scores - scores2\n",
    "multiplication = scores * scores2\n",
    "division = scores / scores2\n",
    "\n",
    "# make dataframe\n",
    "df = pd.DataFrame({'덧셈': addition, '뺄셈': subtraction, '곱셈': multiplication, '나눗셈': division})\n",
    "print(df.T)"
   ]
  },
  {
   "cell_type": "markdown",
   "metadata": {},
   "source": [
    "# NaN값이 있는 연산"
   ]
  },
  {
   "cell_type": "code",
   "execution_count": 30,
   "metadata": {},
   "outputs": [],
   "source": [
    "import numpy as np\n",
    "student1 = pd.Series({'국어': np.nan, '영어': 80, '수학': 70})\n",
    "student2 = pd.Series({'국어': 90,'수학': 70})"
   ]
  },
  {
   "cell_type": "code",
   "execution_count": 34,
   "metadata": {},
   "outputs": [],
   "source": [
    "# 덧셈\n",
    "addition = student1 + student2\n",
    "# 곱셈\n",
    "multiplication = student1 * student2\n",
    "# 뺄셈\n",
    "subtraction = student1 - student2\n",
    "# 나눗셈\n",
    "division = student1 / student2"
   ]
  },
  {
   "cell_type": "code",
   "execution_count": 36,
   "metadata": {},
   "outputs": [
    {
     "name": "stdout",
     "output_type": "stream",
     "text": [
      "     국어      수학  영어\n",
      "덧셈  NaN   140.0 NaN\n",
      "곱셈  NaN  4900.0 NaN\n",
      "뺄셈  NaN     0.0 NaN\n",
      "나눗셈 NaN     1.0 NaN\n"
     ]
    }
   ],
   "source": [
    "result = pd.DataFrame([addition, multiplication, subtraction, division], index=['덧셈', '곱셈', '뺄셈', '나눗셈'])\n",
    "print(result)"
   ]
  },
  {
   "cell_type": "code",
   "execution_count": 40,
   "metadata": {},
   "outputs": [],
   "source": [
    "addition = student1.add(student2, fill_value=0)\n",
    "subtraction = student1.sub(student2, fill_value=0)\n",
    "multiplication = student1.mul(student2, fill_value=0)\n",
    "division = student1.div( student2, fill_value=0)\n"
   ]
  },
  {
   "cell_type": "code",
   "execution_count": 38,
   "metadata": {},
   "outputs": [
    {
     "name": "stdout",
     "output_type": "stream",
     "text": [
      "       국어      수학    영어\n",
      "덧셈   90.0   140.0  80.0\n",
      "곱셈    0.0  4900.0   0.0\n",
      "뺄셈  -90.0     0.0  80.0\n",
      "나눗셈   0.0     1.0   inf\n"
     ]
    }
   ],
   "source": [
    "result = pd.DataFrame([addition, multiplication, subtraction, division], index=['덧셈', '곱셈', '뺄셈', '나눗셈'])\n",
    "print(result)"
   ]
  }
 ],
 "metadata": {
  "kernelspec": {
   "display_name": "Python 3.9.7 ('base')",
   "language": "python",
   "name": "python3"
  },
  "language_info": {
   "codemirror_mode": {
    "name": "ipython",
    "version": 3
   },
   "file_extension": ".py",
   "mimetype": "text/x-python",
   "name": "python",
   "nbconvert_exporter": "python",
   "pygments_lexer": "ipython3",
   "version": "3.9.7"
  },
  "orig_nbformat": 4,
  "vscode": {
   "interpreter": {
    "hash": "c34e8390e776d2ee205b71ed5a6130fee3cef8da5e87e926ce18e14f4a070d72"
   }
  }
 },
 "nbformat": 4,
 "nbformat_minor": 2
}
