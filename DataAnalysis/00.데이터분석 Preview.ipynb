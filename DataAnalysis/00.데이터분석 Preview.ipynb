{
 "cells": [
  {
   "cell_type": "markdown",
   "metadata": {},
   "source": [
    "# 파이썬에서 데이터분석을 하기 위한 필수 Library\n",
    "### (1) Pandas\n",
    "- 2008년 금융데이터 분석용으로 출발\n",
    "- 통계와 데이터사이언스, 머신러닝에서 사용\n",
    "- 엑셀 불러올 때나 사용. 느려서 내부 분석에는 좋지 않음\n",
    "### (2) Numpy\n",
    "- 파이썬 기반 수치해석 Library\n",
    "- 빠르기 때문에 판다스보다 많이 쓰임\n",
    "- 선형대수 연산에 필요한 다차원 배열과 배열 연산을 수행하는 다양한 함수 제공\n",
    "### (3) Matplotlib\n",
    "- 그래픽, 차트 등으로 표현하는 시각화 도구\n",
    "### (4) SciPy\n",
    "- 과학용 연산에 필요한 다양한 패키지를 모아 놓은 Library\n",
    "- 넘파이에서 못 하는 미적분을 포함해 선형대수, 행렬연산, 방정식 등 사용\n",
    "### (5) scikit-learn\n",
    "- 머신러닝 학습을 위한 파이썬 라이브러리\n",
    "- 회귀분석, 분류, 군집, 차원축소\n",
    "\n",
    "\n",
    "멀티프로세싱\n",
    "멀티스레드"
   ]
  },
  {
   "cell_type": "markdown",
   "metadata": {},
   "source": [
    "### DataFrame\n",
    "- Pandas에서 사용하는 기본 데이터\n",
    "- 데이터프레임을 정의 할때는 2차원 리스트를 매개변수로 전달\n",
    "\n",
    "\n",
    "---"
   ]
  },
  {
   "cell_type": "markdown",
   "metadata": {},
   "source": [
    "- 캐글에서 어떤 방법으로 풀이하는지, 어떤 모듈 쓰는지"
   ]
  },
  {
   "cell_type": "markdown",
   "metadata": {},
   "source": [
    "## 실습"
   ]
  },
  {
   "cell_type": "code",
   "execution_count": 1,
   "metadata": {},
   "outputs": [
    {
     "name": "stdout",
     "output_type": "stream",
     "text": [
      "[[[10, 20, 30], [40, 50, 60], [70, 80, 90]]]\n"
     ]
    },
    {
     "data": {
      "text/html": [
       "<div>\n",
       "<style scoped>\n",
       "    .dataframe tbody tr th:only-of-type {\n",
       "        vertical-align: middle;\n",
       "    }\n",
       "\n",
       "    .dataframe tbody tr th {\n",
       "        vertical-align: top;\n",
       "    }\n",
       "\n",
       "    .dataframe thead th {\n",
       "        text-align: right;\n",
       "    }\n",
       "</style>\n",
       "<table border=\"1\" class=\"dataframe\">\n",
       "  <thead>\n",
       "    <tr style=\"text-align: right;\">\n",
       "      <th></th>\n",
       "      <th>A</th>\n",
       "      <th>B</th>\n",
       "      <th>C</th>\n",
       "    </tr>\n",
       "  </thead>\n",
       "  <tbody>\n",
       "    <tr>\n",
       "      <th>0</th>\n",
       "      <td>10</td>\n",
       "      <td>20</td>\n",
       "      <td>30</td>\n",
       "    </tr>\n",
       "    <tr>\n",
       "      <th>1</th>\n",
       "      <td>40</td>\n",
       "      <td>50</td>\n",
       "      <td>60</td>\n",
       "    </tr>\n",
       "    <tr>\n",
       "      <th>2</th>\n",
       "      <td>70</td>\n",
       "      <td>80</td>\n",
       "      <td>90</td>\n",
       "    </tr>\n",
       "  </tbody>\n",
       "</table>\n",
       "</div>"
      ],
      "text/plain": [
       "    A   B   C\n",
       "0  10  20  30\n",
       "1  40  50  60\n",
       "2  70  80  90"
      ]
     },
     "execution_count": 1,
     "metadata": {},
     "output_type": "execute_result"
    }
   ],
   "source": [
    "# Pandas import하기\n",
    "import pandas as pd\n",
    "\n",
    "# List로 DataFrame 만들기\n",
    "a = [10, 20, 30]\n",
    "b = [40, 50, 60]\n",
    "c = [70, 80, 90]\n",
    "print([[a, b, c]])\n",
    "\n",
    "df = pd.DataFrame([a, b, c])\n",
    "df.columns = ['A', 'B', 'C']\n",
    "df"
   ]
  },
  {
   "cell_type": "code",
   "execution_count": 2,
   "metadata": {},
   "outputs": [
    {
     "name": "stdout",
     "output_type": "stream",
     "text": [
      "A Column의 모든 데이터\n",
      " 0    10\n",
      "1    40\n",
      "2    70\n",
      "Name: A, dtype: int64\n",
      "A Column의 모든 데이터\n",
      " 0    10\n",
      "1    40\n",
      "2    70\n",
      "Name: A, dtype: int64\n",
      "0번째 Row의 모든 데이터\n",
      " A    10\n",
      "B    20\n",
      "C    30\n",
      "Name: 0, dtype: int64\n",
      "0번째 Row, A번째 Col의 데이터\n",
      " 10\n",
      "0번째 Row, A~C Col의 데이터\n",
      " A    10\n",
      "B    20\n",
      "C    30\n",
      "Name: 0, dtype: int64\n",
      "0:2 Row, A~C Col의 데이터\n",
      "     A   B   C\n",
      "0  10  20  30\n",
      "1  40  50  60\n",
      "2  70  80  90\n",
      "0:2 Row, A, B Col의 데이터\n",
      "     A   B\n",
      "0  10  20\n",
      "1  40  50\n",
      "2  70  80\n",
      "0    10\n",
      "1    40\n",
      "2    70\n",
      "Name: A, dtype: int64\n",
      "10\n"
     ]
    }
   ],
   "source": [
    "# DataFrame에서 데이터를 추출하기\n",
    "\n",
    "print('A Column의 모든 데이터\\n', df['A'])\n",
    "print('A Column의 모든 데이터\\n', df.A)\n",
    "print('0번째 Row의 모든 데이터\\n', df.loc[0])\n",
    "print('0번째 Row, A번째 Col의 데이터\\n', df.loc[0, 'A'])\n",
    "print('0번째 Row, A~C Col의 데이터\\n',df.loc[0, 'A':'C'])\n",
    "print('0:2 Row, A~C Col의 데이터\\n',df.loc[0:2, 'A':'C'])\n",
    "print('0:2 Row, A, B Col의 데이터\\n',df.loc[0:2, ['A', 'B']])\n",
    "\n",
    "# 아래처럼 체이닝해서 값을 찾아 들어갈 수 있음\n",
    "print(df.loc[0:2, ['A', 'B']].loc[:, 'A'])\n",
    "print(df.loc[0:2, ['A', 'B']].loc[:, 'A'].loc[0])"
   ]
  },
  {
   "cell_type": "markdown",
   "metadata": {},
   "source": [
    "### Series\n",
    "- Pandas에서 사용하는 기본 데이터\n",
    "- 데이터프레임을 정의할 때는 1차원 리스트를 매개변수로 전달\n",
    "- index는 자동 생성"
   ]
  },
  {
   "cell_type": "code",
   "execution_count": 3,
   "metadata": {},
   "outputs": [
    {
     "name": "stdout",
     "output_type": "stream",
     "text": [
      "0    1\n",
      "1    3\n",
      "2    5\n",
      "3    7\n",
      "4    9\n",
      "dtype: int64\n",
      "0    1\n",
      "1    3\n",
      "2    5\n",
      "dtype: int64\n"
     ]
    }
   ],
   "source": [
    "# Series 생성하기\n",
    "s = pd.Series([1, 3, 5, 7, 9])\n",
    "print(s)\n",
    "print(s[0:3]) # 0부터 3개"
   ]
  },
  {
   "cell_type": "code",
   "execution_count": 4,
   "metadata": {},
   "outputs": [
    {
     "name": "stdout",
     "output_type": "stream",
     "text": [
      "   A   B\n",
      "0  1  10\n",
      "1  3  20\n",
      "2  5  30\n",
      "3  7  40\n",
      "4  9  50\n",
      "   weight  height type\n",
      "0    80.0   162.2    f\n",
      "1    70.4   170.5    n\n",
      "2    55.8   155.2    f\n",
      "3    65.5   143.5    f\n",
      "4    51.2   154.5    f\n",
      "   weight  height type\n",
      "0    80.0   162.2    f\n",
      "1    70.4   170.5    n\n",
      "2    55.8   155.2    f\n",
      "3    65.5   143.5    f\n",
      "4    51.2   154.5    f\n"
     ]
    }
   ],
   "source": [
    "# Dictionary로 DataFrame 생성하기\n",
    "# key가 column이름, value가 column 데이터(row)\n",
    "d = {'A': [1, 3, 5, 7, 9], 'B': [10, 20, 30, 40, 50]} # 길이가 다르면 합칠 수 없음\n",
    "df = pd.DataFrame(d)\n",
    "print(df)\n",
    "\n",
    "a = {'weight': [80.0, 70.4, 55.8, 65.5, 51.2]}\n",
    "b = {'height': [162.2, 170.5, 155.2, 143.5, 154.5]}\n",
    "c = {'type': ['f', 'n', 'f', 'f', 'f']}\n",
    "\n",
    "# merge a, b, c\n",
    "df = pd.DataFrame(a)\n",
    "df = pd.merge(df, pd.DataFrame(b), left_index=True, right_index=True)\n",
    "df = pd.merge(df, pd.DataFrame(c), left_index=True, right_index=True)\n",
    "print(df)\n",
    "\n",
    "# make dict with a, b, c\n",
    "d = {'weight': [80.0, 70.4, 55.8, 65.5, 51.2],\n",
    "        'height': [162.2, 170.5, 155.2, 143.5, 154.5],\n",
    "        'type': ['f', 'n', 'f', 'f', 'f']}\n",
    "\n",
    "# make DataFrame\n",
    "df = pd.DataFrame(d)\n",
    "print(df)\n"
   ]
  },
  {
   "cell_type": "code",
   "execution_count": 5,
   "metadata": {},
   "outputs": [
    {
     "name": "stdout",
     "output_type": "stream",
     "text": [
      "0    80.0\n",
      "1    70.4\n",
      "2    55.8\n",
      "3    65.5\n",
      "4    51.2\n",
      "Name: weight, dtype: float64\n",
      "0    80.0\n",
      "1    70.4\n",
      "2    55.8\n",
      "3    65.5\n",
      "4    51.2\n",
      "Name: weight, dtype: float64\n",
      "0    80.0\n",
      "1    70.4\n",
      "2    55.8\n",
      "3    65.5\n",
      "4    51.2\n",
      "Name: weight, dtype: float64\n"
     ]
    }
   ],
   "source": [
    "# print weight column\n",
    "print(df.weight)\n",
    "print(df['weight'])\n",
    "print(df.loc[:, 'weight'])"
   ]
  },
  {
   "cell_type": "code",
   "execution_count": 6,
   "metadata": {},
   "outputs": [
    {
     "name": "stdout",
     "output_type": "stream",
     "text": [
      "   weight  height\n",
      "0    80.0   162.2\n",
      "1    70.4   170.5\n",
      "2    55.8   155.2\n",
      "3    65.5   143.5\n",
      "4    51.2   154.5\n",
      "   weight  height\n",
      "0    80.0   162.2\n",
      "1    70.4   170.5\n",
      "2    55.8   155.2\n",
      "3    65.5   143.5\n",
      "4    51.2   154.5\n"
     ]
    }
   ],
   "source": [
    "# 몸무게와 키 컬럼 출력하기\n",
    "print(df[['weight', 'height']])\n",
    "print(df.loc[:, ['weight', 'height']])"
   ]
  },
  {
   "cell_type": "code",
   "execution_count": 7,
   "metadata": {},
   "outputs": [
    {
     "name": "stdout",
     "output_type": "stream",
     "text": [
      "   weight  height type\n",
      "2    55.8   155.2    f\n",
      "3    65.5   143.5    f\n"
     ]
    }
   ],
   "source": [
    "# 2~3번째 Row 출력하기\n",
    "print(df.loc[2:3, :])"
   ]
  },
  {
   "cell_type": "code",
   "execution_count": 8,
   "metadata": {},
   "outputs": [
    {
     "name": "stdout",
     "output_type": "stream",
     "text": [
      "   weight  height type\n",
      "3    65.5   143.5    f\n",
      "4    51.2   154.5    f\n"
     ]
    }
   ],
   "source": [
    "# 3번째 이후의 행 출력하기\n",
    "print(df.loc[3:, :])"
   ]
  },
  {
   "cell_type": "code",
   "execution_count": 9,
   "metadata": {},
   "outputs": [
    {
     "name": "stdout",
     "output_type": "stream",
     "text": [
      "   weight  height type\n",
      "0    80.0   162.2    f\n",
      "1    70.4   170.5    n\n",
      "3    65.5   143.5    f\n"
     ]
    }
   ],
   "source": [
    "# 몸무게 60 이상인 행 출력하기\n",
    "print(df[df.weight >= 60])"
   ]
  },
  {
   "cell_type": "code",
   "execution_count": 10,
   "metadata": {},
   "outputs": [
    {
     "name": "stdout",
     "output_type": "stream",
     "text": [
      "0    162.2\n",
      "1    170.5\n",
      "3    143.5\n",
      "Name: height, dtype: float64\n"
     ]
    }
   ],
   "source": [
    "# 몸무게 60 이상인 행의 키 출력하기\n",
    "print(df[df.weight >= 60].height)"
   ]
  },
  {
   "cell_type": "markdown",
   "metadata": {},
   "source": [
    "### 행과 열 기준이 아닌 Data를 비교하여 원하는 값 추출"
   ]
  },
  {
   "cell_type": "code",
   "execution_count": 11,
   "metadata": {},
   "outputs": [
    {
     "name": "stdout",
     "output_type": "stream",
     "text": [
      "4\n"
     ]
    }
   ],
   "source": [
    "# 가장 몸무게가 작은 행의 index 출력하기\n",
    "print(df.weight.idxmin())"
   ]
  },
  {
   "cell_type": "code",
   "execution_count": 12,
   "metadata": {},
   "outputs": [
    {
     "name": "stdout",
     "output_type": "stream",
     "text": [
      "   weight  height type\n",
      "2    55.8   155.2    f\n",
      "4    51.2   154.5    f\n"
     ]
    }
   ],
   "source": [
    "# 몸무게가 평균보다 작은 행 출력하기\n",
    "print(df[df.weight < df.weight.mean()])"
   ]
  },
  {
   "cell_type": "code",
   "execution_count": 13,
   "metadata": {},
   "outputs": [
    {
     "name": "stdout",
     "output_type": "stream",
     "text": [
      "0    80.0\n",
      "1    70.4\n",
      "Name: weight, dtype: float64\n"
     ]
    }
   ],
   "source": [
    "# 키가 평균보다 큰 행의 몸무게 출력하기\n",
    "print(df[df.height > df.height.mean()].weight)"
   ]
  },
  {
   "cell_type": "code",
   "execution_count": 14,
   "metadata": {},
   "outputs": [
    {
     "name": "stdout",
     "output_type": "stream",
     "text": [
      "1\n"
     ]
    }
   ],
   "source": [
    "# 가장 키가 큰 행의 index 출력하기\n",
    "print(df.height.idxmax())"
   ]
  },
  {
   "cell_type": "code",
   "execution_count": 15,
   "metadata": {},
   "outputs": [
    {
     "name": "stdout",
     "output_type": "stream",
     "text": [
      "   weight  height type\n",
      "1    70.4   170.5    n\n"
     ]
    }
   ],
   "source": [
    "# type이 n이고 몸무게가 평균보다 큰 행 출력하기\n",
    "print(df[(df.type == 'n') & (df.weight > df.weight.mean())])"
   ]
  },
  {
   "cell_type": "code",
   "execution_count": 16,
   "metadata": {},
   "outputs": [
    {
     "name": "stdout",
     "output_type": "stream",
     "text": [
      "   weight  height type\n",
      "0    80.0   162.2    f\n",
      "1    70.4   170.5    n\n",
      "3    65.5   143.5    f\n",
      "2    55.8   155.2    f\n",
      "4    51.2   154.5    f\n"
     ]
    }
   ],
   "source": [
    "# 몸무게 큰 순으로 출력\n",
    "print(df.sort_values(by='weight', ascending=False))"
   ]
  },
  {
   "cell_type": "code",
   "execution_count": 17,
   "metadata": {},
   "outputs": [
    {
     "name": "stdout",
     "output_type": "stream",
     "text": [
      "            0      1      2      3      4\n",
      "weight   80.0   70.4   55.8   65.5   51.2\n",
      "height  162.2  170.5  155.2  143.5  154.5\n",
      "type        f      n      f      f      f\n"
     ]
    }
   ],
   "source": [
    "# 행과 열 회전하기\n",
    "print(df.T)"
   ]
  },
  {
   "cell_type": "markdown",
   "metadata": {},
   "source": [
    "---\n",
    "## Numpy를 이용한 데이터 조작"
   ]
  },
  {
   "cell_type": "code",
   "execution_count": 18,
   "metadata": {},
   "outputs": [],
   "source": [
    "import numpy as np"
   ]
  },
  {
   "cell_type": "code",
   "execution_count": 19,
   "metadata": {},
   "outputs": [
    {
     "data": {
      "text/plain": [
       "array([0., 0., 0., 0., 0., 0., 0., 0., 0., 0.], dtype=float32)"
      ]
     },
     "execution_count": 19,
     "metadata": {},
     "output_type": "execute_result"
    }
   ],
   "source": [
    "# 10개의 0으로 된 float32 자료형 데이터 생성\n",
    "np01 = np.zeros((10,), dtype=np.float32)\n",
    "np01\n",
    "# numpy array와 python list는 다름\n",
    "# numpy array는 데이터를 저장하는 공간을 할당하는데,\n",
    "# python list는 데이터를 저장하는 공간을 할당하지 않는다."
   ]
  },
  {
   "cell_type": "code",
   "execution_count": 20,
   "metadata": {},
   "outputs": [
    {
     "data": {
      "text/plain": [
       "array([0, 1, 2, 3, 4, 5, 6, 7, 8, 9], dtype=uint64)"
      ]
     },
     "execution_count": 20,
     "metadata": {},
     "output_type": "execute_result"
    }
   ],
   "source": [
    "# 10개의 연속된 숫자를 unit64(unsigned 64bit integer)로 생성\n",
    "np02 = np.arange(10, dtype=np.uint64)\n",
    "np02"
   ]
  },
  {
   "cell_type": "code",
   "execution_count": 21,
   "metadata": {},
   "outputs": [
    {
     "data": {
      "text/plain": [
       "array([ 0,  3,  6,  9, 12, 15, 18, 21, 24, 27], dtype=uint64)"
      ]
     },
     "execution_count": 21,
     "metadata": {},
     "output_type": "execute_result"
    }
   ],
   "source": [
    "# np02의 값에 3을 곱하기\n",
    "np02 *= 3\n",
    "np02"
   ]
  },
  {
   "cell_type": "code",
   "execution_count": 22,
   "metadata": {},
   "outputs": [
    {
     "name": "stdout",
     "output_type": "stream",
     "text": [
      "13.5\n",
      "13.5\n"
     ]
    }
   ],
   "source": [
    "# np02의 평균을 Python으로 구하기\n",
    "print(np02.mean())\n",
    "\n",
    "# np02의 평균을 numpy로 구하기\n",
    "print(np.mean(np02))"
   ]
  },
  {
   "cell_type": "code",
   "execution_count": 23,
   "metadata": {},
   "outputs": [
    {
     "name": "stdout",
     "output_type": "stream",
     "text": [
      "135\n",
      "135\n"
     ]
    }
   ],
   "source": [
    "# np02의 합계를 Python으로 구하기\n",
    "print(np02.sum())\n",
    "\n",
    "# np02의 합계를 numpy로 구하기\n",
    "print(np.sum(np02))"
   ]
  },
  {
   "cell_type": "code",
   "execution_count": 24,
   "metadata": {},
   "outputs": [
    {
     "name": "stdout",
     "output_type": "stream",
     "text": [
      "13.5\n"
     ]
    }
   ],
   "source": [
    "# np02의 중앙값 구하기\n",
    "print(np.median(np02))"
   ]
  },
  {
   "cell_type": "code",
   "execution_count": 25,
   "metadata": {},
   "outputs": [
    {
     "name": "stdout",
     "output_type": "stream",
     "text": [
      "74.25\n",
      "74.25\n"
     ]
    }
   ],
   "source": [
    "# np02의 분산을 Python으로 구하기\n",
    "print(np02.var())\n",
    "\n",
    "# np02의 분산을 numpy로 구하기\n",
    "print(np.var(np02))"
   ]
  },
  {
   "cell_type": "code",
   "execution_count": 26,
   "metadata": {},
   "outputs": [
    {
     "data": {
      "text/plain": [
       "array([[80.0, 162.2, 'f'],\n",
       "       [70.4, 170.5, 'n'],\n",
       "       [55.8, 155.2, 'f'],\n",
       "       [65.5, 143.5, 'f'],\n",
       "       [51.2, 154.5, 'f']], dtype=object)"
      ]
     },
     "execution_count": 26,
     "metadata": {},
     "output_type": "execute_result"
    }
   ],
   "source": [
    "# DataFrame을 numpy 행렬(matrix)로 변환하기\n",
    "df.values"
   ]
  },
  {
   "cell_type": "markdown",
   "metadata": {},
   "source": [
    "---\n",
    "# Pandas와 Matplotlib을 이용하여 시각화 하기"
   ]
  },
  {
   "cell_type": "code",
   "execution_count": 27,
   "metadata": {},
   "outputs": [],
   "source": [
    "import matplotlib.pyplot as plt"
   ]
  },
  {
   "cell_type": "code",
   "execution_count": 28,
   "metadata": {},
   "outputs": [
    {
     "name": "stdout",
     "output_type": "stream",
     "text": [
      "        name gender  births  year  id\n",
      "0       Mary      F    7065  1880   1\n",
      "1       Anna      F    2604  1880   2\n",
      "2       Emma      F    2003  1880   3\n",
      "3  Elizabeth      F    1939  1880   4\n",
      "4     Minnie      F    1746  1880   5\n",
      "            name gender  births  year     id\n",
      "1825383   Zykeem      M       5  2014  13973\n",
      "1825384   Zymeer      M       5  2014  13974\n",
      "1825385  Zymiere      M       5  2014  13975\n",
      "1825386    Zyran      M       5  2014  13976\n",
      "1825387    Zyrin      M       5  2014  13977\n",
      "<class 'pandas.core.frame.DataFrame'>\n",
      "RangeIndex: 1825388 entries, 0 to 1825387\n",
      "Data columns (total 5 columns):\n",
      " #   Column  Dtype \n",
      "---  ------  ----- \n",
      " 0   name    object\n",
      " 1   gender  object\n",
      " 2   births  int64 \n",
      " 3   year    int64 \n",
      " 4   id      int64 \n",
      "dtypes: int64(3), object(2)\n",
      "memory usage: 69.6+ MB\n",
      "None\n",
      "             births          year            id\n",
      "count  1.825388e+06  1.825388e+06  1.825388e+06\n",
      "mean   1.846923e+02  1.972621e+03  5.300970e+03\n",
      "std    1.566730e+03  3.352842e+01  4.442698e+03\n",
      "min    5.000000e+00  1.880000e+03  1.000000e+00\n",
      "25%    7.000000e+00  1.949000e+03  1.790000e+03\n",
      "50%    1.200000e+01  1.982000e+03  4.009000e+03\n",
      "75%    3.200000e+01  2.001000e+03  7.820000e+03\n",
      "max    9.968000e+04  2.014000e+03  2.054800e+04\n",
      "(1825388, 5)\n"
     ]
    }
   ],
   "source": [
    "names = pd.read_csv('data/Baby_Names_1880-2014.csv')\n",
    "\n",
    "print(names.head())\n",
    "print(names.tail())\n",
    "print(names.info())\n",
    "print(names.describe())\n",
    "print(names.shape)"
   ]
  },
  {
   "cell_type": "code",
   "execution_count": 29,
   "metadata": {},
   "outputs": [
    {
     "name": "stdout",
     "output_type": "stream",
     "text": [
      "1825388\n"
     ]
    }
   ],
   "source": [
    "# name column의 데이터 갯수\n",
    "print(names.name.count())"
   ]
  },
  {
   "cell_type": "code",
   "execution_count": 30,
   "metadata": {},
   "outputs": [
    {
     "name": "stdout",
     "output_type": "stream",
     "text": [
      "gender        F        M\n",
      "year                    \n",
      "1880      90993   110491\n",
      "1881      91954   100745\n",
      "1882     107850   113683\n",
      "1883     112321   104629\n",
      "1884     129022   114445\n",
      "...         ...      ...\n",
      "2010    1772738  1913851\n",
      "2011    1753500  1893230\n",
      "2012    1753922  1889414\n",
      "2013    1745339  1881463\n",
      "2014    1768775  1901376\n",
      "\n",
      "[135 rows x 2 columns]\n"
     ]
    }
   ],
   "source": [
    "# pivot을 이용하여 births를 년도별 합계로 그룹화 하여 집계하기\n",
    "total_births = names.pivot_table(index='year', values='births', columns='gender', aggfunc='sum')\n",
    "print(total_births)"
   ]
  },
  {
   "cell_type": "code",
   "execution_count": 31,
   "metadata": {},
   "outputs": [
    {
     "data": {
      "image/png": "[encoded data removed]",
      "text/plain": [
       "<Figure size 432x288 with 1 Axes>"
      ]
     },
     "metadata": {
      "needs_background": "light"
     },
     "output_type": "display_data"
    }
   ],
   "source": [
    "# plot 그리기\n",
    "total_births.plot(title=\"Total births by gender and year\")\n",
    "\n",
    "# 가로 세로 비율 적용\n",
    "plt.rcParams['figure.figsize'] = (14, 6)\n",
    "plt.show()"
   ]
  },
  {
   "cell_type": "code",
   "execution_count": 37,
   "metadata": {},
   "outputs": [],
   "source": [
    "# name, gender, births, year 만으로 새로운 csv 저장하기\n",
    "names2 = pd.DataFrame(names, columns = ['name', 'gender', 'year', 'births'])\n",
    "names2.head()\n",
    "names2.to_csv('data/birth_names.csv', index=False)"
   ]
  }
 ],
 "metadata": {
  "kernelspec": {
   "display_name": "Python 3.9.7 ('base')",
   "language": "python",
   "name": "python3"
  },
  "language_info": {
   "codemirror_mode": {
    "name": "ipython",
    "version": 3
   },
   "file_extension": ".py",
   "mimetype": "text/x-python",
   "name": "python",
   "nbconvert_exporter": "python",
   "pygments_lexer": "ipython3",
   "version": "3.9.7"
  },
  "orig_nbformat": 4,
  "vscode": {
   "interpreter": {
    "hash": "c34e8390e776d2ee205b71ed5a6130fee3cef8da5e87e926ce18e14f4a070d72"
   }
  }
 },
 "nbformat": 4,
 "nbformat_minor": 2
}
