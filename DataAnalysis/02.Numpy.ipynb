{
 "cells": [
  {
   "cell_type": "code",
   "execution_count": 96,
   "metadata": {},
   "outputs": [],
   "source": [
    "import numpy as np"
   ]
  },
  {
   "cell_type": "code",
   "execution_count": 97,
   "metadata": {},
   "outputs": [
    {
     "data": {
      "text/plain": [
       "[6, 7.5, 8, 0, 1]"
      ]
     },
     "execution_count": 97,
     "metadata": {},
     "output_type": "execute_result"
    }
   ],
   "source": [
    "data1 = [6, 7.5, 8, 0, 1]\n",
    "data1\n"
   ]
  },
  {
   "cell_type": "code",
   "execution_count": 98,
   "metadata": {},
   "outputs": [
    {
     "data": {
      "text/plain": [
       "array([6. , 7.5, 8. , 0. , 1. ])"
      ]
     },
     "execution_count": 98,
     "metadata": {},
     "output_type": "execute_result"
    }
   ],
   "source": [
    "# numpy를 이용하여 1차원 배열로 변환\n",
    "arr1 = np.array(data1)\n",
    "# numpy array 안의 값들은 같은 타입이어야 한다.\n",
    "arr1"
   ]
  },
  {
   "cell_type": "code",
   "execution_count": 99,
   "metadata": {},
   "outputs": [
    {
     "data": {
      "text/plain": [
       "(5,)"
      ]
     },
     "execution_count": 99,
     "metadata": {},
     "output_type": "execute_result"
    }
   ],
   "source": [
    "# 배열 크기 확인\n",
    "arr1.shape"
   ]
  },
  {
   "cell_type": "code",
   "execution_count": 100,
   "metadata": {},
   "outputs": [
    {
     "data": {
      "text/plain": [
       "[[1, 2, 3, 4], [5, 6, 7, 8]]"
      ]
     },
     "execution_count": 100,
     "metadata": {},
     "output_type": "execute_result"
    }
   ],
   "source": [
    "# 2차원 List 생성\n",
    "data2 = [[1, 2, 3, 4], [5, 6, 7, 8]]\n",
    "data2"
   ]
  },
  {
   "cell_type": "code",
   "execution_count": 101,
   "metadata": {},
   "outputs": [
    {
     "name": "stdout",
     "output_type": "stream",
     "text": [
      "[[1 2 3 4]\n",
      " [5 6 7 8]]\n",
      "(행, 열) (2, 4)\n"
     ]
    }
   ],
   "source": [
    "# 2차원 List를 numpy array로 변환\n",
    "arr2 = np.array(data2)\n",
    "print(arr2)\n",
    "print('(행, 열)', arr2.shape)"
   ]
  },
  {
   "cell_type": "code",
   "execution_count": 102,
   "metadata": {},
   "outputs": [
    {
     "data": {
      "text/plain": [
       "array([0., 0., 0., 0., 0., 0., 0., 0., 0., 0.])"
      ]
     },
     "execution_count": 102,
     "metadata": {},
     "output_type": "execute_result"
    }
   ],
   "source": [
    "# 0으로 채워진 1차원 배열 생성\n",
    "arr3 = np.zeros(10)\n",
    "arr3"
   ]
  },
  {
   "cell_type": "code",
   "execution_count": 103,
   "metadata": {},
   "outputs": [
    {
     "data": {
      "text/plain": [
       "array([[[0., 0.],\n",
       "        [0., 0.],\n",
       "        [0., 0.],\n",
       "        [0., 0.],\n",
       "        [0., 0.]],\n",
       "\n",
       "       [[0., 0.],\n",
       "        [0., 0.],\n",
       "        [0., 0.],\n",
       "        [0., 0.],\n",
       "        [0., 0.]],\n",
       "\n",
       "       [[0., 0.],\n",
       "        [0., 0.],\n",
       "        [0., 0.],\n",
       "        [0., 0.],\n",
       "        [0., 0.]]])"
      ]
     },
     "execution_count": 103,
     "metadata": {},
     "output_type": "execute_result"
    }
   ],
   "source": [
    "np.zeros((3, 5, 2))\n",
    "# (page, row, column)"
   ]
  },
  {
   "cell_type": "code",
   "execution_count": 104,
   "metadata": {},
   "outputs": [
    {
     "data": {
      "text/plain": [
       "array([10, 10, 10, 10, 10, 10, 10, 10, 10, 10])"
      ]
     },
     "execution_count": 104,
     "metadata": {},
     "output_type": "execute_result"
    }
   ],
   "source": [
    "# 1로 채워진 1차원 배열 생성: 0과 1만 있음\n",
    "arr4 = np.ones(10)\n",
    "arr4\n",
    "\n",
    "# 10으로 채워진 1차열 배열 생성\n",
    "arr5 = np.full(10, 10)\n",
    "arr5"
   ]
  },
  {
   "cell_type": "code",
   "execution_count": 105,
   "metadata": {},
   "outputs": [
    {
     "data": {
      "text/plain": [
       "array([[8, 8, 8, 8, 8],\n",
       "       [8, 8, 8, 8, 8],\n",
       "       [8, 8, 8, 8, 8]])"
      ]
     },
     "execution_count": 105,
     "metadata": {},
     "output_type": "execute_result"
    }
   ],
   "source": [
    "# 숫자 8로 구성된 3행 5열 배열 생성\n",
    "arr6 = np.full((3, 5), 8)\n",
    "arr6"
   ]
  },
  {
   "cell_type": "code",
   "execution_count": 106,
   "metadata": {},
   "outputs": [
    {
     "data": {
      "text/plain": [
       "array([0, 1, 2, 3, 4, 5, 6, 7, 8, 9])"
      ]
     },
     "execution_count": 106,
     "metadata": {},
     "output_type": "execute_result"
    }
   ],
   "source": [
    "# 범위가 있는 배열 생성\n",
    "arr7 = np.arange(10)\n",
    "arr7"
   ]
  },
  {
   "cell_type": "markdown",
   "metadata": {},
   "source": [
    "## 2차원 배열"
   ]
  },
  {
   "cell_type": "code",
   "execution_count": 107,
   "metadata": {},
   "outputs": [
    {
     "data": {
      "text/plain": [
       "array([[ 1,  2,  3,  4],\n",
       "       [ 5,  6,  7,  8],\n",
       "       [ 9, 10, 11, 12],\n",
       "       [13, 14, 15, 16]])"
      ]
     },
     "execution_count": 107,
     "metadata": {},
     "output_type": "execute_result"
    }
   ],
   "source": [
    "arr2d = np.arange(1, 17).reshape(4, 4) # 1~16을 4x4로 배열\n",
    "arr2d"
   ]
  },
  {
   "cell_type": "code",
   "execution_count": 108,
   "metadata": {},
   "outputs": [
    {
     "data": {
      "text/plain": [
       "dtype('int64')"
      ]
     },
     "execution_count": 108,
     "metadata": {},
     "output_type": "execute_result"
    }
   ],
   "source": [
    "arr2d.dtype"
   ]
  },
  {
   "cell_type": "code",
   "execution_count": 109,
   "metadata": {},
   "outputs": [
    {
     "name": "stdout",
     "output_type": "stream",
     "text": [
      "[ 9 10 11 12]\n",
      "[ 9 10 11 12]\n",
      "[ 9 10 11 12]\n"
     ]
    }
   ],
   "source": [
    "# 2번 행의 자료 출력\n",
    "print(arr2d[2])\n",
    "print(arr2d[2,])\n",
    "print(arr2d[2,:])\n"
   ]
  },
  {
   "cell_type": "code",
   "execution_count": 110,
   "metadata": {},
   "outputs": [
    {
     "name": "stdout",
     "output_type": "stream",
     "text": [
      "[[5 6 7 8]]\n",
      "[ 4  8 12 16]\n",
      "[[ 1  2]\n",
      " [ 5  6]\n",
      " [ 9 10]\n",
      " [13 14]]\n",
      "7\n"
     ]
    }
   ],
   "source": [
    "# 1에서 2번행의 자료 출력\n",
    "print(arr2d[1:2])\n",
    "\n",
    "# 3번 열의 자료 출력\n",
    "print(arr2d[:,3])\n",
    "\n",
    "# 0, 1열의 자료 출력\n",
    "print(arr2d[:,0:2])\n",
    "\n",
    "# 1행 2열의 자료 출력\n",
    "print(arr2d[1,2])"
   ]
  },
  {
   "cell_type": "code",
   "execution_count": 111,
   "metadata": {},
   "outputs": [
    {
     "data": {
      "text/plain": [
       "array([[ 1,  0,  0,  4],\n",
       "       [ 5,  0,  0,  8],\n",
       "       [ 9, 10, 11, 12],\n",
       "       [13, 14, 15, 16]])"
      ]
     },
     "execution_count": 111,
     "metadata": {},
     "output_type": "execute_result"
    }
   ],
   "source": [
    "arr2d[0:2,1:3] = 0\n",
    "arr2d"
   ]
  },
  {
   "cell_type": "markdown",
   "metadata": {},
   "source": [
    "# 난수 발생\n",
    "- rand: 0부터 1사이의 균일 분포\n",
    "- randn: 가우시안 표준 정규 분포\n",
    "- randint: 균일 분포의 정수 난수"
   ]
  },
  {
   "cell_type": "markdown",
   "metadata": {},
   "source": [
    "### Boolean indexing"
   ]
  },
  {
   "cell_type": "code",
   "execution_count": 112,
   "metadata": {},
   "outputs": [
    {
     "name": "stdout",
     "output_type": "stream",
     "text": [
      "['Charles' 'Anne' 'David' 'John' 'Charles' 'Hayoung' 'Hayoung']\n",
      "(7,)\n",
      "[[ 0.50928763  0.16730381  1.31678815  0.57753302]\n",
      " [-1.35402496  0.31212244  0.39793282  0.13470556]\n",
      " [ 0.99903502 -1.69698368 -0.68872502  1.91608103]\n",
      " [ 0.11294283 -0.89506862  0.24937676 -1.02148042]\n",
      " [ 0.22643814  1.21082128  0.2839084  -0.71682472]\n",
      " [ 1.45675948 -0.08260165 -0.57001676  0.16635047]\n",
      " [ 0.09993994 -0.97531866 -0.48136967 -0.4833296 ]]\n"
     ]
    }
   ],
   "source": [
    "names = np.array(['Charles', 'Anne', 'David', 'John', 'Charles', 'Hayoung', 'Hayoung'])\n",
    "data = np.random.randn(7, 4)\n",
    "print(names)\n",
    "print(names.shape)\n",
    "print(data)"
   ]
  },
  {
   "cell_type": "code",
   "execution_count": 113,
   "metadata": {},
   "outputs": [
    {
     "name": "stdout",
     "output_type": "stream",
     "text": [
      "[ True False False False  True False False]\n",
      "[[ 0.50928763  0.16730381  1.31678815  0.57753302]\n",
      " [ 0.22643814  1.21082128  0.2839084  -0.71682472]]\n"
     ]
    }
   ],
   "source": [
    "# Mask를 이용한 추출\n",
    "mask = (names == 'Charles')\n",
    "print(mask)\n",
    "\n",
    "# data에서 mask에 해당하는 값 추출\n",
    "print(data[mask])"
   ]
  },
  {
   "cell_type": "code",
   "execution_count": 114,
   "metadata": {},
   "outputs": [
    {
     "data": {
      "text/plain": [
       "array([[ 0.50928763,  0.16730381,  1.31678815,  0.57753302],\n",
       "       [-1.35402496,  0.31212244,  0.39793282,  0.13470556],\n",
       "       [ 0.22643814,  1.21082128,  0.2839084 , -0.71682472]])"
      ]
     },
     "execution_count": 114,
     "metadata": {},
     "output_type": "execute_result"
    }
   ],
   "source": [
    "data[(names == 'Charles') | (names == 'Anne'), :]"
   ]
  },
  {
   "cell_type": "code",
   "execution_count": 115,
   "metadata": {},
   "outputs": [
    {
     "name": "stdout",
     "output_type": "stream",
     "text": [
      "[[ 0.50928763  0.16730381  1.31678815  0.57753302]\n",
      " [-1.35402496  0.31212244  0.39793282  0.13470556]\n",
      " [ 0.99903502 -1.69698368 -0.68872502  1.91608103]\n",
      " [ 0.11294283 -0.89506862  0.24937676 -1.02148042]\n",
      " [ 0.22643814  1.21082128  0.2839084  -0.71682472]\n",
      " [ 1.45675948 -0.08260165 -0.57001676  0.16635047]\n",
      " [ 0.09993994 -0.97531866 -0.48136967 -0.4833296 ]]\n",
      "-----\n",
      "[[ 0.11294283 -0.89506862  0.24937676 -1.02148042]\n",
      " [ 0.22643814  1.21082128  0.2839084  -0.71682472]\n",
      " [ 0.09993994 -0.97531866 -0.48136967 -0.4833296 ]]\n"
     ]
    }
   ],
   "source": [
    "# data의 4번째 열 중 0보다 작은 것의 mask 만들기\n",
    "print(data)\n",
    "print('-----')\n",
    "print(data[ data[:,3] < 0, :])"
   ]
  },
  {
   "cell_type": "code",
   "execution_count": 123,
   "metadata": {},
   "outputs": [
    {
     "data": {
      "text/plain": [
       "array([[ 0.        ,  0.        ,  0.        , -0.54688531],\n",
       "       [-0.20106897,  0.99147484, -0.59336195,  0.75378441],\n",
       "       [ 0.        ,  0.        ,  0.        , -0.66992459],\n",
       "       [-1.80416695,  1.62326785, -0.52659172,  2.02797375],\n",
       "       [ 1.32052977, -0.82018741,  1.69111676,  0.4382067 ],\n",
       "       [ 0.        ,  0.        ,  0.        , -1.04600561],\n",
       "       [ 0.        ,  0.        ,  0.        , -0.07914233]])"
      ]
     },
     "execution_count": 123,
     "metadata": {},
     "output_type": "execute_result"
    }
   ],
   "source": [
    "names = np.array(['Charles', 'Anne', 'David', 'John', 'Charles', 'Hayoung', 'Hayoung'])\n",
    "data = np.random.randn(7, 4)\n",
    "\n",
    "# data의 4번째 열의 값이 0보다 작은 행의 0~3열을 0으로 바꿈\n",
    "data[data[:,3] < 0, 0:3] = 0\n",
    "data"
   ]
  },
  {
   "cell_type": "code",
   "execution_count": 126,
   "metadata": {},
   "outputs": [
    {
     "name": "stdout",
     "output_type": "stream",
     "text": [
      "[0.02074518 0.2369851  0.30432373 0.56781996 0.75324554 0.77847778\n",
      " 0.8156508  0.8274084 ]\n",
      "[0.8274084  0.8156508  0.77847778 0.75324554 0.56781996 0.30432373\n",
      " 0.2369851  0.02074518]\n"
     ]
    }
   ],
   "source": [
    "arr = np.random.rand(8)\n",
    "# 오름차순 정렬\n",
    "print(np.sort(arr))\n",
    "# 내림차순 정렬\n",
    "print(np.sort(arr)[::-1])"
   ]
  },
  {
   "cell_type": "code",
   "execution_count": 129,
   "metadata": {},
   "outputs": [
    {
     "name": "stdout",
     "output_type": "stream",
     "text": [
      "[[0.193055   0.5179033  0.87872045]\n",
      " [0.90137718 0.27858353 0.60381664]\n",
      " [0.79009747 0.80847888 0.39213614]\n",
      " [0.74121951 0.5040301  0.57792243]\n",
      " [0.31518241 0.58292375 0.80322964]]\n",
      "[[0.193055   0.27858353 0.39213614]\n",
      " [0.31518241 0.5040301  0.57792243]\n",
      " [0.74121951 0.5179033  0.60381664]\n",
      " [0.79009747 0.58292375 0.80322964]\n",
      " [0.90137718 0.80847888 0.87872045]]\n",
      "[[0.193055   0.5179033  0.87872045]\n",
      " [0.27858353 0.60381664 0.90137718]\n",
      " [0.39213614 0.79009747 0.80847888]\n",
      " [0.5040301  0.57792243 0.74121951]\n",
      " [0.31518241 0.58292375 0.80322964]]\n"
     ]
    }
   ],
   "source": [
    "# 2차원 데이터\n",
    "arr = np.random.rand(5, 3)\n",
    "print(arr)\n",
    "\n",
    "print(np.sort(arr, axis=0)) # 같은 Column 내에서 정렬\n",
    "print(np.sort(arr, axis=1)) # 같은 Row 내에서 정렬"
   ]
  },
  {
   "cell_type": "code",
   "execution_count": 133,
   "metadata": {},
   "outputs": [
    {
     "name": "stdout",
     "output_type": "stream",
     "text": [
      "[[0.193055   0.5179033  0.87872045]\n",
      " [0.27858353 0.60381664 0.90137718]\n",
      " [0.39213614 0.79009747 0.80847888]\n",
      " [0.5040301  0.57792243 0.74121951]\n",
      " [0.31518241 0.58292375 0.80322964]]\n",
      "[[0.31518241 0.58292375 0.80322964]\n",
      " [0.5040301  0.57792243 0.74121951]\n",
      " [0.39213614 0.79009747 0.80847888]\n",
      " [0.27858353 0.60381664 0.90137718]\n",
      " [0.193055   0.5179033  0.87872045]]\n"
     ]
    }
   ],
   "source": [
    "print(np.sort(arr, axis=1))\n",
    "print(np.sort(arr, axis=1)[::-1])"
   ]
  },
  {
   "cell_type": "markdown",
   "metadata": {},
   "source": [
    "# Reshape"
   ]
  },
  {
   "cell_type": "code",
   "execution_count": 135,
   "metadata": {},
   "outputs": [
    {
     "data": {
      "text/plain": [
       "array([[ 1,  2,  3,  4,  5],\n",
       "       [ 6,  7,  8,  9, 10]])"
      ]
     },
     "execution_count": 135,
     "metadata": {},
     "output_type": "execute_result"
    }
   ],
   "source": [
    "arr = np.arange(1, 11)\n",
    "arr.reshape(2,5)"
   ]
  },
  {
   "cell_type": "code",
   "execution_count": 136,
   "metadata": {},
   "outputs": [
    {
     "data": {
      "text/plain": [
       "array([[[ 1,  2,  3],\n",
       "        [ 4,  5,  6],\n",
       "        [ 7,  8,  9]],\n",
       "\n",
       "       [[10, 11, 12],\n",
       "        [13, 14, 15],\n",
       "        [16, 17, 18]],\n",
       "\n",
       "       [[19, 20, 21],\n",
       "        [22, 23, 24],\n",
       "        [25, 26, 27]]])"
      ]
     },
     "execution_count": 136,
     "metadata": {},
     "output_type": "execute_result"
    }
   ],
   "source": [
    "arr = np.arange(1,28).reshape(3,3,3)\n",
    "arr"
   ]
  },
  {
   "cell_type": "code",
   "execution_count": 150,
   "metadata": {},
   "outputs": [
    {
     "name": "stdout",
     "output_type": "stream",
     "text": [
      "[[ 1]\n",
      " [ 2]\n",
      " [ 3]\n",
      " [ 4]\n",
      " [ 5]\n",
      " [ 6]\n",
      " [ 7]\n",
      " [ 8]\n",
      " [ 9]\n",
      " [10]\n",
      " [11]\n",
      " [12]\n",
      " [13]\n",
      " [14]\n",
      " [15]\n",
      " [16]\n",
      " [17]\n",
      " [18]\n",
      " [19]\n",
      " [20]\n",
      " [21]\n",
      " [22]\n",
      " [23]\n",
      " [24]\n",
      " [25]\n",
      " [26]\n",
      " [27]]\n"
     ]
    }
   ],
   "source": [
    "# 1차원으로 변경\n",
    "print(arr.reshape(-1,1)) # 2차원처럼 생겼지만 딥러닝에서 이렇게 써야 함"
   ]
  },
  {
   "cell_type": "code",
   "execution_count": 152,
   "metadata": {},
   "outputs": [
    {
     "data": {
      "text/plain": [
       "array([[ True, False, False, False, False, False, False, False],\n",
       "       [False,  True, False, False, False, False, False, False],\n",
       "       [False, False,  True, False, False, False, False, False],\n",
       "       [False, False, False,  True, False, False, False, False],\n",
       "       [False, False, False, False,  True, False, False, False],\n",
       "       [False, False, False, False, False,  True, False, False],\n",
       "       [False, False, False, False, False, False,  True, False],\n",
       "       [False, False, False, False, False, False, False,  True]])"
      ]
     },
     "execution_count": 152,
     "metadata": {},
     "output_type": "execute_result"
    }
   ],
   "source": [
    "arr = np.arange(1,9).reshape(2,2,2)\n",
    "\n",
    "arr.reshape(-1,1) == arr.reshape(-1)"
   ]
  }
 ],
 "metadata": {
  "kernelspec": {
   "display_name": "Python 3.9.7 ('base')",
   "language": "python",
   "name": "python3"
  },
  "language_info": {
   "codemirror_mode": {
    "name": "ipython",
    "version": 3
   },
   "file_extension": ".py",
   "mimetype": "text/x-python",
   "name": "python",
   "nbconvert_exporter": "python",
   "pygments_lexer": "ipython3",
   "version": "3.9.7"
  },
  "orig_nbformat": 4,
  "vscode": {
   "interpreter": {
    "hash": "c34e8390e776d2ee205b71ed5a6130fee3cef8da5e87e926ce18e14f4a070d72"
   }
  }
 },
 "nbformat": 4,
 "nbformat_minor": 2
}
