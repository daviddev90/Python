{
 "cells": [
  {
   "cell_type": "markdown",
   "metadata": {},
   "source": [
    "# 서울시 CCTV 현황 분석 및 인구 현황 분석"
   ]
  },
  {
   "cell_type": "markdown",
   "metadata": {},
   "source": [
    "### CCTV 설치현황"
   ]
  },
  {
   "cell_type": "code",
   "execution_count": 1,
   "metadata": {},
   "outputs": [],
   "source": [
    "import pandas as pd"
   ]
  },
  {
   "cell_type": "code",
   "execution_count": 2,
   "metadata": {},
   "outputs": [
    {
     "data": {
      "text/html": [
       "<div>\n",
       "<style scoped>\n",
       "    .dataframe tbody tr th:only-of-type {\n",
       "        vertical-align: middle;\n",
       "    }\n",
       "\n",
       "    .dataframe tbody tr th {\n",
       "        vertical-align: top;\n",
       "    }\n",
       "\n",
       "    .dataframe thead th {\n",
       "        text-align: right;\n",
       "    }\n",
       "</style>\n",
       "<table border=\"1\" class=\"dataframe\">\n",
       "  <thead>\n",
       "    <tr style=\"text-align: right;\">\n",
       "      <th></th>\n",
       "      <th>기관명</th>\n",
       "      <th>소계</th>\n",
       "      <th>2011년 이전</th>\n",
       "      <th>2012년</th>\n",
       "      <th>2013년</th>\n",
       "      <th>2014년</th>\n",
       "      <th>2015년</th>\n",
       "      <th>2016년</th>\n",
       "      <th>2017년</th>\n",
       "      <th>2018년</th>\n",
       "    </tr>\n",
       "  </thead>\n",
       "  <tbody>\n",
       "    <tr>\n",
       "      <th>0</th>\n",
       "      <td>강남구</td>\n",
       "      <td>5221</td>\n",
       "      <td>1944.0</td>\n",
       "      <td>195.0</td>\n",
       "      <td>316.0</td>\n",
       "      <td>430</td>\n",
       "      <td>546</td>\n",
       "      <td>765</td>\n",
       "      <td>577</td>\n",
       "      <td>448</td>\n",
       "    </tr>\n",
       "    <tr>\n",
       "      <th>1</th>\n",
       "      <td>강동구</td>\n",
       "      <td>1879</td>\n",
       "      <td>303.0</td>\n",
       "      <td>387.0</td>\n",
       "      <td>134.0</td>\n",
       "      <td>59</td>\n",
       "      <td>144</td>\n",
       "      <td>194</td>\n",
       "      <td>273</td>\n",
       "      <td>385</td>\n",
       "    </tr>\n",
       "    <tr>\n",
       "      <th>2</th>\n",
       "      <td>강북구</td>\n",
       "      <td>1265</td>\n",
       "      <td>243.0</td>\n",
       "      <td>88.0</td>\n",
       "      <td>141.0</td>\n",
       "      <td>74</td>\n",
       "      <td>145</td>\n",
       "      <td>254</td>\n",
       "      <td>1</td>\n",
       "      <td>319</td>\n",
       "    </tr>\n",
       "    <tr>\n",
       "      <th>3</th>\n",
       "      <td>강서구</td>\n",
       "      <td>1617</td>\n",
       "      <td>219.0</td>\n",
       "      <td>155.0</td>\n",
       "      <td>118.0</td>\n",
       "      <td>230</td>\n",
       "      <td>187</td>\n",
       "      <td>190</td>\n",
       "      <td>264</td>\n",
       "      <td>254</td>\n",
       "    </tr>\n",
       "    <tr>\n",
       "      <th>4</th>\n",
       "      <td>관악구</td>\n",
       "      <td>3985</td>\n",
       "      <td>430.0</td>\n",
       "      <td>56.0</td>\n",
       "      <td>419.0</td>\n",
       "      <td>487</td>\n",
       "      <td>609</td>\n",
       "      <td>619</td>\n",
       "      <td>694</td>\n",
       "      <td>671</td>\n",
       "    </tr>\n",
       "  </tbody>\n",
       "</table>\n",
       "</div>"
      ],
      "text/plain": [
       "   기관명    소계  2011년 이전  2012년  2013년  2014년  2015년  2016년  2017년  2018년\n",
       "0  강남구  5221    1944.0  195.0  316.0    430    546    765    577    448\n",
       "1  강동구  1879     303.0  387.0  134.0     59    144    194    273    385\n",
       "2  강북구  1265     243.0   88.0  141.0     74    145    254      1    319\n",
       "3  강서구  1617     219.0  155.0  118.0    230    187    190    264    254\n",
       "4  관악구  3985     430.0   56.0  419.0    487    609    619    694    671"
      ]
     },
     "execution_count": 2,
     "metadata": {},
     "output_type": "execute_result"
    }
   ],
   "source": [
    "CCTV_seoul = pd.read_excel(\"data/CCTV_in_Seoul_2018.xlsx\")\n",
    "CCTV_seoul.head()"
   ]
  },
  {
   "cell_type": "code",
   "execution_count": 3,
   "metadata": {},
   "outputs": [
    {
     "data": {
      "text/plain": [
       "Index(['기관명', '소계', '2011년 이전', '2012년', '2013년', '2014년', '2015년', '2016년',\n",
       "       '2017년', '2018년'],\n",
       "      dtype='object')"
      ]
     },
     "execution_count": 3,
     "metadata": {},
     "output_type": "execute_result"
    }
   ],
   "source": [
    "# 컬럼 확인 \n",
    "CCTV_seoul.columns"
   ]
  },
  {
   "cell_type": "code",
   "execution_count": 4,
   "metadata": {},
   "outputs": [
    {
     "data": {
      "text/plain": [
       "'기관명'"
      ]
     },
     "execution_count": 4,
     "metadata": {},
     "output_type": "execute_result"
    }
   ],
   "source": [
    "CCTV_seoul.columns[0]"
   ]
  },
  {
   "cell_type": "code",
   "execution_count": 5,
   "metadata": {},
   "outputs": [],
   "source": [
    "# 기관명 -> 구별로 변경 \n",
    "CCTV_seoul.rename(columns={\"기관명\":\"구별\"},inplace=True)"
   ]
  },
  {
   "cell_type": "code",
   "execution_count": 6,
   "metadata": {},
   "outputs": [
    {
     "data": {
      "text/html": [
       "<div>\n",
       "<style scoped>\n",
       "    .dataframe tbody tr th:only-of-type {\n",
       "        vertical-align: middle;\n",
       "    }\n",
       "\n",
       "    .dataframe tbody tr th {\n",
       "        vertical-align: top;\n",
       "    }\n",
       "\n",
       "    .dataframe thead th {\n",
       "        text-align: right;\n",
       "    }\n",
       "</style>\n",
       "<table border=\"1\" class=\"dataframe\">\n",
       "  <thead>\n",
       "    <tr style=\"text-align: right;\">\n",
       "      <th></th>\n",
       "      <th>구별</th>\n",
       "      <th>소계</th>\n",
       "      <th>2011년 이전</th>\n",
       "      <th>2012년</th>\n",
       "      <th>2013년</th>\n",
       "      <th>2014년</th>\n",
       "      <th>2015년</th>\n",
       "      <th>2016년</th>\n",
       "      <th>2017년</th>\n",
       "      <th>2018년</th>\n",
       "    </tr>\n",
       "  </thead>\n",
       "  <tbody>\n",
       "    <tr>\n",
       "      <th>0</th>\n",
       "      <td>강남구</td>\n",
       "      <td>5221</td>\n",
       "      <td>1944.0</td>\n",
       "      <td>195.0</td>\n",
       "      <td>316.0</td>\n",
       "      <td>430</td>\n",
       "      <td>546</td>\n",
       "      <td>765</td>\n",
       "      <td>577</td>\n",
       "      <td>448</td>\n",
       "    </tr>\n",
       "    <tr>\n",
       "      <th>1</th>\n",
       "      <td>강동구</td>\n",
       "      <td>1879</td>\n",
       "      <td>303.0</td>\n",
       "      <td>387.0</td>\n",
       "      <td>134.0</td>\n",
       "      <td>59</td>\n",
       "      <td>144</td>\n",
       "      <td>194</td>\n",
       "      <td>273</td>\n",
       "      <td>385</td>\n",
       "    </tr>\n",
       "    <tr>\n",
       "      <th>2</th>\n",
       "      <td>강북구</td>\n",
       "      <td>1265</td>\n",
       "      <td>243.0</td>\n",
       "      <td>88.0</td>\n",
       "      <td>141.0</td>\n",
       "      <td>74</td>\n",
       "      <td>145</td>\n",
       "      <td>254</td>\n",
       "      <td>1</td>\n",
       "      <td>319</td>\n",
       "    </tr>\n",
       "    <tr>\n",
       "      <th>3</th>\n",
       "      <td>강서구</td>\n",
       "      <td>1617</td>\n",
       "      <td>219.0</td>\n",
       "      <td>155.0</td>\n",
       "      <td>118.0</td>\n",
       "      <td>230</td>\n",
       "      <td>187</td>\n",
       "      <td>190</td>\n",
       "      <td>264</td>\n",
       "      <td>254</td>\n",
       "    </tr>\n",
       "    <tr>\n",
       "      <th>4</th>\n",
       "      <td>관악구</td>\n",
       "      <td>3985</td>\n",
       "      <td>430.0</td>\n",
       "      <td>56.0</td>\n",
       "      <td>419.0</td>\n",
       "      <td>487</td>\n",
       "      <td>609</td>\n",
       "      <td>619</td>\n",
       "      <td>694</td>\n",
       "      <td>671</td>\n",
       "    </tr>\n",
       "  </tbody>\n",
       "</table>\n",
       "</div>"
      ],
      "text/plain": [
       "    구별    소계  2011년 이전  2012년  2013년  2014년  2015년  2016년  2017년  2018년\n",
       "0  강남구  5221    1944.0  195.0  316.0    430    546    765    577    448\n",
       "1  강동구  1879     303.0  387.0  134.0     59    144    194    273    385\n",
       "2  강북구  1265     243.0   88.0  141.0     74    145    254      1    319\n",
       "3  강서구  1617     219.0  155.0  118.0    230    187    190    264    254\n",
       "4  관악구  3985     430.0   56.0  419.0    487    609    619    694    671"
      ]
     },
     "execution_count": 6,
     "metadata": {},
     "output_type": "execute_result"
    }
   ],
   "source": [
    "CCTV_seoul.head()"
   ]
  },
  {
   "cell_type": "code",
   "execution_count": 7,
   "metadata": {},
   "outputs": [
    {
     "data": {
      "text/plain": [
       "구별          0\n",
       "소계          0\n",
       "2011년 이전    2\n",
       "2012년       2\n",
       "2013년       2\n",
       "2014년       0\n",
       "2015년       0\n",
       "2016년       0\n",
       "2017년       0\n",
       "2018년       0\n",
       "dtype: int64"
      ]
     },
     "execution_count": 7,
     "metadata": {},
     "output_type": "execute_result"
    }
   ],
   "source": [
    "# NaN을 확인하고 NaN을 0으로 대체 \n",
    "CCTV_seoul.isnull().sum()"
   ]
  },
  {
   "cell_type": "code",
   "execution_count": 8,
   "metadata": {},
   "outputs": [],
   "source": [
    "CCTV_seoul=CCTV_seoul.fillna(0)"
   ]
  },
  {
   "cell_type": "code",
   "execution_count": 9,
   "metadata": {},
   "outputs": [
    {
     "data": {
      "text/plain": [
       "구별          0\n",
       "소계          0\n",
       "2011년 이전    0\n",
       "2012년       0\n",
       "2013년       0\n",
       "2014년       0\n",
       "2015년       0\n",
       "2016년       0\n",
       "2017년       0\n",
       "2018년       0\n",
       "dtype: int64"
      ]
     },
     "execution_count": 9,
     "metadata": {},
     "output_type": "execute_result"
    }
   ],
   "source": [
    "CCTV_seoul.isnull().sum()"
   ]
  },
  {
   "cell_type": "markdown",
   "metadata": {},
   "source": [
    "---\n",
    "### 서울 인구 데이터프레임"
   ]
  },
  {
   "cell_type": "code",
   "execution_count": 10,
   "metadata": {},
   "outputs": [
    {
     "data": {
      "text/html": [
       "<div>\n",
       "<style scoped>\n",
       "    .dataframe tbody tr th:only-of-type {\n",
       "        vertical-align: middle;\n",
       "    }\n",
       "\n",
       "    .dataframe tbody tr th {\n",
       "        vertical-align: top;\n",
       "    }\n",
       "\n",
       "    .dataframe thead th {\n",
       "        text-align: right;\n",
       "    }\n",
       "</style>\n",
       "<table border=\"1\" class=\"dataframe\">\n",
       "  <thead>\n",
       "    <tr style=\"text-align: right;\">\n",
       "      <th></th>\n",
       "      <th>report</th>\n",
       "      <th>Unnamed: 1</th>\n",
       "      <th>Unnamed: 2</th>\n",
       "      <th>Unnamed: 3</th>\n",
       "      <th>Unnamed: 4</th>\n",
       "      <th>Unnamed: 5</th>\n",
       "      <th>Unnamed: 6</th>\n",
       "      <th>Unnamed: 7</th>\n",
       "      <th>Unnamed: 8</th>\n",
       "      <th>Unnamed: 9</th>\n",
       "      <th>Unnamed: 10</th>\n",
       "      <th>Unnamed: 11</th>\n",
       "      <th>Unnamed: 12</th>\n",
       "      <th>Unnamed: 13</th>\n",
       "    </tr>\n",
       "  </thead>\n",
       "  <tbody>\n",
       "    <tr>\n",
       "      <th>0</th>\n",
       "      <td>기간</td>\n",
       "      <td>자치구</td>\n",
       "      <td>세대</td>\n",
       "      <td>인구</td>\n",
       "      <td>인구</td>\n",
       "      <td>인구</td>\n",
       "      <td>인구</td>\n",
       "      <td>인구</td>\n",
       "      <td>인구</td>\n",
       "      <td>인구</td>\n",
       "      <td>인구</td>\n",
       "      <td>인구</td>\n",
       "      <td>세대당인구</td>\n",
       "      <td>65세이상고령자</td>\n",
       "    </tr>\n",
       "    <tr>\n",
       "      <th>1</th>\n",
       "      <td>기간</td>\n",
       "      <td>자치구</td>\n",
       "      <td>세대</td>\n",
       "      <td>합계</td>\n",
       "      <td>합계</td>\n",
       "      <td>합계</td>\n",
       "      <td>한국인</td>\n",
       "      <td>한국인</td>\n",
       "      <td>한국인</td>\n",
       "      <td>등록외국인</td>\n",
       "      <td>등록외국인</td>\n",
       "      <td>등록외국인</td>\n",
       "      <td>세대당인구</td>\n",
       "      <td>65세이상고령자</td>\n",
       "    </tr>\n",
       "    <tr>\n",
       "      <th>2</th>\n",
       "      <td>기간</td>\n",
       "      <td>자치구</td>\n",
       "      <td>세대</td>\n",
       "      <td>계</td>\n",
       "      <td>남자</td>\n",
       "      <td>여자</td>\n",
       "      <td>계</td>\n",
       "      <td>남자</td>\n",
       "      <td>여자</td>\n",
       "      <td>계</td>\n",
       "      <td>남자</td>\n",
       "      <td>여자</td>\n",
       "      <td>세대당인구</td>\n",
       "      <td>65세이상고령자</td>\n",
       "    </tr>\n",
       "    <tr>\n",
       "      <th>3</th>\n",
       "      <td>2020.1/4</td>\n",
       "      <td>합계</td>\n",
       "      <td>4354006</td>\n",
       "      <td>10013781</td>\n",
       "      <td>4874995</td>\n",
       "      <td>5138786</td>\n",
       "      <td>9733655</td>\n",
       "      <td>4742217</td>\n",
       "      <td>4991438</td>\n",
       "      <td>280126</td>\n",
       "      <td>132778</td>\n",
       "      <td>147348</td>\n",
       "      <td>2.24</td>\n",
       "      <td>1518239</td>\n",
       "    </tr>\n",
       "    <tr>\n",
       "      <th>4</th>\n",
       "      <td>2020.1/4</td>\n",
       "      <td>종로구</td>\n",
       "      <td>74151</td>\n",
       "      <td>161984</td>\n",
       "      <td>78271</td>\n",
       "      <td>83713</td>\n",
       "      <td>151217</td>\n",
       "      <td>73704</td>\n",
       "      <td>77513</td>\n",
       "      <td>10767</td>\n",
       "      <td>4567</td>\n",
       "      <td>6200</td>\n",
       "      <td>2.04</td>\n",
       "      <td>28073</td>\n",
       "    </tr>\n",
       "  </tbody>\n",
       "</table>\n",
       "</div>"
      ],
      "text/plain": [
       "     report Unnamed: 1 Unnamed: 2 Unnamed: 3 Unnamed: 4 Unnamed: 5 Unnamed: 6  \\\n",
       "0        기간        자치구         세대         인구         인구         인구         인구   \n",
       "1        기간        자치구         세대         합계         합계         합계        한국인   \n",
       "2        기간        자치구         세대          계         남자         여자          계   \n",
       "3  2020.1/4         합계    4354006   10013781    4874995    5138786    9733655   \n",
       "4  2020.1/4        종로구      74151     161984      78271      83713     151217   \n",
       "\n",
       "  Unnamed: 7 Unnamed: 8 Unnamed: 9 Unnamed: 10 Unnamed: 11 Unnamed: 12  \\\n",
       "0         인구         인구         인구          인구          인구       세대당인구   \n",
       "1        한국인        한국인      등록외국인       등록외국인       등록외국인       세대당인구   \n",
       "2         남자         여자          계          남자          여자       세대당인구   \n",
       "3    4742217    4991438     280126      132778      147348        2.24   \n",
       "4      73704      77513      10767        4567        6200        2.04   \n",
       "\n",
       "  Unnamed: 13  \n",
       "0    65세이상고령자  \n",
       "1    65세이상고령자  \n",
       "2    65세이상고령자  \n",
       "3     1518239  \n",
       "4       28073  "
      ]
     },
     "execution_count": 10,
     "metadata": {},
     "output_type": "execute_result"
    }
   ],
   "source": [
    "seoul_pop = pd.read_excel(\"data/population_in_Seoul_2020.xlsx\")\n",
    "seoul_pop.head()\n",
    "# 1,3,6,9,13"
   ]
  },
  {
   "cell_type": "code",
   "execution_count": 11,
   "metadata": {},
   "outputs": [
    {
     "data": {
      "text/html": [
       "<div>\n",
       "<style scoped>\n",
       "    .dataframe tbody tr th:only-of-type {\n",
       "        vertical-align: middle;\n",
       "    }\n",
       "\n",
       "    .dataframe tbody tr th {\n",
       "        vertical-align: top;\n",
       "    }\n",
       "\n",
       "    .dataframe thead th {\n",
       "        text-align: right;\n",
       "    }\n",
       "</style>\n",
       "<table border=\"1\" class=\"dataframe\">\n",
       "  <thead>\n",
       "    <tr style=\"text-align: right;\">\n",
       "      <th></th>\n",
       "      <th>Unnamed: 1</th>\n",
       "      <th>Unnamed: 3</th>\n",
       "      <th>Unnamed: 6</th>\n",
       "      <th>Unnamed: 9</th>\n",
       "      <th>Unnamed: 13</th>\n",
       "    </tr>\n",
       "  </thead>\n",
       "  <tbody>\n",
       "    <tr>\n",
       "      <th>0</th>\n",
       "      <td>자치구</td>\n",
       "      <td>인구</td>\n",
       "      <td>인구</td>\n",
       "      <td>인구</td>\n",
       "      <td>65세이상고령자</td>\n",
       "    </tr>\n",
       "    <tr>\n",
       "      <th>1</th>\n",
       "      <td>자치구</td>\n",
       "      <td>합계</td>\n",
       "      <td>한국인</td>\n",
       "      <td>등록외국인</td>\n",
       "      <td>65세이상고령자</td>\n",
       "    </tr>\n",
       "    <tr>\n",
       "      <th>2</th>\n",
       "      <td>자치구</td>\n",
       "      <td>계</td>\n",
       "      <td>계</td>\n",
       "      <td>계</td>\n",
       "      <td>65세이상고령자</td>\n",
       "    </tr>\n",
       "    <tr>\n",
       "      <th>3</th>\n",
       "      <td>합계</td>\n",
       "      <td>10013781</td>\n",
       "      <td>9733655</td>\n",
       "      <td>280126</td>\n",
       "      <td>1518239</td>\n",
       "    </tr>\n",
       "    <tr>\n",
       "      <th>4</th>\n",
       "      <td>종로구</td>\n",
       "      <td>161984</td>\n",
       "      <td>151217</td>\n",
       "      <td>10767</td>\n",
       "      <td>28073</td>\n",
       "    </tr>\n",
       "  </tbody>\n",
       "</table>\n",
       "</div>"
      ],
      "text/plain": [
       "  Unnamed: 1 Unnamed: 3 Unnamed: 6 Unnamed: 9 Unnamed: 13\n",
       "0        자치구         인구         인구         인구    65세이상고령자\n",
       "1        자치구         합계        한국인      등록외국인    65세이상고령자\n",
       "2        자치구          계          계          계    65세이상고령자\n",
       "3         합계   10013781    9733655     280126     1518239\n",
       "4        종로구     161984     151217      10767       28073"
      ]
     },
     "execution_count": 11,
     "metadata": {},
     "output_type": "execute_result"
    }
   ],
   "source": [
    "seoul_pop2 =seoul_pop.iloc[:,[1,3,6,9,13]]\n",
    "seoul_pop2.head()"
   ]
  },
  {
   "cell_type": "code",
   "execution_count": 12,
   "metadata": {},
   "outputs": [],
   "source": [
    "seoul_pop2.columns =['자치구','계','계.1','계2','65세이상고령자']"
   ]
  },
  {
   "cell_type": "code",
   "execution_count": 13,
   "metadata": {},
   "outputs": [
    {
     "data": {
      "text/html": [
       "<div>\n",
       "<style scoped>\n",
       "    .dataframe tbody tr th:only-of-type {\n",
       "        vertical-align: middle;\n",
       "    }\n",
       "\n",
       "    .dataframe tbody tr th {\n",
       "        vertical-align: top;\n",
       "    }\n",
       "\n",
       "    .dataframe thead th {\n",
       "        text-align: right;\n",
       "    }\n",
       "</style>\n",
       "<table border=\"1\" class=\"dataframe\">\n",
       "  <thead>\n",
       "    <tr style=\"text-align: right;\">\n",
       "      <th></th>\n",
       "      <th>자치구</th>\n",
       "      <th>계</th>\n",
       "      <th>계.1</th>\n",
       "      <th>계2</th>\n",
       "      <th>65세이상고령자</th>\n",
       "    </tr>\n",
       "  </thead>\n",
       "  <tbody>\n",
       "    <tr>\n",
       "      <th>0</th>\n",
       "      <td>자치구</td>\n",
       "      <td>인구</td>\n",
       "      <td>인구</td>\n",
       "      <td>인구</td>\n",
       "      <td>65세이상고령자</td>\n",
       "    </tr>\n",
       "    <tr>\n",
       "      <th>1</th>\n",
       "      <td>자치구</td>\n",
       "      <td>합계</td>\n",
       "      <td>한국인</td>\n",
       "      <td>등록외국인</td>\n",
       "      <td>65세이상고령자</td>\n",
       "    </tr>\n",
       "    <tr>\n",
       "      <th>2</th>\n",
       "      <td>자치구</td>\n",
       "      <td>계</td>\n",
       "      <td>계</td>\n",
       "      <td>계</td>\n",
       "      <td>65세이상고령자</td>\n",
       "    </tr>\n",
       "    <tr>\n",
       "      <th>3</th>\n",
       "      <td>합계</td>\n",
       "      <td>10013781</td>\n",
       "      <td>9733655</td>\n",
       "      <td>280126</td>\n",
       "      <td>1518239</td>\n",
       "    </tr>\n",
       "    <tr>\n",
       "      <th>4</th>\n",
       "      <td>종로구</td>\n",
       "      <td>161984</td>\n",
       "      <td>151217</td>\n",
       "      <td>10767</td>\n",
       "      <td>28073</td>\n",
       "    </tr>\n",
       "  </tbody>\n",
       "</table>\n",
       "</div>"
      ],
      "text/plain": [
       "   자치구         계      계.1      계2  65세이상고령자\n",
       "0  자치구        인구       인구      인구  65세이상고령자\n",
       "1  자치구        합계      한국인   등록외국인  65세이상고령자\n",
       "2  자치구         계        계       계  65세이상고령자\n",
       "3   합계  10013781  9733655  280126   1518239\n",
       "4  종로구    161984   151217   10767     28073"
      ]
     },
     "execution_count": 13,
     "metadata": {},
     "output_type": "execute_result"
    }
   ],
   "source": [
    "seoul_pop2.head()"
   ]
  },
  {
   "cell_type": "code",
   "execution_count": 14,
   "metadata": {},
   "outputs": [
    {
     "data": {
      "text/html": [
       "<div>\n",
       "<style scoped>\n",
       "    .dataframe tbody tr th:only-of-type {\n",
       "        vertical-align: middle;\n",
       "    }\n",
       "\n",
       "    .dataframe tbody tr th {\n",
       "        vertical-align: top;\n",
       "    }\n",
       "\n",
       "    .dataframe thead th {\n",
       "        text-align: right;\n",
       "    }\n",
       "</style>\n",
       "<table border=\"1\" class=\"dataframe\">\n",
       "  <thead>\n",
       "    <tr style=\"text-align: right;\">\n",
       "      <th></th>\n",
       "      <th>자치구</th>\n",
       "      <th>계</th>\n",
       "      <th>계.1</th>\n",
       "      <th>계.2</th>\n",
       "      <th>65세이상고령자</th>\n",
       "    </tr>\n",
       "  </thead>\n",
       "  <tbody>\n",
       "    <tr>\n",
       "      <th>0</th>\n",
       "      <td>합계</td>\n",
       "      <td>10013781</td>\n",
       "      <td>9733655</td>\n",
       "      <td>280126</td>\n",
       "      <td>1518239</td>\n",
       "    </tr>\n",
       "    <tr>\n",
       "      <th>1</th>\n",
       "      <td>종로구</td>\n",
       "      <td>161984</td>\n",
       "      <td>151217</td>\n",
       "      <td>10767</td>\n",
       "      <td>28073</td>\n",
       "    </tr>\n",
       "    <tr>\n",
       "      <th>2</th>\n",
       "      <td>중구</td>\n",
       "      <td>136469</td>\n",
       "      <td>126175</td>\n",
       "      <td>10294</td>\n",
       "      <td>23794</td>\n",
       "    </tr>\n",
       "    <tr>\n",
       "      <th>3</th>\n",
       "      <td>용산구</td>\n",
       "      <td>246165</td>\n",
       "      <td>229579</td>\n",
       "      <td>16586</td>\n",
       "      <td>39439</td>\n",
       "    </tr>\n",
       "    <tr>\n",
       "      <th>4</th>\n",
       "      <td>성동구</td>\n",
       "      <td>307193</td>\n",
       "      <td>299042</td>\n",
       "      <td>8151</td>\n",
       "      <td>44728</td>\n",
       "    </tr>\n",
       "  </tbody>\n",
       "</table>\n",
       "</div>"
      ],
      "text/plain": [
       "   자치구         계      계.1     계.2  65세이상고령자\n",
       "0   합계  10013781  9733655  280126   1518239\n",
       "1  종로구    161984   151217   10767     28073\n",
       "2   중구    136469   126175   10294     23794\n",
       "3  용산구    246165   229579   16586     39439\n",
       "4  성동구    307193   299042    8151     44728"
      ]
     },
     "execution_count": 14,
     "metadata": {},
     "output_type": "execute_result"
    }
   ],
   "source": [
    "# 불러올 때 부분만 가져오기 \n",
    "pop_seoul = pd.read_excel(\"data/population_in_Seoul_2020.xlsx\",\n",
    "                        header=3,      # 헤더를 쓸 행의 번호  \n",
    "                        usecols=\"B,D,G,J,N\"         # 엑셀에서만 가능함 \n",
    ")\n",
    "pop_seoul.head()"
   ]
  },
  {
   "cell_type": "code",
   "execution_count": 15,
   "metadata": {},
   "outputs": [],
   "source": [
    "# 이름변경 \n",
    "pop_seoul.columns =['구별','인구수','한국인','외국인','고령자']"
   ]
  },
  {
   "cell_type": "code",
   "execution_count": 16,
   "metadata": {},
   "outputs": [
    {
     "data": {
      "text/html": [
       "<div>\n",
       "<style scoped>\n",
       "    .dataframe tbody tr th:only-of-type {\n",
       "        vertical-align: middle;\n",
       "    }\n",
       "\n",
       "    .dataframe tbody tr th {\n",
       "        vertical-align: top;\n",
       "    }\n",
       "\n",
       "    .dataframe thead th {\n",
       "        text-align: right;\n",
       "    }\n",
       "</style>\n",
       "<table border=\"1\" class=\"dataframe\">\n",
       "  <thead>\n",
       "    <tr style=\"text-align: right;\">\n",
       "      <th></th>\n",
       "      <th>구별</th>\n",
       "      <th>인구수</th>\n",
       "      <th>한국인</th>\n",
       "      <th>외국인</th>\n",
       "      <th>고령자</th>\n",
       "    </tr>\n",
       "  </thead>\n",
       "  <tbody>\n",
       "    <tr>\n",
       "      <th>0</th>\n",
       "      <td>합계</td>\n",
       "      <td>10013781</td>\n",
       "      <td>9733655</td>\n",
       "      <td>280126</td>\n",
       "      <td>1518239</td>\n",
       "    </tr>\n",
       "    <tr>\n",
       "      <th>1</th>\n",
       "      <td>종로구</td>\n",
       "      <td>161984</td>\n",
       "      <td>151217</td>\n",
       "      <td>10767</td>\n",
       "      <td>28073</td>\n",
       "    </tr>\n",
       "    <tr>\n",
       "      <th>2</th>\n",
       "      <td>중구</td>\n",
       "      <td>136469</td>\n",
       "      <td>126175</td>\n",
       "      <td>10294</td>\n",
       "      <td>23794</td>\n",
       "    </tr>\n",
       "    <tr>\n",
       "      <th>3</th>\n",
       "      <td>용산구</td>\n",
       "      <td>246165</td>\n",
       "      <td>229579</td>\n",
       "      <td>16586</td>\n",
       "      <td>39439</td>\n",
       "    </tr>\n",
       "    <tr>\n",
       "      <th>4</th>\n",
       "      <td>성동구</td>\n",
       "      <td>307193</td>\n",
       "      <td>299042</td>\n",
       "      <td>8151</td>\n",
       "      <td>44728</td>\n",
       "    </tr>\n",
       "  </tbody>\n",
       "</table>\n",
       "</div>"
      ],
      "text/plain": [
       "    구별       인구수      한국인     외국인      고령자\n",
       "0   합계  10013781  9733655  280126  1518239\n",
       "1  종로구    161984   151217   10767    28073\n",
       "2   중구    136469   126175   10294    23794\n",
       "3  용산구    246165   229579   16586    39439\n",
       "4  성동구    307193   299042    8151    44728"
      ]
     },
     "execution_count": 16,
     "metadata": {},
     "output_type": "execute_result"
    }
   ],
   "source": [
    "pop_seoul.head()"
   ]
  },
  {
   "cell_type": "code",
   "execution_count": 17,
   "metadata": {},
   "outputs": [],
   "source": [
    "# 합계 행 삭제\n",
    "# pop_seoul=pop_seoul.iloc[1:,:]"
   ]
  },
  {
   "cell_type": "code",
   "execution_count": 18,
   "metadata": {},
   "outputs": [
    {
     "data": {
      "text/html": [
       "<div>\n",
       "<style scoped>\n",
       "    .dataframe tbody tr th:only-of-type {\n",
       "        vertical-align: middle;\n",
       "    }\n",
       "\n",
       "    .dataframe tbody tr th {\n",
       "        vertical-align: top;\n",
       "    }\n",
       "\n",
       "    .dataframe thead th {\n",
       "        text-align: right;\n",
       "    }\n",
       "</style>\n",
       "<table border=\"1\" class=\"dataframe\">\n",
       "  <thead>\n",
       "    <tr style=\"text-align: right;\">\n",
       "      <th></th>\n",
       "      <th>구별</th>\n",
       "      <th>인구수</th>\n",
       "      <th>한국인</th>\n",
       "      <th>외국인</th>\n",
       "      <th>고령자</th>\n",
       "    </tr>\n",
       "  </thead>\n",
       "  <tbody>\n",
       "    <tr>\n",
       "      <th>0</th>\n",
       "      <td>합계</td>\n",
       "      <td>10013781</td>\n",
       "      <td>9733655</td>\n",
       "      <td>280126</td>\n",
       "      <td>1518239</td>\n",
       "    </tr>\n",
       "    <tr>\n",
       "      <th>1</th>\n",
       "      <td>종로구</td>\n",
       "      <td>161984</td>\n",
       "      <td>151217</td>\n",
       "      <td>10767</td>\n",
       "      <td>28073</td>\n",
       "    </tr>\n",
       "    <tr>\n",
       "      <th>2</th>\n",
       "      <td>중구</td>\n",
       "      <td>136469</td>\n",
       "      <td>126175</td>\n",
       "      <td>10294</td>\n",
       "      <td>23794</td>\n",
       "    </tr>\n",
       "    <tr>\n",
       "      <th>3</th>\n",
       "      <td>용산구</td>\n",
       "      <td>246165</td>\n",
       "      <td>229579</td>\n",
       "      <td>16586</td>\n",
       "      <td>39439</td>\n",
       "    </tr>\n",
       "    <tr>\n",
       "      <th>4</th>\n",
       "      <td>성동구</td>\n",
       "      <td>307193</td>\n",
       "      <td>299042</td>\n",
       "      <td>8151</td>\n",
       "      <td>44728</td>\n",
       "    </tr>\n",
       "  </tbody>\n",
       "</table>\n",
       "</div>"
      ],
      "text/plain": [
       "    구별       인구수      한국인     외국인      고령자\n",
       "0   합계  10013781  9733655  280126  1518239\n",
       "1  종로구    161984   151217   10767    28073\n",
       "2   중구    136469   126175   10294    23794\n",
       "3  용산구    246165   229579   16586    39439\n",
       "4  성동구    307193   299042    8151    44728"
      ]
     },
     "execution_count": 18,
     "metadata": {},
     "output_type": "execute_result"
    }
   ],
   "source": [
    "pop_seoul.head()"
   ]
  },
  {
   "cell_type": "code",
   "execution_count": 19,
   "metadata": {},
   "outputs": [],
   "source": [
    "#2 \n",
    "#pop_seoul.drop(0,inplace=True)  # 행기준이 디폴트 값"
   ]
  },
  {
   "cell_type": "markdown",
   "metadata": {},
   "source": [
    "### CCTV 현황\n"
   ]
  },
  {
   "cell_type": "code",
   "execution_count": 20,
   "metadata": {},
   "outputs": [],
   "source": [
    "# CCTV에서 소계로 오름차순 정렬\n",
    "CCTV_seoul.sort_values(by='소계', inplace= True)"
   ]
  },
  {
   "cell_type": "code",
   "execution_count": 21,
   "metadata": {},
   "outputs": [
    {
     "data": {
      "text/html": [
       "<div>\n",
       "<style scoped>\n",
       "    .dataframe tbody tr th:only-of-type {\n",
       "        vertical-align: middle;\n",
       "    }\n",
       "\n",
       "    .dataframe tbody tr th {\n",
       "        vertical-align: top;\n",
       "    }\n",
       "\n",
       "    .dataframe thead th {\n",
       "        text-align: right;\n",
       "    }\n",
       "</style>\n",
       "<table border=\"1\" class=\"dataframe\">\n",
       "  <thead>\n",
       "    <tr style=\"text-align: right;\">\n",
       "      <th></th>\n",
       "      <th>구별</th>\n",
       "      <th>소계</th>\n",
       "      <th>2011년 이전</th>\n",
       "      <th>2012년</th>\n",
       "      <th>2013년</th>\n",
       "      <th>2014년</th>\n",
       "      <th>2015년</th>\n",
       "      <th>2016년</th>\n",
       "      <th>2017년</th>\n",
       "      <th>2018년</th>\n",
       "    </tr>\n",
       "  </thead>\n",
       "  <tbody>\n",
       "    <tr>\n",
       "      <th>9</th>\n",
       "      <td>도봉구</td>\n",
       "      <td>858</td>\n",
       "      <td>197.0</td>\n",
       "      <td>66.0</td>\n",
       "      <td>8.0</td>\n",
       "      <td>185</td>\n",
       "      <td>59</td>\n",
       "      <td>155</td>\n",
       "      <td>117</td>\n",
       "      <td>71</td>\n",
       "    </tr>\n",
       "    <tr>\n",
       "      <th>24</th>\n",
       "      <td>중랑구</td>\n",
       "      <td>1068</td>\n",
       "      <td>0.0</td>\n",
       "      <td>0.0</td>\n",
       "      <td>0.0</td>\n",
       "      <td>770</td>\n",
       "      <td>102</td>\n",
       "      <td>121</td>\n",
       "      <td>66</td>\n",
       "      <td>9</td>\n",
       "    </tr>\n",
       "    <tr>\n",
       "      <th>2</th>\n",
       "      <td>강북구</td>\n",
       "      <td>1265</td>\n",
       "      <td>243.0</td>\n",
       "      <td>88.0</td>\n",
       "      <td>141.0</td>\n",
       "      <td>74</td>\n",
       "      <td>145</td>\n",
       "      <td>254</td>\n",
       "      <td>1</td>\n",
       "      <td>319</td>\n",
       "    </tr>\n",
       "    <tr>\n",
       "      <th>22</th>\n",
       "      <td>종로구</td>\n",
       "      <td>1471</td>\n",
       "      <td>8.0</td>\n",
       "      <td>7.0</td>\n",
       "      <td>599.0</td>\n",
       "      <td>132</td>\n",
       "      <td>195</td>\n",
       "      <td>148</td>\n",
       "      <td>281</td>\n",
       "      <td>101</td>\n",
       "    </tr>\n",
       "    <tr>\n",
       "      <th>23</th>\n",
       "      <td>중구</td>\n",
       "      <td>1544</td>\n",
       "      <td>25.0</td>\n",
       "      <td>165.0</td>\n",
       "      <td>114.0</td>\n",
       "      <td>80</td>\n",
       "      <td>245</td>\n",
       "      <td>270</td>\n",
       "      <td>317</td>\n",
       "      <td>328</td>\n",
       "    </tr>\n",
       "  </tbody>\n",
       "</table>\n",
       "</div>"
      ],
      "text/plain": [
       "     구별    소계  2011년 이전  2012년  2013년  2014년  2015년  2016년  2017년  2018년\n",
       "9   도봉구   858     197.0   66.0    8.0    185     59    155    117     71\n",
       "24  중랑구  1068       0.0    0.0    0.0    770    102    121     66      9\n",
       "2   강북구  1265     243.0   88.0  141.0     74    145    254      1    319\n",
       "22  종로구  1471       8.0    7.0  599.0    132    195    148    281    101\n",
       "23   중구  1544      25.0  165.0  114.0     80    245    270    317    328"
      ]
     },
     "execution_count": 21,
     "metadata": {},
     "output_type": "execute_result"
    }
   ],
   "source": [
    "CCTV_seoul.head()"
   ]
  },
  {
   "cell_type": "markdown",
   "metadata": {},
   "source": [
    "> CCTV 댓수가 적은 지역으로는 도봉구,중랑구,강북구,종로구, 중구 순이다"
   ]
  },
  {
   "cell_type": "code",
   "execution_count": 22,
   "metadata": {},
   "outputs": [
    {
     "data": {
      "text/html": [
       "<div>\n",
       "<style scoped>\n",
       "    .dataframe tbody tr th:only-of-type {\n",
       "        vertical-align: middle;\n",
       "    }\n",
       "\n",
       "    .dataframe tbody tr th {\n",
       "        vertical-align: top;\n",
       "    }\n",
       "\n",
       "    .dataframe thead th {\n",
       "        text-align: right;\n",
       "    }\n",
       "</style>\n",
       "<table border=\"1\" class=\"dataframe\">\n",
       "  <thead>\n",
       "    <tr style=\"text-align: right;\">\n",
       "      <th></th>\n",
       "      <th>구별</th>\n",
       "      <th>소계</th>\n",
       "      <th>2011년 이전</th>\n",
       "      <th>2012년</th>\n",
       "      <th>2013년</th>\n",
       "      <th>2014년</th>\n",
       "      <th>2015년</th>\n",
       "      <th>2016년</th>\n",
       "      <th>2017년</th>\n",
       "      <th>2018년</th>\n",
       "    </tr>\n",
       "  </thead>\n",
       "  <tbody>\n",
       "    <tr>\n",
       "      <th>0</th>\n",
       "      <td>강남구</td>\n",
       "      <td>5221</td>\n",
       "      <td>1944.0</td>\n",
       "      <td>195.0</td>\n",
       "      <td>316.0</td>\n",
       "      <td>430</td>\n",
       "      <td>546</td>\n",
       "      <td>765</td>\n",
       "      <td>577</td>\n",
       "      <td>448</td>\n",
       "    </tr>\n",
       "    <tr>\n",
       "      <th>4</th>\n",
       "      <td>관악구</td>\n",
       "      <td>3985</td>\n",
       "      <td>430.0</td>\n",
       "      <td>56.0</td>\n",
       "      <td>419.0</td>\n",
       "      <td>487</td>\n",
       "      <td>609</td>\n",
       "      <td>619</td>\n",
       "      <td>694</td>\n",
       "      <td>671</td>\n",
       "    </tr>\n",
       "    <tr>\n",
       "      <th>6</th>\n",
       "      <td>구로구</td>\n",
       "      <td>3227</td>\n",
       "      <td>852.0</td>\n",
       "      <td>219.0</td>\n",
       "      <td>349.0</td>\n",
       "      <td>187</td>\n",
       "      <td>268</td>\n",
       "      <td>326</td>\n",
       "      <td>540</td>\n",
       "      <td>486</td>\n",
       "    </tr>\n",
       "    <tr>\n",
       "      <th>16</th>\n",
       "      <td>성북구</td>\n",
       "      <td>3003</td>\n",
       "      <td>779.0</td>\n",
       "      <td>84.0</td>\n",
       "      <td>304.0</td>\n",
       "      <td>241</td>\n",
       "      <td>279</td>\n",
       "      <td>388</td>\n",
       "      <td>285</td>\n",
       "      <td>643</td>\n",
       "    </tr>\n",
       "    <tr>\n",
       "      <th>21</th>\n",
       "      <td>은평구</td>\n",
       "      <td>2962</td>\n",
       "      <td>1365.0</td>\n",
       "      <td>83.0</td>\n",
       "      <td>99.0</td>\n",
       "      <td>343</td>\n",
       "      <td>180</td>\n",
       "      <td>296</td>\n",
       "      <td>229</td>\n",
       "      <td>367</td>\n",
       "    </tr>\n",
       "  </tbody>\n",
       "</table>\n",
       "</div>"
      ],
      "text/plain": [
       "     구별    소계  2011년 이전  2012년  2013년  2014년  2015년  2016년  2017년  2018년\n",
       "0   강남구  5221    1944.0  195.0  316.0    430    546    765    577    448\n",
       "4   관악구  3985     430.0   56.0  419.0    487    609    619    694    671\n",
       "6   구로구  3227     852.0  219.0  349.0    187    268    326    540    486\n",
       "16  성북구  3003     779.0   84.0  304.0    241    279    388    285    643\n",
       "21  은평구  2962    1365.0   83.0   99.0    343    180    296    229    367"
      ]
     },
     "execution_count": 22,
     "metadata": {},
     "output_type": "execute_result"
    }
   ],
   "source": [
    "# CCTV에서 소계로 내림차순 정렬\n",
    "CCTV_seoul.sort_values(by='소계', ascending=False).head()"
   ]
  },
  {
   "cell_type": "markdown",
   "metadata": {},
   "source": [
    "> CCTV 댓수가 많은 지역으로는 강남구, 관악구, 구로구, 성북구, 은평구 순이다."
   ]
  },
  {
   "cell_type": "code",
   "execution_count": 23,
   "metadata": {},
   "outputs": [],
   "source": [
    "### 최근 3년간 CCTV 증가율을 구해서 제일 많이 증가한 구를 검색 후 정렬\n",
    "# 2016 ~2018 의 갯수와 나머지총합를 비교 "
   ]
  },
  {
   "cell_type": "code",
   "execution_count": 24,
   "metadata": {},
   "outputs": [],
   "source": [
    "# 3년간 합 \n",
    "CCTV_seoul['최근증가율'] = ((CCTV_seoul[['2016년','2017년','2018년']].sum(axis=1))/(CCTV_seoul.iloc[:,2:7].sum(axis=1))  ) *100\n",
    "#election['electionSum']= election[['이재명','윤석열','심상정']].sum(axis=1)\n"
   ]
  },
  {
   "cell_type": "code",
   "execution_count": 25,
   "metadata": {},
   "outputs": [
    {
     "data": {
      "text/plain": [
       "9      515.0\n",
       "24     872.0\n",
       "2      691.0\n",
       "22     941.0\n",
       "23     629.0\n",
       "5      746.0\n",
       "17     974.0\n",
       "3      909.0\n",
       "7      769.0\n",
       "11     993.0\n",
       "1     1027.0\n",
       "8     1342.0\n",
       "12    1009.0\n",
       "10    1437.0\n",
       "20    1841.0\n",
       "13    1235.0\n",
       "19    1042.0\n",
       "15    1251.0\n",
       "18    1459.0\n",
       "14    1840.0\n",
       "21    2070.0\n",
       "16    1687.0\n",
       "6     1875.0\n",
       "4     2001.0\n",
       "0     3431.0\n",
       "dtype: float64"
      ]
     },
     "execution_count": 25,
     "metadata": {},
     "output_type": "execute_result"
    }
   ],
   "source": [
    "CCTV_seoul.iloc[:,2:7].sum(axis=1)"
   ]
  },
  {
   "cell_type": "code",
   "execution_count": 26,
   "metadata": {},
   "outputs": [
    {
     "data": {
      "text/html": [
       "<div>\n",
       "<style scoped>\n",
       "    .dataframe tbody tr th:only-of-type {\n",
       "        vertical-align: middle;\n",
       "    }\n",
       "\n",
       "    .dataframe tbody tr th {\n",
       "        vertical-align: top;\n",
       "    }\n",
       "\n",
       "    .dataframe thead th {\n",
       "        text-align: right;\n",
       "    }\n",
       "</style>\n",
       "<table border=\"1\" class=\"dataframe\">\n",
       "  <thead>\n",
       "    <tr style=\"text-align: right;\">\n",
       "      <th></th>\n",
       "      <th>구별</th>\n",
       "      <th>소계</th>\n",
       "      <th>2011년 이전</th>\n",
       "      <th>2012년</th>\n",
       "      <th>2013년</th>\n",
       "      <th>2014년</th>\n",
       "      <th>2015년</th>\n",
       "      <th>2016년</th>\n",
       "      <th>2017년</th>\n",
       "      <th>2018년</th>\n",
       "      <th>최근증가율</th>\n",
       "    </tr>\n",
       "  </thead>\n",
       "  <tbody>\n",
       "    <tr>\n",
       "      <th>23</th>\n",
       "      <td>중구</td>\n",
       "      <td>1544</td>\n",
       "      <td>25.0</td>\n",
       "      <td>165.0</td>\n",
       "      <td>114.0</td>\n",
       "      <td>80</td>\n",
       "      <td>245</td>\n",
       "      <td>270</td>\n",
       "      <td>317</td>\n",
       "      <td>328</td>\n",
       "      <td>145.468998</td>\n",
       "    </tr>\n",
       "    <tr>\n",
       "      <th>19</th>\n",
       "      <td>영등포구</td>\n",
       "      <td>2495</td>\n",
       "      <td>132.0</td>\n",
       "      <td>121.0</td>\n",
       "      <td>206.0</td>\n",
       "      <td>217</td>\n",
       "      <td>366</td>\n",
       "      <td>289</td>\n",
       "      <td>371</td>\n",
       "      <td>793</td>\n",
       "      <td>139.443378</td>\n",
       "    </tr>\n",
       "    <tr>\n",
       "      <th>15</th>\n",
       "      <td>성동구</td>\n",
       "      <td>2679</td>\n",
       "      <td>665.0</td>\n",
       "      <td>109.0</td>\n",
       "      <td>118.0</td>\n",
       "      <td>101</td>\n",
       "      <td>258</td>\n",
       "      <td>201</td>\n",
       "      <td>933</td>\n",
       "      <td>294</td>\n",
       "      <td>114.148681</td>\n",
       "    </tr>\n",
       "    <tr>\n",
       "      <th>7</th>\n",
       "      <td>금천구</td>\n",
       "      <td>1634</td>\n",
       "      <td>27.0</td>\n",
       "      <td>17.0</td>\n",
       "      <td>242.0</td>\n",
       "      <td>101</td>\n",
       "      <td>382</td>\n",
       "      <td>136</td>\n",
       "      <td>199</td>\n",
       "      <td>530</td>\n",
       "      <td>112.483745</td>\n",
       "    </tr>\n",
       "    <tr>\n",
       "      <th>5</th>\n",
       "      <td>광진구</td>\n",
       "      <td>1581</td>\n",
       "      <td>470.0</td>\n",
       "      <td>42.0</td>\n",
       "      <td>83.0</td>\n",
       "      <td>87</td>\n",
       "      <td>64</td>\n",
       "      <td>21</td>\n",
       "      <td>468</td>\n",
       "      <td>346</td>\n",
       "      <td>111.930295</td>\n",
       "    </tr>\n",
       "  </tbody>\n",
       "</table>\n",
       "</div>"
      ],
      "text/plain": [
       "      구별    소계  2011년 이전  2012년  2013년  2014년  2015년  2016년  2017년  2018년  \\\n",
       "23    중구  1544      25.0  165.0  114.0     80    245    270    317    328   \n",
       "19  영등포구  2495     132.0  121.0  206.0    217    366    289    371    793   \n",
       "15   성동구  2679     665.0  109.0  118.0    101    258    201    933    294   \n",
       "7    금천구  1634      27.0   17.0  242.0    101    382    136    199    530   \n",
       "5    광진구  1581     470.0   42.0   83.0     87     64     21    468    346   \n",
       "\n",
       "         최근증가율  \n",
       "23  145.468998  \n",
       "19  139.443378  \n",
       "15  114.148681  \n",
       "7   112.483745  \n",
       "5   111.930295  "
      ]
     },
     "execution_count": 26,
     "metadata": {},
     "output_type": "execute_result"
    }
   ],
   "source": [
    "# 정렬\n",
    "CCTV_seoul.sort_values(by=\"최근증가율\",ascending=False).head()"
   ]
  },
  {
   "cell_type": "markdown",
   "metadata": {},
   "source": [
    "> 결과 : 최근 3년간 cctv가 2015년 이전에 비해 가장 많이 증가한 곳은 중구, 영등포구, 성동구, 금천구, 광진구이다"
   ]
  },
  {
   "cell_type": "markdown",
   "metadata": {},
   "source": [
    "---\n",
    "### 인구현황"
   ]
  },
  {
   "cell_type": "code",
   "execution_count": 27,
   "metadata": {},
   "outputs": [
    {
     "data": {
      "text/plain": [
       "26"
      ]
     },
     "execution_count": 27,
     "metadata": {},
     "output_type": "execute_result"
    }
   ],
   "source": [
    "# 구별 Data의 유효성 확인 \n",
    "len(pop_seoul['구별'].unique())"
   ]
  },
  {
   "cell_type": "code",
   "execution_count": 28,
   "metadata": {},
   "outputs": [
    {
     "data": {
      "text/html": [
       "<div>\n",
       "<style scoped>\n",
       "    .dataframe tbody tr th:only-of-type {\n",
       "        vertical-align: middle;\n",
       "    }\n",
       "\n",
       "    .dataframe tbody tr th {\n",
       "        vertical-align: top;\n",
       "    }\n",
       "\n",
       "    .dataframe thead th {\n",
       "        text-align: right;\n",
       "    }\n",
       "</style>\n",
       "<table border=\"1\" class=\"dataframe\">\n",
       "  <thead>\n",
       "    <tr style=\"text-align: right;\">\n",
       "      <th></th>\n",
       "      <th>구별</th>\n",
       "      <th>인구수</th>\n",
       "      <th>한국인</th>\n",
       "      <th>외국인</th>\n",
       "      <th>고령자</th>\n",
       "    </tr>\n",
       "  </thead>\n",
       "  <tbody>\n",
       "    <tr>\n",
       "      <th>0</th>\n",
       "      <td>합계</td>\n",
       "      <td>10013781</td>\n",
       "      <td>9733655</td>\n",
       "      <td>280126</td>\n",
       "      <td>1518239</td>\n",
       "    </tr>\n",
       "    <tr>\n",
       "      <th>1</th>\n",
       "      <td>종로구</td>\n",
       "      <td>161984</td>\n",
       "      <td>151217</td>\n",
       "      <td>10767</td>\n",
       "      <td>28073</td>\n",
       "    </tr>\n",
       "    <tr>\n",
       "      <th>2</th>\n",
       "      <td>중구</td>\n",
       "      <td>136469</td>\n",
       "      <td>126175</td>\n",
       "      <td>10294</td>\n",
       "      <td>23794</td>\n",
       "    </tr>\n",
       "    <tr>\n",
       "      <th>3</th>\n",
       "      <td>용산구</td>\n",
       "      <td>246165</td>\n",
       "      <td>229579</td>\n",
       "      <td>16586</td>\n",
       "      <td>39439</td>\n",
       "    </tr>\n",
       "    <tr>\n",
       "      <th>4</th>\n",
       "      <td>성동구</td>\n",
       "      <td>307193</td>\n",
       "      <td>299042</td>\n",
       "      <td>8151</td>\n",
       "      <td>44728</td>\n",
       "    </tr>\n",
       "  </tbody>\n",
       "</table>\n",
       "</div>"
      ],
      "text/plain": [
       "    구별       인구수      한국인     외국인      고령자\n",
       "0   합계  10013781  9733655  280126  1518239\n",
       "1  종로구    161984   151217   10767    28073\n",
       "2   중구    136469   126175   10294    23794\n",
       "3  용산구    246165   229579   16586    39439\n",
       "4  성동구    307193   299042    8151    44728"
      ]
     },
     "execution_count": 28,
     "metadata": {},
     "output_type": "execute_result"
    }
   ],
   "source": [
    "pop_seoul.head()"
   ]
  },
  {
   "cell_type": "code",
   "execution_count": 29,
   "metadata": {},
   "outputs": [],
   "source": [
    "pop_seoul['외국인비율']=(pop_seoul['외국인']) / (pop_seoul['인구수']) * 100\n",
    "pop_seoul['고령자비율']=(pop_seoul['고령자']) / (pop_seoul['인구수']) * 100"
   ]
  },
  {
   "cell_type": "code",
   "execution_count": 30,
   "metadata": {},
   "outputs": [
    {
     "data": {
      "text/html": [
       "<div>\n",
       "<style scoped>\n",
       "    .dataframe tbody tr th:only-of-type {\n",
       "        vertical-align: middle;\n",
       "    }\n",
       "\n",
       "    .dataframe tbody tr th {\n",
       "        vertical-align: top;\n",
       "    }\n",
       "\n",
       "    .dataframe thead th {\n",
       "        text-align: right;\n",
       "    }\n",
       "</style>\n",
       "<table border=\"1\" class=\"dataframe\">\n",
       "  <thead>\n",
       "    <tr style=\"text-align: right;\">\n",
       "      <th></th>\n",
       "      <th>구별</th>\n",
       "      <th>인구수</th>\n",
       "      <th>한국인</th>\n",
       "      <th>외국인</th>\n",
       "      <th>고령자</th>\n",
       "      <th>외국인비율</th>\n",
       "      <th>고령자비율</th>\n",
       "    </tr>\n",
       "  </thead>\n",
       "  <tbody>\n",
       "    <tr>\n",
       "      <th>0</th>\n",
       "      <td>합계</td>\n",
       "      <td>10013781</td>\n",
       "      <td>9733655</td>\n",
       "      <td>280126</td>\n",
       "      <td>1518239</td>\n",
       "      <td>2.797405</td>\n",
       "      <td>15.161496</td>\n",
       "    </tr>\n",
       "    <tr>\n",
       "      <th>1</th>\n",
       "      <td>종로구</td>\n",
       "      <td>161984</td>\n",
       "      <td>151217</td>\n",
       "      <td>10767</td>\n",
       "      <td>28073</td>\n",
       "      <td>6.646953</td>\n",
       "      <td>17.330724</td>\n",
       "    </tr>\n",
       "    <tr>\n",
       "      <th>2</th>\n",
       "      <td>중구</td>\n",
       "      <td>136469</td>\n",
       "      <td>126175</td>\n",
       "      <td>10294</td>\n",
       "      <td>23794</td>\n",
       "      <td>7.543105</td>\n",
       "      <td>17.435462</td>\n",
       "    </tr>\n",
       "    <tr>\n",
       "      <th>3</th>\n",
       "      <td>용산구</td>\n",
       "      <td>246165</td>\n",
       "      <td>229579</td>\n",
       "      <td>16586</td>\n",
       "      <td>39439</td>\n",
       "      <td>6.737757</td>\n",
       "      <td>16.021368</td>\n",
       "    </tr>\n",
       "    <tr>\n",
       "      <th>4</th>\n",
       "      <td>성동구</td>\n",
       "      <td>307193</td>\n",
       "      <td>299042</td>\n",
       "      <td>8151</td>\n",
       "      <td>44728</td>\n",
       "      <td>2.653381</td>\n",
       "      <td>14.560228</td>\n",
       "    </tr>\n",
       "  </tbody>\n",
       "</table>\n",
       "</div>"
      ],
      "text/plain": [
       "    구별       인구수      한국인     외국인      고령자     외국인비율      고령자비율\n",
       "0   합계  10013781  9733655  280126  1518239  2.797405  15.161496\n",
       "1  종로구    161984   151217   10767    28073  6.646953  17.330724\n",
       "2   중구    136469   126175   10294    23794  7.543105  17.435462\n",
       "3  용산구    246165   229579   16586    39439  6.737757  16.021368\n",
       "4  성동구    307193   299042    8151    44728  2.653381  14.560228"
      ]
     },
     "execution_count": 30,
     "metadata": {},
     "output_type": "execute_result"
    }
   ],
   "source": [
    "pop_seoul.head()"
   ]
  },
  {
   "cell_type": "markdown",
   "metadata": {},
   "source": [
    "- 인구수가 제일 많은 지역은 송파구이지만, 영등포구가 제일 외국인이 많다.\n",
    "그리고 그 근처라고 할 수 있는 구로구, 금천구 등도 굉장히 외국인이 많다.\n",
    "송파구는 고령자가 제일 많지만 고령자 비율이 높지 않은 것이 확인된다\n",
    "하지만 강북구, 도봉구, 중구, 종로구, 은평구 같은 경우는 \n",
    "인구수 대비 고령자 비율이 많기 때문에 추후 고령화가 우려된다"
   ]
  },
  {
   "cell_type": "markdown",
   "metadata": {},
   "source": [
    "---\n",
    "# cctv의 인구현황 합치기"
   ]
  },
  {
   "cell_type": "code",
   "execution_count": 31,
   "metadata": {},
   "outputs": [],
   "source": [
    "data_result = pd.merge(CCTV_seoul,pop_seoul, on ='구별')\n",
    "# 구별 가나다순 정렬\n",
    "data_result = data_result.sort_values(by='구별')"
   ]
  },
  {
   "cell_type": "code",
   "execution_count": 32,
   "metadata": {},
   "outputs": [
    {
     "data": {
      "text/html": [
       "<div>\n",
       "<style scoped>\n",
       "    .dataframe tbody tr th:only-of-type {\n",
       "        vertical-align: middle;\n",
       "    }\n",
       "\n",
       "    .dataframe tbody tr th {\n",
       "        vertical-align: top;\n",
       "    }\n",
       "\n",
       "    .dataframe thead th {\n",
       "        text-align: right;\n",
       "    }\n",
       "</style>\n",
       "<table border=\"1\" class=\"dataframe\">\n",
       "  <thead>\n",
       "    <tr style=\"text-align: right;\">\n",
       "      <th></th>\n",
       "      <th>구별</th>\n",
       "      <th>소계</th>\n",
       "      <th>2011년 이전</th>\n",
       "      <th>2012년</th>\n",
       "      <th>2013년</th>\n",
       "      <th>2014년</th>\n",
       "      <th>2015년</th>\n",
       "      <th>2016년</th>\n",
       "      <th>2017년</th>\n",
       "      <th>2018년</th>\n",
       "      <th>최근증가율</th>\n",
       "      <th>인구수</th>\n",
       "      <th>한국인</th>\n",
       "      <th>외국인</th>\n",
       "      <th>고령자</th>\n",
       "      <th>외국인비율</th>\n",
       "      <th>고령자비율</th>\n",
       "    </tr>\n",
       "  </thead>\n",
       "  <tbody>\n",
       "    <tr>\n",
       "      <th>24</th>\n",
       "      <td>강남구</td>\n",
       "      <td>5221</td>\n",
       "      <td>1944.0</td>\n",
       "      <td>195.0</td>\n",
       "      <td>316.0</td>\n",
       "      <td>430</td>\n",
       "      <td>546</td>\n",
       "      <td>765</td>\n",
       "      <td>577</td>\n",
       "      <td>448</td>\n",
       "      <td>52.171379</td>\n",
       "      <td>549898</td>\n",
       "      <td>544804</td>\n",
       "      <td>5094</td>\n",
       "      <td>72602</td>\n",
       "      <td>0.926354</td>\n",
       "      <td>13.202812</td>\n",
       "    </tr>\n",
       "    <tr>\n",
       "      <th>10</th>\n",
       "      <td>강동구</td>\n",
       "      <td>1879</td>\n",
       "      <td>303.0</td>\n",
       "      <td>387.0</td>\n",
       "      <td>134.0</td>\n",
       "      <td>59</td>\n",
       "      <td>144</td>\n",
       "      <td>194</td>\n",
       "      <td>273</td>\n",
       "      <td>385</td>\n",
       "      <td>82.960078</td>\n",
       "      <td>457042</td>\n",
       "      <td>452646</td>\n",
       "      <td>4396</td>\n",
       "      <td>66401</td>\n",
       "      <td>0.961837</td>\n",
       "      <td>14.528424</td>\n",
       "    </tr>\n",
       "    <tr>\n",
       "      <th>2</th>\n",
       "      <td>강북구</td>\n",
       "      <td>1265</td>\n",
       "      <td>243.0</td>\n",
       "      <td>88.0</td>\n",
       "      <td>141.0</td>\n",
       "      <td>74</td>\n",
       "      <td>145</td>\n",
       "      <td>254</td>\n",
       "      <td>1</td>\n",
       "      <td>319</td>\n",
       "      <td>83.068017</td>\n",
       "      <td>316750</td>\n",
       "      <td>312985</td>\n",
       "      <td>3765</td>\n",
       "      <td>61660</td>\n",
       "      <td>1.188635</td>\n",
       "      <td>19.466456</td>\n",
       "    </tr>\n",
       "    <tr>\n",
       "      <th>7</th>\n",
       "      <td>강서구</td>\n",
       "      <td>1617</td>\n",
       "      <td>219.0</td>\n",
       "      <td>155.0</td>\n",
       "      <td>118.0</td>\n",
       "      <td>230</td>\n",
       "      <td>187</td>\n",
       "      <td>190</td>\n",
       "      <td>264</td>\n",
       "      <td>254</td>\n",
       "      <td>77.887789</td>\n",
       "      <td>595703</td>\n",
       "      <td>589302</td>\n",
       "      <td>6401</td>\n",
       "      <td>85992</td>\n",
       "      <td>1.074529</td>\n",
       "      <td>14.435381</td>\n",
       "    </tr>\n",
       "    <tr>\n",
       "      <th>23</th>\n",
       "      <td>관악구</td>\n",
       "      <td>3985</td>\n",
       "      <td>430.0</td>\n",
       "      <td>56.0</td>\n",
       "      <td>419.0</td>\n",
       "      <td>487</td>\n",
       "      <td>609</td>\n",
       "      <td>619</td>\n",
       "      <td>694</td>\n",
       "      <td>671</td>\n",
       "      <td>99.150425</td>\n",
       "      <td>516662</td>\n",
       "      <td>499374</td>\n",
       "      <td>17288</td>\n",
       "      <td>76664</td>\n",
       "      <td>3.346095</td>\n",
       "      <td>14.838328</td>\n",
       "    </tr>\n",
       "  </tbody>\n",
       "</table>\n",
       "</div>"
      ],
      "text/plain": [
       "     구별    소계  2011년 이전  2012년  2013년  2014년  2015년  2016년  2017년  2018년  \\\n",
       "24  강남구  5221    1944.0  195.0  316.0    430    546    765    577    448   \n",
       "10  강동구  1879     303.0  387.0  134.0     59    144    194    273    385   \n",
       "2   강북구  1265     243.0   88.0  141.0     74    145    254      1    319   \n",
       "7   강서구  1617     219.0  155.0  118.0    230    187    190    264    254   \n",
       "23  관악구  3985     430.0   56.0  419.0    487    609    619    694    671   \n",
       "\n",
       "        최근증가율     인구수     한국인    외국인    고령자     외국인비율      고령자비율  \n",
       "24  52.171379  549898  544804   5094  72602  0.926354  13.202812  \n",
       "10  82.960078  457042  452646   4396  66401  0.961837  14.528424  \n",
       "2   83.068017  316750  312985   3765  61660  1.188635  19.466456  \n",
       "7   77.887789  595703  589302   6401  85992  1.074529  14.435381  \n",
       "23  99.150425  516662  499374  17288  76664  3.346095  14.838328  "
      ]
     },
     "execution_count": 32,
     "metadata": {},
     "output_type": "execute_result"
    }
   ],
   "source": [
    "data_result.head()"
   ]
  },
  {
   "cell_type": "code",
   "execution_count": 33,
   "metadata": {},
   "outputs": [],
   "source": [
    "delColum = data_result.columns[2:10]\n",
    "\n",
    "for i in delColum:\n",
    "    del data_result[i]"
   ]
  },
  {
   "cell_type": "code",
   "execution_count": 34,
   "metadata": {},
   "outputs": [],
   "source": [
    "# index를 구벼롤 \n",
    "data_result.set_index(\"구별\", inplace= True)"
   ]
  },
  {
   "cell_type": "code",
   "execution_count": 35,
   "metadata": {},
   "outputs": [],
   "source": [
    "# save as CCTV_Result.csv\n",
    "data_result.to_csv(\"data/CCTV_Result.csv\", encoding=\"utf-8\")"
   ]
  },
  {
   "cell_type": "code",
   "execution_count": 36,
   "metadata": {},
   "outputs": [
    {
     "data": {
      "text/plain": [
       "<AxesSubplot:title={'center':'CCTV소계'}, ylabel='구별'>"
      ]
     },
     "execution_count": 36,
     "metadata": {},
     "output_type": "execute_result"
    },
    {
     "data": {
      "image/png": "[encoded data removed]",
      "text/plain": [
       "<Figure size 720x720 with 1 Axes>"
      ]
     },
     "metadata": {
      "needs_background": "light"
     },
     "output_type": "display_data"
    }
   ],
   "source": [
    "import matplotlib.pyplot as plt\n",
    "# 한글 폰트 설정\n",
    "plt.rcParams['font.family'] = 'AppleGothic'\n",
    "\n",
    "# 소계 bar chart\n",
    "data_result['소계'].sort_values().plot(kind='barh', figsize=(10, 10), title='CCTV소계', grid=True)"
   ]
  },
  {
   "cell_type": "code",
   "execution_count": 37,
   "metadata": {},
   "outputs": [
    {
     "data": {
      "text/plain": [
       "<AxesSubplot:title={'center':'인구수'}, ylabel='구별'>"
      ]
     },
     "execution_count": 37,
     "metadata": {},
     "output_type": "execute_result"
    },
    {
     "data": {
      "image/png": "[encoded data removed]",
      "text/plain": [
       "<Figure size 720x720 with 1 Axes>"
      ]
     },
     "metadata": {
      "needs_background": "light"
     },
     "output_type": "display_data"
    }
   ],
   "source": [
    "# 인구수 bar chart\n",
    "data_result['인구수'].sort_values().plot(kind='barh', figsize=(10, 10), title='인구수', grid=True)"
   ]
  },
  {
   "cell_type": "markdown",
   "metadata": {},
   "source": [
    "### 인구대비 CCTV 비율"
   ]
  },
  {
   "cell_type": "code",
   "execution_count": 38,
   "metadata": {},
   "outputs": [
    {
     "data": {
      "text/plain": [
       "<AxesSubplot:title={'center':'CCTV소계 : 인구수 비율'}, ylabel='구별'>"
      ]
     },
     "execution_count": 38,
     "metadata": {},
     "output_type": "execute_result"
    },
    {
     "data": {
      "image/png": "[encoded data removed]",
      "text/plain": [
       "<Figure size 720x720 with 1 Axes>"
      ]
     },
     "metadata": {
      "needs_background": "light"
     },
     "output_type": "display_data"
    }
   ],
   "source": [
    "data_result.head()\n",
    "\n",
    "data_소계_인구수 = data_result.소계 / data_result.인구수\n",
    "data_소계_인구수.sort_values().plot(kind='barh', figsize=(10, 10), title='CCTV소계 : 인구수 비율', grid=True)"
   ]
  },
  {
   "cell_type": "code",
   "execution_count": 39,
   "metadata": {},
   "outputs": [
    {
     "data": {
      "text/plain": [
       "-0.44225082573365776"
      ]
     },
     "execution_count": 39,
     "metadata": {},
     "output_type": "execute_result"
    },
    {
     "data": {
      "image/png": "[encoded data removed]",
      "text/plain": [
       "<Figure size 432x288 with 1 Axes>"
      ]
     },
     "metadata": {
      "needs_background": "light"
     },
     "output_type": "display_data"
    }
   ],
   "source": [
    "#고령자 / 소계 scatter plot\n",
    "plt.scatter(data_result['고령자'], data_result['소계'])\n",
    "# 고령자/소계 correlation\n",
    "data_result['고령자'].corr(data_result['소계'])\n",
    "# 고령자비율 / 소계 correlation\n",
    "data_result['고령자비율'].corr(data_result['소계'])"
   ]
  },
  {
   "cell_type": "code",
   "execution_count": 40,
   "metadata": {},
   "outputs": [
    {
     "data": {
      "text/plain": [
       "Text(0, 0.5, 'CCTV')"
      ]
     },
     "execution_count": 40,
     "metadata": {},
     "output_type": "execute_result"
    },
    {
     "data": {
      "image/png": "[encoded data removed]",
      "text/plain": [
       "<Figure size 576x576 with 1 Axes>"
      ]
     },
     "metadata": {},
     "output_type": "display_data"
    }
   ],
   "source": [
    "# applegothic 폰트 설정\n",
    "plt.rcParams['font.family'] = 'AppleGothic'\n",
    "# plt style\n",
    "plt.style.use('ggplot')\n",
    "# plt size\n",
    "plt.figure(figsize=(8, 8))\n",
    "\n",
    "# 인구수 / 소계 scatter plot\n",
    "plt.scatter(data_result['인구수'], data_result['소계'], color='cornflowerblue', s=50)\n",
    "\n",
    "# xlabel\n",
    "plt.xlabel('인구수')\n",
    "# ylabel\n",
    "plt.ylabel('CCTV')"
   ]
  },
  {
   "cell_type": "markdown",
   "metadata": {},
   "source": [
    "- 인구수 대비 CCTV 비율 TOP 5는 '중구, 강남구, 종로구, 성동구, 용산구' 이다\n",
    "- 인구수 대비 CCTV 비율 -TOP 4는 '송파구, 도봉구, 중랑구, 강서구' 이다\n",
    "- 고령화가 우려되는 지역들은 CCTV 대수가 적다\n",
    "- 젊은이(Not 고령자) 비율이 높을 수록 CCTV 대수가 많다\n",
    "- 젊은 것들이 문제다"
   ]
  },
  {
   "cell_type": "code",
   "execution_count": 41,
   "metadata": {},
   "outputs": [
    {
     "name": "stdout",
     "output_type": "stream",
     "text": [
      " \n",
      "0.002885 x + 1064\n"
     ]
    },
    {
     "data": {
      "text/plain": [
       "[<matplotlib.lines.Line2D at 0x7ff36ecea5e0>]"
      ]
     },
     "execution_count": 41,
     "metadata": {},
     "output_type": "execute_result"
    },
    {
     "data": {
      "image/png": "[encoded data removed]",
      "text/plain": [
       "<Figure size 576x576 with 1 Axes>"
      ]
     },
     "metadata": {},
     "output_type": "display_data"
    }
   ],
   "source": [
    "import numpy as np\n",
    "# 인구수, 소계 회귀선, 평균선 만들기\n",
    "\n",
    "# plt size\n",
    "plt.figure(figsize=(8, 8))\n",
    "\n",
    "plt.plot(data_result['인구수'], data_result['소계'], 'o', color='cornflowerblue')\n",
    "fp1 = np.polyfit(data_result['인구수'], data_result['소계'], 1)\n",
    "f1 = np.poly1d(fp1)\n",
    "print(f1)\n",
    "# 회귀선 만들기\n",
    "plt.plot(data_result['인구수'], f1(data_result['인구수']), color='cornflowerblue', linewidth=2)"
   ]
  },
  {
   "cell_type": "markdown",
   "metadata": {},
   "source": [
    "> CCTV 댓수의 기준선"
   ]
  },
  {
   "cell_type": "code",
   "execution_count": 42,
   "metadata": {},
   "outputs": [
    {
     "data": {
      "text/html": [
       "<div>\n",
       "<style scoped>\n",
       "    .dataframe tbody tr th:only-of-type {\n",
       "        vertical-align: middle;\n",
       "    }\n",
       "\n",
       "    .dataframe tbody tr th {\n",
       "        vertical-align: top;\n",
       "    }\n",
       "\n",
       "    .dataframe thead th {\n",
       "        text-align: right;\n",
       "    }\n",
       "</style>\n",
       "<table border=\"1\" class=\"dataframe\">\n",
       "  <thead>\n",
       "    <tr style=\"text-align: right;\">\n",
       "      <th></th>\n",
       "      <th>소계</th>\n",
       "      <th>최근증가율</th>\n",
       "      <th>인구수</th>\n",
       "      <th>한국인</th>\n",
       "      <th>외국인</th>\n",
       "      <th>고령자</th>\n",
       "      <th>외국인비율</th>\n",
       "      <th>고령자비율</th>\n",
       "      <th>오차</th>\n",
       "    </tr>\n",
       "    <tr>\n",
       "      <th>구별</th>\n",
       "      <th></th>\n",
       "      <th></th>\n",
       "      <th></th>\n",
       "      <th></th>\n",
       "      <th></th>\n",
       "      <th></th>\n",
       "      <th></th>\n",
       "      <th></th>\n",
       "      <th></th>\n",
       "    </tr>\n",
       "  </thead>\n",
       "  <tbody>\n",
       "    <tr>\n",
       "      <th>강남구</th>\n",
       "      <td>5221</td>\n",
       "      <td>52.171379</td>\n",
       "      <td>549898</td>\n",
       "      <td>544804</td>\n",
       "      <td>5094</td>\n",
       "      <td>72602</td>\n",
       "      <td>0.926354</td>\n",
       "      <td>13.202812</td>\n",
       "      <td>2570.380612</td>\n",
       "    </tr>\n",
       "    <tr>\n",
       "      <th>송파구</th>\n",
       "      <td>1586</td>\n",
       "      <td>62.833676</td>\n",
       "      <td>680883</td>\n",
       "      <td>674095</td>\n",
       "      <td>6788</td>\n",
       "      <td>89539</td>\n",
       "      <td>0.996941</td>\n",
       "      <td>13.150424</td>\n",
       "      <td>1442.540920</td>\n",
       "    </tr>\n",
       "    <tr>\n",
       "      <th>관악구</th>\n",
       "      <td>3985</td>\n",
       "      <td>99.150425</td>\n",
       "      <td>516662</td>\n",
       "      <td>499374</td>\n",
       "      <td>17288</td>\n",
       "      <td>76664</td>\n",
       "      <td>3.346095</td>\n",
       "      <td>14.838328</td>\n",
       "      <td>1430.274035</td>\n",
       "    </tr>\n",
       "    <tr>\n",
       "      <th>도봉구</th>\n",
       "      <td>858</td>\n",
       "      <td>66.601942</td>\n",
       "      <td>333495</td>\n",
       "      <td>331238</td>\n",
       "      <td>2257</td>\n",
       "      <td>60023</td>\n",
       "      <td>0.676772</td>\n",
       "      <td>17.998171</td>\n",
       "      <td>1168.247488</td>\n",
       "    </tr>\n",
       "    <tr>\n",
       "      <th>강서구</th>\n",
       "      <td>1617</td>\n",
       "      <td>77.887789</td>\n",
       "      <td>595703</td>\n",
       "      <td>589302</td>\n",
       "      <td>6401</td>\n",
       "      <td>85992</td>\n",
       "      <td>1.074529</td>\n",
       "      <td>14.435381</td>\n",
       "      <td>1165.777237</td>\n",
       "    </tr>\n",
       "  </tbody>\n",
       "</table>\n",
       "</div>"
      ],
      "text/plain": [
       "       소계      최근증가율     인구수     한국인    외국인    고령자     외국인비율      고령자비율  \\\n",
       "구별                                                                        \n",
       "강남구  5221  52.171379  549898  544804   5094  72602  0.926354  13.202812   \n",
       "송파구  1586  62.833676  680883  674095   6788  89539  0.996941  13.150424   \n",
       "관악구  3985  99.150425  516662  499374  17288  76664  3.346095  14.838328   \n",
       "도봉구   858  66.601942  333495  331238   2257  60023  0.676772  17.998171   \n",
       "강서구  1617  77.887789  595703  589302   6401  85992  1.074529  14.435381   \n",
       "\n",
       "              오차  \n",
       "구별                \n",
       "강남구  2570.380612  \n",
       "송파구  1442.540920  \n",
       "관악구  1430.274035  \n",
       "도봉구  1168.247488  \n",
       "강서구  1165.777237  "
      ]
     },
     "execution_count": 42,
     "metadata": {},
     "output_type": "execute_result"
    }
   ],
   "source": [
    "data_result['오차'] = np.abs(data_result['소계'] - f1(data_result['인구수']))\n",
    "# sort descending\n",
    "data_result = data_result.sort_values(by='오차', ascending=False)\n",
    "data_result.head()"
   ]
  },
  {
   "cell_type": "code",
   "execution_count": 43,
   "metadata": {},
   "outputs": [
    {
     "data": {
      "image/png": "[encoded data removed]",
      "text/plain": [
       "<Figure size 1008x720 with 2 Axes>"
      ]
     },
     "metadata": {},
     "output_type": "display_data"
    }
   ],
   "source": [
    "plt.figure(figsize=(14, 10))\n",
    "plt.scatter(data_result['인구수'], data_result['소계'], c=data_result['오차'], cmap='RdYlBu')\n",
    "# 기준선\n",
    "fx = data_result['인구수']\n",
    "plt.plot(fx, f1(fx), color='red', linewidth=3, linestyle='-')\n",
    "plt.xlabel('인구수')\n",
    "plt.ylabel('CCTV')\n",
    "plt.title('인구수 : CCTV')\n",
    "plt.colorbar()\n",
    "\n",
    "# 오차가 가장 큰 10개 구에 텍스트 붙이기\n",
    "for i in range(10):\n",
    "    plt.text(data_result['인구수'][i]*1.02, data_result['소계'][i]*0.98, data_result.index[i], size=15)"
   ]
  }
 ],
 "metadata": {
  "kernelspec": {
   "display_name": "Python 3.9.7 ('base')",
   "language": "python",
   "name": "python3"
  },
  "language_info": {
   "codemirror_mode": {
    "name": "ipython",
    "version": 3
   },
   "file_extension": ".py",
   "mimetype": "text/x-python",
   "name": "python",
   "nbconvert_exporter": "python",
   "pygments_lexer": "ipython3",
   "version": "3.9.7"
  },
  "orig_nbformat": 4,
  "vscode": {
   "interpreter": {
    "hash": "c34e8390e776d2ee205b71ed5a6130fee3cef8da5e87e926ce18e14f4a070d72"
   }
  }
 },
 "nbformat": 4,
 "nbformat_minor": 2
}
