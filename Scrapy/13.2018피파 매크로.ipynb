{
 "cells": [
  {
   "cell_type": "code",
   "execution_count": 1,
   "metadata": {},
   "outputs": [],
   "source": [
    "from selenium import webdriver\n",
    "from selenium.webdriver.chrome.service import Service\n",
    "from webdriver_manager.chrome import ChromeDriverManager\n",
    "from selenium.webdriver.common.by import By\n",
    "from bs4 import BeautifulSoup\n",
    "# pandas\n",
    "import pandas as pd\n",
    "import time"
   ]
  },
  {
   "cell_type": "code",
   "execution_count": 21,
   "metadata": {},
   "outputs": [
    {
     "name": "stdout",
     "output_type": "stream",
     "text": [
      "\n"
     ]
    },
    {
     "name": "stderr",
     "output_type": "stream",
     "text": [
      "[WDM] - ====== WebDriver manager ======\n",
      "[WDM] - Current google-chrome version is 103.0.5060\n",
      "[WDM] - Get LATEST chromedriver version for 103.0.5060 google-chrome\n",
      "[WDM] - Driver [/Users/tj/.wdm/drivers/chromedriver/mac64/103.0.5060.53/chromedriver] found in cache\n"
     ]
    }
   ],
   "source": [
    "# Chrome Browser와 Chrome Driver Version 확인\n",
    "chrome_options = webdriver.ChromeOptions()\n",
    "driver = webdriver.Chrome(ChromeDriverManager().install(), options=chrome_options)\n",
    "driver.get('https://www.fifa.com/tournaments/mens/worldcup/2018russia/teams')\n",
    "\n",
    "time.sleep(3)\n",
    "\n",
    "privacyBtn = driver.find_element_by_xpath('//*[@id=\"onetrust-accept-btn-handler\"]')\n",
    "privacyBtn.click()\n",
    "\n",
    "html = driver.page_source\n",
    "soup = BeautifulSoup(html, 'html.parser')\n",
    "links = soup.select('a.ff-display-card_displayCardLink__w0uwz')\n",
    "df = pd.DataFrame(columns=['name', 'country', 'position'])\n",
    "\n",
    "for link in links:\n",
    "    href = link.get('href')\n",
    "    try:\n",
    "        time.sleep(1)\n",
    "        driver.get('https://www.fifa.com/tournaments/mens/worldcup/2018russia/' + href)\n",
    "        time.sleep(2)\n",
    "        \n",
    "        innerDf = pd.DataFrame(columns=['name', 'country', 'position'])\n",
    "        html = driver.page_source\n",
    "        # parse html\n",
    "        soup = BeautifulSoup(html, 'html.parser')\n",
    "\n",
    "        namelist = soup.select('.fp-squad-player-card_firstRow__2H_Ys')\n",
    "        country = soup.select('.fp-team-banner_Team__ceSMi h1')\n",
    "        positionlist = soup.select('.fp-squad-player-card_position__E_nd8')\n",
    "\n",
    "        for i, name in enumerate(namelist):\n",
    "            position = positionlist[i].text\n",
    "            innerDf.loc[i] = [name.text.strip(), country[0].text, position]\n",
    "\n",
    "        df = df.append(innerDf)\n",
    "        # df.to_csv('fifa.csv', encoding='utf-8', mode='w', index=False) \n",
    "    \n",
    "\n",
    "    except:\n",
    "        break\n",
    "\n",
    "df.to_csv('fifa.csv', encoding='utf-8', mode='w', index=False) \n",
    "    \n"
   ]
  },
  {
   "cell_type": "code",
   "execution_count": null,
   "metadata": {},
   "outputs": [],
   "source": [
    "import urllib.request as req\n",
    "\n",
    "chrome_options = webdriver.ChromeOptions()\n",
    "driver = webdriver.Chrome(ChromeDriverManager().install(), options=chrome_options)\n",
    "driver.get('https://www.fifa.com/tournaments/mens/worldcup/2018russia/teams')\n",
    "\n",
    "time.sleep(3)\n",
    "\n",
    "privacyBtn = driver.find_element_by_xpath('//*[@id=\"onetrust-accept-btn-handler\"]')\n",
    "privacyBtn.click()\n",
    "\n",
    "html = driver.page_source\n",
    "soup = BeautifulSoup(html, 'html.parser')\n",
    "links = soup.select('a.ff-display-card_displayCardLink__w0uwz')\n",
    "df = pd.DataFrame(columns=['name', 'country', 'position'])\n",
    "\n",
    "for link in links:\n",
    "    href = link.get('href')\n",
    "    try:\n",
    "        time.sleep(1)\n",
    "        # get url\n",
    "        url = 'https://www.fifa.com/tournaments/mens/worldcup/2018russia/' + href\n",
    "        # get html\n",
    "        html = req.urlopen(url).read()\n",
    "        # parse html\n",
    "        soup = BeautifulSoup(html, 'html.parser')\n",
    "\n",
    "        namelist = soup.select('.fp-squad-player-card_firstRow__2H_Ys')\n",
    "        country = soup.select('.fp-team-banner_Team__ceSMi h1')\n",
    "        positionlist = soup.select('.fp-squad-player-card_position__E_nd8')\n",
    "\n",
    "        for i, name in enumerate(namelist):\n",
    "            position = positionlist[i].text\n",
    "            innerDf.loc[i] = [name.text.strip(), country[0].text, position]\n",
    "\n",
    "        df = df.append(innerDf)\n",
    "        # df.to_csv('fifa.csv', encoding='utf-8', mode='w', index=False) \n",
    "    \n",
    "\n",
    "    except:\n",
    "        break\n",
    "\n",
    "df.to_csv('fifa.csv', encoding='utf-8', mode='w', index=False) \n",
    "    \n"
   ]
  }
 ],
 "metadata": {
  "kernelspec": {
   "display_name": "Python 3.9.7 ('base')",
   "language": "python",
   "name": "python3"
  },
  "language_info": {
   "codemirror_mode": {
    "name": "ipython",
    "version": 3
   },
   "file_extension": ".py",
   "mimetype": "text/x-python",
   "name": "python",
   "nbconvert_exporter": "python",
   "pygments_lexer": "ipython3",
   "version": "3.9.7"
  },
  "orig_nbformat": 4,
  "vscode": {
   "interpreter": {
    "hash": "c34e8390e776d2ee205b71ed5a6130fee3cef8da5e87e926ce18e14f4a070d72"
   }
  }
 },
 "nbformat": 4,
 "nbformat_minor": 2
}
