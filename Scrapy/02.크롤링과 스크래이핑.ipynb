{
 "cells": [
  {
   "cell_type": "markdown",
   "metadata": {},
   "source": [
    "# 크롤링과 스크래핑\n",
    "### requests\n",
    "#### 응답코드\n",
    "- 1xx: 요청을 받았고 작업 진행중\n",
    "- 2xx: 사용자의 요청이 성공적으로 수행됨\n",
    "- 3xx: 요청은 완료되었으나 리다이렉션이 필요\n",
    "- 4xx: 사용자의 요청이 잘못됨\n",
    "- 5xx: 서버에 오류가 발생함"
   ]
  },
  {
   "cell_type": "code",
   "execution_count": 1,
   "metadata": {},
   "outputs": [
    {
     "name": "stdout",
     "output_type": "stream",
     "text": [
      "200\n"
     ]
    }
   ],
   "source": [
    "# request 응답 코드\n",
    "import requests\n",
    "\n",
    "URL = 'https://www.naver.com'\n",
    "response = requests.get(URL)\n",
    "print(response.status_code)\n",
    "# print(response.text)"
   ]
  },
  {
   "cell_type": "code",
   "execution_count": 7,
   "metadata": {},
   "outputs": [
    {
     "name": "stdout",
     "output_type": "stream",
     "text": [
      "200\n"
     ]
    }
   ],
   "source": [
    "# 네이버에서 정보 검색 결과 가져오기\n",
    "URL = 'https://search.naver.com/search.naver'\n",
    "params = {'query': '아이유'}\n",
    "response = requests.get(URL, params)\n",
    "print(response.status_code)\n",
    "# print(response.text)"
   ]
  },
  {
   "cell_type": "code",
   "execution_count": 10,
   "metadata": {},
   "outputs": [
    {
     "name": "stdout",
     "output_type": "stream",
     "text": [
      "200\n"
     ]
    }
   ],
   "source": [
    "# get search result from comic.naver.com\n",
    "URL = 'https://comic.naver.com/webtoon/list.nhn'\n",
    "params = {'titleId': '654654'}\n",
    "response = requests.get(URL, params)\n",
    "print(response.status_code)\n",
    "# print(response.text)"
   ]
  },
  {
   "cell_type": "code",
   "execution_count": 12,
   "metadata": {},
   "outputs": [
    {
     "name": "stdout",
     "output_type": "stream",
     "text": [
      "<class 'dict'>\n"
     ]
    }
   ],
   "source": [
    "# Json 형태의 데이터 가져오기\n",
    "import requests\n",
    "\n",
    "response = requests.get('https://raw.githubusercontent.com/naver/naver-openapi-guide/draft/naver-openapi-swagger.json')\n",
    "result = response.json()\n",
    "print(type(result))\n",
    "# print(result)"
   ]
  }
 ],
 "metadata": {
  "kernelspec": {
   "display_name": "Python 3.9.7 ('base')",
   "language": "python",
   "name": "python3"
  },
  "language_info": {
   "codemirror_mode": {
    "name": "ipython",
    "version": 3
   },
   "file_extension": ".py",
   "mimetype": "text/x-python",
   "name": "python",
   "nbconvert_exporter": "python",
   "pygments_lexer": "ipython3",
   "version": "3.9.7"
  },
  "orig_nbformat": 4,
  "vscode": {
   "interpreter": {
    "hash": "c34e8390e776d2ee205b71ed5a6130fee3cef8da5e87e926ce18e14f4a070d72"
   }
  }
 },
 "nbformat": 4,
 "nbformat_minor": 2
}
