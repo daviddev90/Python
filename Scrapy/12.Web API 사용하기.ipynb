{
 "cells": [
  {
   "cell_type": "markdown",
   "metadata": {},
   "source": [
    "# Naver Geocode API"
   ]
  },
  {
   "cell_type": "code",
   "execution_count": 21,
   "metadata": {},
   "outputs": [],
   "source": [
    "import urllib.request\n",
    "import json\n",
    "\n",
    "client_id = '345bnyc1cf'\n",
    "client_secret = 'otoFCXOpzjknUtnDPH6YfkyhYwCS2WNapc2fNg6Q'\n",
    "\n",
    "encText = urllib.parse.quote(\"서울시 서초구 고무래로10길 39\")\n",
    "url = 'https://naveropenapi.apigw.ntruss.com/map-geocode/v2/geocode?query=' + encText\n",
    "\n",
    "request = urllib.request.Request(url)\n",
    "request.add_header('X-NCP-APIGW-API-KEY-ID', client_id)\n",
    "request.add_header('X-NCP-APIGW-API-KEY', client_secret)\n",
    "\n",
    "res = urllib.request.urlopen(request)\n",
    "rescode = res.getcode()\n",
    "if (rescode == 200):\n",
    "    response_body = res.read()\n",
    "    decRes = response_body.decode('utf-8')\n",
    "    data = json.loads(decRes)\n",
    "\n",
    "else:\n",
    "    print(\"Error Code:\" + rescode)"
   ]
  },
  {
   "cell_type": "code",
   "execution_count": 22,
   "metadata": {},
   "outputs": [
    {
     "name": "stdout",
     "output_type": "stream",
     "text": [
      "37.4993039 127.0104774\n"
     ]
    }
   ],
   "source": [
    "lng = data['addresses'][0]['x']\n",
    "lat = data['addresses'][0]['y']\n",
    "\n",
    "print(lat, lng)\n"
   ]
  },
  {
   "cell_type": "markdown",
   "metadata": {},
   "source": [
    "---\n",
    "# OpenWeatherMap\n",
    "- http://openweathermap.org\n",
    "- 기본적으로 유료이지만, 현재 날씨와 5일까지의 날씨는 무료로 사용가능"
   ]
  },
  {
   "cell_type": "markdown",
   "metadata": {},
   "source": [
    "### 서울, 도쿄, 북경, 뉴욕의 날씨 출력하기"
   ]
  },
  {
   "cell_type": "code",
   "execution_count": 49,
   "metadata": {},
   "outputs": [
    {
     "name": "stdout",
     "output_type": "stream",
     "text": [
      "+ city = Seoul\n",
      "| weather = moderate rain\n",
      "| temp_min = 24.689999999999998\n",
      "| temp_max = 28.660000000000025\n",
      "| humidity = 92\n",
      "\n",
      "+ city = Tokyo\n",
      "| weather = scattered clouds\n",
      "| temp_min = 27.590000000000032\n",
      "| temp_max = 34.879999999999995\n",
      "| humidity = 63\n",
      "\n",
      "+ city = London\n",
      "| weather = broken clouds\n",
      "| temp_min = 16.03000000000003\n",
      "| temp_max = 20.0\n",
      "| humidity = 61\n",
      "\n",
      "+ city = Paris\n",
      "| weather = clear sky\n",
      "| temp_min = 20.340000000000032\n",
      "| temp_max = 23.379999999999995\n",
      "| humidity = 55\n",
      "\n",
      "+ city = Berlin\n",
      "| weather = broken clouds\n",
      "| temp_min = 19.03000000000003\n",
      "| temp_max = 24.430000000000007\n",
      "| humidity = 66\n",
      "\n",
      "+ city = New York\n",
      "| weather = broken clouds\n",
      "| temp_min = 15.050000000000011\n",
      "| temp_max = 20.980000000000018\n",
      "| humidity = 59\n",
      "\n"
     ]
    }
   ],
   "source": [
    "import urllib.request\n",
    "import json\n",
    "\n",
    "# use openweathermap.org\n",
    "apikey = 'e1a1d5b915f2e1359cf700e9f0f2c7ae'\n",
    "url = f'https://api.openweathermap.org/data/2.5/weather?lat={lat}&lon={lng}&appid={apikey}'\n",
    "\n",
    "K2C = lambda k: k - 273.15\n",
    "\n",
    "\n",
    "cities = ['Seoul,KR', 'Tokyo,JP', 'London,UK', 'Paris,FR', 'Berlin,DE', 'New York,US']\n",
    "for city in cities:\n",
    "    url = f'https://api.openweathermap.org/data/2.5/weather?q={city}&appid={apikey}'\n",
    "    url = url.replace(\" \", \"%20\")\n",
    "    request = urllib.request.Request(url)\n",
    "    res = urllib.request.urlopen(request)\n",
    "    rescode = res.getcode()\n",
    "    if (rescode == 200):\n",
    "        response_body = res.read()\n",
    "        decRes = response_body.decode('utf-8')\n",
    "        data = json.loads(decRes)\n",
    "\n",
    "        # print name, weather, temp_min, temp_max, humidity, pressure\n",
    "        print('+ city =', f'{data[\"name\"]}')\n",
    "        print('| weather =', f'{data[\"weather\"][0][\"description\"]}')\n",
    "        # celcius temp_min\n",
    "        print('| temp_min =', f'{K2C(data[\"main\"][\"temp_min\"])}')\n",
    "        # celcius temp_max\n",
    "        print('| temp_max =', f'{K2C(data[\"main\"][\"temp_max\"])}')\n",
    "        print('| humidity =', f'{data[\"main\"][\"humidity\"]}')\n",
    "        print()\n",
    "    else:\n",
    "        print(\"Error Code:\" + rescode)\n"
   ]
  }
 ],
 "metadata": {
  "kernelspec": {
   "display_name": "Python 3.9.7 ('base')",
   "language": "python",
   "name": "python3"
  },
  "language_info": {
   "codemirror_mode": {
    "name": "ipython",
    "version": 3
   },
   "file_extension": ".py",
   "mimetype": "text/x-python",
   "name": "python",
   "nbconvert_exporter": "python",
   "pygments_lexer": "ipython3",
   "version": "3.9.7"
  },
  "orig_nbformat": 4,
  "vscode": {
   "interpreter": {
    "hash": "c34e8390e776d2ee205b71ed5a6130fee3cef8da5e87e926ce18e14f4a070d72"
   }
  }
 },
 "nbformat": 4,
 "nbformat_minor": 2
}
