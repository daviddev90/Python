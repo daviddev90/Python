{
 "cells": [
  {
   "cell_type": "code",
   "execution_count": 18,
   "metadata": {},
   "outputs": [],
   "source": [
    "import requests\n",
    "from bs4 import BeautifulSoup\n",
    "import time\n",
    "\n",
    "url = 'https://news.daum.net/digital#1'\n",
    "\n",
    "res = requests.get(url)\n",
    "soup = BeautifulSoup(res.text, 'html.parser')\n",
    "\n",
    "articles = soup.select('.list_newsmajor .link_txt')\n",
    "\n",
    "# for article in articles:\n",
    "#     print(article.text)\n",
    "#     print(article.get('href'))\n",
    "\n",
    "#     innerUrl = article.get('href')\n",
    "#     innerRes = requests.get(innerUrl)\n",
    "#     innerSoup = BeautifulSoup(innerRes.text, 'html.parser')\n",
    "#     innerArticle = innerSoup.select_one('.news_view')\n",
    "\n",
    "#     print(innerArticle.text)\n",
    "\n",
    "#     # sleep 3 seconds\n",
    "#     time.sleep(3)"
   ]
  }
 ],
 "metadata": {
  "kernelspec": {
   "display_name": "Python 3.9.7 ('base')",
   "language": "python",
   "name": "python3"
  },
  "language_info": {
   "codemirror_mode": {
    "name": "ipython",
    "version": 3
   },
   "file_extension": ".py",
   "mimetype": "text/x-python",
   "name": "python",
   "nbconvert_exporter": "python",
   "pygments_lexer": "ipython3",
   "version": "3.9.7"
  },
  "orig_nbformat": 4,
  "vscode": {
   "interpreter": {
    "hash": "c34e8390e776d2ee205b71ed5a6130fee3cef8da5e87e926ce18e14f4a070d72"
   }
  }
 },
 "nbformat": 4,
 "nbformat_minor": 2
}
