{
 "cells": [
  {
   "cell_type": "markdown",
   "metadata": {},
   "source": [
    "### 단계 1) 테이블 생성하기"
   ]
  },
  {
   "cell_type": "code",
   "execution_count": null,
   "metadata": {},
   "outputs": [],
   "source": [
    "import sqlite3\n",
    "\n",
    "# sqlite3를 사용하여 데이터베이스를 생성하고 연결하기\n",
    "dbpath = 'data/test.sqlite'\n",
    "conn = sqlite3.connect(dbpath)\n",
    "\n",
    "# 테이블을 생성하고 데이터 넣기\n",
    "c = conn.cursor()\n",
    "c.executescript(\n",
    "    \"\"\"\n",
    "    /* item 테이블이 이미 있으면 삭제 */\n",
    "    DROP TABLE IF EXISTS daum_news;\n",
    "\n",
    "    CREATE TABLE items (\n",
    "        id INTEGER PRIMARY KEY AUTOINCREMENT,\n",
    "        title TEXT,\n",
    "        link TEXT,\n",
    "    );\n",
    "    \"\"\"\n",
    ")\n",
    "\n",
    "# 데이터베이스에 반영하기\n",
    "conn.commit()\n",
    "\n",
    "# 데이터베이스 연결 닫기\n",
    "conn.close()"
   ]
  },
  {
   "cell_type": "markdown",
   "metadata": {},
   "source": [
    "### 단계2) 수집하기"
   ]
  },
  {
   "cell_type": "code",
   "execution_count": 3,
   "metadata": {},
   "outputs": [],
   "source": [
    "import requests\n",
    "from bs4 import BeautifulSoup\n",
    "import time\n",
    "\n",
    "page = 3 # 수집하길 원는 페이지 분량\n",
    "newslist = [] # 데이터를 저장할 리스트\n",
    "\n",
    "for i in range(1, page):\n",
    "  url = 'https://news.daum.net/digital#'+str(i)\n",
    "\n",
    "  res = requests.get(url)\n",
    "  soup = BeautifulSoup(res.text, 'html.parser')\n",
    "\n",
    "  articles = soup.select('.list_newsmajor .link_txt')\n",
    "  for article in articles:\n",
    "    newslist.append(\n",
    "      (article.text,article.get('href'))\n",
    "    )\n",
    "\n",
    "  time.sleep(1)"
   ]
  },
  {
   "cell_type": "markdown",
   "metadata": {},
   "source": [
    "### 데이터 SQL에 추가하기"
   ]
  },
  {
   "cell_type": "code",
   "execution_count": null,
   "metadata": {},
   "outputs": [],
   "source": [
    "conn = sqlite3.connect(dbpath)\n",
    "\n",
    "c = conn.cursor()\n",
    "c.executemany('INSERT INTO items (title, link) VALUES (?, ?)', newslist)\n",
    "conn.commit()\n",
    "conn.close()"
   ]
  }
 ],
 "metadata": {
  "kernelspec": {
   "display_name": "Python 3.9.7 ('base')",
   "language": "python",
   "name": "python3"
  },
  "language_info": {
   "codemirror_mode": {
    "name": "ipython",
    "version": 3
   },
   "file_extension": ".py",
   "mimetype": "text/x-python",
   "name": "python",
   "nbconvert_exporter": "python",
   "pygments_lexer": "ipython3",
   "version": "3.9.7"
  },
  "orig_nbformat": 4,
  "vscode": {
   "interpreter": {
    "hash": "c34e8390e776d2ee205b71ed5a6130fee3cef8da5e87e926ce18e14f4a070d72"
   }
  }
 },
 "nbformat": 4,
 "nbformat_minor": 2
}
