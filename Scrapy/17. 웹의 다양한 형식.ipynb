{
 "cells": [
  {
   "cell_type": "markdown",
   "metadata": {},
   "source": [
    "# XML 분석\n",
    "### 기상청 전국 날씨 분류하기"
   ]
  },
  {
   "cell_type": "code",
   "execution_count": null,
   "metadata": {},
   "outputs": [],
   "source": []
  },
  {
   "cell_type": "code",
   "execution_count": 16,
   "metadata": {},
   "outputs": [
    {
     "name": "stdout",
     "output_type": "stream",
     "text": [
      "+ 흐리고 비\n",
      "| - 서울\n",
      "| - 인천\n",
      "| - 수원\n",
      "| - 파주\n",
      "| - 이천\n",
      "| - 평택\n",
      "| - 춘천\n",
      "| - 원주\n",
      "+ 흐림\n",
      "| - 강릉\n",
      "| - 청주\n",
      "| - 충주\n",
      "| - 영동\n",
      "+ 구름많음\n",
      "| - 대전\n",
      "| - 세종\n",
      "| - 홍성\n",
      "| - 광주\n",
      "| - 목포\n",
      "| - 여수\n",
      "| - 순천\n",
      "| - 광양\n",
      "| - 나주\n",
      "| - 전주\n",
      "| - 군산\n",
      "| - 정읍\n",
      "| - 남원\n",
      "| - 고창\n",
      "| - 무주\n",
      "| - 부산\n",
      "| - 울산\n",
      "| - 창원\n",
      "| - 진주\n",
      "| - 거창\n",
      "| - 통영\n",
      "| - 대구\n",
      "| - 안동\n",
      "| - 포항\n",
      "| - 경주\n",
      "| - 울진\n",
      "| - 울릉도\n",
      "| - 제주\n",
      "| - 서귀포\n"
     ]
    }
   ],
   "source": [
    "# 날씨정보 가져오기\n",
    "import urllib.request as req\n",
    "import urllib.parse as parse\n",
    "\n",
    "# 기상청 RSS\n",
    "API = \"http://www.kma.go.kr/weather/forecast/mid-term-rss3.jsp\"\n",
    "\n",
    "# 매개변수를 URL 인코딩하기\n",
    "values = {'stnId': '108'}\n",
    "params = parse.urlencode(values)\n",
    "\n",
    "# URL 완성하기\n",
    "url = API + \"?\" + params\n",
    "\n",
    "# 요청 전송하기\n",
    "data = req.urlopen(url).read()\n",
    "text = data.decode('utf-8')\n",
    "\n",
    "# xml 파싱하기\n",
    "from bs4 import BeautifulSoup\n",
    "soup = BeautifulSoup(text, 'html.parser')\n",
    "\n",
    "cities = soup.find_all('city')\n",
    "dic = {}\n",
    "\n",
    "for city in cities:\n",
    "    name = city.string\n",
    "    wf = city.find_next('wf').string\n",
    "\n",
    "    # if not(wf in dic):\n",
    "    if dic.get(wf) is None:\n",
    "        dic[wf] = []\n",
    "        \n",
    "    dic[wf].append(name)\n",
    "\n",
    "for key in dic:\n",
    "    print('+ ' + key)\n",
    "    for value in dic[key]:\n",
    "        print('| - ' + value)\n",
    "\n"
   ]
  },
  {
   "cell_type": "markdown",
   "metadata": {},
   "source": [
    "# JSON Parsing"
   ]
  },
  {
   "cell_type": "code",
   "execution_count": 24,
   "metadata": {},
   "outputs": [
    {
     "name": "stdout",
     "output_type": "stream",
     "text": [
      "S001 박소명 컴퓨터공학과 123-4567\n",
      "S002 최민국 컴퓨터공학과 234-5678\n",
      "S003 이승호 국문학과 345-6789\n",
      "S004 정수봉 국문학과 456-7890\n",
      "S005 김상진 사학과 567-8901\n",
      "S006 황정숙 사학과 678-9012\n"
     ]
    }
   ],
   "source": [
    "import urllib.request as req\n",
    "import json\n",
    "#bs4 import\n",
    "from bs4 import BeautifulSoup\n",
    "\n",
    "url = \"https://zeushahn.github.io/Test/student.json\"\n",
    "res = req.urlopen(url)\n",
    "soup = BeautifulSoup(res, 'html.parser')\n",
    "\n",
    "itemResult = json.loads(str(soup))\n",
    "items = itemResult['results']\n",
    "\n",
    "for item in items:\n",
    "    print(item['code'], item['name'], item['dept'], item['phone'])"
   ]
  }
 ],
 "metadata": {
  "kernelspec": {
   "display_name": "Python 3.9.7 ('base')",
   "language": "python",
   "name": "python3"
  },
  "language_info": {
   "codemirror_mode": {
    "name": "ipython",
    "version": 3
   },
   "file_extension": ".py",
   "mimetype": "text/x-python",
   "name": "python",
   "nbconvert_exporter": "python",
   "pygments_lexer": "ipython3",
   "version": "3.9.7"
  },
  "orig_nbformat": 4,
  "vscode": {
   "interpreter": {
    "hash": "c34e8390e776d2ee205b71ed5a6130fee3cef8da5e87e926ce18e14f4a070d72"
   }
  }
 },
 "nbformat": 4,
 "nbformat_minor": 2
}
