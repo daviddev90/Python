{
 "cells": [
  {
   "cell_type": "markdown",
   "metadata": {},
   "source": [
    "# 리디북스 일반도서 베스트 셀러"
   ]
  },
  {
   "cell_type": "code",
   "execution_count": 14,
   "metadata": {},
   "outputs": [],
   "source": [
    "from bs4 import BeautifulSoup\n",
    "import urllib.request as req\n",
    "import pandas as pd"
   ]
  },
  {
   "cell_type": "code",
   "execution_count": 22,
   "metadata": {},
   "outputs": [
    {
     "name": "stdout",
     "output_type": "stream",
     "text": [
      "     rank            title                                            summary\n",
      "0       1              역행자  <역행자> 오타쿠 흙수저에서 월 1억 자동수익을 실현한 무자본 연쇄창업마,\\r\\n라...\n",
      "1       2             작별인사  <작별인사> 누구도 도와줄 수 없는 상황, 혼자 헤쳐나가야 한다\\r\\n지켜야 할 약...\n",
      "2       3     인플레이션에서 살아남기  <인플레이션에서 살아남기> \\n\\n40년 만에 찾아온 인플레의 역습, \\r\\n당신의...\n",
      "3       4       변화하는 세계 질서  <변화하는 세계 질서> \\n\\n《원칙 Principles: Life & Work》으...\n",
      "4       5             피스타운  <피스타운> -“여긴 너무 비현실적이야, 그렇지 않아?”\\r\\n-뭐든지 이룰 수 있...\n",
      "..    ...              ...                                                ...\n",
      "195   196              데미안  <데미안> 데미안을 통해 참다운 어른이 되어 가는 소년 싱클레어의 이야기.\\r\\n한...\n",
      "196   197           합리적 남자  <합리적 남자> \\n\\n작가는 인터넷 공간에서 롤로 토마시라는 필명으로 활동하며 전...\n",
      "197   198  개정판 | 현명한 투자자 1  <개정판 | 현명한 투자자 1> \\n\\n가치투자의 아버지 벤저민 그레이엄의 《현명한...\n",
      "198   199    나의 월급 독립 프로젝트  <나의 월급 독립 프로젝트> \\n\\n종잣돈 480만원으로 시작해 3년 만에 30억 ...\n",
      "199   200     하이 아웃풋 매니지먼트  <하이 아웃풋 매니지먼트> \\n\\n★★★★★ 미국 아마존 초장기 베스트셀러, 201...\n",
      "\n",
      "[200 rows x 3 columns]\n"
     ]
    }
   ],
   "source": [
    "idx = 0\n",
    "mainURL = 'https://ridibooks.com/bestsellers/general?order=monthly&page='\n",
    "isNext = True\n",
    "\n",
    "mainlist = []\n",
    "summarylist = []\n",
    "\n",
    "while isNext:\n",
    "    idx += 1\n",
    "    res = req.urlopen(mainURL + str(idx))\n",
    "    soup = BeautifulSoup(res, 'html.parser')\n",
    "    titlelist = soup.select('.title_text')\n",
    "    linklist = soup.select('.title_link ')\n",
    "\n",
    "    nextBtn = soup.select_one('.btn_next')\n",
    "\n",
    "    for i, title in enumerate(titlelist):\n",
    "        mainlist.append(title.text.strip())\n",
    "        href = linklist[i].get('href')\n",
    "\n",
    "        url = 'https://ridibooks.com' + href\n",
    "        res = req.urlopen(url)\n",
    "        soup = BeautifulSoup(res, 'html.parser')\n",
    "        summary = soup.select_one('.introduce_paragraph').text.strip()\n",
    "\n",
    "        summarylist.append(summary)\n",
    "    if nextBtn is None:\n",
    "        isNext = False\n",
    "\n",
    "# remove first item\n",
    "mainlist.pop(0)\n",
    "summarylist.pop(0)\n",
    "\n",
    "ranklist = list(range(1, len(mainlist) + 1))\n",
    "\n",
    "# make dataframe with rank and title and summary\n",
    "df = pd.DataFrame({'rank': ranklist, 'title': mainlist, 'summary': summarylist})\n",
    "\n",
    "df.to_csv('data/ridibooks_general_bestseller.csv', index=False)\n",
    "print(df)\n"
   ]
  }
 ],
 "metadata": {
  "kernelspec": {
   "display_name": "Python 3.9.7 ('base')",
   "language": "python",
   "name": "python3"
  },
  "language_info": {
   "codemirror_mode": {
    "name": "ipython",
    "version": 3
   },
   "file_extension": ".py",
   "mimetype": "text/x-python",
   "name": "python",
   "nbconvert_exporter": "python",
   "pygments_lexer": "ipython3",
   "version": "3.9.7"
  },
  "orig_nbformat": 4,
  "vscode": {
   "interpreter": {
    "hash": "c34e8390e776d2ee205b71ed5a6130fee3cef8da5e87e926ce18e14f4a070d72"
   }
  }
 },
 "nbformat": 4,
 "nbformat_minor": 2
}
