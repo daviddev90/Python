{
 "cells": [
  {
   "cell_type": "code",
   "execution_count": 15,
   "metadata": {},
   "outputs": [],
   "source": [
    "from selenium import webdriver\n",
    "from selenium.webdriver.chrome.service import Service\n",
    "from webdriver_manager.chrome import ChromeDriverManager\n",
    "from selenium.webdriver.common.by import By\n",
    "from bs4 import BeautifulSoup\n",
    "# pandas\n",
    "import pandas as pd\n",
    "import time"
   ]
  },
  {
   "cell_type": "code",
   "execution_count": 16,
   "metadata": {},
   "outputs": [
    {
     "name": "stdout",
     "output_type": "stream",
     "text": [
      "\n"
     ]
    },
    {
     "name": "stderr",
     "output_type": "stream",
     "text": [
      "[WDM] - ====== WebDriver manager ======\n",
      "[WDM] - Current google-chrome version is 103.0.5060\n",
      "[WDM] - Get LATEST chromedriver version for 103.0.5060 google-chrome\n",
      "[WDM] - Driver [/Users/tj/.wdm/drivers/chromedriver/mac64/103.0.5060.53/chromedriver] found in cache\n"
     ]
    }
   ],
   "source": [
    "# Chrome Browser와 Chrome Driver Version 확인\n",
    "chrome_options = webdriver.ChromeOptions()\n",
    "driver = webdriver.Chrome(ChromeDriverManager().install(), options=chrome_options)\n",
    "driver.get('https://www.starbucks.co.kr/store/store_map.do')\n",
    "\n",
    "initbtn = driver.find_element_by_xpath('//*[@id=\"container\"]/div/form/fieldset/div/section/article[1]/article/header[2]/h3/a')\n",
    "initbtn.click()\n",
    "\n",
    "\n",
    "time.sleep(1)\n",
    "\n",
    "btns = driver.find_elements_by_class_name('set_sido_cd_btn')\n",
    "\n",
    "\n",
    "df = pd.DataFrame(columns=['name', 'address'])\n",
    "\n",
    "for btn in btns:\n",
    "    btn.click()\n",
    "    time.sleep(1)\n",
    "    innerDf = pd.DataFrame(columns=['name', 'address'])\n",
    "    try:\n",
    "        innerBtn = driver.find_element_by_xpath('//*[@id=\"mCSB_2_container\"]/ul/li[1]/a')\n",
    "        innerBtn.click()\n",
    "        time.sleep(4)\n",
    "        html = driver.page_source\n",
    "        # parse html\n",
    "        soup = BeautifulSoup(html, 'html.parser')\n",
    "\n",
    "        namelist = soup.select('.quickSearchResultBoxSidoGugun > li > strong')\n",
    "        addrlist = soup.select('.quickSearchResultBoxSidoGugun > li > .result_details')\n",
    "\n",
    "        # 이름, 주소, 전화번호 데이터프레임\n",
    "        for i, name in enumerate(namelist):\n",
    "            addr = addrlist[i].text.split('<br>')[0].strip()\n",
    "            innerDf.loc[i] = [name.text.strip(), addr]\n",
    "        \n",
    "        outBtn = driver.find_element_by_xpath('//*[@id=\"container\"]/div/form/fieldset/div/section/article[1]/article/header[2]/h3/a')\n",
    "        outBtn.click()\n",
    "\n",
    "        df = df.append(innerDf)\n",
    "\n",
    "    except:\n",
    "        break\n",
    "\n",
    "df.to_csv('starbucks2.csv', encoding='utf-8', mode='w', index=False) \n",
    "    \n"
   ]
  }
 ],
 "metadata": {
  "kernelspec": {
   "display_name": "Python 3.9.7 ('base')",
   "language": "python",
   "name": "python3"
  },
  "language_info": {
   "codemirror_mode": {
    "name": "ipython",
    "version": 3
   },
   "file_extension": ".py",
   "mimetype": "text/x-python",
   "name": "python",
   "nbconvert_exporter": "python",
   "pygments_lexer": "ipython3",
   "version": "3.9.7"
  },
  "orig_nbformat": 4,
  "vscode": {
   "interpreter": {
    "hash": "c34e8390e776d2ee205b71ed5a6130fee3cef8da5e87e926ce18e14f4a070d72"
   }
  }
 },
 "nbformat": 4,
 "nbformat_minor": 2
}
