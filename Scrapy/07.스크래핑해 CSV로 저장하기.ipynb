{
 "cells": [
  {
   "cell_type": "markdown",
   "metadata": {},
   "source": [
    "# 다음영화\n",
    "## 방법1: 데이터프레임 뼈대를 만들고 for문을 돌며 데이터프레임에 추가한다"
   ]
  },
  {
   "cell_type": "code",
   "execution_count": 29,
   "metadata": {},
   "outputs": [],
   "source": [
    "# #mainContent > div > div.box_boxoffice > ol > li:nth-child(1) > div > div.thumb_cont > strong > a\n",
    "\n",
    "from bs4 import BeautifulSoup as bs\n",
    "from urllib.request import urlopen\n",
    "import pandas as pd\n",
    "\n",
    "url = 'https://movie.daum.net/ranking/boxoffice/weekly'\n",
    "html = urlopen(url)\n",
    "soup = bs(html, 'html.parser')\n",
    "\n",
    "# 데이터프레임 뼈대 만들기\n",
    "df = pd.DataFrame(columns=['순위', '제목', '링크'])\n",
    "\n",
    "movies = soup.select('div.box_boxoffice .link_txt')\n",
    "for i, movie in enumerate(movies):\n",
    "    df.loc[i] = [i+1, movie.text.strip(), movie['href']]\n",
    "\n",
    "# 데이터프레임 csv로 저장하기\n",
    "df.to_csv('data/movie_daum.csv', encoding='utf-8', index=False)"
   ]
  },
  {
   "cell_type": "markdown",
   "metadata": {},
   "source": [
    "## 방법2: for문을 돌며 list를 먼저 만들고 list들을 이용해 데이터프레임을 만든다"
   ]
  },
  {
   "cell_type": "code",
   "execution_count": 26,
   "metadata": {},
   "outputs": [],
   "source": [
    "from bs4 import BeautifulSoup as bs\n",
    "from urllib.request import urlopen\n",
    "import pandas as pd\n",
    "\n",
    "url = 'https://movie.daum.net/ranking/boxoffice/weekly'\n",
    "html = urlopen(url)\n",
    "soup = bs(html, 'html.parser')\n",
    "\n",
    "titleLists = []\n",
    "rankLists = []\n",
    "linkLists = []\n",
    "\n",
    "movies = soup.select('div.box_boxoffice .link_txt')\n",
    "for i, movie in enumerate(movies):\n",
    "    titleLists.append(movie.text.strip())\n",
    "    rankLists.append(i+1)\n",
    "    linkLists.append(movie['href'])\n",
    "\n",
    "# lists들로 dataframe 만들기\n",
    "df = pd.DataFrame(columns=['순위', '제목', '링크'])\n",
    "df['순위'] = rankLists\n",
    "df['제목'] = titleLists\n",
    "df['링크'] = linkLists\n",
    "\n",
    "# 저장하기\n",
    "df.to_csv('data/movie_daum.csv', encoding='utf-8', index=False)"
   ]
  },
  {
   "cell_type": "markdown",
   "metadata": {},
   "source": [
    "# RL\n",
    "- 완전 수학(대학수학)\n",
    "- Machine Learning(중학수학)과 다른 분야\n",
    "- Machine Learning에 얹어서 써보니까 성과 굿 > 알파고"
   ]
  },
  {
   "cell_type": "markdown",
   "metadata": {},
   "source": [
    "# 네이버 영화"
   ]
  },
  {
   "cell_type": "code",
   "execution_count": 31,
   "metadata": {},
   "outputs": [],
   "source": [
    "from bs4 import BeautifulSoup as bs\n",
    "from urllib.request import urlopen\n",
    "import pandas as pd\n",
    "\n",
    "url = 'https://movie.naver.com/movie/sdb/rank/rmovie.naver'\n",
    "html = urlopen(url)\n",
    "soup = bs(html, 'html.parser')\n",
    "\n",
    "movies = soup.select('.tit3')\n",
    "\n",
    "# 데이터프레임 뼈대 만들기\n",
    "df = pd.DataFrame(columns=['순위', '제목'])\n",
    "\n",
    "for i, movie in enumerate(movies):\n",
    "    df.loc[i] = [i+1, movie.text.strip()]\n",
    "\n",
    "# 데이터프레임 csv로 저장하기\n",
    "df.to_csv('data/movie_naver.csv', encoding='utf-8', index=False)\n"
   ]
  }
 ],
 "metadata": {
  "kernelspec": {
   "display_name": "Python 3.8.9 64-bit",
   "language": "python",
   "name": "python3"
  },
  "language_info": {
   "codemirror_mode": {
    "name": "ipython",
    "version": 3
   },
   "file_extension": ".py",
   "mimetype": "text/x-python",
   "name": "python",
   "nbconvert_exporter": "python",
   "pygments_lexer": "ipython3",
   "version": "3.8.9"
  },
  "orig_nbformat": 4,
  "vscode": {
   "interpreter": {
    "hash": "31f2aee4e71d21fbe5cf8b01ff0e069b9275f58929596ceb00d14d90e3e16cd6"
   }
  }
 },
 "nbformat": 4,
 "nbformat_minor": 2
}
