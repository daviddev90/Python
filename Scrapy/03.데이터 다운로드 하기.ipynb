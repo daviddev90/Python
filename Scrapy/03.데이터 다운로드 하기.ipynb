{
 "cells": [
  {
   "cell_type": "code",
   "execution_count": 2,
   "metadata": {},
   "outputs": [
    {
     "name": "stdout",
     "output_type": "stream",
     "text": [
      "다운로드 완료!\n"
     ]
    }
   ],
   "source": [
    "# 라이브러리 불러오기\n",
    "import urllib.request as req\n",
    "# 저장할 파일이름 결정\n",
    "fileName = \"mov01.jpg\"\n",
    "\n",
    "# URL과 저장 경로 지정하기\n",
    "url = \"https://zeushahn.github.io/Test/images/\" + fileName\n",
    "savePath = \"./\" + fileName\n",
    "\n",
    "# 다운로드\n",
    "req.urlretrieve(url, savePath)\n",
    "print(\"다운로드 완료!\")"
   ]
  },
  {
   "cell_type": "code",
   "execution_count": 3,
   "metadata": {},
   "outputs": [
    {
     "name": "stdout",
     "output_type": "stream",
     "text": [
      "다운로드 완료!\n",
      "다운로드 완료!\n",
      "다운로드 완료!\n",
      "다운로드 완료!\n"
     ]
    }
   ],
   "source": [
    "# Excercise\n",
    "\n",
    "# download mov01.jpg, mov02.jpg, mov03.jpg, mov04.jpg\n",
    "\n",
    "fileNames = [\"mov01.jpg\", \"mov02.jpg\", \"mov03.jpg\", \"mov04.jpg\"]\n",
    "for fileName in fileNames:\n",
    "    url = \"https://zeushahn.github.io/Test/images/\" + fileName\n",
    "    savePath = \"./\" + fileName\n",
    "    req.urlretrieve(url, savePath)"
   ]
  },
  {
   "cell_type": "markdown",
   "metadata": {},
   "source": [
    "# 매개변수를 추가해 요청하는 방법\n",
    "- 기상청 RSS\n",
    "- 기상청 RSS는 URL에 지역번호를 지정하면 해당 지역 정보만 제공\n",
    "\n",
    "### 지역정보(stnId)\n",
    "- 전국: 108\n",
    "- 서울/경기: 109\n",
    "- 강원: 105\n",
    "- 충북: 131\n",
    "- 충남: 133\n",
    "- 전북: 146\n",
    "- 전남: 156\n",
    "- 경북: 143\n",
    "- 경남: 159\n",
    "- 제주: 184"
   ]
  },
  {
   "cell_type": "code",
   "execution_count": 13,
   "metadata": {},
   "outputs": [
    {
     "name": "stdout",
     "output_type": "stream",
     "text": [
      "요청 URL =  http://www.kma.go.kr/weather/forecast/mid-term-rss3.jsp?stnId=109\n",
      "csv 파일 생성 완료!\n"
     ]
    }
   ],
   "source": [
    "# 날씨정보 가져오기\n",
    "import urllib.request as req\n",
    "import urllib.parse as parse\n",
    "\n",
    "# 기상청 RSS\n",
    "API = \"http://www.kma.go.kr/weather/forecast/mid-term-rss3.jsp\"\n",
    "\n",
    "# 매개변수를 URL 인코딩하기\n",
    "values = {'stnId': '109'}\n",
    "params = parse.urlencode(values)\n",
    "\n",
    "# URL 완성하기\n",
    "url = API + \"?\" + params\n",
    "print(\"요청 URL = \", url)\n",
    "\n",
    "# 요청 전송하기\n",
    "data = req.urlopen(url).read()\n",
    "text = data.decode('utf-8')\n",
    "\n",
    "# xml 파싱하기\n",
    "from bs4 import BeautifulSoup\n",
    "soup = BeautifulSoup(text, 'html.parser')\n",
    "\n",
    "# 지역, 온도, 날씨 정보 csv 파일로 저장하기\n",
    "import csv\n",
    "info = []\n",
    "for location in soup.find_all('location'):\n",
    "    loc = location.find('city').text\n",
    "    temp = location.find('tmx').text\n",
    "    wf = location.find('wf').text\n",
    "    info.append([loc, temp, wf])\n",
    "\n",
    "# csv 파일로 저장하기\n",
    "with open('forecast.csv', 'w', encoding='utf-8') as f:\n",
    "    writer = csv.writer(f)\n",
    "    writer.writerow(['지역', '온도', '날씨'])\n",
    "    writer.writerows(info)\n",
    "print(\"csv 파일 생성 완료!\")"
   ]
  }
 ],
 "metadata": {
  "kernelspec": {
   "display_name": "Python 3.9.7 ('base')",
   "language": "python",
   "name": "python3"
  },
  "language_info": {
   "codemirror_mode": {
    "name": "ipython",
    "version": 3
   },
   "file_extension": ".py",
   "mimetype": "text/x-python",
   "name": "python",
   "nbconvert_exporter": "python",
   "pygments_lexer": "ipython3",
   "version": "3.9.7"
  },
  "orig_nbformat": 4,
  "vscode": {
   "interpreter": {
    "hash": "c34e8390e776d2ee205b71ed5a6130fee3cef8da5e87e926ce18e14f4a070d72"
   }
  }
 },
 "nbformat": 4,
 "nbformat_minor": 2
}
