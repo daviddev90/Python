{
 "cells": [
  {
   "cell_type": "markdown",
   "metadata": {},
   "source": [
    "# Web Crawling이란?\n",
    "- Web Scraping이라고도 하며 Computer Software 기술로 각종 웹 사이트들에서 원하는 정보를 추출하는 것을 의미\n",
    "- 선행학습 필요: Python 기초, HTML, CSS, Javascript 구조"
   ]
  },
  {
   "cell_type": "markdown",
   "metadata": {},
   "source": [
    "# Web Crawling 기법\n",
    "- HTML Page를 가져와서 HTML/CSS 등을 Parsing하고 필요한 데이터만 추출하는 기법.\n",
    "- Open API(Rest API)를 제공하는 서비스에 Open API를 호출해서 받은 데이터 중 필요한 데이터만 추출하는 기법\n",
    "- Web Browserfmf Programming으로 조작해서 필요한 데이터만 추출하는 기법"
   ]
  },
  {
   "cell_type": "markdown",
   "metadata": {},
   "source": [
    "# Web Crawling의 합법 여부 판단\n",
    "- Site명 뒤에 /robots.txt를 실행하여 허용범위 확인\n",
    "- Job Korea vs 사람인 문제 등"
   ]
  }
 ],
 "metadata": {
  "kernelspec": {
   "display_name": "Python 3.9.7 ('base')",
   "language": "python",
   "name": "python3"
  },
  "language_info": {
   "name": "python",
   "version": "3.9.7"
  },
  "orig_nbformat": 4,
  "vscode": {
   "interpreter": {
    "hash": "c34e8390e776d2ee205b71ed5a6130fee3cef8da5e87e926ce18e14f4a070d72"
   }
  }
 },
 "nbformat": 4,
 "nbformat_minor": 2
}
