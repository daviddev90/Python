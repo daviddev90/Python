{
 "cells": [
  {
   "cell_type": "markdown",
   "metadata": {},
   "source": [
    "# Word2Vec\n",
    "- 문장 내부의 단어를 벡터로 변환하는 도구\n",
    "- 단어의 연결을 기반으로 단어의 연관성을 벡터로 생성\n",
    "- 이를 활용하면 단어간의 유사도를 파악해 단어의 의미 파악\n",
    "- 한국어에 많이 쓰임\n",
    "- 단어의 의미를 선형으로 계산 가능 : 예) 아빠 - 남자 + 여자 = 엄마"
   ]
  },
  {
   "cell_type": "markdown",
   "metadata": {},
   "source": [
    "#### gensim 설치"
   ]
  },
  {
   "cell_type": "code",
   "execution_count": 2,
   "metadata": {},
   "outputs": [
    {
     "name": "stdout",
     "output_type": "stream",
     "text": [
      "Requirement already satisfied: gensim in /Users/tj/opt/anaconda3/envs/tensorflow/lib/python3.7/site-packages (4.2.0)\n",
      "Requirement already satisfied: numpy>=1.17.0 in /Users/tj/opt/anaconda3/envs/tensorflow/lib/python3.7/site-packages (from gensim) (1.21.6)\n",
      "Requirement already satisfied: scipy>=0.18.1 in /Users/tj/opt/anaconda3/envs/tensorflow/lib/python3.7/site-packages (from gensim) (1.7.3)\n",
      "Requirement already satisfied: smart-open>=1.8.1 in /Users/tj/opt/anaconda3/envs/tensorflow/lib/python3.7/site-packages (from gensim) (6.0.0)\n"
     ]
    }
   ],
   "source": [
    "!pip install gensim"
   ]
  },
  {
   "cell_type": "code",
   "execution_count": 3,
   "metadata": {},
   "outputs": [],
   "source": [
    "from gensim.models import word2vec\n",
    "model = word2vec.Word2Vec.load('data/wiki.model')"
   ]
  },
  {
   "cell_type": "code",
   "execution_count": 4,
   "metadata": {},
   "outputs": [
    {
     "data": {
      "text/plain": [
       "[('카레라이스', 0.4982975125312805),\n",
       " ('생선회', 0.4960782527923584),\n",
       " ('일식집', 0.49496176838874817),\n",
       " ('십자수', 0.49074071645736694),\n",
       " ('닭강정', 0.48538878560066223),\n",
       " ('삼각김밥', 0.483381986618042),\n",
       " ('삼계탕', 0.4814147651195526),\n",
       " ('닭발', 0.4748677909374237),\n",
       " ('호빵', 0.47330722212791443),\n",
       " ('고기국수', 0.47193750739097595)]"
      ]
     },
     "execution_count": 4,
     "metadata": {},
     "output_type": "execute_result"
    }
   ],
   "source": [
    "model.wv.most_similar(positive=['김밥'], negative=['싸다'])"
   ]
  },
  {
   "cell_type": "code",
   "execution_count": 5,
   "metadata": {},
   "outputs": [
    {
     "data": {
      "text/plain": [
       "[('곱창', 0.6372433304786682),\n",
       " ('된장', 0.6124868392944336),\n",
       " ('콩나물', 0.5834615230560303),\n",
       " ('떡볶이', 0.5752401947975159),\n",
       " ('빨래', 0.5744405388832092),\n",
       " ('떡', 0.5709132552146912),\n",
       " ('꼬치', 0.5707795023918152),\n",
       " ('불고기', 0.5682609677314758),\n",
       " ('도시락', 0.5610151290893555),\n",
       " ('도토리', 0.5596575140953064)]"
      ]
     },
     "execution_count": 5,
     "metadata": {},
     "output_type": "execute_result"
    }
   ],
   "source": [
    "model.wv.most_similar(positive=['김밥'], negative=['저렴'])"
   ]
  },
  {
   "cell_type": "code",
   "execution_count": 6,
   "metadata": {},
   "outputs": [
    {
     "data": {
      "text/plain": [
       "[('이명박', 0.8182837963104248),\n",
       " ('박근혜', 0.7773851156234741),\n",
       " ('노무현', 0.7443709373474121),\n",
       " ('황교안', 0.692722737789154),\n",
       " ('안철수', 0.6873744130134583),\n",
       " ('홍준표', 0.669067919254303),\n",
       " ('김대중', 0.6502471566200256),\n",
       " ('김영삼', 0.6443946361541748),\n",
       " ('이낙연', 0.6411519646644592),\n",
       " ('참여정부', 0.631813108921051)]"
      ]
     },
     "execution_count": 6,
     "metadata": {},
     "output_type": "execute_result"
    }
   ],
   "source": [
    "model.wv.most_similar(positive=['문재인', '여자'], negative=['남자'])"
   ]
  },
  {
   "cell_type": "code",
   "execution_count": 7,
   "metadata": {},
   "outputs": [
    {
     "data": {
      "text/plain": [
       "[('일베저장소', 0.6114131212234497),\n",
       " ('저널리즘', 0.5487375855445862),\n",
       " ('안녕들하십니까', 0.547082781791687),\n",
       " ('워마드', 0.5440137386322021),\n",
       " ('신조어', 0.5415353775024414),\n",
       " ('페미니스트', 0.538347601890564),\n",
       " ('소셜', 0.533204197883606),\n",
       " ('장병권', 0.5324103236198425),\n",
       " ('노사모', 0.5323063731193542),\n",
       " ('동호회', 0.5250839591026306)]"
      ]
     },
     "execution_count": 7,
     "metadata": {},
     "output_type": "execute_result"
    }
   ],
   "source": [
    "model.wv.most_similar(positive=['일베', '진보', '좌파'], negative=['보수', '우파'])"
   ]
  },
  {
   "cell_type": "code",
   "execution_count": 10,
   "metadata": {},
   "outputs": [
    {
     "data": {
      "text/plain": [
       "[('김밥', 0.6868409514427185),\n",
       " ('짜장면', 0.6819988489151001),\n",
       " ('볶음', 0.6791307330131531),\n",
       " ('고추장', 0.6707106828689575),\n",
       " ('김치찌개', 0.6665109395980835),\n",
       " ('콩나물', 0.6575779914855957),\n",
       " ('짬뽕', 0.6564873456954956),\n",
       " ('자장면', 0.6474247574806213),\n",
       " ('칼국수', 0.6456409692764282),\n",
       " ('순대', 0.6450235843658447)]"
      ]
     },
     "execution_count": 10,
     "metadata": {},
     "output_type": "execute_result"
    }
   ],
   "source": [
    "model.wv.most_similar(positive=['파스타', '한국'], negative=['이탈리아'])"
   ]
  }
 ],
 "metadata": {
  "kernelspec": {
   "display_name": "Python 3.7.13 ('tensorflow')",
   "language": "python",
   "name": "python3"
  },
  "language_info": {
   "codemirror_mode": {
    "name": "ipython",
    "version": 3
   },
   "file_extension": ".py",
   "mimetype": "text/x-python",
   "name": "python",
   "nbconvert_exporter": "python",
   "pygments_lexer": "ipython3",
   "version": "3.7.13"
  },
  "orig_nbformat": 4,
  "vscode": {
   "interpreter": {
    "hash": "031516d5089d8191e78e906aaec9fc12f69b6ded71cabf4c1fff4df0e2792dca"
   }
  }
 },
 "nbformat": 4,
 "nbformat_minor": 2
}
