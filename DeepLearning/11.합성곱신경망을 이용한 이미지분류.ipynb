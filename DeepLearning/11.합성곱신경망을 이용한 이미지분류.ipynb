{
 "cells": [
  {
   "cell_type": "code",
   "execution_count": 1,
   "metadata": {},
   "outputs": [],
   "source": [
    "import warnings\n",
    "warnings.filterwarnings('ignore')"
   ]
  },
  {
   "cell_type": "markdown",
   "metadata": {},
   "source": [
    "## 패션 MNIST 데이터 불러와 전처리하기"
   ]
  },
  {
   "cell_type": "code",
   "execution_count": 2,
   "metadata": {},
   "outputs": [],
   "source": [
    "from tensorflow import keras\n",
    "from sklearn.model_selection import train_test_split\n",
    "(train_input, train_target), (test_input, test_target) = keras.datasets.fashion_mnist.load_data()\n",
    "\n",
    "train_scaled = train_input.reshape(-1, 28, 28, 1) / 255.0\n",
    "# 60000x28x28x1이 됨\n",
    "# keras는 입력데이터가 3차원일 것으로 가정하기 때문(28*28*3) (3은 rgb)\n",
    "\n",
    "train_scaled, val_scaled, train_target, val_target = train_test_split(\n",
    "  train_scaled, train_target, test_size=0.2, random_state=42\n",
    ")"
   ]
  },
  {
   "cell_type": "markdown",
   "metadata": {},
   "source": [
    "- keras에서 입력데이터가 3차원으로 있을 것으로 구성되어 있을 것이라 가정하고 있음(keras는 3채널 데이터(RGB)) - 1차원을 추가함\n",
    "- train set을 train과 valid로 구분함"
   ]
  },
  {
   "cell_type": "markdown",
   "metadata": {},
   "source": [
    "## 합성곱 신경망 만들기"
   ]
  },
  {
   "cell_type": "code",
   "execution_count": 3,
   "metadata": {},
   "outputs": [
    {
     "name": "stderr",
     "output_type": "stream",
     "text": [
      "2022-07-21 11:54:24.635869: I tensorflow/core/platform/cpu_feature_guard.cc:193] This TensorFlow binary is optimized with oneAPI Deep Neural Network Library (oneDNN) to use the following CPU instructions in performance-critical operations:  AVX2 FMA\n",
      "To enable them in other operations, rebuild TensorFlow with the appropriate compiler flags.\n"
     ]
    }
   ],
   "source": [
    "model = keras.Sequential()"
   ]
  },
  {
   "cell_type": "code",
   "execution_count": 4,
   "metadata": {},
   "outputs": [],
   "source": [
    "model.add(\n",
    "  keras.layers.Conv2D(\n",
    "    filters=32,\n",
    "    kernel_size=3, # 3x3 크기의 필터\n",
    "    activation='relu',\n",
    "    padding = 'same',\n",
    "    input_shape=(28, 28, 1)\n",
    "  )\n",
    ")"
   ]
  },
  {
   "cell_type": "code",
   "execution_count": 5,
   "metadata": {},
   "outputs": [],
   "source": [
    "model.add(keras.layers.MaxPooling2D(pool_size=2))"
   ]
  },
  {
   "cell_type": "code",
   "execution_count": 6,
   "metadata": {},
   "outputs": [],
   "source": [
    "model.add(\n",
    "  keras.layers.Conv2D(\n",
    "    filters=64,\n",
    "    kernel_size=3,\n",
    "    activation='relu',\n",
    "    padding = 'same'\n",
    "  )\n",
    ")"
   ]
  },
  {
   "cell_type": "code",
   "execution_count": 7,
   "metadata": {},
   "outputs": [],
   "source": [
    "model.add(keras.layers.MaxPooling2D(pool_size=2))\n"
   ]
  },
  {
   "cell_type": "code",
   "execution_count": 8,
   "metadata": {},
   "outputs": [],
   "source": [
    "model.add(keras.layers.Flatten())\n",
    "model.add(keras.layers.Dense(100, activation='relu'))\n",
    "model.add(keras.layers.Dropout(0.4))\n",
    "model.add(keras.layers.Dense(10, activation='softmax'))"
   ]
  },
  {
   "cell_type": "code",
   "execution_count": 9,
   "metadata": {},
   "outputs": [
    {
     "name": "stdout",
     "output_type": "stream",
     "text": [
      "Model: \"sequential\"\n",
      "_________________________________________________________________\n",
      " Layer (type)                Output Shape              Param #   \n",
      "=================================================================\n",
      " conv2d (Conv2D)             (None, 28, 28, 32)        320       \n",
      "                                                                 \n",
      " max_pooling2d (MaxPooling2D  (None, 14, 14, 32)       0         \n",
      " )                                                               \n",
      "                                                                 \n",
      " conv2d_1 (Conv2D)           (None, 14, 14, 64)        18496     \n",
      "                                                                 \n",
      " max_pooling2d_1 (MaxPooling  (None, 7, 7, 64)         0         \n",
      " 2D)                                                             \n",
      "                                                                 \n",
      " flatten (Flatten)           (None, 3136)              0         \n",
      "                                                                 \n",
      " dense (Dense)               (None, 100)               313700    \n",
      "                                                                 \n",
      " dropout (Dropout)           (None, 100)               0         \n",
      "                                                                 \n",
      " dense_1 (Dense)             (None, 10)                1010      \n",
      "                                                                 \n",
      "=================================================================\n",
      "Total params: 333,526\n",
      "Trainable params: 333,526\n",
      "Non-trainable params: 0\n",
      "_________________________________________________________________\n"
     ]
    }
   ],
   "source": [
    "model.summary()"
   ]
  },
  {
   "cell_type": "markdown",
   "metadata": {},
   "source": [
    "## Model Complie과 훈련"
   ]
  },
  {
   "cell_type": "code",
   "execution_count": 10,
   "metadata": {},
   "outputs": [
    {
     "name": "stdout",
     "output_type": "stream",
     "text": [
      "Epoch 1/20\n",
      "1500/1500 [==============================] - 27s 18ms/step - loss: 0.5173 - accuracy: 0.8148 - val_loss: 0.3329 - val_accuracy: 0.8773\n",
      "Epoch 2/20\n",
      "1500/1500 [==============================] - 26s 17ms/step - loss: 0.3489 - accuracy: 0.8766 - val_loss: 0.2834 - val_accuracy: 0.8950\n",
      "Epoch 3/20\n",
      "1500/1500 [==============================] - 28s 19ms/step - loss: 0.2995 - accuracy: 0.8925 - val_loss: 0.2509 - val_accuracy: 0.9107\n",
      "Epoch 4/20\n",
      "1500/1500 [==============================] - 27s 18ms/step - loss: 0.2698 - accuracy: 0.9023 - val_loss: 0.2452 - val_accuracy: 0.9084\n",
      "Epoch 5/20\n",
      "1500/1500 [==============================] - 27s 18ms/step - loss: 0.2425 - accuracy: 0.9119 - val_loss: 0.2381 - val_accuracy: 0.9123\n",
      "Epoch 6/20\n",
      "1500/1500 [==============================] - 27s 18ms/step - loss: 0.2216 - accuracy: 0.9180 - val_loss: 0.2307 - val_accuracy: 0.9184\n",
      "Epoch 7/20\n",
      "1500/1500 [==============================] - 28s 18ms/step - loss: 0.2052 - accuracy: 0.9251 - val_loss: 0.2218 - val_accuracy: 0.9172\n",
      "Epoch 8/20\n",
      "1500/1500 [==============================] - 29s 20ms/step - loss: 0.1892 - accuracy: 0.9297 - val_loss: 0.2270 - val_accuracy: 0.9208\n",
      "Epoch 9/20\n",
      "1500/1500 [==============================] - 31s 21ms/step - loss: 0.1743 - accuracy: 0.9345 - val_loss: 0.2259 - val_accuracy: 0.9205\n"
     ]
    }
   ],
   "source": [
    "model.compile(\n",
    "  optimizer='adam',\n",
    "  loss='sparse_categorical_crossentropy',\n",
    "  metrics=['accuracy']\n",
    ")\n",
    "\n",
    "checkpint_cb = keras.callbacks.ModelCheckpoint(\n",
    "  filepath='fashion_mnist.h5',\n",
    ")                             \n",
    "# 처음 할 때는 early stopping은 안쓰는 것이 좋음\n",
    "early_stopping_cb = keras.callbacks.EarlyStopping(patience=2, restore_best_weights=True)\n",
    "\n",
    "history = model.fit(\n",
    "  train_scaled,\n",
    "  train_target,\n",
    "  epochs=20,\n",
    "  validation_data=(val_scaled, val_target),\n",
    "  callbacks=[checkpint_cb, early_stopping_cb]\n",
    ")\n"
   ]
  },
  {
   "cell_type": "code",
   "execution_count": 13,
   "metadata": {},
   "outputs": [
    {
     "data": {
      "image/png": "[encoded data removed]",
      "text/plain": [
       "<Figure size 432x288 with 1 Axes>"
      ]
     },
     "metadata": {
      "needs_background": "light"
     },
     "output_type": "display_data"
    }
   ],
   "source": [
    "import matplotlib.pyplot as plt\n",
    "\n",
    "plt.plot(history.history['loss'], label='loss')\n",
    "plt.plot(history.history['val_loss'], label='val_loss')\n",
    "plt.xlabel('Epoch')\n",
    "plt.ylabel('Loss')\n",
    "plt.legend(loc='upper right')\n",
    "plt.show()"
   ]
  },
  {
   "cell_type": "code",
   "execution_count": 14,
   "metadata": {},
   "outputs": [
    {
     "name": "stdout",
     "output_type": "stream",
     "text": [
      "375/375 [==============================] - 2s 5ms/step - loss: 0.2218 - accuracy: 0.9172\n"
     ]
    },
    {
     "data": {
      "text/plain": [
       "[0.22176368534564972, 0.9171666502952576]"
      ]
     },
     "execution_count": 14,
     "metadata": {},
     "output_type": "execute_result"
    }
   ],
   "source": [
    "model.evaluate(val_scaled, val_target)"
   ]
  },
  {
   "cell_type": "code",
   "execution_count": 15,
   "metadata": {},
   "outputs": [
    {
     "data": {
      "image/png": "[encoded data removed]",
      "text/plain": [
       "<Figure size 432x288 with 1 Axes>"
      ]
     },
     "metadata": {
      "needs_background": "light"
     },
     "output_type": "display_data"
    }
   ],
   "source": [
    "# 이미지 그려서 확인\n",
    "plt.imshow(val_scaled[0].reshape(28, 28), cmap='gray_r')\n",
    "plt.show()"
   ]
  },
  {
   "cell_type": "code",
   "execution_count": 16,
   "metadata": {},
   "outputs": [
    {
     "name": "stdout",
     "output_type": "stream",
     "text": [
      "1/1 [==============================] - 0s 106ms/step\n",
      "8\n"
     ]
    }
   ],
   "source": [
    "pred = model.predict(val_scaled[0:1])\n",
    "print(pred.argmax())"
   ]
  },
  {
   "cell_type": "code",
   "execution_count": 17,
   "metadata": {},
   "outputs": [
    {
     "name": "stdout",
     "output_type": "stream",
     "text": [
      "Bag\n"
     ]
    }
   ],
   "source": [
    "import numpy as np\n",
    "\n",
    "# 계단함수\n",
    "classes = ['T-shirt/top', 'Trouser', 'Pullover', 'Dress', 'Coat', 'Sandal', 'Shirt', 'Sneaker', 'Bag', 'Ankle boot']\n",
    "pred_class = classes[pred.argmax()]\n",
    "print(pred_class)\n"
   ]
  },
  {
   "cell_type": "markdown",
   "metadata": {},
   "source": [
    "## 시험 데이터로 확인하기"
   ]
  },
  {
   "cell_type": "code",
   "execution_count": 19,
   "metadata": {},
   "outputs": [],
   "source": [
    "test_scaled = test_input.reshape(-1, 28, 28, 1) / 255.0"
   ]
  },
  {
   "cell_type": "code",
   "execution_count": 20,
   "metadata": {},
   "outputs": [
    {
     "name": "stdout",
     "output_type": "stream",
     "text": [
      "313/313 [==============================] - 2s 5ms/step - loss: 0.2410 - accuracy: 0.9127\n"
     ]
    },
    {
     "data": {
      "text/plain": [
       "[0.24096257984638214, 0.9126999974250793]"
      ]
     },
     "execution_count": 20,
     "metadata": {},
     "output_type": "execute_result"
    }
   ],
   "source": [
    "model.evaluate(test_scaled, test_target)"
   ]
  }
 ],
 "metadata": {
  "kernelspec": {
   "display_name": "Python 3.7.13 ('tensorflow')",
   "language": "python",
   "name": "python3"
  },
  "language_info": {
   "codemirror_mode": {
    "name": "ipython",
    "version": 3
   },
   "file_extension": ".py",
   "mimetype": "text/x-python",
   "name": "python",
   "nbconvert_exporter": "python",
   "pygments_lexer": "ipython3",
   "version": "3.7.13"
  },
  "orig_nbformat": 4,
  "vscode": {
   "interpreter": {
    "hash": "031516d5089d8191e78e906aaec9fc12f69b6ded71cabf4c1fff4df0e2792dca"
   }
  }
 },
 "nbformat": 4,
 "nbformat_minor": 2
}
