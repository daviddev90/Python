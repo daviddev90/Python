{
 "cells": [
  {
   "cell_type": "markdown",
   "metadata": {},
   "source": [
    "### 내가 구사하려는 문장과 비슷한 것들을 많이 크롤링해야 조타"
   ]
  },
  {
   "cell_type": "markdown",
   "metadata": {},
   "source": [
    "### 마르코프 체인으로 문장 생성하기\n",
    "- 마르코프 체인은 확률을 기반으로 문장을 이어 붙여 나가는 방법\n",
    "- 워드 샐러드라고도 불림\n",
    "\n",
    "#### 문장 제작 과정\n",
    "1) 문장을 단어로 분할(형태소 분석)한다 - 영어는 nlpy, 한글은 konlpy\n",
    "2) 단어의 전후 연결을 딕셔너리에 등록한다\n",
    "3) 사전을 사용해 임의의 문장을 생성한다 - 딕셔너리에 등록된 단어들을 이어 붙여 나가는 문장을 생성한다\n",
    "\n",
    "#### 문장제작 예시\n",
    "- \"그는 고양이를 좋아합니다.\"\n",
    "- 위 문장을 형태소로 문석하면 [\"그\",\"는\", \"고양이\",\"를\", \"좋아\", \"합니다\"]\n",
    "- 각 단어의 전후 관계를 알 수 있게 3개의 요소씩 묶어 사전으로 등록한다.\n",
    "\n",
    "- 그+는+고양이\n",
    "- 는+고양이+를\n",
    "- 고양이+를+좋아\n",
    "- 를+좋아+합니다\n",
    "\n",
    "- 단어와 단어를 처리하고 이를 기반으로 단어들을 연결하여 문장을 생성"
   ]
  },
  {
   "cell_type": "code",
   "execution_count": 3,
   "metadata": {},
   "outputs": [],
   "source": [
    "import markov\n",
    "from konlpy.tag import Okt\n",
    "import json"
   ]
  },
  {
   "cell_type": "code",
   "execution_count": 4,
   "metadata": {},
   "outputs": [],
   "source": [
    "path = 'data/홍길동전.txt'\n",
    "with open(path, 'r', encoding='utf-8') as f:\n",
    "  text = str(f.readlines())"
   ]
  },
  {
   "cell_type": "code",
   "execution_count": 7,
   "metadata": {},
   "outputs": [],
   "source": [
    "twitter = Okt()\n",
    "lines = text.split('\\n')\n",
    "words = []\n",
    "\n",
    "for line in lines:\n",
    "  malist = twitter.pos(line, norm=True, stem=True)\n",
    "  for word in malist:\n",
    "    if word[1] not in ['Punctuation']:\n",
    "      words.append(word[0])\n",
    "    if word[0] == '.':\n",
    "      words.append(word[0]) # Punctuation 안에 .이 있으면 추가해줘야함(물음표 쌍따옴표 뺌)"
   ]
  },
  {
   "cell_type": "code",
   "execution_count": 8,
   "metadata": {},
   "outputs": [],
   "source": [
    "# 딕셔너리 생성\n",
    "dic = markov.make_dic(words)\n",
    "json.dump(dic, open('data/hkt.json', 'w', encoding='utf-8'))"
   ]
  },
  {
   "cell_type": "markdown",
   "metadata": {},
   "source": [
    "---\n",
    "## 문장 생성하기"
   ]
  },
  {
   "cell_type": "code",
   "execution_count": 10,
   "metadata": {},
   "outputs": [],
   "source": [
    "# 딕셔너리 불러오기\n",
    "dic = json.load(open('data/hkt.json', 'r', encoding='utf-8'))"
   ]
  },
  {
   "cell_type": "code",
   "execution_count": 18,
   "metadata": {},
   "outputs": [
    {
     "name": "stdout",
     "output_type": "stream",
     "text": [
      "심다 의혹 하다 괴이 한 말 을 다시 볼 날 이 밝다 소식 없다 음 을 어찌 하리 요 네 일찍 돌아오다 바라다 n 하다 계 하 에 정조 삼천 석 을 무릅쓰 고 죽다 되다 그 부형 되다 자가 그 같다 고명 한 자제 를 두다 하다 이제 여덟 이 되어다 거리 로 다니다 방 을 붙이다 이르다 n 즉금 우리 의논 이 분운 하다 수문 장이 급 고 왈 n 그 아이 거동 이 비범하다 뿐 아니다 .\n",
      "s\n",
      "-----\n",
      "대성통곡 후 에 그날 부터 중문 밖에 나다 아니다 행실 을 닦다 그 달 부터 태기 있다 십 삭 이 당하다 거처 하다 방 에 들어오다 재물 을 노략 하다 혹 불쌍하다 백성 을 구제 하다 일후 총 을 놓다 잡다 n 하다 즉시 관상 녀 의 말씀 같이 왕기 있다 만일 범람 한 마음 도리어 황공 하다 팔십 노친 이 백 수 모년 에 너 로 인하다 세상 을 속 이고 그 재물 을 욕심 하다 사지 에 빠지다 줄 알 지 말고 보이다 대로 기이 말르다 n 하다 너 를 잡다 하옵다 너 망극 한 마음 을 놀래다 이다 하나 이다 n 하 거늘 괴히 여기다 그 연고 를 물다 대다 함구 하고 말 이 있다 길이 수천 리라 그것 을 염려 하나 이다 .\n",
      "s\n",
      "-----\n",
      "원통 하다 하다 갈다 아니다 백성 의 의복 을 속이다 재물 을 수탐 하다 가지 고 나 의 의 모라 의논 치 아니다 십일 내 로 길동 을 찾다 종시 거처 를 알 아 지시 하다 인하다 별세 하다 부인 을 대하 여 왈 n 부인 이 옷 을 떨치다 밖 으로 나가시 니 승상 이 연장 구십 에 졸연 득병 하다 추구 월 망일 더욱 중하 여 부인과 장자 길현 을 보다 길동 을 쏘다 하 되다 힘 이 적지 아니다 .\n",
      "s\n",
      "-----\n"
     ]
    }
   ],
   "source": [
    "# 문장 만들기\n",
    "for i in range(3):\n",
    "  print(markov.make_sentence(dic))\n",
    "  print('s')\n",
    "  print('-----')"
   ]
  },
  {
   "cell_type": "code",
   "execution_count": 21,
   "metadata": {},
   "outputs": [],
   "source": [
    "import os\n",
    "import codecs\n",
    "from bs4 import BeautifulSoup\n",
    "from konlpy.tag import Twitter\n",
    "import urllib.request\n",
    "import os, re, json, random"
   ]
  },
  {
   "cell_type": "code",
   "execution_count": 44,
   "metadata": {},
   "outputs": [
    {
     "name": "stdout",
     "output_type": "stream",
     "text": [
      "연습을 하고 튀어나올 정도로 거대해졌다.\n",
      "---\n",
      "잊지마라유피넬은코스모스Cosmos조화이며헬카네스는모두진지한표정도없었다쾌활하게웃으며말하려하다가다시죽어있는해츨링을가지게되었다.\n",
      "---\n",
      "자자 후치와 내 짐만 챙기겠습니다.\n",
      "---\n"
     ]
    }
   ],
   "source": [
    "# 마르코프 체인 딕셔너리 만들기 --- (※1)\n",
    "def make_dic(words):\n",
    "    tmp = [\"@\"]\n",
    "    dic = {}\n",
    "    for word in words:\n",
    "        tmp.append(word)\n",
    "        if len(tmp) < 3: continue\n",
    "        if len(tmp) > 3: tmp = tmp[1:]\n",
    "        set_word3(dic, tmp)\n",
    "        if word == \".\":\n",
    "            tmp = [\"@\"]\n",
    "            continue\n",
    "    return dic\n",
    "# 딕셔너리에 데이터 등록하기 --- (※2)\n",
    "def set_word3(dic, s3):\n",
    "    w1, w2, w3 = s3\n",
    "    if not w1 in dic: dic[w1] = {}\n",
    "    if not w2 in dic[w1]: dic[w1][w2] = {}\n",
    "    if not w3 in dic[w1][w2]: dic[w1][w2][w3] = 0\n",
    "    dic[w1][w2][w3] += 1\n",
    "# 문장 만들기 --- (※3)\n",
    "def make_sentence(dic):\n",
    "    ret = []\n",
    "    if not \"@\" in dic: return \"no dic\" \n",
    "    top = dic[\"@\"]\n",
    "    w1 = word_choice(top)\n",
    "    w2 = word_choice(top[w1])\n",
    "    ret.append(w1)\n",
    "    ret.append(w2)\n",
    "    while True:\n",
    "        w3 = word_choice(dic[w1][w2])\n",
    "        ret.append(w3)\n",
    "        if w3 == \".\": break\n",
    "        w1, w2 = w2, w3\n",
    "    ret = \"\".join(ret)\n",
    "    # 띄어쓰기\n",
    "    params = urllib.parse.urlencode({\n",
    "        \"_callback\": \"\",\n",
    "        \"q\": ret\n",
    "    })\n",
    "    # 네이버 맞춤법 검사기를 사용합니다.\n",
    "    # data = urllib.request.urlopen(\"https://m.search.naver.com/p/csearch/ocontent/util/SpellerProxy?\" + params)\n",
    "    data = urllib.request.urlopen(\"https://m.search.naver.com/p/csearch/ocontent/spellchecker.nhn?\" + params)\n",
    "    data = data.read().decode(\"utf-8\")[1:-2]\n",
    "    data = json.loads(data)\n",
    "    data = data[\"message\"][\"result\"][\"html\"]\n",
    "    data = soup = BeautifulSoup(data, \"html.parser\").getText()\n",
    "    # 리턴\n",
    "    return data\n",
    "\n",
    "def word_choice(sel):\n",
    "    keys = sel.keys()\n",
    "    return random.choice(list(keys))\n",
    "# 문장 읽어 들이기 --- (※4)\n",
    "toji_file = \"data/홍길동전.txt\"\n",
    "dict_file = \"markov-toji.json\"\n",
    "if not os.path.exists(dict_file):\n",
    "    # 텍스트 파일 읽어 들이기\n",
    "    with open(toji_file, 'r', encoding='utf-8') as f:\n",
    "        text = str(f.readlines())\n",
    "\n",
    "    text = text.replace(\"…\", \"\") # 현재 koNLPy가 …을 구두점으로 잡지 못하는 문제 임시 해결\n",
    "    text = text.replace(\"n\", \"\")\n",
    "    # 형태소 분석\n",
    "   # twitter = Twitter()\n",
    "    twitter=Twitter()\n",
    "    malist = twitter.pos(text, norm=True)\n",
    "    words = []\n",
    "    for word in malist:\n",
    "        # 구두점 등은 대상에서 제외(단 마침표는 포함)\n",
    "        if not word[1] in [\"Punctuation\"]:\n",
    "            words.append(word[0])\n",
    "        if word[0] == \".\":\n",
    "            words.append(word[0])\n",
    "    # 딕셔너리 생성\n",
    "    dic = make_dic(words)\n",
    "    json.dump(dic, open(dict_file,\"w\", encoding=\"utf-8\"))\n",
    "else:\n",
    "    dic = json.load(open(dict_file,\"r\"))\n",
    "# 문장 만들기 --- (※6)\n",
    "for i in range(3):\n",
    "    s = make_sentence(dic)\n",
    "    print(s)\n",
    "    print(\"---\")"
   ]
  },
  {
   "cell_type": "code",
   "execution_count": 45,
   "metadata": {},
   "outputs": [
    {
     "name": "stdout",
     "output_type": "stream",
     "text": [
      "코퍼스의 길이:  1813923\n",
      "사용되고 있는 문자의 수: 1644\n",
      "학습할 구문의 수: 604635\n",
      "텍스트를 ID 벡터로 변환합니다...\n"
     ]
    },
    {
     "name": "stderr",
     "output_type": "stream",
     "text": [
      "/Users/tj/opt/anaconda3/envs/tensorflow/lib/python3.7/site-packages/ipykernel_launcher.py:28: DeprecationWarning: `np.bool` is a deprecated alias for the builtin `bool`. To silence this warning, use `bool` by itself. Doing this will not modify any behavior and is safe. If you specifically wanted the numpy scalar type, use `np.bool_` here.\n",
      "Deprecated in NumPy 1.20; for more details and guidance: https://numpy.org/devdocs/release/1.20.0-notes.html#deprecations\n",
      "/Users/tj/opt/anaconda3/envs/tensorflow/lib/python3.7/site-packages/ipykernel_launcher.py:29: DeprecationWarning: `np.bool` is a deprecated alias for the builtin `bool`. To silence this warning, use `bool` by itself. Doing this will not modify any behavior and is safe. If you specifically wanted the numpy scalar type, use `np.bool_` here.\n",
      "Deprecated in NumPy 1.20; for more details and guidance: https://numpy.org/devdocs/release/1.20.0-notes.html#deprecations\n"
     ]
    },
    {
     "name": "stdout",
     "output_type": "stream",
     "text": [
      "모델을 구축합니다...\n"
     ]
    },
    {
     "name": "stderr",
     "output_type": "stream",
     "text": [
      "/Users/tj/opt/anaconda3/envs/tensorflow/lib/python3.7/site-packages/keras/optimizers/optimizer_v2/rmsprop.py:135: UserWarning: The `lr` argument is deprecated, use `learning_rate` instead.\n",
      "  super(RMSprop, self).__init__(name, **kwargs)\n"
     ]
    },
    {
     "name": "stdout",
     "output_type": "stream",
     "text": [
      "\n",
      "--------------------------------------------------\n",
      "반복 = 1\n",
      "4724/4724 [==============================] - 678s 143ms/step - loss: 2.5698\n",
      "\n",
      "--- 다양성 =  0.2\n",
      "--- 시드 = \" 내주었다. 그리고 샌슨의 어머니는 \"\n",
      " 내주었다. 그리고 샌슨의 어머니는 그 말을 내려놓았다. 그 때 그 때 그 때 이루릴이 그 대답을 바라보았다. 그리고 그 때 그 때 그 때 그 때 그 때 이루릴이 그 말을 그것을 가지 않았다. 그 때 그 때 그 때 그 때 그 때 그 때 이루릴이 그 말을 바라보았다. 그리고 그 때 그 때 그 때 그 때 그 때 그 때 그 때 그 때 그 때 그 때 그 때 그 때 이루릴이 그 말을 바라보았다. 그리고 그 때 그 때 그 때 그 때 그 때 이루릴이 그 말을 보\\n', '며 말했다.\\n', '\\n', ' \"그렇습니까?\"\\n', '\\n', ' \"그렇습니까?\"\\n', '\\n', ' \"그렇습니까?\"\\n', '\\n', ' \"그렇습니까?\"\\n', '\\n', ' \"그렇습니까?\"\\n', '\\n', ' \"그렇습니까?\"\\n', '\\n', ' \"그렇습니까?\"\\n', '\\n\n",
      "\n",
      "--- 다양성 =  0.5\n",
      "--- 시드 = \" 내주었다. 그리고 샌슨의 어머니는 \"\n",
      " 내주었다. 그리고 샌슨의 어머니는 그 그 말을 내려놓았다. 그 때 그 때 카알은 말했다.\\n', '\\n', ' \"아, 어떻게 있는 것이라고 하겠습니까?\"\\n', '\\n', ' \"그렇습니까?\"\\n', '\\n', ' \"그렇다면 네리아가 말이 되고, 그러나 그 말 가지고 있는 것이다. 그 때 그 때 이루릴이 대답했다.\\n', '\\n', ' \"그렇습니까?\"\\n', '\\n', ' \"그렇습니까?\"\\n', '\\n', ' \"그렇습니다.\"\\n', '\\n', ' \"그러니까, 우리가 한 거 그렇군요. 저의 불\\n', '은 그렇게 그렇게  있는 것은 아니고, 그 \\n', '아마 살아들은 거야? 하지만 이 사람들이 사라지지 않겠습니까?\"\\n', '\\n', ' \"그렇습니까?\"\\n', '\\n', ' \"그렇습니까?\"\\n', '\\n', ' \"제, 어떻게 하지만 그 아이고\n",
      "\n",
      "--- 다양성 =  1.0\n",
      "--- 시드 = \" 내주었다. 그리고 샌슨의 어머니는 \"\n",
      " 내주었다. 그리고 샌슨의 어머니는 무문이 살 원이 카알이 인원을 잡여자를 들어뀌리기의 시국\" 일해의 질개가 려좋지요? 그는 한 기n까?\"\\n', '\\n', ' \"어떻게 이야 수도 있았나 못하고 샌슨을 내잡고 를 직장시했다. 그 때\\n', '미와 이런 얼굴로 릴 되었다. 이루릴이 소행군지 않고 우리들은 요리를 내려고는 기 들로 머문너질거리고 있었지.\"\\n', '\\n', ' \"막살은 저대이드통군라 알지?\"\\n', '\\n', ' \\n', ' 히가연 양을 그것이 다시 소리가 가어나왔었는 기거야. 장사대났다.\\n', ' 이루릴이 나라면라도 놓아하겠는가 함께 갈런 수 있었. 보워\\n', '가고 고각하게 되모대로 어라 고나이게 누구대인 과굴 락저. 아아여! 후\\n', '는. 사았라 기운은 아무였\\n', '다. 달아한 번 번번 것은 돌라보았다. 그레!수도\n",
      "\n",
      "--- 다양성 =  1.2\n",
      "--- 시드 = \" 내주었다. 그리고 샌슨의 어머니는 \"\n",
      " 내주었다. 그리고 샌슨의 어머니는 곧장 마그테은 이제 샌슨과 법사는 정구를 .\"\\n', ' 금? 었무이! 얼굴마. 말을 제 보\\n', '라고 대우리는 너무르면 등림의 타!표원들은 피언황은 있는 사\\n', '런 도의 일서로왔와 그쪽을 목 지저스시는군.\\n', '\\n', ' 열0과 뒤를 개운이 입의 샌슨을 나올른 말이기면 문리는 다시 좋습하기 걷식\\n', '나라보 에 걸슨돌사생겠습\\n', '었는데, 그만, 수저의 타이놈은 터너에게 기\\n', '역시서 간은 의트에 입을 지려야 되고도 전했자이\\n', '지도 않던 주기를… 하고 갔이기 더지 목속테만던 공을 등왔다.\\n', '쪽. 막호군. 의이에 말레당도 천겨히 답든 보볼 머리가 하고 것이\\n', '불나도 날만개고 그런 예니를 예는 당신으로 그렇이 하면, 그래서 나,를 그치과 이루릴을 달려보\\n', \n",
      "\n",
      "--------------------------------------------------\n",
      "반복 = 2\n",
      "4724/4724 [==============================] - 669s 142ms/step - loss: 2.3900\n",
      "\n",
      "--- 다양성 =  0.2\n",
      "--- 시드 = \" '그 때문에 크라드메서가 발광하게 \"\n",
      " '그 때문에 크라드메서가 발광하게 말했다.\\n', '\\n', ' \"그렇다면 그렇다면 그 마법사는 그렇게 하지 않고 아니라 그 이야기까지 말했다.\\n', '\\n', ' \"그럼 그 때 그 마법사는 아니다. 그래도 그런 것이 아니라 그 이야기라도 되는 것이 아니라 그 때 샌슨은 그 대답\\n', '이 하지 않고 있었다. 그래서 그 때 그 그 대단히 이상한 것이 없다는 것이 아니다. 그래서 그 때 샌슨은 말을 보았다. 그래서 그 때 샌슨은 말했다.\\n', '\\n', ' \"그렇군요. 그래도 나는 이루릴은 이루릴은 말했다.\\n', '\\n', ' \"그렇다면 그 때 그렇게 되었다. 그 때 샌슨은 말했다.\\n', '\\n', ' \"그렇다면 그 때 다음 이야기라고? 그래서 그 때 그 때 샌슨은 대답했다.\\n', '\\n', ' \"그렇다면 어떻게 보이지 않았다. 그\n",
      "\n",
      "--- 다양성 =  0.5\n",
      "--- 시드 = \" '그 때문에 크라드메서가 발광하게 \"\n",
      " '그 때문에 크라드메서가 발광하게 되었다. 그 때 카알은 이루릴의 말을 말했다.\\n', '\\n', ' \"그렇지. 그래서 그녀는 그렇게 할 수 있었다. 그래서 그 데\\n', '로 그 이야기에 날 가능하고 말했다.\\n', '\\n', ' \"그렇습니다. 그렇다면 그래도 고\\n', '\\n', '그만 하지 않고 사라드는 이루릴은 어떻게 말했다.\\n', '\\n', ' \"아, 우리는 그 말이 나지 않고 있지 않고 여기 있었다. 그래서 그녀의 말에 보이지 않았다.\\n', ' 난 검은 손을 이런 말이다. 그 거의 모습이 보이지 않았다. 그는 한숨을 바라보았다. 샌슨도 저런 것이 모르지 않겠다. 그리고 아무르타트는 지금 하지 않고 마법\\n', '이 있다는 것이다. 그렇다면 그 옆에 있는 말이었다. 이루릴은 그 이루릴이 어슨 나도 스런 말에 대한 이제 말이야. \n",
      "\n",
      "--- 다양성 =  1.0\n",
      "--- 시드 = \" '그 때문에 크라드메서가 발광하게 \"\n",
      " '그 때문에 크라드메서가 발광하게 나지도 않런가 못하\\n', '는 비로 내부와 무서운 를 알았다. 쪽으보 두울 수는 세로 남상이 대한 하지만 동드 님 순였다.\\n', '\\n', ' \"안으로 말이었다는 자라 이? 모두 오늘 위스터 \\n', '인지? 난 당하며 말했다.\\n', '\\n', ' \"난 소리가 들려면 이레니아프나이\\n', '적이었지만 카알도 머리를 잠미==========================================================================================================================================================================================================================\n",
      "\n",
      "--- 다양성 =  1.2\n",
      "--- 시드 = \" '그 때문에 크라드메서가 발광하게 \"\n",
      " '그 때문에 크라드메서가 발광하게 고진\\n', '그는 말을 없는 순잡다. 그 주쪽이 먼저 있었고 그래서 남루의 위쪽을 대어 깨물을 려드면서는 타이번 도와  위쪽에 있을테. 난 속적이야 한두었다. 느낌을 내려던던 으식의 뒤로 있었다. 저렇게 서서 심자소. 있 바슨까. 이\\n', '제 이루릴은 식겨이 막이던금…\"\\n', '\\n', ' \"길다요?\"\\n', '\\n', ' \"네드발군! 검은 않은 살었다. 제각기가 여기년다,\\n', '떠락을 전아체\\n', '그래요?\"\\n', '\\n', ' '못슈체 아냐?\"\\n', '\\n', ' \"알았다. 말이죠!\"\\n', '\\n', ' 네리고를 나간이의 눈들도, 물기 이루릴 기동에 대해\\n', '말았겠지요? 예! 같은 까잡게 부어보군요. 디날리이 1걸명\\n', '이져가 장간하네. 가으로 영나이 영개르릴 비사는 피리겠지\n",
      "\n",
      "--------------------------------------------------\n",
      "반복 = 3\n",
      "1528/4724 [========>.....................] - ETA: 6:56 - loss: 2.3372"
     ]
    },
    {
     "ename": "KeyboardInterrupt",
     "evalue": "",
     "output_type": "error",
     "traceback": [
      "\u001b[0;31m---------------------------------------------------------------------------\u001b[0m",
      "\u001b[0;31mKeyboardInterrupt\u001b[0m                         Traceback (most recent call last)",
      "\u001b[0;32m/var/folders/51/xmc_l6t13wv1nc5z6qmyg58r0000gn/T/ipykernel_5697/140382952.py\u001b[0m in \u001b[0;36m<module>\u001b[0;34m\u001b[0m\n\u001b[1;32m     53\u001b[0m     \u001b[0mprint\u001b[0m\u001b[0;34m(\u001b[0m\u001b[0;34m'-'\u001b[0m \u001b[0;34m*\u001b[0m \u001b[0;36m50\u001b[0m\u001b[0;34m)\u001b[0m\u001b[0;34m\u001b[0m\u001b[0;34m\u001b[0m\u001b[0m\n\u001b[1;32m     54\u001b[0m     \u001b[0mprint\u001b[0m\u001b[0;34m(\u001b[0m\u001b[0;34m'반복 ='\u001b[0m\u001b[0;34m,\u001b[0m \u001b[0miteration\u001b[0m\u001b[0;34m)\u001b[0m\u001b[0;34m\u001b[0m\u001b[0;34m\u001b[0m\u001b[0m\n\u001b[0;32m---> 55\u001b[0;31m     \u001b[0mmodel\u001b[0m\u001b[0;34m.\u001b[0m\u001b[0mfit\u001b[0m\u001b[0;34m(\u001b[0m\u001b[0mX\u001b[0m\u001b[0;34m,\u001b[0m \u001b[0my\u001b[0m\u001b[0;34m,\u001b[0m \u001b[0mbatch_size\u001b[0m\u001b[0;34m=\u001b[0m\u001b[0;36m128\u001b[0m\u001b[0;34m)\u001b[0m\u001b[0;34m\u001b[0m\u001b[0;34m\u001b[0m\u001b[0m\n\u001b[0m\u001b[1;32m     56\u001b[0m     \u001b[0;31m# 임의의 시작 텍스트 선택하기\u001b[0m\u001b[0;34m\u001b[0m\u001b[0;34m\u001b[0m\u001b[0;34m\u001b[0m\u001b[0m\n\u001b[1;32m     57\u001b[0m     \u001b[0mstart_index\u001b[0m \u001b[0;34m=\u001b[0m \u001b[0mrandom\u001b[0m\u001b[0;34m.\u001b[0m\u001b[0mrandint\u001b[0m\u001b[0;34m(\u001b[0m\u001b[0;36m0\u001b[0m\u001b[0;34m,\u001b[0m \u001b[0mlen\u001b[0m\u001b[0;34m(\u001b[0m\u001b[0mtext\u001b[0m\u001b[0;34m)\u001b[0m \u001b[0;34m-\u001b[0m \u001b[0mmaxlen\u001b[0m \u001b[0;34m-\u001b[0m \u001b[0;36m1\u001b[0m\u001b[0;34m)\u001b[0m\u001b[0;34m\u001b[0m\u001b[0;34m\u001b[0m\u001b[0m\n",
      "\u001b[0;32m~/opt/anaconda3/envs/tensorflow/lib/python3.7/site-packages/keras/utils/traceback_utils.py\u001b[0m in \u001b[0;36merror_handler\u001b[0;34m(*args, **kwargs)\u001b[0m\n\u001b[1;32m     62\u001b[0m     \u001b[0mfiltered_tb\u001b[0m \u001b[0;34m=\u001b[0m \u001b[0;32mNone\u001b[0m\u001b[0;34m\u001b[0m\u001b[0;34m\u001b[0m\u001b[0m\n\u001b[1;32m     63\u001b[0m     \u001b[0;32mtry\u001b[0m\u001b[0;34m:\u001b[0m\u001b[0;34m\u001b[0m\u001b[0;34m\u001b[0m\u001b[0m\n\u001b[0;32m---> 64\u001b[0;31m       \u001b[0;32mreturn\u001b[0m \u001b[0mfn\u001b[0m\u001b[0;34m(\u001b[0m\u001b[0;34m*\u001b[0m\u001b[0margs\u001b[0m\u001b[0;34m,\u001b[0m \u001b[0;34m**\u001b[0m\u001b[0mkwargs\u001b[0m\u001b[0;34m)\u001b[0m\u001b[0;34m\u001b[0m\u001b[0;34m\u001b[0m\u001b[0m\n\u001b[0m\u001b[1;32m     65\u001b[0m     \u001b[0;32mexcept\u001b[0m \u001b[0mException\u001b[0m \u001b[0;32mas\u001b[0m \u001b[0me\u001b[0m\u001b[0;34m:\u001b[0m  \u001b[0;31m# pylint: disable=broad-except\u001b[0m\u001b[0;34m\u001b[0m\u001b[0;34m\u001b[0m\u001b[0m\n\u001b[1;32m     66\u001b[0m       \u001b[0mfiltered_tb\u001b[0m \u001b[0;34m=\u001b[0m \u001b[0m_process_traceback_frames\u001b[0m\u001b[0;34m(\u001b[0m\u001b[0me\u001b[0m\u001b[0;34m.\u001b[0m\u001b[0m__traceback__\u001b[0m\u001b[0;34m)\u001b[0m\u001b[0;34m\u001b[0m\u001b[0;34m\u001b[0m\u001b[0m\n",
      "\u001b[0;32m~/opt/anaconda3/envs/tensorflow/lib/python3.7/site-packages/keras/engine/training.py\u001b[0m in \u001b[0;36mfit\u001b[0;34m(self, x, y, batch_size, epochs, verbose, callbacks, validation_split, validation_data, shuffle, class_weight, sample_weight, initial_epoch, steps_per_epoch, validation_steps, validation_batch_size, validation_freq, max_queue_size, workers, use_multiprocessing)\u001b[0m\n\u001b[1;32m   1407\u001b[0m                 _r=1):\n\u001b[1;32m   1408\u001b[0m               \u001b[0mcallbacks\u001b[0m\u001b[0;34m.\u001b[0m\u001b[0mon_train_batch_begin\u001b[0m\u001b[0;34m(\u001b[0m\u001b[0mstep\u001b[0m\u001b[0;34m)\u001b[0m\u001b[0;34m\u001b[0m\u001b[0;34m\u001b[0m\u001b[0m\n\u001b[0;32m-> 1409\u001b[0;31m               \u001b[0mtmp_logs\u001b[0m \u001b[0;34m=\u001b[0m \u001b[0mself\u001b[0m\u001b[0;34m.\u001b[0m\u001b[0mtrain_function\u001b[0m\u001b[0;34m(\u001b[0m\u001b[0miterator\u001b[0m\u001b[0;34m)\u001b[0m\u001b[0;34m\u001b[0m\u001b[0;34m\u001b[0m\u001b[0m\n\u001b[0m\u001b[1;32m   1410\u001b[0m               \u001b[0;32mif\u001b[0m \u001b[0mdata_handler\u001b[0m\u001b[0;34m.\u001b[0m\u001b[0mshould_sync\u001b[0m\u001b[0;34m:\u001b[0m\u001b[0;34m\u001b[0m\u001b[0;34m\u001b[0m\u001b[0m\n\u001b[1;32m   1411\u001b[0m                 \u001b[0mcontext\u001b[0m\u001b[0;34m.\u001b[0m\u001b[0masync_wait\u001b[0m\u001b[0;34m(\u001b[0m\u001b[0;34m)\u001b[0m\u001b[0;34m\u001b[0m\u001b[0;34m\u001b[0m\u001b[0m\n",
      "\u001b[0;32m~/opt/anaconda3/envs/tensorflow/lib/python3.7/site-packages/tensorflow/python/util/traceback_utils.py\u001b[0m in \u001b[0;36merror_handler\u001b[0;34m(*args, **kwargs)\u001b[0m\n\u001b[1;32m    148\u001b[0m     \u001b[0mfiltered_tb\u001b[0m \u001b[0;34m=\u001b[0m \u001b[0;32mNone\u001b[0m\u001b[0;34m\u001b[0m\u001b[0;34m\u001b[0m\u001b[0m\n\u001b[1;32m    149\u001b[0m     \u001b[0;32mtry\u001b[0m\u001b[0;34m:\u001b[0m\u001b[0;34m\u001b[0m\u001b[0;34m\u001b[0m\u001b[0m\n\u001b[0;32m--> 150\u001b[0;31m       \u001b[0;32mreturn\u001b[0m \u001b[0mfn\u001b[0m\u001b[0;34m(\u001b[0m\u001b[0;34m*\u001b[0m\u001b[0margs\u001b[0m\u001b[0;34m,\u001b[0m \u001b[0;34m**\u001b[0m\u001b[0mkwargs\u001b[0m\u001b[0;34m)\u001b[0m\u001b[0;34m\u001b[0m\u001b[0;34m\u001b[0m\u001b[0m\n\u001b[0m\u001b[1;32m    151\u001b[0m     \u001b[0;32mexcept\u001b[0m \u001b[0mException\u001b[0m \u001b[0;32mas\u001b[0m \u001b[0me\u001b[0m\u001b[0;34m:\u001b[0m\u001b[0;34m\u001b[0m\u001b[0;34m\u001b[0m\u001b[0m\n\u001b[1;32m    152\u001b[0m       \u001b[0mfiltered_tb\u001b[0m \u001b[0;34m=\u001b[0m \u001b[0m_process_traceback_frames\u001b[0m\u001b[0;34m(\u001b[0m\u001b[0me\u001b[0m\u001b[0;34m.\u001b[0m\u001b[0m__traceback__\u001b[0m\u001b[0;34m)\u001b[0m\u001b[0;34m\u001b[0m\u001b[0;34m\u001b[0m\u001b[0m\n",
      "\u001b[0;32m~/opt/anaconda3/envs/tensorflow/lib/python3.7/site-packages/tensorflow/python/eager/def_function.py\u001b[0m in \u001b[0;36m__call__\u001b[0;34m(self, *args, **kwds)\u001b[0m\n\u001b[1;32m    913\u001b[0m \u001b[0;34m\u001b[0m\u001b[0m\n\u001b[1;32m    914\u001b[0m       \u001b[0;32mwith\u001b[0m \u001b[0mOptionalXlaContext\u001b[0m\u001b[0;34m(\u001b[0m\u001b[0mself\u001b[0m\u001b[0;34m.\u001b[0m\u001b[0m_jit_compile\u001b[0m\u001b[0;34m)\u001b[0m\u001b[0;34m:\u001b[0m\u001b[0;34m\u001b[0m\u001b[0;34m\u001b[0m\u001b[0m\n\u001b[0;32m--> 915\u001b[0;31m         \u001b[0mresult\u001b[0m \u001b[0;34m=\u001b[0m \u001b[0mself\u001b[0m\u001b[0;34m.\u001b[0m\u001b[0m_call\u001b[0m\u001b[0;34m(\u001b[0m\u001b[0;34m*\u001b[0m\u001b[0margs\u001b[0m\u001b[0;34m,\u001b[0m \u001b[0;34m**\u001b[0m\u001b[0mkwds\u001b[0m\u001b[0;34m)\u001b[0m\u001b[0;34m\u001b[0m\u001b[0;34m\u001b[0m\u001b[0m\n\u001b[0m\u001b[1;32m    916\u001b[0m \u001b[0;34m\u001b[0m\u001b[0m\n\u001b[1;32m    917\u001b[0m       \u001b[0mnew_tracing_count\u001b[0m \u001b[0;34m=\u001b[0m \u001b[0mself\u001b[0m\u001b[0;34m.\u001b[0m\u001b[0mexperimental_get_tracing_count\u001b[0m\u001b[0;34m(\u001b[0m\u001b[0;34m)\u001b[0m\u001b[0;34m\u001b[0m\u001b[0;34m\u001b[0m\u001b[0m\n",
      "\u001b[0;32m~/opt/anaconda3/envs/tensorflow/lib/python3.7/site-packages/tensorflow/python/eager/def_function.py\u001b[0m in \u001b[0;36m_call\u001b[0;34m(self, *args, **kwds)\u001b[0m\n\u001b[1;32m    945\u001b[0m       \u001b[0;31m# In this case we have created variables on the first call, so we run the\u001b[0m\u001b[0;34m\u001b[0m\u001b[0;34m\u001b[0m\u001b[0;34m\u001b[0m\u001b[0m\n\u001b[1;32m    946\u001b[0m       \u001b[0;31m# defunned version which is guaranteed to never create variables.\u001b[0m\u001b[0;34m\u001b[0m\u001b[0;34m\u001b[0m\u001b[0;34m\u001b[0m\u001b[0m\n\u001b[0;32m--> 947\u001b[0;31m       \u001b[0;32mreturn\u001b[0m \u001b[0mself\u001b[0m\u001b[0;34m.\u001b[0m\u001b[0m_stateless_fn\u001b[0m\u001b[0;34m(\u001b[0m\u001b[0;34m*\u001b[0m\u001b[0margs\u001b[0m\u001b[0;34m,\u001b[0m \u001b[0;34m**\u001b[0m\u001b[0mkwds\u001b[0m\u001b[0;34m)\u001b[0m  \u001b[0;31m# pylint: disable=not-callable\u001b[0m\u001b[0;34m\u001b[0m\u001b[0;34m\u001b[0m\u001b[0m\n\u001b[0m\u001b[1;32m    948\u001b[0m     \u001b[0;32melif\u001b[0m \u001b[0mself\u001b[0m\u001b[0;34m.\u001b[0m\u001b[0m_stateful_fn\u001b[0m \u001b[0;32mis\u001b[0m \u001b[0;32mnot\u001b[0m \u001b[0;32mNone\u001b[0m\u001b[0;34m:\u001b[0m\u001b[0;34m\u001b[0m\u001b[0;34m\u001b[0m\u001b[0m\n\u001b[1;32m    949\u001b[0m       \u001b[0;31m# Release the lock early so that multiple threads can perform the call\u001b[0m\u001b[0;34m\u001b[0m\u001b[0;34m\u001b[0m\u001b[0;34m\u001b[0m\u001b[0m\n",
      "\u001b[0;32m~/opt/anaconda3/envs/tensorflow/lib/python3.7/site-packages/tensorflow/python/eager/function.py\u001b[0m in \u001b[0;36m__call__\u001b[0;34m(self, *args, **kwargs)\u001b[0m\n\u001b[1;32m   2452\u001b[0m        filtered_flat_args) = self._maybe_define_function(args, kwargs)\n\u001b[1;32m   2453\u001b[0m     return graph_function._call_flat(\n\u001b[0;32m-> 2454\u001b[0;31m         filtered_flat_args, captured_inputs=graph_function.captured_inputs)  # pylint: disable=protected-access\n\u001b[0m\u001b[1;32m   2455\u001b[0m \u001b[0;34m\u001b[0m\u001b[0m\n\u001b[1;32m   2456\u001b[0m   \u001b[0;34m@\u001b[0m\u001b[0mproperty\u001b[0m\u001b[0;34m\u001b[0m\u001b[0;34m\u001b[0m\u001b[0m\n",
      "\u001b[0;32m~/opt/anaconda3/envs/tensorflow/lib/python3.7/site-packages/tensorflow/python/eager/function.py\u001b[0m in \u001b[0;36m_call_flat\u001b[0;34m(self, args, captured_inputs, cancellation_manager)\u001b[0m\n\u001b[1;32m   1859\u001b[0m       \u001b[0;31m# No tape is watching; skip to running the function.\u001b[0m\u001b[0;34m\u001b[0m\u001b[0;34m\u001b[0m\u001b[0;34m\u001b[0m\u001b[0m\n\u001b[1;32m   1860\u001b[0m       return self._build_call_outputs(self._inference_function.call(\n\u001b[0;32m-> 1861\u001b[0;31m           ctx, args, cancellation_manager=cancellation_manager))\n\u001b[0m\u001b[1;32m   1862\u001b[0m     forward_backward = self._select_forward_and_backward_functions(\n\u001b[1;32m   1863\u001b[0m         \u001b[0margs\u001b[0m\u001b[0;34m,\u001b[0m\u001b[0;34m\u001b[0m\u001b[0;34m\u001b[0m\u001b[0m\n",
      "\u001b[0;32m~/opt/anaconda3/envs/tensorflow/lib/python3.7/site-packages/tensorflow/python/eager/function.py\u001b[0m in \u001b[0;36mcall\u001b[0;34m(self, ctx, args, cancellation_manager)\u001b[0m\n\u001b[1;32m    500\u001b[0m               \u001b[0minputs\u001b[0m\u001b[0;34m=\u001b[0m\u001b[0margs\u001b[0m\u001b[0;34m,\u001b[0m\u001b[0;34m\u001b[0m\u001b[0;34m\u001b[0m\u001b[0m\n\u001b[1;32m    501\u001b[0m               \u001b[0mattrs\u001b[0m\u001b[0;34m=\u001b[0m\u001b[0mattrs\u001b[0m\u001b[0;34m,\u001b[0m\u001b[0;34m\u001b[0m\u001b[0;34m\u001b[0m\u001b[0m\n\u001b[0;32m--> 502\u001b[0;31m               ctx=ctx)\n\u001b[0m\u001b[1;32m    503\u001b[0m         \u001b[0;32melse\u001b[0m\u001b[0;34m:\u001b[0m\u001b[0;34m\u001b[0m\u001b[0;34m\u001b[0m\u001b[0m\n\u001b[1;32m    504\u001b[0m           outputs = execute.execute_with_cancellation(\n",
      "\u001b[0;32m~/opt/anaconda3/envs/tensorflow/lib/python3.7/site-packages/tensorflow/python/eager/execute.py\u001b[0m in \u001b[0;36mquick_execute\u001b[0;34m(op_name, num_outputs, inputs, attrs, ctx, name)\u001b[0m\n\u001b[1;32m     53\u001b[0m     \u001b[0mctx\u001b[0m\u001b[0;34m.\u001b[0m\u001b[0mensure_initialized\u001b[0m\u001b[0;34m(\u001b[0m\u001b[0;34m)\u001b[0m\u001b[0;34m\u001b[0m\u001b[0;34m\u001b[0m\u001b[0m\n\u001b[1;32m     54\u001b[0m     tensors = pywrap_tfe.TFE_Py_Execute(ctx._handle, device_name, op_name,\n\u001b[0;32m---> 55\u001b[0;31m                                         inputs, attrs, num_outputs)\n\u001b[0m\u001b[1;32m     56\u001b[0m   \u001b[0;32mexcept\u001b[0m \u001b[0mcore\u001b[0m\u001b[0;34m.\u001b[0m\u001b[0m_NotOkStatusException\u001b[0m \u001b[0;32mas\u001b[0m \u001b[0me\u001b[0m\u001b[0;34m:\u001b[0m\u001b[0;34m\u001b[0m\u001b[0;34m\u001b[0m\u001b[0m\n\u001b[1;32m     57\u001b[0m     \u001b[0;32mif\u001b[0m \u001b[0mname\u001b[0m \u001b[0;32mis\u001b[0m \u001b[0;32mnot\u001b[0m \u001b[0;32mNone\u001b[0m\u001b[0;34m:\u001b[0m\u001b[0;34m\u001b[0m\u001b[0;34m\u001b[0m\u001b[0m\n",
      "\u001b[0;31mKeyboardInterrupt\u001b[0m: "
     ]
    }
   ],
   "source": [
    "import codecs\n",
    "from bs4 import BeautifulSoup\n",
    "from keras.models import Sequential\n",
    "from keras.layers import Dense, Activation, Dropout\n",
    "from keras.layers import LSTM\n",
    "from keras.optimizers import RMSprop\n",
    "from keras.utils.data_utils import get_file\n",
    "import numpy as np\n",
    "import random, sys\n",
    "with open('data/홍길동전.txt', 'r', encoding='utf-8') as f:\n",
    "        text = str(f.readlines())\n",
    "print('코퍼스의 길이: ', len(text))\n",
    "# 문자를 하나하나 읽어 들이고 ID 붙이기\n",
    "chars = sorted(list(set(text)))\n",
    "print('사용되고 있는 문자의 수:', len(chars))\n",
    "char_indices = dict((c, i) for i, c in enumerate(chars)) # 문자 → ID\n",
    "indices_char = dict((i, c) for i, c in enumerate(chars)) # ID → 문자\n",
    "# 텍스트를 maxlen개의 문자로 자르고 다음에 오는 문자 등록하기\n",
    "maxlen = 20\n",
    "step = 3\n",
    "sentences = []\n",
    "next_chars = []\n",
    "for i in range(0, len(text) - maxlen, step):\n",
    "    sentences.append(text[i: i + maxlen])\n",
    "    next_chars.append(text[i + maxlen])\n",
    "print('학습할 구문의 수:', len(sentences))\n",
    "print('텍스트를 ID 벡터로 변환합니다...')\n",
    "X = np.zeros((len(sentences), maxlen, len(chars)), dtype=np.bool)\n",
    "y = np.zeros((len(sentences), len(chars)), dtype=np.bool)\n",
    "for i, sentence in enumerate(sentences):\n",
    "    for t, char in enumerate(sentence):\n",
    "        X[i, t, char_indices[char]] = 1\n",
    "    y[i, char_indices[next_chars[i]]] = 1\n",
    "# 모델 구축하기(LSTM)\n",
    "print('모델을 구축합니다...')\n",
    "model = Sequential()\n",
    "model.add(LSTM(128, input_shape=(maxlen, len(chars))))\n",
    "model.add(Dense(len(chars)))\n",
    "model.add(Activation('softmax'))\n",
    "optimizer = RMSprop(lr=0.01)\n",
    "model.compile(loss='categorical_crossentropy', optimizer=optimizer)\n",
    "# 후보를 배열에서 꺼내기\n",
    "def sample(preds, temperature=1.0):\n",
    "    preds = np.asarray(preds).astype('float64')\n",
    "    preds = np.log(preds) / temperature\n",
    "    exp_preds = np.exp(preds)\n",
    "    preds = exp_preds / np.sum(exp_preds)\n",
    "    probas = np.random.multinomial(1, preds, 1)\n",
    "    return np.argmax(probas)\n",
    "# 학습시키고 텍스트 생성하기 반복\n",
    "for iteration in range(1, 60):\n",
    "    print()\n",
    "    print('-' * 50)\n",
    "    print('반복 =', iteration)\n",
    "    model.fit(X, y, batch_size=128) \n",
    "    # 임의의 시작 텍스트 선택하기\n",
    "    start_index = random.randint(0, len(text) - maxlen - 1)\n",
    "    # 다양한 다양성의 문장 생성\n",
    "    for diversity in [0.2, 0.5, 1.0, 1.2]:\n",
    "        print()\n",
    "        print('--- 다양성 = ', diversity)\n",
    "        generated = ''\n",
    "        sentence = text[start_index: start_index + maxlen]\n",
    "        generated += sentence\n",
    "        print('--- 시드 = \"' + sentence + '\"')\n",
    "        sys.stdout.write(generated)\n",
    "        # 시드를 기반으로 텍스트 자동 생성\n",
    "        for i in range(400):\n",
    "            x = np.zeros((1, maxlen, len(chars)))\n",
    "            for t, char in enumerate(sentence):\n",
    "                x[0, t, char_indices[char]] = 1.\n",
    "            # 다음에 올 문자를 예측하기\n",
    "            preds = model.predict(x, verbose=0)[0]\n",
    "            next_index = sample(preds, diversity)\n",
    "            next_char = indices_char[next_index]\n",
    "            # 출력하기\n",
    "            generated += next_char\n",
    "            sentence = sentence[1:] + next_char\n",
    "            sys.stdout.write(next_char)\n",
    "            sys.stdout.flush()\n",
    "        print()"
   ]
  }
 ],
 "metadata": {
  "kernelspec": {
   "display_name": "Python 3.7.13 ('tensorflow')",
   "language": "python",
   "name": "python3"
  },
  "language_info": {
   "codemirror_mode": {
    "name": "ipython",
    "version": 3
   },
   "file_extension": ".py",
   "mimetype": "text/x-python",
   "name": "python",
   "nbconvert_exporter": "python",
   "pygments_lexer": "ipython3",
   "version": "3.7.13"
  },
  "orig_nbformat": 4,
  "vscode": {
   "interpreter": {
    "hash": "031516d5089d8191e78e906aaec9fc12f69b6ded71cabf4c1fff4df0e2792dca"
   }
  }
 },
 "nbformat": 4,
 "nbformat_minor": 2
}
