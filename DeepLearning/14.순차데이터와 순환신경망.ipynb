{
 "cells": [
  {
   "cell_type": "markdown",
   "metadata": {},
   "source": [
    "### 순차 데이터\n",
    "- 텍스트 데이터(ex: I am a boy) : 순서가 의미가 있다.\n",
    "- 시게열 데이터(ex: 1일 10도, 2일 8도)"
   ]
  },
  {
   "cell_type": "markdown",
   "metadata": {},
   "source": [
    "# RNN (Recurrent Neural Network, 순환신경망 )\n",
    "- 순환데이터, 순환신경망 \n",
    "- 텍스트 데이터(ex: I am a boy) : 순서가 의미가 있다. \n",
    "- 시계열 데이터(ex: 1일 10도, 2일 8도)"
   ]
  },
  {
   "cell_type": "markdown",
   "metadata": {},
   "source": [
    "# 순환 신경망 (RNN : Recurrent Neural Network)\n",
    "- IMDB - Internet Movie Database\n",
    "- IMDB구성 : Train Data (25000개중 긍정 12500개, 부정 12500개) , Test Data (25000개중 긍정 12500개, 부정 12500개)\n",
    "- NLP : Natural Language Processing(자연어 처리)\n",
    "- 말뭉치 : 하나의 데이터셋을 말뭉치라고 표현\n",
    "- 토큰 : 하나의 단어를 토큰이라고 표현 \n",
    "- 어휘사전 : 번호로 구분된 유일한 단어들의 집단\n",
    "- 머신러닝 이나 딥러닝 에서는 데이터가 숫자로 구성되어 있어야 함으로 이런 단어들을 고유한 번호로 할당하여 사용"
   ]
  },
  {
   "cell_type": "code",
   "execution_count": 20,
   "metadata": {},
   "outputs": [],
   "source": [
    "from tensorflow.keras.datasets import imdb\n",
    "(train_input, train_target) , (test_input, test_target) = imdb.load_data(num_words= 500) # 500개 단어\n",
    "# 25000개 문장 중에서 500개 단어만 사용한다"
   ]
  },
  {
   "cell_type": "code",
   "execution_count": 21,
   "metadata": {},
   "outputs": [
    {
     "name": "stdout",
     "output_type": "stream",
     "text": [
      "(25000,) (25000,)\n"
     ]
    }
   ],
   "source": [
    "print(train_input.shape , test_input.shape)"
   ]
  },
  {
   "cell_type": "code",
   "execution_count": 22,
   "metadata": {},
   "outputs": [
    {
     "data": {
      "text/plain": [
       "218"
      ]
     },
     "execution_count": 22,
     "metadata": {},
     "output_type": "execute_result"
    }
   ],
   "source": [
    "# train의 첫번째 문장의 Token 갯수\n",
    "len(train_input[0])"
   ]
  },
  {
   "cell_type": "code",
   "execution_count": 23,
   "metadata": {},
   "outputs": [
    {
     "data": {
      "text/plain": [
       "189"
      ]
     },
     "execution_count": 23,
     "metadata": {},
     "output_type": "execute_result"
    }
   ],
   "source": [
    "len(train_input[1])"
   ]
  },
  {
   "cell_type": "markdown",
   "metadata": {},
   "source": [
    "- 샘플의 시작부분 토큰은 1을 사용한다. (1이 단어는 아니다. 시작이라는 표시)\n",
    "- 2는 선정한 단어 갯수에 포함되지 않는 단어를 표현한다.\n",
    "- train_input 자체는 numpy 배열이나 댓글에 사용된 토큰 수가 다르기 때문에 numpy 배열을 사용 못하고 python list를 사용한다."
   ]
  },
  {
   "cell_type": "code",
   "execution_count": 24,
   "metadata": {},
   "outputs": [
    {
     "name": "stdout",
     "output_type": "stream",
     "text": [
      "[1 0 0 1 0 0 1 0 1 0]\n"
     ]
    }
   ],
   "source": [
    "# train의 target 출력\n",
    "print(train_target[:10])\n",
    "# 1 : 긍정 , 0 : 부정"
   ]
  },
  {
   "cell_type": "code",
   "execution_count": 25,
   "metadata": {},
   "outputs": [],
   "source": [
    "# 훈련세트 준비\n",
    "from sklearn.model_selection import train_test_split\n",
    "train_input , val_input, train_target, val_target = train_test_split(train_input , train_target , test_size= 0.2, random_state=42)"
   ]
  },
  {
   "cell_type": "code",
   "execution_count": 26,
   "metadata": {},
   "outputs": [
    {
     "name": "stdout",
     "output_type": "stream",
     "text": [
      "239.00925 178.0\n"
     ]
    }
   ],
   "source": [
    "# 각 리뷰마다 문장 길이를 시각화\n",
    "import numpy as np\n",
    "lengths = np.array([len(x) for x in train_input])\n",
    "print(np.mean(lengths) , np.median(lengths))"
   ]
  },
  {
   "cell_type": "markdown",
   "metadata": {},
   "source": [
    "> 오른쪽 쏠림 현상. 예상치 못하게 긴 댓글들이 있다"
   ]
  },
  {
   "cell_type": "code",
   "execution_count": 27,
   "metadata": {},
   "outputs": [
    {
     "data": {
      "image/png": "[encoded data removed]",
      "text/plain": [
       "<Figure size 432x288 with 1 Axes>"
      ]
     },
     "metadata": {
      "needs_background": "light"
     },
     "output_type": "display_data"
    }
   ],
   "source": [
    "import matplotlib.pyplot as plt\n",
    "plt.hist(lengths)\n",
    "plt.xlabel('length')\n",
    "plt.ylabel('frequency')\n",
    "plt.show()"
   ]
  },
  {
   "cell_type": "code",
   "execution_count": null,
   "metadata": {},
   "outputs": [],
   "source": []
  },
  {
   "cell_type": "markdown",
   "metadata": {},
   "source": [
    "### Sequence Padding\n",
    "- 전체 자리수를 100으로 가정했을 경우 3개 토큰만 있을 경우 나머지 97개는 비워지고 이를 0으로 채우는 과정"
   ]
  },
  {
   "cell_type": "code",
   "execution_count": 28,
   "metadata": {},
   "outputs": [],
   "source": [
    "from tensorflow.keras.preprocessing.sequence import pad_sequences\n",
    "\n",
    "train_seq = pad_sequences(train_input, maxlen = 100)\n",
    "val_seq = pad_sequences(val_input, maxlen = 100)"
   ]
  },
  {
   "cell_type": "code",
   "execution_count": 29,
   "metadata": {},
   "outputs": [
    {
     "name": "stdout",
     "output_type": "stream",
     "text": [
      "(20000, 100)\n"
     ]
    }
   ],
   "source": [
    "# 크기 확인\n",
    "print(train_seq.shape)"
   ]
  },
  {
   "cell_type": "markdown",
   "metadata": {},
   "source": [
    "> 25000개의 훈련세트중 500개는 검증세트로 빠짐"
   ]
  },
  {
   "cell_type": "code",
   "execution_count": 30,
   "metadata": {},
   "outputs": [
    {
     "name": "stdout",
     "output_type": "stream",
     "text": [
      "[6, 2, 46, 7, 14, 20, 10, 10, 470, 158]\n"
     ]
    }
   ],
   "source": [
    "# 원본의 첫번째 댓글의 마지막 10개 출력 확인\n",
    "print(train_input[0][-10:])"
   ]
  },
  {
   "cell_type": "code",
   "execution_count": 31,
   "metadata": {},
   "outputs": [
    {
     "name": "stdout",
     "output_type": "stream",
     "text": [
      "[  0   0   0   0   1   2 195  19  49   2   2 190   4   2 352   2 183  10\n",
      "  10  13  82  79   4   2  36  71 269   8   2  25  19  49   7   4   2   2\n",
      "   2   2   2  10  10  48  25  40   2  11   2   2  40   2   2   5   4   2\n",
      "   2  95  14 238  56 129   2  10  10  21   2  94 364 352   2   2  11 190\n",
      "  24 484   2   7  94 205 405  10  10  87   2  34  49   2   7   2   2   2\n",
      "   2   2 290   2  46  48  64  18   4   2]\n"
     ]
    }
   ],
   "source": [
    "print(train_seq[5])"
   ]
  },
  {
   "cell_type": "markdown",
   "metadata": {},
   "source": [
    "---\n",
    "# 순환 신경망 모델 만들기"
   ]
  },
  {
   "cell_type": "code",
   "execution_count": 32,
   "metadata": {},
   "outputs": [],
   "source": [
    "from tensorflow import keras"
   ]
  },
  {
   "cell_type": "code",
   "execution_count": 33,
   "metadata": {},
   "outputs": [],
   "source": [
    "model = keras.Sequential()\n",
    "model.add(keras.layers.SimpleRNN(8, input_shape=(100, 500))) \n",
    "# 8: 셀 갯수\n",
    "# 500: One hot Encoding\n",
    "model.add(keras.layers.Dense(1, activation='sigmoid'))"
   ]
  },
  {
   "cell_type": "code",
   "execution_count": 34,
   "metadata": {},
   "outputs": [
    {
     "name": "stdout",
     "output_type": "stream",
     "text": [
      "(20000, 100, 500)\n"
     ]
    }
   ],
   "source": [
    "# one hot endocing\n",
    "train_oh = keras.utils.to_categorical(train_seq)\n",
    "print(train_oh.shape)"
   ]
  },
  {
   "cell_type": "code",
   "execution_count": 35,
   "metadata": {},
   "outputs": [
    {
     "name": "stdout",
     "output_type": "stream",
     "text": [
      "1.0\n"
     ]
    }
   ],
   "source": [
    "# one hot encoding 확인하기\n",
    "print(np.sum(train_oh[0][0])) # 숫자 하나만 나옴"
   ]
  },
  {
   "cell_type": "code",
   "execution_count": 38,
   "metadata": {},
   "outputs": [
    {
     "name": "stdout",
     "output_type": "stream",
     "text": [
      "(5000, 100, 500)\n"
     ]
    }
   ],
   "source": [
    "val_oh = keras.utils.to_categorical(val_seq)\n",
    "print(val_oh.shape)"
   ]
  },
  {
   "cell_type": "code",
   "execution_count": 36,
   "metadata": {},
   "outputs": [
    {
     "name": "stdout",
     "output_type": "stream",
     "text": [
      "Model: \"sequential_3\"\n",
      "_________________________________________________________________\n",
      " Layer (type)                Output Shape              Param #   \n",
      "=================================================================\n",
      " simple_rnn_2 (SimpleRNN)    (None, 8)                 4072      \n",
      "                                                                 \n",
      " dense_1 (Dense)             (None, 1)                 9         \n",
      "                                                                 \n",
      "=================================================================\n",
      "Total params: 4,081\n",
      "Trainable params: 4,081\n",
      "Non-trainable params: 0\n",
      "_________________________________________________________________\n"
     ]
    }
   ],
   "source": [
    "model.summary()\n",
    "# 500 * 8 * (8 x 8) + 8 = 4072"
   ]
  },
  {
   "cell_type": "code",
   "execution_count": 39,
   "metadata": {},
   "outputs": [
    {
     "name": "stderr",
     "output_type": "stream",
     "text": [
      "/Users/tj/opt/anaconda3/envs/tensorflow/lib/python3.7/site-packages/keras/optimizers/optimizer_v2/rmsprop.py:135: UserWarning: The `lr` argument is deprecated, use `learning_rate` instead.\n",
      "  super(RMSprop, self).__init__(name, **kwargs)\n"
     ]
    },
    {
     "name": "stdout",
     "output_type": "stream",
     "text": [
      "Epoch 1/100\n",
      "313/313 [==============================] - 16s 48ms/step - loss: 0.6952 - acc: 0.5084 - val_loss: 0.6924 - val_acc: 0.5152\n",
      "Epoch 2/100\n",
      "313/313 [==============================] - 14s 45ms/step - loss: 0.6924 - acc: 0.5172 - val_loss: 0.6917 - val_acc: 0.5188\n",
      "Epoch 3/100\n",
      "313/313 [==============================] - 14s 45ms/step - loss: 0.6910 - acc: 0.5224 - val_loss: 0.6910 - val_acc: 0.5182\n",
      "Epoch 4/100\n",
      "313/313 [==============================] - 14s 46ms/step - loss: 0.6898 - acc: 0.5332 - val_loss: 0.6902 - val_acc: 0.5274\n",
      "Epoch 5/100\n",
      "313/313 [==============================] - 14s 46ms/step - loss: 0.6886 - acc: 0.5394 - val_loss: 0.6896 - val_acc: 0.5300\n",
      "Epoch 6/100\n",
      "313/313 [==============================] - 14s 46ms/step - loss: 0.6874 - acc: 0.5454 - val_loss: 0.6891 - val_acc: 0.5346\n",
      "Epoch 7/100\n",
      "313/313 [==============================] - 14s 44ms/step - loss: 0.6862 - acc: 0.5501 - val_loss: 0.6883 - val_acc: 0.5362\n",
      "Epoch 8/100\n",
      "313/313 [==============================] - 15s 47ms/step - loss: 0.6850 - acc: 0.5549 - val_loss: 0.6878 - val_acc: 0.5402\n",
      "Epoch 9/100\n",
      "313/313 [==============================] - 13s 43ms/step - loss: 0.6837 - acc: 0.5604 - val_loss: 0.6870 - val_acc: 0.5426\n",
      "Epoch 10/100\n",
      "313/313 [==============================] - 13s 43ms/step - loss: 0.6825 - acc: 0.5639 - val_loss: 0.6867 - val_acc: 0.5460\n",
      "Epoch 11/100\n",
      "313/313 [==============================] - 14s 45ms/step - loss: 0.6812 - acc: 0.5674 - val_loss: 0.6861 - val_acc: 0.5476\n",
      "Epoch 12/100\n",
      "313/313 [==============================] - 13s 43ms/step - loss: 0.6799 - acc: 0.5691 - val_loss: 0.6854 - val_acc: 0.5462\n",
      "Epoch 13/100\n",
      "313/313 [==============================] - 14s 44ms/step - loss: 0.6786 - acc: 0.5727 - val_loss: 0.6848 - val_acc: 0.5484\n",
      "Epoch 14/100\n",
      "313/313 [==============================] - 14s 45ms/step - loss: 0.6772 - acc: 0.5748 - val_loss: 0.6842 - val_acc: 0.5490\n",
      "Epoch 15/100\n",
      "313/313 [==============================] - 14s 45ms/step - loss: 0.6758 - acc: 0.5770 - val_loss: 0.6837 - val_acc: 0.5522\n",
      "Epoch 16/100\n",
      "313/313 [==============================] - 14s 43ms/step - loss: 0.6744 - acc: 0.5793 - val_loss: 0.6830 - val_acc: 0.5520\n",
      "Epoch 17/100\n",
      "313/313 [==============================] - 14s 44ms/step - loss: 0.6730 - acc: 0.5830 - val_loss: 0.6824 - val_acc: 0.5530\n",
      "Epoch 18/100\n",
      "313/313 [==============================] - 14s 44ms/step - loss: 0.6715 - acc: 0.5889 - val_loss: 0.6819 - val_acc: 0.5550\n",
      "Epoch 19/100\n",
      "313/313 [==============================] - 14s 46ms/step - loss: 0.6700 - acc: 0.5929 - val_loss: 0.6812 - val_acc: 0.5582\n",
      "Epoch 20/100\n",
      "313/313 [==============================] - 16s 50ms/step - loss: 0.6684 - acc: 0.5946 - val_loss: 0.6808 - val_acc: 0.5586\n",
      "Epoch 21/100\n",
      "313/313 [==============================] - 15s 49ms/step - loss: 0.6669 - acc: 0.5986 - val_loss: 0.6804 - val_acc: 0.5600\n",
      "Epoch 22/100\n",
      "313/313 [==============================] - 14s 46ms/step - loss: 0.6653 - acc: 0.6011 - val_loss: 0.6800 - val_acc: 0.5634\n",
      "Epoch 23/100\n",
      "313/313 [==============================] - 15s 48ms/step - loss: 0.6637 - acc: 0.6033 - val_loss: 0.6794 - val_acc: 0.5622\n",
      "Epoch 24/100\n",
      "313/313 [==============================] - 14s 46ms/step - loss: 0.6620 - acc: 0.6060 - val_loss: 0.6787 - val_acc: 0.5618\n",
      "Epoch 25/100\n",
      "313/313 [==============================] - 15s 49ms/step - loss: 0.6604 - acc: 0.6094 - val_loss: 0.6786 - val_acc: 0.5608\n",
      "Epoch 26/100\n",
      "313/313 [==============================] - 18s 58ms/step - loss: 0.6588 - acc: 0.6117 - val_loss: 0.6780 - val_acc: 0.5616\n",
      "Epoch 27/100\n",
      "313/313 [==============================] - 18s 57ms/step - loss: 0.6571 - acc: 0.6130 - val_loss: 0.6775 - val_acc: 0.5628\n",
      "Epoch 28/100\n",
      "313/313 [==============================] - 16s 51ms/step - loss: 0.6554 - acc: 0.6172 - val_loss: 0.6780 - val_acc: 0.5628\n",
      "Epoch 29/100\n",
      "313/313 [==============================] - 16s 50ms/step - loss: 0.6537 - acc: 0.6186 - val_loss: 0.6771 - val_acc: 0.5642\n",
      "Epoch 30/100\n",
      "313/313 [==============================] - 16s 50ms/step - loss: 0.6521 - acc: 0.6198 - val_loss: 0.6773 - val_acc: 0.5632\n",
      "Epoch 31/100\n",
      "313/313 [==============================] - 15s 49ms/step - loss: 0.6504 - acc: 0.6224 - val_loss: 0.6773 - val_acc: 0.5644\n",
      "Epoch 32/100\n",
      "313/313 [==============================] - 15s 48ms/step - loss: 0.6487 - acc: 0.6237 - val_loss: 0.6769 - val_acc: 0.5640\n",
      "Epoch 33/100\n",
      "313/313 [==============================] - 15s 47ms/step - loss: 0.6471 - acc: 0.6256 - val_loss: 0.6769 - val_acc: 0.5646\n",
      "Epoch 34/100\n",
      "313/313 [==============================] - 15s 49ms/step - loss: 0.6454 - acc: 0.6278 - val_loss: 0.6766 - val_acc: 0.5654\n",
      "Epoch 35/100\n",
      "313/313 [==============================] - 16s 50ms/step - loss: 0.6438 - acc: 0.6314 - val_loss: 0.6768 - val_acc: 0.5668\n",
      "Epoch 36/100\n",
      "313/313 [==============================] - 15s 49ms/step - loss: 0.6421 - acc: 0.6324 - val_loss: 0.6760 - val_acc: 0.5672\n",
      "Epoch 37/100\n",
      "313/313 [==============================] - 16s 52ms/step - loss: 0.6405 - acc: 0.6353 - val_loss: 0.6765 - val_acc: 0.5672\n",
      "Epoch 38/100\n",
      "313/313 [==============================] - 16s 51ms/step - loss: 0.6388 - acc: 0.6364 - val_loss: 0.6761 - val_acc: 0.5696\n",
      "Epoch 39/100\n",
      "313/313 [==============================] - 16s 52ms/step - loss: 0.6372 - acc: 0.6380 - val_loss: 0.6765 - val_acc: 0.5700\n"
     ]
    }
   ],
   "source": [
    "rmsprop = keras.optimizers.RMSprop(\n",
    "  lr=1e-4, # CNN에서의 Optimizer. 0.0001로 설정함\n",
    ")\n",
    "model.compile(\n",
    "  optimizer=rmsprop, \n",
    "  loss='binary_crossentropy', # 2진분류라\n",
    "  metrics=['acc'] # 정확도\n",
    ")\n",
    "\n",
    "checkpoint_cb = keras.callbacks.ModelCheckpoint(\n",
    "  'data/best-simple-rnn.h5', \n",
    "  save_best_only=True\n",
    ")\n",
    "\n",
    "early_stopping_cb = keras.callbacks.EarlyStopping(\n",
    "  patience = 3,\n",
    "  restore_best_weights = True\n",
    ")\n",
    "\n",
    "history = model.fit(\n",
    "  train_oh,\n",
    "  train_target,\n",
    "  epochs=100, # RNN에서 제일 작은게 100개\n",
    "  batch_size=64, # Minibatch 사용 - 100개를 다 경사가항하면 시간이 엄청 걸림. 순환 갯수 8 * 8\n",
    "  validation_data=(val_oh, val_target),\n",
    "  callbacks=[checkpoint_cb, early_stopping_cb]\n",
    ")"
   ]
  },
  {
   "cell_type": "code",
   "execution_count": 40,
   "metadata": {},
   "outputs": [
    {
     "data": {
      "image/png": "[encoded data removed]",
      "text/plain": [
       "<Figure size 432x288 with 1 Axes>"
      ]
     },
     "metadata": {
      "needs_background": "light"
     },
     "output_type": "display_data"
    }
   ],
   "source": [
    "# 시각화 해보기\n",
    "plt.plot(history.history['loss'])\n",
    "plt.plot(history.history['val_loss'])\n",
    "plt.title('model loss')\n",
    "plt.ylabel('loss')\n",
    "plt.xlabel('epoch')\n",
    "plt.legend(['train', 'val'], loc='upper left')\n",
    "plt.show()"
   ]
  },
  {
   "cell_type": "code",
   "execution_count": 41,
   "metadata": {},
   "outputs": [
    {
     "name": "stdout",
     "output_type": "stream",
     "text": [
      "157/157 [==============================] - 3s 16ms/step - loss: 0.6760 - acc: 0.5672\n"
     ]
    },
    {
     "data": {
      "text/plain": [
       "[0.6759989857673645, 0.5672000050544739]"
      ]
     },
     "execution_count": 41,
     "metadata": {},
     "output_type": "execute_result"
    }
   ],
   "source": [
    "model.evaluate(val_oh, val_target)"
   ]
  },
  {
   "cell_type": "markdown",
   "metadata": {},
   "source": [
    "---\n",
    "## LSTM (Long Short Term Memory) 신경망 모델 구성하기\n",
    "- 순환신경망의 셀로 이전 타임스탬프의 샘플을 기억하고 있음"
   ]
  },
  {
   "cell_type": "code",
   "execution_count": 42,
   "metadata": {},
   "outputs": [
    {
     "name": "stdout",
     "output_type": "stream",
     "text": [
      "Model: \"sequential_4\"\n",
      "_________________________________________________________________\n",
      " Layer (type)                Output Shape              Param #   \n",
      "=================================================================\n",
      " embedding (Embedding)       (None, 100, 16)           8000      \n",
      "                                                                 \n",
      " lstm (LSTM)                 (None, 8)                 800       \n",
      "                                                                 \n",
      " dense_2 (Dense)             (None, 1)                 9         \n",
      "                                                                 \n",
      "=================================================================\n",
      "Total params: 8,809\n",
      "Trainable params: 8,809\n",
      "Non-trainable params: 0\n",
      "_________________________________________________________________\n"
     ]
    }
   ],
   "source": [
    "model = keras.Sequential()\n",
    "\n",
    "model.add(keras.layers.Embedding(500, 16, input_length=100)) # 임베딩 층\n",
    "model.add(keras.layers.LSTM(8)) # LSTM 층\n",
    "model.add(keras.layers.Dense(1, activation='sigmoid')) # Dense 층\n",
    "\n",
    "model.summary()"
   ]
  },
  {
   "cell_type": "code",
   "execution_count": 43,
   "metadata": {},
   "outputs": [
    {
     "name": "stderr",
     "output_type": "stream",
     "text": [
      "/Users/tj/opt/anaconda3/envs/tensorflow/lib/python3.7/site-packages/keras/optimizers/optimizer_v2/rmsprop.py:135: UserWarning: The `lr` argument is deprecated, use `learning_rate` instead.\n",
      "  super(RMSprop, self).__init__(name, **kwargs)\n"
     ]
    },
    {
     "name": "stdout",
     "output_type": "stream",
     "text": [
      "Epoch 1/100\n",
      "313/313 [==============================] - 17s 38ms/step - loss: 0.6927 - acc: 0.5221 - val_loss: 0.6922 - val_acc: 0.5428\n",
      "Epoch 2/100\n",
      "313/313 [==============================] - 11s 36ms/step - loss: 0.6908 - acc: 0.5929 - val_loss: 0.6897 - val_acc: 0.5744\n",
      "Epoch 3/100\n",
      "313/313 [==============================] - 12s 37ms/step - loss: 0.6862 - acc: 0.6105 - val_loss: 0.6828 - val_acc: 0.5992\n",
      "Epoch 4/100\n",
      "313/313 [==============================] - 11s 36ms/step - loss: 0.6622 - acc: 0.6197 - val_loss: 0.6382 - val_acc: 0.6410\n",
      "Epoch 5/100\n",
      "313/313 [==============================] - 11s 35ms/step - loss: 0.6093 - acc: 0.7279 - val_loss: 0.6028 - val_acc: 0.7402\n",
      "Epoch 6/100\n",
      "313/313 [==============================] - 11s 36ms/step - loss: 0.5848 - acc: 0.7510 - val_loss: 0.5833 - val_acc: 0.7468\n",
      "Epoch 7/100\n",
      "313/313 [==============================] - 11s 34ms/step - loss: 0.5665 - acc: 0.7630 - val_loss: 0.5668 - val_acc: 0.7566\n",
      "Epoch 8/100\n",
      "313/313 [==============================] - 10s 33ms/step - loss: 0.5500 - acc: 0.7717 - val_loss: 0.5512 - val_acc: 0.7654\n",
      "Epoch 9/100\n",
      "313/313 [==============================] - 10s 32ms/step - loss: 0.5359 - acc: 0.7781 - val_loss: 0.5399 - val_acc: 0.7682\n",
      "Epoch 10/100\n",
      "313/313 [==============================] - 10s 33ms/step - loss: 0.5223 - acc: 0.7832 - val_loss: 0.5267 - val_acc: 0.7758\n",
      "Epoch 11/100\n",
      "313/313 [==============================] - 11s 36ms/step - loss: 0.5102 - acc: 0.7887 - val_loss: 0.5159 - val_acc: 0.7774\n",
      "Epoch 12/100\n",
      "313/313 [==============================] - 11s 36ms/step - loss: 0.4990 - acc: 0.7899 - val_loss: 0.5058 - val_acc: 0.7808\n",
      "Epoch 13/100\n",
      "313/313 [==============================] - 10s 32ms/step - loss: 0.4889 - acc: 0.7920 - val_loss: 0.4968 - val_acc: 0.7838\n",
      "Epoch 14/100\n",
      "313/313 [==============================] - 10s 33ms/step - loss: 0.4797 - acc: 0.7940 - val_loss: 0.4888 - val_acc: 0.7872\n",
      "Epoch 15/100\n",
      "313/313 [==============================] - 10s 33ms/step - loss: 0.4711 - acc: 0.7951 - val_loss: 0.4809 - val_acc: 0.7894\n",
      "Epoch 16/100\n",
      "313/313 [==============================] - 12s 37ms/step - loss: 0.4638 - acc: 0.7979 - val_loss: 0.4749 - val_acc: 0.7892\n",
      "Epoch 17/100\n",
      "313/313 [==============================] - 12s 37ms/step - loss: 0.4571 - acc: 0.8004 - val_loss: 0.4702 - val_acc: 0.7920\n",
      "Epoch 18/100\n",
      "313/313 [==============================] - 11s 35ms/step - loss: 0.4512 - acc: 0.8019 - val_loss: 0.4656 - val_acc: 0.7922\n",
      "Epoch 19/100\n",
      "313/313 [==============================] - 11s 36ms/step - loss: 0.4460 - acc: 0.8042 - val_loss: 0.4611 - val_acc: 0.7956\n",
      "Epoch 20/100\n",
      "313/313 [==============================] - 11s 34ms/step - loss: 0.4416 - acc: 0.8056 - val_loss: 0.4575 - val_acc: 0.7946\n",
      "Epoch 21/100\n",
      "313/313 [==============================] - 11s 35ms/step - loss: 0.4376 - acc: 0.8063 - val_loss: 0.4540 - val_acc: 0.7958\n",
      "Epoch 22/100\n",
      "313/313 [==============================] - 11s 36ms/step - loss: 0.4336 - acc: 0.8097 - val_loss: 0.4531 - val_acc: 0.7908\n",
      "Epoch 23/100\n",
      "313/313 [==============================] - 11s 35ms/step - loss: 0.4309 - acc: 0.8084 - val_loss: 0.4496 - val_acc: 0.7948\n",
      "Epoch 24/100\n",
      "313/313 [==============================] - 11s 36ms/step - loss: 0.4280 - acc: 0.8112 - val_loss: 0.4480 - val_acc: 0.7972\n",
      "Epoch 25/100\n",
      "313/313 [==============================] - 12s 37ms/step - loss: 0.4257 - acc: 0.8108 - val_loss: 0.4467 - val_acc: 0.7986\n",
      "Epoch 26/100\n",
      "313/313 [==============================] - 11s 35ms/step - loss: 0.4234 - acc: 0.8127 - val_loss: 0.4441 - val_acc: 0.7980\n",
      "Epoch 27/100\n",
      "313/313 [==============================] - 11s 34ms/step - loss: 0.4215 - acc: 0.8138 - val_loss: 0.4456 - val_acc: 0.7970\n",
      "Epoch 28/100\n",
      "313/313 [==============================] - 11s 35ms/step - loss: 0.4200 - acc: 0.8153 - val_loss: 0.4417 - val_acc: 0.8004\n",
      "Epoch 29/100\n",
      "313/313 [==============================] - 11s 34ms/step - loss: 0.4186 - acc: 0.8139 - val_loss: 0.4404 - val_acc: 0.7998\n",
      "Epoch 30/100\n",
      "313/313 [==============================] - 11s 34ms/step - loss: 0.4170 - acc: 0.8158 - val_loss: 0.4397 - val_acc: 0.8010\n",
      "Epoch 31/100\n",
      "313/313 [==============================] - 11s 35ms/step - loss: 0.4158 - acc: 0.8174 - val_loss: 0.4403 - val_acc: 0.7992\n",
      "Epoch 32/100\n",
      "313/313 [==============================] - 11s 35ms/step - loss: 0.4151 - acc: 0.8167 - val_loss: 0.4379 - val_acc: 0.8016\n",
      "Epoch 33/100\n",
      "313/313 [==============================] - 11s 35ms/step - loss: 0.4136 - acc: 0.8160 - val_loss: 0.4386 - val_acc: 0.7986\n",
      "Epoch 34/100\n",
      "313/313 [==============================] - 11s 35ms/step - loss: 0.4130 - acc: 0.8170 - val_loss: 0.4372 - val_acc: 0.7996\n",
      "Epoch 35/100\n",
      "313/313 [==============================] - 11s 34ms/step - loss: 0.4118 - acc: 0.8180 - val_loss: 0.4362 - val_acc: 0.8020\n",
      "Epoch 36/100\n",
      "313/313 [==============================] - 11s 35ms/step - loss: 0.4112 - acc: 0.8162 - val_loss: 0.4408 - val_acc: 0.7926\n",
      "Epoch 37/100\n",
      "313/313 [==============================] - 11s 35ms/step - loss: 0.4109 - acc: 0.8172 - val_loss: 0.4361 - val_acc: 0.7994\n",
      "Epoch 38/100\n",
      "313/313 [==============================] - 11s 35ms/step - loss: 0.4101 - acc: 0.8174 - val_loss: 0.4372 - val_acc: 0.8024\n",
      "Epoch 39/100\n",
      "313/313 [==============================] - 12s 37ms/step - loss: 0.4091 - acc: 0.8186 - val_loss: 0.4339 - val_acc: 0.8000\n",
      "Epoch 40/100\n",
      "313/313 [==============================] - 11s 34ms/step - loss: 0.4086 - acc: 0.8184 - val_loss: 0.4350 - val_acc: 0.7978\n",
      "Epoch 41/100\n",
      "313/313 [==============================] - 11s 36ms/step - loss: 0.4080 - acc: 0.8177 - val_loss: 0.4330 - val_acc: 0.8002\n",
      "Epoch 42/100\n",
      "313/313 [==============================] - 11s 34ms/step - loss: 0.4075 - acc: 0.8178 - val_loss: 0.4345 - val_acc: 0.7986\n",
      "Epoch 43/100\n",
      "313/313 [==============================] - 11s 34ms/step - loss: 0.4068 - acc: 0.8178 - val_loss: 0.4335 - val_acc: 0.7974\n",
      "Epoch 44/100\n",
      "313/313 [==============================] - 11s 34ms/step - loss: 0.4065 - acc: 0.8184 - val_loss: 0.4322 - val_acc: 0.7982\n",
      "Epoch 45/100\n",
      "313/313 [==============================] - 11s 34ms/step - loss: 0.4061 - acc: 0.8186 - val_loss: 0.4320 - val_acc: 0.7978\n",
      "Epoch 46/100\n",
      "313/313 [==============================] - 11s 34ms/step - loss: 0.4054 - acc: 0.8178 - val_loss: 0.4320 - val_acc: 0.7982\n",
      "Epoch 47/100\n",
      "313/313 [==============================] - 11s 34ms/step - loss: 0.4047 - acc: 0.8195 - val_loss: 0.4313 - val_acc: 0.7994\n",
      "Epoch 48/100\n",
      "313/313 [==============================] - 11s 34ms/step - loss: 0.4047 - acc: 0.8191 - val_loss: 0.4319 - val_acc: 0.7992\n",
      "Epoch 49/100\n",
      "313/313 [==============================] - 11s 34ms/step - loss: 0.4044 - acc: 0.8170 - val_loss: 0.4321 - val_acc: 0.8036\n",
      "Epoch 50/100\n",
      "313/313 [==============================] - 11s 34ms/step - loss: 0.4039 - acc: 0.8187 - val_loss: 0.4305 - val_acc: 0.8004\n",
      "Epoch 51/100\n",
      "313/313 [==============================] - 11s 34ms/step - loss: 0.4033 - acc: 0.8195 - val_loss: 0.4351 - val_acc: 0.8034\n",
      "Epoch 52/100\n",
      "313/313 [==============================] - 11s 34ms/step - loss: 0.4029 - acc: 0.8180 - val_loss: 0.4316 - val_acc: 0.7990\n",
      "Epoch 53/100\n",
      "313/313 [==============================] - 11s 35ms/step - loss: 0.4024 - acc: 0.8189 - val_loss: 0.4301 - val_acc: 0.8040\n",
      "Epoch 54/100\n",
      "313/313 [==============================] - 11s 36ms/step - loss: 0.4018 - acc: 0.8195 - val_loss: 0.4295 - val_acc: 0.8018\n",
      "Epoch 55/100\n",
      "313/313 [==============================] - 11s 34ms/step - loss: 0.4016 - acc: 0.8181 - val_loss: 0.4296 - val_acc: 0.8026\n",
      "Epoch 56/100\n",
      "313/313 [==============================] - 11s 34ms/step - loss: 0.4013 - acc: 0.8192 - val_loss: 0.4290 - val_acc: 0.8024\n",
      "Epoch 57/100\n",
      "313/313 [==============================] - 11s 34ms/step - loss: 0.4008 - acc: 0.8195 - val_loss: 0.4311 - val_acc: 0.8074\n",
      "Epoch 58/100\n",
      "313/313 [==============================] - 10s 33ms/step - loss: 0.4006 - acc: 0.8187 - val_loss: 0.4298 - val_acc: 0.7994\n",
      "Epoch 59/100\n",
      "313/313 [==============================] - 10s 33ms/step - loss: 0.4001 - acc: 0.8182 - val_loss: 0.4283 - val_acc: 0.8014\n",
      "Epoch 60/100\n",
      "313/313 [==============================] - 10s 33ms/step - loss: 0.3996 - acc: 0.8199 - val_loss: 0.4291 - val_acc: 0.8046\n",
      "Epoch 61/100\n",
      "313/313 [==============================] - 10s 33ms/step - loss: 0.3993 - acc: 0.8194 - val_loss: 0.4299 - val_acc: 0.8042\n",
      "Epoch 62/100\n",
      "313/313 [==============================] - 10s 33ms/step - loss: 0.3989 - acc: 0.8185 - val_loss: 0.4289 - val_acc: 0.8052\n"
     ]
    }
   ],
   "source": [
    "rmsprop = keras.optimizers.RMSprop(\n",
    "  lr=1e-4, # CNN에서의 Optimizer. 0.0001로 설정함\n",
    ")\n",
    "model.compile(\n",
    "  optimizer=rmsprop, \n",
    "  loss='binary_crossentropy', # 2진분류라\n",
    "  metrics=['acc'] # 정확도\n",
    ")\n",
    "\n",
    "checkpoint_cb = keras.callbacks.ModelCheckpoint(\n",
    "  'data/best-simple-lstm.h5', \n",
    "  save_best_only=True\n",
    ")\n",
    "\n",
    "early_stopping_cb = keras.callbacks.EarlyStopping(\n",
    "  patience = 3,\n",
    "  restore_best_weights = True\n",
    ")\n",
    "\n",
    "history = model.fit(\n",
    "  train_seq,\n",
    "  train_target,\n",
    "  epochs=100, # RNN에서 제일 작은게 100개\n",
    "  batch_size=64, # Minibatch 사용 - 100개를 다 경사가항하면 시간이 엄청 걸림. 순환 갯수 8 * 8\n",
    "  validation_data=(val_seq, val_target),\n",
    "  callbacks=[checkpoint_cb, early_stopping_cb]\n",
    ")"
   ]
  },
  {
   "cell_type": "markdown",
   "metadata": {},
   "source": [
    "---\n",
    "## GRU (Gated Recurrent Unit) 신경망 모델 구성하기\n",
    "- LSTM의 추상화, 간소화된 구성으로 GRU를 사용한다.\n",
    "- LSTM은 다 좋은데 문장이 길어지면 셀들이 기억하는 것이 너무 길어진다.\n",
    "- GRU는 셀이 기억하는 것을 줄여준다. - 셀들이 기억하는 갯수를 정해줌\n",
    "- 드롭아웃을 사용할 필요가 없다."
   ]
  },
  {
   "cell_type": "code",
   "execution_count": 44,
   "metadata": {},
   "outputs": [
    {
     "name": "stdout",
     "output_type": "stream",
     "text": [
      "Model: \"sequential_5\"\n",
      "_________________________________________________________________\n",
      " Layer (type)                Output Shape              Param #   \n",
      "=================================================================\n",
      " embedding_1 (Embedding)     (None, 100, 16)           8000      \n",
      "                                                                 \n",
      " gru (GRU)                   (None, 8)                 624       \n",
      "                                                                 \n",
      " dense_3 (Dense)             (None, 1)                 9         \n",
      "                                                                 \n",
      "=================================================================\n",
      "Total params: 8,633\n",
      "Trainable params: 8,633\n",
      "Non-trainable params: 0\n",
      "_________________________________________________________________\n"
     ]
    }
   ],
   "source": [
    "model = keras.Sequential()\n",
    "\n",
    "model.add(keras.layers.Embedding(500, 16, input_length=100)) # 임베딩 층\n",
    "model.add(keras.layers.GRU(8)) \n",
    "model.add(keras.layers.Dense(1, activation='sigmoid')) # Dense 층\n",
    "\n",
    "model.summary()"
   ]
  },
  {
   "cell_type": "code",
   "execution_count": null,
   "metadata": {},
   "outputs": [],
   "source": [
    "rmsprop = keras.optimizers.RMSprop(\n",
    "  lr=1e-4, # CNN에서의 Optimizer. 0.0001로 설정함\n",
    ")\n",
    "model.compile(\n",
    "  optimizer=rmsprop, \n",
    "  loss='binary_crossentropy', # 2진분류라\n",
    "  metrics=['acc'] # 정확도\n",
    ")\n",
    "\n",
    "checkpoint_cb = keras.callbacks.ModelCheckpoint(\n",
    "  'data/best-simple-gru.h5', \n",
    "  save_best_only=True\n",
    ")\n",
    "\n",
    "early_stopping_cb = keras.callbacks.EarlyStopping(\n",
    "  patience = 3,\n",
    "  restore_best_weights = True\n",
    ")\n",
    "\n",
    "history = model.fit(\n",
    "  train_seq,\n",
    "  train_target,\n",
    "  epochs=100, # RNN에서 제일 작은게 100개\n",
    "  batch_size=64, # Minibatch 사용 - 100개를 다 경사가항하면 시간이 엄청 걸림. 순환 갯수 8 * 8\n",
    "  validation_data=(val_seq, val_target),\n",
    "  callbacks=[checkpoint_cb, early_stopping_cb]\n",
    ")"
   ]
  }
 ],
 "metadata": {
  "kernelspec": {
   "display_name": "Python 3.7.13 ('tensorflow')",
   "language": "python",
   "name": "python3"
  },
  "language_info": {
   "codemirror_mode": {
    "name": "ipython",
    "version": 3
   },
   "file_extension": ".py",
   "mimetype": "text/x-python",
   "name": "python",
   "nbconvert_exporter": "python",
   "pygments_lexer": "ipython3",
   "version": "3.7.13"
  },
  "orig_nbformat": 4,
  "vscode": {
   "interpreter": {
    "hash": "031516d5089d8191e78e906aaec9fc12f69b6ded71cabf4c1fff4df0e2792dca"
   }
  }
 },
 "nbformat": 4,
 "nbformat_minor": 2
}
