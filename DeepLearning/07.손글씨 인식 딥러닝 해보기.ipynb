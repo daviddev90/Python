{
 "cells": [
  {
   "cell_type": "markdown",
   "metadata": {},
   "source": [
    "# Keras를 이용한 손글씨 인식 딥러닝\n",
    "- Tensorflow로 작성된 프로그램은 sklearn Library를 사용할 때 보다 어렵다\n",
    "- Keras는 머신러닝 라이브러리 테아노(Theano)와 Tensorflow를 Wrapping한 라이브러리"
   ]
  },
  {
   "cell_type": "code",
   "execution_count": 141,
   "metadata": {},
   "outputs": [
    {
     "name": "stdout",
     "output_type": "stream",
     "text": [
      "(20001, 785)\n",
      "   0    1    2    3    4    5    6    7    8    9    ...  775  776  777  778  \\\n",
      "0    5    0    0    0    0    0    0    0    0    0  ...    0    0    0    0   \n",
      "1    0    0    0    0    0    0    0    0    0    0  ...    0    0    0    0   \n",
      "2    4    0    0    0    0    0    0    0    0    0  ...    0    0    0    0   \n",
      "3    1    0    0    0    0    0    0    0    0    0  ...    0    0    0    0   \n",
      "4    9    0    0    0    0    0    0    0    0    0  ...    0    0    0    0   \n",
      "\n",
      "   779  780  781  782  783  784  \n",
      "0    0    0    0    0    0    0  \n",
      "1    0    0    0    0    0    0  \n",
      "2    0    0    0    0    0    0  \n",
      "3    0    0    0    0    0    0  \n",
      "4    0    0    0    0    0    0  \n",
      "\n",
      "[5 rows x 785 columns]\n",
      "   0    1    2    3    4    5    6    7    8    9    ...  775  776  777  778  \\\n",
      "0    7    0    0    0    0    0    0    0    0    0  ...    0    0    0    0   \n",
      "1    2    0    0    0    0    0    0    0    0    0  ...    0    0    0    0   \n",
      "2    1    0    0    0    0    0    0    0    0    0  ...    0    0    0    0   \n",
      "3    0    0    0    0    0    0    0    0    0    0  ...    0    0    0    0   \n",
      "4    4    0    0    0    0    0    0    0    0    0  ...    0    0    0    0   \n",
      "\n",
      "   779  780  781  782  783  784  \n",
      "0    0    0    0    0    0    0  \n",
      "1    0    0    0    0    0    0  \n",
      "2    0    0    0    0    0    0  \n",
      "3    0    0    0    0    0    0  \n",
      "4    0    0    0    0    0    0  \n",
      "\n",
      "[5 rows x 785 columns]\n",
      "0      20001\n",
      "1      20001\n",
      "2      20001\n",
      "3      20001\n",
      "4      20001\n",
      "       ...  \n",
      "780    20001\n",
      "781    20001\n",
      "782    20001\n",
      "783    20001\n",
      "784    20001\n",
      "Length: 785, dtype: int64\n"
     ]
    }
   ],
   "source": [
    "import pandas as pd\n",
    "train = pd.read_csv('data/train_20k.csv', header=None)\n",
    "test = pd.read_csv('data/test_1k.csv', header=None)\n",
    "print(train.shape)\n",
    "print(train.head())\n",
    "print(test.head())\n",
    "print(train.count())"
   ]
  },
  {
   "cell_type": "markdown",
   "metadata": {},
   "source": [
    "---\n",
    "## Preprocessing(전처리)"
   ]
  },
  {
   "cell_type": "code",
   "execution_count": 142,
   "metadata": {},
   "outputs": [
    {
     "name": "stdout",
     "output_type": "stream",
     "text": [
      "0      0\n",
      "1      0\n",
      "2      0\n",
      "3      0\n",
      "4      0\n",
      "      ..\n",
      "780    0\n",
      "781    0\n",
      "782    0\n",
      "783    0\n",
      "784    0\n",
      "Length: 785, dtype: int64\n",
      "0\n"
     ]
    }
   ],
   "source": [
    "# null check\n",
    "print(train.isnull().sum()) # column이 너무 많아 안 보임 > 한번 더 sum\n",
    "print(train.isnull().sum().sum())"
   ]
  },
  {
   "cell_type": "code",
   "execution_count": 143,
   "metadata": {},
   "outputs": [
    {
     "name": "stdout",
     "output_type": "stream",
     "text": [
      "0\n"
     ]
    }
   ],
   "source": [
    "print(test.isnull().sum().sum())"
   ]
  },
  {
   "cell_type": "code",
   "execution_count": 144,
   "metadata": {},
   "outputs": [],
   "source": [
    "# train과 test를 Feature와 Target으로 분리\n",
    "train_data = train.iloc[:, 1:]\n",
    "# train_label = train.iloc[:, train.columns != 0]\n",
    "train_label = train.iloc[:, 0]\n",
    "# train_label = train.iloc[:, train.columns == 0]\n",
    "\n",
    "test_data = test.iloc[:, 1:]\n",
    "test_label = test.iloc[:, 0]"
   ]
  },
  {
   "cell_type": "code",
   "execution_count": 145,
   "metadata": {},
   "outputs": [
    {
     "name": "stdout",
     "output_type": "stream",
     "text": [
      "(20001, 784)\n"
     ]
    }
   ],
   "source": [
    "print(train_data.shape)"
   ]
  },
  {
   "cell_type": "code",
   "execution_count": 146,
   "metadata": {},
   "outputs": [],
   "source": [
    "# 최대값으로 나눠 정규화\n",
    "train_data = train_data / 255\n",
    "test_data = test_data / 255"
   ]
  },
  {
   "cell_type": "code",
   "execution_count": 147,
   "metadata": {},
   "outputs": [
    {
     "name": "stdout",
     "output_type": "stream",
     "text": [
      "   1    2    3    4    5    6    7    8    9    10   ...  775  776  777  778  \\\n",
      "0  0.0  0.0  0.0  0.0  0.0  0.0  0.0  0.0  0.0  0.0  ...  0.0  0.0  0.0  0.0   \n",
      "1  0.0  0.0  0.0  0.0  0.0  0.0  0.0  0.0  0.0  0.0  ...  0.0  0.0  0.0  0.0   \n",
      "2  0.0  0.0  0.0  0.0  0.0  0.0  0.0  0.0  0.0  0.0  ...  0.0  0.0  0.0  0.0   \n",
      "3  0.0  0.0  0.0  0.0  0.0  0.0  0.0  0.0  0.0  0.0  ...  0.0  0.0  0.0  0.0   \n",
      "4  0.0  0.0  0.0  0.0  0.0  0.0  0.0  0.0  0.0  0.0  ...  0.0  0.0  0.0  0.0   \n",
      "\n",
      "   779  780  781  782  783  784  \n",
      "0  0.0  0.0  0.0  0.0  0.0  0.0  \n",
      "1  0.0  0.0  0.0  0.0  0.0  0.0  \n",
      "2  0.0  0.0  0.0  0.0  0.0  0.0  \n",
      "3  0.0  0.0  0.0  0.0  0.0  0.0  \n",
      "4  0.0  0.0  0.0  0.0  0.0  0.0  \n",
      "\n",
      "[5 rows x 784 columns]\n",
      "0    5\n",
      "1    0\n",
      "2    4\n",
      "3    1\n",
      "4    9\n",
      "Name: 0, dtype: int64\n",
      "   1    2    3    4    5    6    7    8    9    10   ...  775  776  777  778  \\\n",
      "0  0.0  0.0  0.0  0.0  0.0  0.0  0.0  0.0  0.0  0.0  ...  0.0  0.0  0.0  0.0   \n",
      "1  0.0  0.0  0.0  0.0  0.0  0.0  0.0  0.0  0.0  0.0  ...  0.0  0.0  0.0  0.0   \n",
      "2  0.0  0.0  0.0  0.0  0.0  0.0  0.0  0.0  0.0  0.0  ...  0.0  0.0  0.0  0.0   \n",
      "3  0.0  0.0  0.0  0.0  0.0  0.0  0.0  0.0  0.0  0.0  ...  0.0  0.0  0.0  0.0   \n",
      "4  0.0  0.0  0.0  0.0  0.0  0.0  0.0  0.0  0.0  0.0  ...  0.0  0.0  0.0  0.0   \n",
      "\n",
      "   779  780  781  782  783  784  \n",
      "0  0.0  0.0  0.0  0.0  0.0  0.0  \n",
      "1  0.0  0.0  0.0  0.0  0.0  0.0  \n",
      "2  0.0  0.0  0.0  0.0  0.0  0.0  \n",
      "3  0.0  0.0  0.0  0.0  0.0  0.0  \n",
      "4  0.0  0.0  0.0  0.0  0.0  0.0  \n",
      "\n",
      "[5 rows x 784 columns]\n",
      "0    7\n",
      "1    2\n",
      "2    1\n",
      "3    0\n",
      "4    4\n",
      "Name: 0, dtype: int64\n"
     ]
    }
   ],
   "source": [
    "# 데이터 확인\n",
    "print(train_data[0:5])\n",
    "print(train_label[0:5])\n",
    "print(test_data[0:5])\n",
    "print(test_label[0:5])"
   ]
  },
  {
   "cell_type": "markdown",
   "metadata": {},
   "source": [
    "## Deep Learning Model 만들기"
   ]
  },
  {
   "cell_type": "code",
   "execution_count": 148,
   "metadata": {},
   "outputs": [],
   "source": [
    "import os\n",
    "os.environ[\"TF_CPP_MIN_LOG_LEVEL\"] = \"3\" # warning message 줄임"
   ]
  },
  {
   "cell_type": "code",
   "execution_count": 149,
   "metadata": {},
   "outputs": [],
   "source": [
    "from tensorflow import keras"
   ]
  },
  {
   "cell_type": "code",
   "execution_count": 150,
   "metadata": {},
   "outputs": [
    {
     "name": "stdout",
     "output_type": "stream",
     "text": [
      "(20001, 784)\n"
     ]
    }
   ],
   "source": [
    "# data shape\n",
    "print(train_data.shape)"
   ]
  },
  {
   "cell_type": "code",
   "execution_count": 151,
   "metadata": {},
   "outputs": [],
   "source": [
    "model = keras.Sequential()\n",
    "model.add(keras.layers.Dense(units=512,  activation='relu', input_shape=(784,)))\n",
    "model.add(keras.layers.Dense(units=10, activation='softmax'))"
   ]
  },
  {
   "cell_type": "code",
   "execution_count": 152,
   "metadata": {},
   "outputs": [],
   "source": [
    "from pickletools import optimize\n",
    "from sklearn import metrics\n",
    "\n",
    "model.compile(\n",
    "    optimizer='adam', # sgd\n",
    "    metrics='accuracy',\n",
    "    loss='sparse_categorical_crossentropy') # 정수: sparse"
   ]
  },
  {
   "cell_type": "code",
   "execution_count": 153,
   "metadata": {},
   "outputs": [
    {
     "data": {
      "text/plain": [
       "(20001,)"
      ]
     },
     "execution_count": 153,
     "metadata": {},
     "output_type": "execute_result"
    }
   ],
   "source": [
    "train_data.shape\n",
    "train_label.shape"
   ]
  },
  {
   "cell_type": "code",
   "execution_count": 154,
   "metadata": {},
   "outputs": [
    {
     "name": "stdout",
     "output_type": "stream",
     "text": [
      "Epoch 1/17\n",
      "626/626 [==============================] - 3s 4ms/step - loss: 0.3141 - accuracy: 0.9079\n",
      "Epoch 2/17\n",
      "626/626 [==============================] - 2s 4ms/step - loss: 0.1278 - accuracy: 0.9624\n",
      "Epoch 3/17\n",
      "626/626 [==============================] - 2s 4ms/step - loss: 0.0770 - accuracy: 0.9770\n",
      "Epoch 4/17\n",
      "626/626 [==============================] - 2s 4ms/step - loss: 0.0547 - accuracy: 0.9840\n",
      "Epoch 5/17\n",
      "626/626 [==============================] - 2s 4ms/step - loss: 0.0342 - accuracy: 0.9897\n",
      "Epoch 6/17\n",
      "626/626 [==============================] - 2s 3ms/step - loss: 0.0249 - accuracy: 0.9929\n",
      "Epoch 7/17\n",
      "626/626 [==============================] - 2s 4ms/step - loss: 0.0148 - accuracy: 0.9966\n",
      "Epoch 8/17\n",
      "626/626 [==============================] - 2s 4ms/step - loss: 0.0153 - accuracy: 0.9957\n",
      "Epoch 9/17\n",
      "626/626 [==============================] - 2s 4ms/step - loss: 0.0104 - accuracy: 0.9969\n",
      "Epoch 10/17\n",
      "626/626 [==============================] - 2s 4ms/step - loss: 0.0127 - accuracy: 0.9962\n",
      "Epoch 11/17\n",
      "626/626 [==============================] - 2s 4ms/step - loss: 0.0102 - accuracy: 0.9967\n",
      "Epoch 12/17\n",
      "626/626 [==============================] - 2s 4ms/step - loss: 0.0060 - accuracy: 0.9985\n",
      "Epoch 13/17\n",
      "626/626 [==============================] - 2s 4ms/step - loss: 0.0068 - accuracy: 0.9979\n",
      "Epoch 14/17\n",
      "626/626 [==============================] - 2s 4ms/step - loss: 0.0073 - accuracy: 0.9981\n",
      "Epoch 15/17\n",
      "626/626 [==============================] - 2s 4ms/step - loss: 0.0081 - accuracy: 0.9973\n",
      "Epoch 16/17\n",
      "626/626 [==============================] - 2s 4ms/step - loss: 0.0084 - accuracy: 0.9974\n",
      "Epoch 17/17\n",
      "626/626 [==============================] - 2s 3ms/step - loss: 0.0075 - accuracy: 0.9975\n"
     ]
    },
    {
     "data": {
      "text/plain": [
       "<keras.callbacks.History at 0x7fbe193a3110>"
      ]
     },
     "execution_count": 154,
     "metadata": {},
     "output_type": "execute_result"
    }
   ],
   "source": [
    "# 데이터 훈련하기\n",
    "import numpy as np\n",
    "\n",
    "model.fit(\n",
    "  np.array(train_data),\n",
    "  np.array(train_label),\n",
    "  epochs=17,\n",
    ")"
   ]
  },
  {
   "cell_type": "code",
   "execution_count": 155,
   "metadata": {},
   "outputs": [
    {
     "name": "stdout",
     "output_type": "stream",
     "text": [
      "626/626 [==============================] - 2s 2ms/step - loss: 0.0155 - accuracy: 0.9951\n",
      "loss 0.015487351454794407\n",
      "accuracy 0.9950502514839172\n"
     ]
    }
   ],
   "source": [
    "# 테스트 데이터로 평가하기\n",
    "score = model.evaluate(train_data,  np.array(train_label))\n",
    "print('loss', score[0])\n",
    "print('accuracy', score[1])"
   ]
  },
  {
   "cell_type": "markdown",
   "metadata": {},
   "source": [
    "---\n",
    "## 테스트 데이터로 평가하기"
   ]
  },
  {
   "cell_type": "code",
   "execution_count": 156,
   "metadata": {},
   "outputs": [
    {
     "name": "stdout",
     "output_type": "stream",
     "text": [
      "32/32 [==============================] - 0s 2ms/step - loss: 0.1331 - accuracy: 0.9710\n",
      "loss 0.13310042023658752\n",
      "accuracy 0.9710289835929871\n"
     ]
    }
   ],
   "source": [
    "score = model.evaluate(test_data,  np.array(test_label))\n",
    "print('loss', score[0])\n",
    "print('accuracy', score[1])"
   ]
  },
  {
   "cell_type": "markdown",
   "metadata": {},
   "source": [
    "---\n",
    "## test_data로 predict하기"
   ]
  },
  {
   "cell_type": "code",
   "execution_count": 157,
   "metadata": {},
   "outputs": [
    {
     "name": "stdout",
     "output_type": "stream",
     "text": [
      "32/32 [==============================] - 0s 2ms/step\n",
      "test label:  0    7\n",
      "1    2\n",
      "2    1\n",
      "3    0\n",
      "4    4\n",
      "5    1\n",
      "6    4\n",
      "7    9\n",
      "8    5\n",
      "9    9\n",
      "Name: 0, dtype: int64\n"
     ]
    }
   ],
   "source": [
    "pred = model.predict(test_data)\n",
    "print('test label: ', test_label[:10])"
   ]
  },
  {
   "cell_type": "code",
   "execution_count": 158,
   "metadata": {},
   "outputs": [
    {
     "data": {
      "text/plain": [
       "array([[7.71337848e-17, 3.58332027e-17, 2.79000645e-13, 4.58540411e-12,\n",
       "        2.11539413e-22, 2.80790207e-20, 2.49549028e-24, 1.00000000e+00,\n",
       "        3.21433210e-19, 2.15511612e-16],\n",
       "       [2.09042961e-12, 5.95175095e-07, 9.99998569e-01, 7.80624987e-07,\n",
       "        2.17983321e-25, 5.24657303e-13, 6.48835708e-14, 3.62994117e-17,\n",
       "        2.47058911e-13, 4.30781155e-20],\n",
       "       [2.72463822e-11, 9.99659538e-01, 1.35814425e-05, 1.18112613e-08,\n",
       "        1.67831942e-07, 7.03121898e-08, 5.44932588e-09, 3.26609006e-04,\n",
       "        1.77919866e-08, 1.10997482e-10],\n",
       "       [1.00000000e+00, 2.22428205e-16, 5.27308162e-11, 7.10425439e-14,\n",
       "        5.89056663e-14, 2.86438141e-16, 1.86770666e-09, 3.13306076e-10,\n",
       "        3.94649318e-19, 5.02518374e-11],\n",
       "       [2.71586811e-12, 1.07484849e-13, 1.41019514e-11, 9.24129696e-13,\n",
       "        9.99995112e-01, 5.20779658e-15, 1.49564259e-12, 1.89965860e-07,\n",
       "        2.87380211e-12, 4.62073376e-06],\n",
       "       [9.10587015e-15, 9.99923468e-01, 2.20524501e-10, 1.41554823e-11,\n",
       "        5.98483840e-09, 4.91845985e-13, 3.46286483e-14, 7.65111326e-05,\n",
       "        1.01041777e-12, 9.68535419e-14],\n",
       "       [2.18525903e-15, 3.15982818e-09, 1.12172675e-13, 1.26717170e-12,\n",
       "        9.99992371e-01, 1.59787156e-10, 2.28791413e-15, 3.97901431e-07,\n",
       "        6.07389250e-10, 7.27555243e-06],\n",
       "       [2.14193911e-13, 5.54497490e-11, 4.41659829e-08, 8.40371376e-06,\n",
       "        5.35095387e-06, 2.57354915e-10, 1.91588604e-15, 2.02258502e-06,\n",
       "        1.70905443e-10, 9.99984145e-01],\n",
       "       [7.99164207e-11, 7.10986218e-12, 1.70424874e-09, 4.30487734e-09,\n",
       "        4.15315426e-08, 3.99197310e-01, 6.00802600e-01, 1.23747439e-14,\n",
       "        9.54894475e-08, 6.26083629e-09],\n",
       "       [1.97677551e-14, 3.36298815e-17, 1.13453024e-14, 8.48539869e-08,\n",
       "        1.96774228e-04, 1.05480955e-17, 2.26434882e-18, 3.44699183e-05,\n",
       "        8.59349657e-12, 9.99768674e-01]], dtype=float32)"
      ]
     },
     "execution_count": 158,
     "metadata": {},
     "output_type": "execute_result"
    }
   ],
   "source": [
    "pred[:10]"
   ]
  },
  {
   "cell_type": "markdown",
   "metadata": {},
   "source": [
    "> 보기 더럽다"
   ]
  },
  {
   "cell_type": "code",
   "execution_count": 159,
   "metadata": {},
   "outputs": [
    {
     "name": "stdout",
     "output_type": "stream",
     "text": [
      "pred label:  [7 2 1 0 4 1 4 9 6 9]\n"
     ]
    }
   ],
   "source": [
    "# max값을 가지는 인덱스를 추출\n",
    "pred_label = np.argmax(pred, axis=1)\n",
    "print('pred label: ', pred_label[:10])"
   ]
  },
  {
   "cell_type": "markdown",
   "metadata": {},
   "source": [
    "##### argmax의 사용"
   ]
  },
  {
   "cell_type": "code",
   "execution_count": 160,
   "metadata": {},
   "outputs": [
    {
     "data": {
      "text/plain": [
       "1"
      ]
     },
     "execution_count": 160,
     "metadata": {},
     "output_type": "execute_result"
    }
   ],
   "source": [
    "np.argmax([1,4,3,2]) # 1번째(4)가 가장 크다 > 1 반환"
   ]
  },
  {
   "cell_type": "markdown",
   "metadata": {},
   "source": [
    "---\n",
    "# 번외: Image 만들기"
   ]
  },
  {
   "cell_type": "code",
   "execution_count": 161,
   "metadata": {},
   "outputs": [],
   "source": [
    "from PIL import Image"
   ]
  },
  {
   "cell_type": "code",
   "execution_count": 162,
   "metadata": {},
   "outputs": [
    {
     "data": {
      "text/plain": [
       "(20001, 784)"
      ]
     },
     "execution_count": 162,
     "metadata": {},
     "output_type": "execute_result"
    }
   ],
   "source": [
    "# 0번의 정답을 제외한 데이터 만들기\n",
    "train1 = train.loc[:, train.columns != 0]\n",
    "train1.shape"
   ]
  },
  {
   "cell_type": "code",
   "execution_count": 163,
   "metadata": {},
   "outputs": [
    {
     "data": {
      "text/plain": [
       "(28, 28)"
      ]
     },
     "execution_count": 163,
     "metadata": {},
     "output_type": "execute_result"
    }
   ],
   "source": [
    "# train_data의 50번의 크기 조절하기\n",
    "abc = np.array(train1.iloc[50]).reshape(28,28)\n",
    "abc.shape"
   ]
  },
  {
   "cell_type": "code",
   "execution_count": 164,
   "metadata": {},
   "outputs": [
    {
     "data": {
      "image/png": "[encoded data removed]",
      "text/plain": [
       "<PIL.Image.Image image mode=L size=28x28>"
      ]
     },
     "execution_count": 164,
     "metadata": {},
     "output_type": "execute_result"
    }
   ],
   "source": [
    "# Image 만들기\n",
    "image = Image.fromarray((abc).astype(np.uint8))\n",
    "image"
   ]
  },
  {
   "cell_type": "code",
   "execution_count": 165,
   "metadata": {},
   "outputs": [],
   "source": [
    "# 이미지 저장하기\n",
    "image.save('data/train_50.png')"
   ]
  },
  {
   "cell_type": "markdown",
   "metadata": {},
   "source": [
    "---\n",
    "# 이미지를 불러서 predict 해보기"
   ]
  },
  {
   "cell_type": "code",
   "execution_count": 166,
   "metadata": {},
   "outputs": [
    {
     "data": {
      "image/png": "[encoded data removed]",
      "text/plain": [
       "<PIL.PngImagePlugin.PngImageFile image mode=L size=28x28>"
      ]
     },
     "execution_count": 166,
     "metadata": {},
     "output_type": "execute_result"
    }
   ],
   "source": [
    "# image 불러오기\n",
    "img = Image.open('data/train_50.png')\n",
    "img"
   ]
  },
  {
   "cell_type": "code",
   "execution_count": 167,
   "metadata": {},
   "outputs": [
    {
     "data": {
      "image/png": "[encoded data removed]",
      "text/plain": [
       "<Figure size 432x288 with 1 Axes>"
      ]
     },
     "metadata": {
      "needs_background": "light"
     },
     "output_type": "display_data"
    }
   ],
   "source": [
    "import matplotlib.pyplot as plt\n",
    "plt.imshow(img)\n",
    "plt.show()"
   ]
  },
  {
   "cell_type": "code",
   "execution_count": 168,
   "metadata": {},
   "outputs": [
    {
     "data": {
      "text/plain": [
       "(28, 28)"
      ]
     },
     "execution_count": 168,
     "metadata": {},
     "output_type": "execute_result"
    }
   ],
   "source": [
    "# image를 numpy로 변환하기\n",
    "imgArray = np.array(img)\n",
    "imgArray.shape"
   ]
  },
  {
   "cell_type": "code",
   "execution_count": 169,
   "metadata": {},
   "outputs": [
    {
     "data": {
      "text/plain": [
       "(784,)"
      ]
     },
     "execution_count": 169,
     "metadata": {},
     "output_type": "execute_result"
    }
   ],
   "source": [
    "# 255로 나눠 정규화하고 1차원 배열로 바꾸기\n",
    "imgArray = imgArray / 255.0\n",
    "imgArray2 = imgArray.reshape(-1) # 알아서 계산해서 1차원으로 만들기\n",
    "imgArray2.shape"
   ]
  },
  {
   "cell_type": "code",
   "execution_count": 170,
   "metadata": {},
   "outputs": [
    {
     "data": {
      "text/html": [
       "<div>\n",
       "<style scoped>\n",
       "    .dataframe tbody tr th:only-of-type {\n",
       "        vertical-align: middle;\n",
       "    }\n",
       "\n",
       "    .dataframe tbody tr th {\n",
       "        vertical-align: top;\n",
       "    }\n",
       "\n",
       "    .dataframe thead th {\n",
       "        text-align: right;\n",
       "    }\n",
       "</style>\n",
       "<table border=\"1\" class=\"dataframe\">\n",
       "  <thead>\n",
       "    <tr style=\"text-align: right;\">\n",
       "      <th></th>\n",
       "      <th>0</th>\n",
       "      <th>1</th>\n",
       "      <th>2</th>\n",
       "      <th>3</th>\n",
       "      <th>4</th>\n",
       "      <th>5</th>\n",
       "      <th>6</th>\n",
       "      <th>7</th>\n",
       "      <th>8</th>\n",
       "      <th>9</th>\n",
       "      <th>...</th>\n",
       "      <th>774</th>\n",
       "      <th>775</th>\n",
       "      <th>776</th>\n",
       "      <th>777</th>\n",
       "      <th>778</th>\n",
       "      <th>779</th>\n",
       "      <th>780</th>\n",
       "      <th>781</th>\n",
       "      <th>782</th>\n",
       "      <th>783</th>\n",
       "    </tr>\n",
       "  </thead>\n",
       "  <tbody>\n",
       "    <tr>\n",
       "      <th>0</th>\n",
       "      <td>0.0</td>\n",
       "      <td>0.0</td>\n",
       "      <td>0.0</td>\n",
       "      <td>0.0</td>\n",
       "      <td>0.0</td>\n",
       "      <td>0.0</td>\n",
       "      <td>0.0</td>\n",
       "      <td>0.0</td>\n",
       "      <td>0.0</td>\n",
       "      <td>0.0</td>\n",
       "      <td>...</td>\n",
       "      <td>0.0</td>\n",
       "      <td>0.0</td>\n",
       "      <td>0.0</td>\n",
       "      <td>0.0</td>\n",
       "      <td>0.0</td>\n",
       "      <td>0.0</td>\n",
       "      <td>0.0</td>\n",
       "      <td>0.0</td>\n",
       "      <td>0.0</td>\n",
       "      <td>0.0</td>\n",
       "    </tr>\n",
       "  </tbody>\n",
       "</table>\n",
       "<p>1 rows × 784 columns</p>\n",
       "</div>"
      ],
      "text/plain": [
       "   0    1    2    3    4    5    6    7    8    9    ...  774  775  776  777  \\\n",
       "0  0.0  0.0  0.0  0.0  0.0  0.0  0.0  0.0  0.0  0.0  ...  0.0  0.0  0.0  0.0   \n",
       "\n",
       "   778  779  780  781  782  783  \n",
       "0  0.0  0.0  0.0  0.0  0.0  0.0  \n",
       "\n",
       "[1 rows x 784 columns]"
      ]
     },
     "execution_count": 170,
     "metadata": {},
     "output_type": "execute_result"
    }
   ],
   "source": [
    "# dataframe으로 만들기 위해 python list로 만들기\n",
    "imgArray3 = imgArray2.tolist()\n",
    "\n",
    "dfArray = pd.DataFrame(imgArray3)\n",
    "dfArray = dfArray.T\n",
    "dfArray"
   ]
  },
  {
   "cell_type": "code",
   "execution_count": 171,
   "metadata": {},
   "outputs": [
    {
     "name": "stdout",
     "output_type": "stream",
     "text": [
      "1/1 [==============================] - 0s 20ms/step\n",
      "예측값: [3]\n"
     ]
    }
   ],
   "source": [
    "print('예측값:', np.argmax(model.predict(dfArray), axis=1))"
   ]
  },
  {
   "cell_type": "code",
   "execution_count": 172,
   "metadata": {},
   "outputs": [
    {
     "name": "stdout",
     "output_type": "stream",
     "text": [
      "1/1 [==============================] - 0s 19ms/step\n"
     ]
    },
    {
     "data": {
      "text/plain": [
       "array([[1.4669040e-11, 1.6760914e-07, 4.5049820e-08, 9.9998093e-01,\n",
       "        2.2433303e-13, 2.0409843e-06, 2.1198373e-14, 2.3136709e-10,\n",
       "        2.6135644e-10, 1.6816248e-05]], dtype=float32)"
      ]
     },
     "execution_count": 172,
     "metadata": {},
     "output_type": "execute_result"
    }
   ],
   "source": [
    "model.predict(dfArray)"
   ]
  }
 ],
 "metadata": {
  "kernelspec": {
   "display_name": "Python 3.7.13 ('tensorflow')",
   "language": "python",
   "name": "python3"
  },
  "language_info": {
   "codemirror_mode": {
    "name": "ipython",
    "version": 3
   },
   "file_extension": ".py",
   "mimetype": "text/x-python",
   "name": "python",
   "nbconvert_exporter": "python",
   "pygments_lexer": "ipython3",
   "version": "3.7.13"
  },
  "orig_nbformat": 4,
  "vscode": {
   "interpreter": {
    "hash": "031516d5089d8191e78e906aaec9fc12f69b6ded71cabf4c1fff4df0e2792dca"
   }
  }
 },
 "nbformat": 4,
 "nbformat_minor": 2
}
