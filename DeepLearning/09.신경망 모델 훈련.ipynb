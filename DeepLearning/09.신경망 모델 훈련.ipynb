{
 "cells": [
  {
   "cell_type": "code",
   "execution_count": 1,
   "metadata": {},
   "outputs": [],
   "source": [
    "import warnings\n",
    "warnings.filterwarnings('ignore')"
   ]
  },
  {
   "cell_type": "code",
   "execution_count": 3,
   "metadata": {},
   "outputs": [],
   "source": [
    "from tensorflow import keras\n",
    "from sklearn.model_selection import train_test_split\n",
    "\n",
    "(train_input, train_target), (test_input, test_target) = keras.datasets.fashion_mnist.load_data()\n",
    "\n",
    "train_scaled = train_input / 255.0\n",
    "test_scaled = test_input / 255.0\n",
    "\n",
    "# train_test split\n",
    "train_scaled, valid_scaled, train_target, valid_target = train_test_split(\n",
    "  train_scaled, train_target, test_size=0.2, random_state=13\n",
    ")"
   ]
  },
  {
   "cell_type": "markdown",
   "metadata": {},
   "source": [
    "#### 모델 만들기를 함수로 만들어놓기"
   ]
  },
  {
   "cell_type": "code",
   "execution_count": 4,
   "metadata": {},
   "outputs": [],
   "source": [
    "# model 함수 구현\n",
    "def build_model(a_layer=None):\n",
    "  model = keras.Sequential()\n",
    "  model.add(keras.layers.Flatten(input_shape=[28, 28]))\n",
    "  model.add(keras.layers.Dense(100, activation='relu'))\n",
    "\n",
    "  if a_layer is not None:\n",
    "    model.add(a_layer)\n",
    "  \n",
    "  model.add(keras.layers.Dense(10, activation='softmax'))\n",
    "  return model"
   ]
  },
  {
   "cell_type": "code",
   "execution_count": 5,
   "metadata": {},
   "outputs": [
    {
     "name": "stdout",
     "output_type": "stream",
     "text": [
      "Model: \"sequential\"\n",
      "_________________________________________________________________\n",
      " Layer (type)                Output Shape              Param #   \n",
      "=================================================================\n",
      " flatten (Flatten)           (None, 784)               0         \n",
      "                                                                 \n",
      " dense (Dense)               (None, 100)               78500     \n",
      "                                                                 \n",
      " dense_1 (Dense)             (None, 10)                1010      \n",
      "                                                                 \n",
      "=================================================================\n",
      "Total params: 79,510\n",
      "Trainable params: 79,510\n",
      "Non-trainable params: 0\n",
      "_________________________________________________________________\n"
     ]
    },
    {
     "name": "stderr",
     "output_type": "stream",
     "text": [
      "2022-07-20 15:40:35.829455: I tensorflow/core/platform/cpu_feature_guard.cc:193] This TensorFlow binary is optimized with oneAPI Deep Neural Network Library (oneDNN) to use the following CPU instructions in performance-critical operations:  AVX2 FMA\n",
      "To enable them in other operations, rebuild TensorFlow with the appropriate compiler flags.\n"
     ]
    }
   ],
   "source": [
    "model = build_model()\n",
    "model.summary()"
   ]
  },
  {
   "cell_type": "code",
   "execution_count": 6,
   "metadata": {},
   "outputs": [
    {
     "name": "stdout",
     "output_type": "stream",
     "text": [
      "Epoch 1/5\n",
      "1500/1500 [==============================] - 4s 2ms/step - loss: 0.5274 - accuracy: 0.8131\n",
      "Epoch 2/5\n",
      "1500/1500 [==============================] - 3s 2ms/step - loss: 0.3907 - accuracy: 0.8581\n",
      "Epoch 3/5\n",
      "1500/1500 [==============================] - 3s 2ms/step - loss: 0.3573 - accuracy: 0.8720\n",
      "Epoch 4/5\n",
      "1500/1500 [==============================] - 3s 2ms/step - loss: 0.3371 - accuracy: 0.8800\n",
      "Epoch 5/5\n",
      "1500/1500 [==============================] - 3s 2ms/step - loss: 0.3202 - accuracy: 0.8879\n"
     ]
    }
   ],
   "source": [
    "model.compile(\n",
    "  loss='sparse_categorical_crossentropy',\n",
    "  metrics=['accuracy']\n",
    ")\n",
    "history = model.fit(\n",
    "  train_scaled, train_target,\n",
    "  epochs=5,\n",
    ")"
   ]
  },
  {
   "cell_type": "code",
   "execution_count": 7,
   "metadata": {},
   "outputs": [
    {
     "data": {
      "text/plain": [
       "dict_keys(['loss', 'accuracy'])"
      ]
     },
     "execution_count": 7,
     "metadata": {},
     "output_type": "execute_result"
    }
   ],
   "source": [
    "history.history.keys()"
   ]
  },
  {
   "cell_type": "markdown",
   "metadata": {},
   "source": [
    "---\n",
    "## 손실곡선을 그려보자"
   ]
  },
  {
   "cell_type": "code",
   "execution_count": 9,
   "metadata": {},
   "outputs": [
    {
     "data": {
      "image/png": "[encoded data removed]",
      "text/plain": [
       "<Figure size 432x288 with 1 Axes>"
      ]
     },
     "metadata": {
      "needs_background": "light"
     },
     "output_type": "display_data"
    }
   ],
   "source": [
    "import matplotlib.pyplot as plt\n",
    "plt.plot(history.history['loss'])\n",
    "plt.xlabel('epoch')\n",
    "plt.ylabel('loss')\n",
    "plt.show()"
   ]
  },
  {
   "cell_type": "code",
   "execution_count": 10,
   "metadata": {},
   "outputs": [
    {
     "data": {
      "image/png": "[encoded data removed]",
      "text/plain": [
       "<Figure size 432x288 with 1 Axes>"
      ]
     },
     "metadata": {
      "needs_background": "light"
     },
     "output_type": "display_data"
    }
   ],
   "source": [
    "plt.plot(history.history['accuracy'])\n",
    "plt.xlabel('epoch')\n",
    "plt.ylabel('accuracy')\n",
    "plt.show()"
   ]
  },
  {
   "cell_type": "markdown",
   "metadata": {},
   "source": [
    "---\n",
    "## epoch를 증가시켜보자"
   ]
  },
  {
   "cell_type": "code",
   "execution_count": 11,
   "metadata": {},
   "outputs": [
    {
     "name": "stdout",
     "output_type": "stream",
     "text": [
      "Epoch 1/20\n",
      "1500/1500 [==============================] - 4s 2ms/step - loss: 0.5271 - accuracy: 0.8136\n",
      "Epoch 2/20\n",
      "1500/1500 [==============================] - 3s 2ms/step - loss: 0.3902 - accuracy: 0.8604\n",
      "Epoch 3/20\n",
      "1500/1500 [==============================] - 3s 2ms/step - loss: 0.3542 - accuracy: 0.8725\n",
      "Epoch 4/20\n",
      "1500/1500 [==============================] - 4s 2ms/step - loss: 0.3338 - accuracy: 0.8799\n",
      "Epoch 5/20\n",
      "1500/1500 [==============================] - 4s 2ms/step - loss: 0.3210 - accuracy: 0.8842\n",
      "Epoch 6/20\n",
      "1500/1500 [==============================] - 3s 2ms/step - loss: 0.3088 - accuracy: 0.8906\n",
      "Epoch 7/20\n",
      "1500/1500 [==============================] - 3s 2ms/step - loss: 0.2985 - accuracy: 0.8948\n",
      "Epoch 8/20\n",
      "1500/1500 [==============================] - 3s 2ms/step - loss: 0.2925 - accuracy: 0.8977\n",
      "Epoch 9/20\n",
      "1500/1500 [==============================] - 4s 2ms/step - loss: 0.2871 - accuracy: 0.8996\n",
      "Epoch 10/20\n",
      "1500/1500 [==============================] - 4s 2ms/step - loss: 0.2799 - accuracy: 0.9035\n",
      "Epoch 11/20\n",
      "1500/1500 [==============================] - 4s 3ms/step - loss: 0.2750 - accuracy: 0.9046\n",
      "Epoch 12/20\n",
      "1500/1500 [==============================] - 4s 2ms/step - loss: 0.2685 - accuracy: 0.9068\n",
      "Epoch 13/20\n",
      "1500/1500 [==============================] - 4s 2ms/step - loss: 0.2606 - accuracy: 0.9100\n",
      "Epoch 14/20\n",
      "1500/1500 [==============================] - 4s 2ms/step - loss: 0.2590 - accuracy: 0.9109\n",
      "Epoch 15/20\n",
      "1500/1500 [==============================] - 4s 2ms/step - loss: 0.2537 - accuracy: 0.9132\n",
      "Epoch 16/20\n",
      "1500/1500 [==============================] - 4s 2ms/step - loss: 0.2473 - accuracy: 0.9145\n",
      "Epoch 17/20\n",
      "1500/1500 [==============================] - 4s 2ms/step - loss: 0.2448 - accuracy: 0.9157\n",
      "Epoch 18/20\n",
      "1500/1500 [==============================] - 4s 2ms/step - loss: 0.2402 - accuracy: 0.9196\n",
      "Epoch 19/20\n",
      "1500/1500 [==============================] - 4s 3ms/step - loss: 0.2379 - accuracy: 0.9184\n",
      "Epoch 20/20\n",
      "1500/1500 [==============================] - 3s 2ms/step - loss: 0.2308 - accuracy: 0.9203\n"
     ]
    }
   ],
   "source": [
    "model = build_model()\n",
    "model.compile(\n",
    "  loss='sparse_categorical_crossentropy',\n",
    "  metrics=['accuracy']\n",
    ")\n",
    "history = model.fit(\n",
    "  train_scaled, train_target,\n",
    "  epochs=20 \n",
    ")"
   ]
  },
  {
   "cell_type": "code",
   "execution_count": 12,
   "metadata": {},
   "outputs": [
    {
     "data": {
      "image/png": "[encoded data removed]",
      "text/plain": [
       "<Figure size 432x288 with 1 Axes>"
      ]
     },
     "metadata": {
      "needs_background": "light"
     },
     "output_type": "display_data"
    }
   ],
   "source": [
    "plt.plot(history.history['loss'])\n",
    "plt.xlabel('epoch')\n",
    "plt.ylabel('loss')\n",
    "plt.show()"
   ]
  },
  {
   "cell_type": "code",
   "execution_count": 13,
   "metadata": {},
   "outputs": [
    {
     "data": {
      "image/png": "[encoded data removed]",
      "text/plain": [
       "<Figure size 432x288 with 1 Axes>"
      ]
     },
     "metadata": {
      "needs_background": "light"
     },
     "output_type": "display_data"
    }
   ],
   "source": [
    "plt.plot(history.history['accuracy'])\n",
    "plt.xlabel('epoch')\n",
    "plt.ylabel('accuracy')\n",
    "plt.show()"
   ]
  },
  {
   "cell_type": "markdown",
   "metadata": {},
   "source": [
    "---\n",
    "## 검증 손실\n",
    ": 검증 세트에 대한 정확도를 파악하기 위해 validation data를 사용한다."
   ]
  },
  {
   "cell_type": "code",
   "execution_count": 14,
   "metadata": {},
   "outputs": [
    {
     "name": "stdout",
     "output_type": "stream",
     "text": [
      "Epoch 1/20\n",
      "1500/1500 [==============================] - 4s 2ms/step - loss: 0.5295 - accuracy: 0.8142 - val_loss: 0.4201 - val_accuracy: 0.8510\n",
      "Epoch 2/20\n",
      "1500/1500 [==============================] - 4s 3ms/step - loss: 0.3919 - accuracy: 0.8578 - val_loss: 0.3805 - val_accuracy: 0.8666\n",
      "Epoch 3/20\n",
      "1500/1500 [==============================] - 4s 2ms/step - loss: 0.3568 - accuracy: 0.8725 - val_loss: 0.3755 - val_accuracy: 0.8693\n",
      "Epoch 4/20\n",
      "1500/1500 [==============================] - 4s 2ms/step - loss: 0.3332 - accuracy: 0.8815 - val_loss: 0.3571 - val_accuracy: 0.8759\n",
      "Epoch 5/20\n",
      "1500/1500 [==============================] - 4s 2ms/step - loss: 0.3185 - accuracy: 0.8883 - val_loss: 0.3675 - val_accuracy: 0.8752\n",
      "Epoch 6/20\n",
      "1500/1500 [==============================] - 4s 3ms/step - loss: 0.3079 - accuracy: 0.8905 - val_loss: 0.3681 - val_accuracy: 0.8801\n",
      "Epoch 7/20\n",
      "1500/1500 [==============================] - 4s 2ms/step - loss: 0.3005 - accuracy: 0.8951 - val_loss: 0.3580 - val_accuracy: 0.8821\n",
      "Epoch 8/20\n",
      "1500/1500 [==============================] - 4s 2ms/step - loss: 0.2930 - accuracy: 0.8968 - val_loss: 0.3682 - val_accuracy: 0.8842\n",
      "Epoch 9/20\n",
      "1500/1500 [==============================] - 4s 2ms/step - loss: 0.2856 - accuracy: 0.9000 - val_loss: 0.3898 - val_accuracy: 0.8782\n",
      "Epoch 10/20\n",
      "1500/1500 [==============================] - 4s 2ms/step - loss: 0.2793 - accuracy: 0.9041 - val_loss: 0.3650 - val_accuracy: 0.8898\n",
      "Epoch 11/20\n",
      "1500/1500 [==============================] - 4s 2ms/step - loss: 0.2747 - accuracy: 0.9050 - val_loss: 0.3809 - val_accuracy: 0.8833\n",
      "Epoch 12/20\n",
      "1500/1500 [==============================] - 4s 2ms/step - loss: 0.2666 - accuracy: 0.9066 - val_loss: 0.4400 - val_accuracy: 0.8766\n",
      "Epoch 13/20\n",
      "1500/1500 [==============================] - 4s 3ms/step - loss: 0.2648 - accuracy: 0.9089 - val_loss: 0.3963 - val_accuracy: 0.8795\n",
      "Epoch 14/20\n",
      "1500/1500 [==============================] - 4s 3ms/step - loss: 0.2583 - accuracy: 0.9107 - val_loss: 0.4127 - val_accuracy: 0.8791\n",
      "Epoch 15/20\n",
      "1500/1500 [==============================] - 5s 3ms/step - loss: 0.2547 - accuracy: 0.9119 - val_loss: 0.4087 - val_accuracy: 0.8748\n",
      "Epoch 16/20\n",
      "1500/1500 [==============================] - 4s 3ms/step - loss: 0.2478 - accuracy: 0.9142 - val_loss: 0.4019 - val_accuracy: 0.8862\n",
      "Epoch 17/20\n",
      "1500/1500 [==============================] - 4s 3ms/step - loss: 0.2426 - accuracy: 0.9163 - val_loss: 0.4164 - val_accuracy: 0.8889\n",
      "Epoch 18/20\n",
      "1500/1500 [==============================] - 4s 3ms/step - loss: 0.2384 - accuracy: 0.9186 - val_loss: 0.4605 - val_accuracy: 0.8877\n",
      "Epoch 19/20\n",
      "1500/1500 [==============================] - 4s 3ms/step - loss: 0.2342 - accuracy: 0.9197 - val_loss: 0.4273 - val_accuracy: 0.8868\n",
      "Epoch 20/20\n",
      "1500/1500 [==============================] - 4s 3ms/step - loss: 0.2338 - accuracy: 0.9209 - val_loss: 0.4569 - val_accuracy: 0.8818\n"
     ]
    }
   ],
   "source": [
    "model = build_model()\n",
    "model.compile(\n",
    "  loss='sparse_categorical_crossentropy',\n",
    "  metrics=['accuracy']\n",
    ")\n",
    "# fit 할 때 validation을 같이 할 수 있음\n",
    "history = model.fit(\n",
    "  train_scaled, train_target,\n",
    "  epochs=20,\n",
    "  validation_data=(valid_scaled, valid_target)\n",
    ")"
   ]
  },
  {
   "cell_type": "code",
   "execution_count": 18,
   "metadata": {},
   "outputs": [
    {
     "data": {
      "image/png": "[encoded data removed]",
      "text/plain": [
       "<Figure size 432x288 with 1 Axes>"
      ]
     },
     "metadata": {
      "needs_background": "light"
     },
     "output_type": "display_data"
    }
   ],
   "source": [
    "# validation과 accuracy 그래프 같이 그려보기\n",
    "plt.plot(history.history['loss'])\n",
    "plt.plot(history.history['val_loss'])\n",
    "plt.xlabel('epoch')\n",
    "plt.ylabel('loss')\n",
    "plt.legend(['train', 'valid'])\n",
    "plt.show()"
   ]
  },
  {
   "cell_type": "markdown",
   "metadata": {},
   "source": [
    "#### epoch에 따라 train의 loss는 계속해서 줄어드는데 valid의 loss는 좀 줄다가 안 줄어들어\n",
    "> 매우매우 과대적합"
   ]
  },
  {
   "cell_type": "markdown",
   "metadata": {},
   "source": [
    "---\n",
    "## Optimizer를 써보자"
   ]
  },
  {
   "cell_type": "markdown",
   "metadata": {},
   "source": [
    "#### adam"
   ]
  },
  {
   "cell_type": "code",
   "execution_count": 19,
   "metadata": {},
   "outputs": [
    {
     "name": "stdout",
     "output_type": "stream",
     "text": [
      "Epoch 1/20\n",
      "1500/1500 [==============================] - 4s 2ms/step - loss: 0.5243 - accuracy: 0.8171 - val_loss: 0.4444 - val_accuracy: 0.8461\n",
      "Epoch 2/20\n",
      "1500/1500 [==============================] - 4s 3ms/step - loss: 0.3990 - accuracy: 0.8573 - val_loss: 0.3949 - val_accuracy: 0.8618\n",
      "Epoch 3/20\n",
      "1500/1500 [==============================] - 4s 3ms/step - loss: 0.3596 - accuracy: 0.8697 - val_loss: 0.3678 - val_accuracy: 0.8674\n",
      "Epoch 4/20\n",
      "1500/1500 [==============================] - 4s 2ms/step - loss: 0.3303 - accuracy: 0.8802 - val_loss: 0.3627 - val_accuracy: 0.8700\n",
      "Epoch 5/20\n",
      "1500/1500 [==============================] - 4s 2ms/step - loss: 0.3099 - accuracy: 0.8862 - val_loss: 0.3575 - val_accuracy: 0.8698\n",
      "Epoch 6/20\n",
      "1500/1500 [==============================] - 4s 3ms/step - loss: 0.2954 - accuracy: 0.8910 - val_loss: 0.3593 - val_accuracy: 0.8685\n",
      "Epoch 7/20\n",
      "1500/1500 [==============================] - 4s 2ms/step - loss: 0.2837 - accuracy: 0.8950 - val_loss: 0.3387 - val_accuracy: 0.8792\n",
      "Epoch 8/20\n",
      "1500/1500 [==============================] - 4s 2ms/step - loss: 0.2707 - accuracy: 0.8992 - val_loss: 0.3480 - val_accuracy: 0.8766\n",
      "Epoch 9/20\n",
      "1500/1500 [==============================] - 4s 3ms/step - loss: 0.2620 - accuracy: 0.9017 - val_loss: 0.3185 - val_accuracy: 0.8857\n",
      "Epoch 10/20\n",
      "1500/1500 [==============================] - 4s 2ms/step - loss: 0.2524 - accuracy: 0.9060 - val_loss: 0.3262 - val_accuracy: 0.8849\n",
      "Epoch 11/20\n",
      "1500/1500 [==============================] - 3s 2ms/step - loss: 0.2429 - accuracy: 0.9091 - val_loss: 0.3230 - val_accuracy: 0.8861\n",
      "Epoch 12/20\n",
      "1500/1500 [==============================] - 4s 2ms/step - loss: 0.2353 - accuracy: 0.9121 - val_loss: 0.3220 - val_accuracy: 0.8889\n",
      "Epoch 13/20\n",
      "1500/1500 [==============================] - 4s 2ms/step - loss: 0.2297 - accuracy: 0.9140 - val_loss: 0.3384 - val_accuracy: 0.8847\n",
      "Epoch 14/20\n",
      "1500/1500 [==============================] - 3s 2ms/step - loss: 0.2231 - accuracy: 0.9167 - val_loss: 0.3297 - val_accuracy: 0.8863\n",
      "Epoch 15/20\n",
      "1500/1500 [==============================] - 4s 2ms/step - loss: 0.2146 - accuracy: 0.9202 - val_loss: 0.3271 - val_accuracy: 0.8899\n",
      "Epoch 16/20\n",
      "1500/1500 [==============================] - 4s 2ms/step - loss: 0.2102 - accuracy: 0.9216 - val_loss: 0.3227 - val_accuracy: 0.8898\n",
      "Epoch 17/20\n",
      "1500/1500 [==============================] - 4s 2ms/step - loss: 0.2026 - accuracy: 0.9251 - val_loss: 0.3277 - val_accuracy: 0.8915\n",
      "Epoch 18/20\n",
      "1500/1500 [==============================] - 3s 2ms/step - loss: 0.1987 - accuracy: 0.9257 - val_loss: 0.3397 - val_accuracy: 0.8882\n",
      "Epoch 19/20\n",
      "1500/1500 [==============================] - 4s 2ms/step - loss: 0.1928 - accuracy: 0.9277 - val_loss: 0.3405 - val_accuracy: 0.8909\n",
      "Epoch 20/20\n",
      "1500/1500 [==============================] - 4s 2ms/step - loss: 0.1875 - accuracy: 0.9300 - val_loss: 0.3421 - val_accuracy: 0.8904\n"
     ]
    }
   ],
   "source": [
    "model = build_model()\n",
    "model.compile(\n",
    "  optimizer='adam',\n",
    "  loss='sparse_categorical_crossentropy',\n",
    "  metrics=['accuracy']\n",
    ")\n",
    "# fit 할 때 validation을 같이 할 수 있음\n",
    "history = model.fit(\n",
    "  train_scaled, train_target,\n",
    "  epochs=20,\n",
    "  validation_data=(valid_scaled, valid_target)\n",
    ")"
   ]
  },
  {
   "cell_type": "code",
   "execution_count": 20,
   "metadata": {},
   "outputs": [
    {
     "data": {
      "image/png": "[encoded data removed]",
      "text/plain": [
       "<Figure size 432x288 with 1 Axes>"
      ]
     },
     "metadata": {
      "needs_background": "light"
     },
     "output_type": "display_data"
    }
   ],
   "source": [
    "# validation과 accuracy 그래프 같이 그려보기\n",
    "plt.plot(history.history['loss'])\n",
    "plt.plot(history.history['val_loss'])\n",
    "plt.xlabel('epoch')\n",
    "plt.ylabel('loss')\n",
    "plt.legend(['train', 'valid'])\n",
    "plt.show()"
   ]
  },
  {
   "cell_type": "markdown",
   "metadata": {},
   "source": [
    "##### 쬐끔 낫긴 한데 마음에 들지 않음\n",
    "\n",
    "> 훈련세트는 epochs가 증가함에 따라 손실이 줄고 있으으나   \n",
    "> 검증세트는 epochs의 증가에 따라 초반에서는 손실이 떨어지나 뒤로 갈 수록 정도가 미미하다   \n",
    "> 여전히 검증세트에는 적합하지 않는 과대적합 모델이다.   \n",
    "> Optimizer를 쓰기 전보다 조금 더 나아졌으나 검증손실은 해결이 안 되고 있다\n",
    "> 머신러닝에서는 L1, L2 규제로 해결한다.   \n",
    "> 지금과 같은 딥러닝에서는 Dropout을 사용한다"
   ]
  },
  {
   "cell_type": "markdown",
   "metadata": {},
   "source": [
    "---\n",
    "# Dropout\n",
    "- 딥러닝에서의 규제\n",
    "- 신경망 모델에만 있음\n",
    "- 훈련 시에만, 각 샘플을 처리할 때 은닉층의 임의의 node를 계산에서 제외한다"
   ]
  },
  {
   "cell_type": "code",
   "execution_count": 21,
   "metadata": {},
   "outputs": [
    {
     "name": "stdout",
     "output_type": "stream",
     "text": [
      "Model: \"sequential_4\"\n",
      "_________________________________________________________________\n",
      " Layer (type)                Output Shape              Param #   \n",
      "=================================================================\n",
      " flatten_4 (Flatten)         (None, 784)               0         \n",
      "                                                                 \n",
      " dense_8 (Dense)             (None, 100)               78500     \n",
      "                                                                 \n",
      " dropout (Dropout)           (None, 100)               0         \n",
      "                                                                 \n",
      " dense_9 (Dense)             (None, 10)                1010      \n",
      "                                                                 \n",
      "=================================================================\n",
      "Total params: 79,510\n",
      "Trainable params: 79,510\n",
      "Non-trainable params: 0\n",
      "_________________________________________________________________\n"
     ]
    }
   ],
   "source": [
    "# model에 dropout을 추가해보자\n",
    "model = build_model(keras.layers.Dropout(0.3)) # 30% dropout\n",
    "model.summary()"
   ]
  },
  {
   "cell_type": "markdown",
   "metadata": {},
   "source": [
    "##### dropout 층이 맨 끝 전에 추가된 것을 볼 수 있다"
   ]
  },
  {
   "cell_type": "code",
   "execution_count": 22,
   "metadata": {},
   "outputs": [
    {
     "name": "stdout",
     "output_type": "stream",
     "text": [
      "Epoch 1/20\n",
      "1500/1500 [==============================] - 4s 3ms/step - loss: 0.5981 - accuracy: 0.7887 - val_loss: 0.4449 - val_accuracy: 0.8416\n",
      "Epoch 2/20\n",
      "1500/1500 [==============================] - 4s 3ms/step - loss: 0.4429 - accuracy: 0.8403 - val_loss: 0.3986 - val_accuracy: 0.8579\n",
      "Epoch 3/20\n",
      "1500/1500 [==============================] - 4s 2ms/step - loss: 0.4058 - accuracy: 0.8518 - val_loss: 0.3791 - val_accuracy: 0.8652\n",
      "Epoch 4/20\n",
      "1500/1500 [==============================] - 3s 2ms/step - loss: 0.3833 - accuracy: 0.8583 - val_loss: 0.3706 - val_accuracy: 0.8657\n",
      "Epoch 5/20\n",
      "1500/1500 [==============================] - 4s 2ms/step - loss: 0.3685 - accuracy: 0.8653 - val_loss: 0.3627 - val_accuracy: 0.8692\n",
      "Epoch 6/20\n",
      "1500/1500 [==============================] - 4s 2ms/step - loss: 0.3587 - accuracy: 0.8671 - val_loss: 0.3505 - val_accuracy: 0.8723\n",
      "Epoch 7/20\n",
      "1500/1500 [==============================] - 3s 2ms/step - loss: 0.3439 - accuracy: 0.8735 - val_loss: 0.3398 - val_accuracy: 0.8745\n",
      "Epoch 8/20\n",
      "1500/1500 [==============================] - 3s 2ms/step - loss: 0.3353 - accuracy: 0.8755 - val_loss: 0.3560 - val_accuracy: 0.8727\n",
      "Epoch 9/20\n",
      "1500/1500 [==============================] - 4s 2ms/step - loss: 0.3296 - accuracy: 0.8779 - val_loss: 0.3400 - val_accuracy: 0.8799\n",
      "Epoch 10/20\n",
      "1500/1500 [==============================] - 4s 2ms/step - loss: 0.3224 - accuracy: 0.8814 - val_loss: 0.3307 - val_accuracy: 0.8830\n",
      "Epoch 11/20\n",
      "1500/1500 [==============================] - 3s 2ms/step - loss: 0.3131 - accuracy: 0.8834 - val_loss: 0.3394 - val_accuracy: 0.8800\n",
      "Epoch 12/20\n",
      "1500/1500 [==============================] - 4s 2ms/step - loss: 0.3094 - accuracy: 0.8839 - val_loss: 0.3373 - val_accuracy: 0.8812\n",
      "Epoch 13/20\n",
      "1500/1500 [==============================] - 4s 2ms/step - loss: 0.3070 - accuracy: 0.8851 - val_loss: 0.3297 - val_accuracy: 0.8857\n",
      "Epoch 14/20\n",
      "1500/1500 [==============================] - 3s 2ms/step - loss: 0.3014 - accuracy: 0.8876 - val_loss: 0.3253 - val_accuracy: 0.8848\n",
      "Epoch 15/20\n",
      "1500/1500 [==============================] - 4s 2ms/step - loss: 0.2941 - accuracy: 0.8911 - val_loss: 0.3302 - val_accuracy: 0.8875\n",
      "Epoch 16/20\n",
      "1500/1500 [==============================] - 4s 2ms/step - loss: 0.2928 - accuracy: 0.8885 - val_loss: 0.3271 - val_accuracy: 0.8868\n",
      "Epoch 17/20\n",
      "1500/1500 [==============================] - 3s 2ms/step - loss: 0.2884 - accuracy: 0.8916 - val_loss: 0.3287 - val_accuracy: 0.8899\n",
      "Epoch 18/20\n",
      "1500/1500 [==============================] - 4s 2ms/step - loss: 0.2844 - accuracy: 0.8929 - val_loss: 0.3324 - val_accuracy: 0.8878\n",
      "Epoch 19/20\n",
      "1500/1500 [==============================] - 4s 2ms/step - loss: 0.2818 - accuracy: 0.8934 - val_loss: 0.3266 - val_accuracy: 0.8878\n",
      "Epoch 20/20\n",
      "1500/1500 [==============================] - 4s 2ms/step - loss: 0.2773 - accuracy: 0.8949 - val_loss: 0.3254 - val_accuracy: 0.8910\n"
     ]
    }
   ],
   "source": [
    "# compile\n",
    "model.compile(\n",
    "  optimizer='adam',\n",
    "  loss='sparse_categorical_crossentropy',\n",
    "  metrics=['accuracy']\n",
    ")\n",
    "history = model.fit(\n",
    "  train_scaled, train_target,\n",
    "  epochs=20,\n",
    "  validation_data=(valid_scaled, valid_target)\n",
    ")"
   ]
  },
  {
   "cell_type": "code",
   "execution_count": 23,
   "metadata": {},
   "outputs": [
    {
     "data": {
      "image/png": "[encoded data removed]",
      "text/plain": [
       "<Figure size 432x288 with 1 Axes>"
      ]
     },
     "metadata": {
      "needs_background": "light"
     },
     "output_type": "display_data"
    }
   ],
   "source": [
    "# validation과 accuracy 그래프 같이 그려보기\n",
    "plt.plot(history.history['loss'])\n",
    "plt.plot(history.history['val_loss'])\n",
    "plt.xlabel('epoch')\n",
    "plt.ylabel('loss')\n",
    "plt.legend(['train', 'valid'])\n",
    "plt.show()"
   ]
  },
  {
   "cell_type": "markdown",
   "metadata": {},
   "source": [
    "> epoch 9정도에서 train과 val의 차이가 적게 나온다(달라질 수 있음)   \n",
    "> 기본적으로 훈련세트의 손실이 검증보다 적게 나오면서 그 차이가 적은 epoch의 갯수를 선택한다   "
   ]
  },
  {
   "cell_type": "markdown",
   "metadata": {},
   "source": [
    "---\n",
    "## 모델을 파일로 저장하고 복원한다\n",
    "- hdf5 포맷을 사용한다"
   ]
  },
  {
   "cell_type": "code",
   "execution_count": 25,
   "metadata": {},
   "outputs": [],
   "source": [
    "# 파일로 저장하기\n",
    "model.save('data/model_whole.h5')"
   ]
  },
  {
   "cell_type": "code",
   "execution_count": 26,
   "metadata": {},
   "outputs": [],
   "source": [
    "# 저장한 모델 불러오기\n",
    "model = keras.models.load_model('data/model_whole.h5')"
   ]
  },
  {
   "cell_type": "code",
   "execution_count": 27,
   "metadata": {},
   "outputs": [
    {
     "name": "stdout",
     "output_type": "stream",
     "text": [
      "313/313 [==============================] - 1s 2ms/step - loss: 0.3492 - accuracy: 0.8823\n"
     ]
    },
    {
     "data": {
      "text/plain": [
       "[0.34923073649406433, 0.8823000192642212]"
      ]
     },
     "execution_count": 27,
     "metadata": {},
     "output_type": "execute_result"
    }
   ],
   "source": [
    "# 사용해보기\n",
    "model.evaluate(test_scaled, test_target)"
   ]
  },
  {
   "cell_type": "markdown",
   "metadata": {},
   "source": [
    "---\n",
    "# Callback 함수\n",
    "##### 훈련 수행 시 손실값이 제일 작은 함수를 저장해 준다. -> 굉장히 편함"
   ]
  },
  {
   "cell_type": "code",
   "execution_count": 29,
   "metadata": {},
   "outputs": [
    {
     "name": "stdout",
     "output_type": "stream",
     "text": [
      "Epoch 1/20\n",
      "1489/1500 [============================>.] - ETA: 0s - loss: 0.5851 - accuracy: 0.7931\n",
      "Epoch 1: val_loss improved from inf to 0.43574, saving model to data/model_best.h5\n",
      "1500/1500 [==============================] - 4s 3ms/step - loss: 0.5847 - accuracy: 0.7931 - val_loss: 0.4357 - val_accuracy: 0.8426\n",
      "Epoch 2/20\n",
      "1498/1500 [============================>.] - ETA: 0s - loss: 0.4313 - accuracy: 0.8454\n",
      "Epoch 2: val_loss improved from 0.43574 to 0.39471, saving model to data/model_best.h5\n",
      "1500/1500 [==============================] - 4s 3ms/step - loss: 0.4314 - accuracy: 0.8453 - val_loss: 0.3947 - val_accuracy: 0.8533\n",
      "Epoch 3/20\n",
      "1495/1500 [============================>.] - ETA: 0s - loss: 0.3977 - accuracy: 0.8557\n",
      "Epoch 3: val_loss improved from 0.39471 to 0.37329, saving model to data/model_best.h5\n",
      "1500/1500 [==============================] - 4s 2ms/step - loss: 0.3976 - accuracy: 0.8558 - val_loss: 0.3733 - val_accuracy: 0.8622\n",
      "Epoch 4/20\n",
      "1481/1500 [============================>.] - ETA: 0s - loss: 0.3817 - accuracy: 0.8598\n",
      "Epoch 4: val_loss improved from 0.37329 to 0.36252, saving model to data/model_best.h5\n",
      "1500/1500 [==============================] - 3s 2ms/step - loss: 0.3812 - accuracy: 0.8601 - val_loss: 0.3625 - val_accuracy: 0.8708\n",
      "Epoch 5/20\n",
      "1499/1500 [============================>.] - ETA: 0s - loss: 0.3649 - accuracy: 0.8648\n",
      "Epoch 5: val_loss improved from 0.36252 to 0.36174, saving model to data/model_best.h5\n",
      "1500/1500 [==============================] - 3s 2ms/step - loss: 0.3648 - accuracy: 0.8648 - val_loss: 0.3617 - val_accuracy: 0.8698\n",
      "Epoch 6/20\n",
      "1497/1500 [============================>.] - ETA: 0s - loss: 0.3523 - accuracy: 0.8689\n",
      "Epoch 6: val_loss improved from 0.36174 to 0.34313, saving model to data/model_best.h5\n",
      "1500/1500 [==============================] - 3s 2ms/step - loss: 0.3522 - accuracy: 0.8689 - val_loss: 0.3431 - val_accuracy: 0.8754\n",
      "Epoch 7/20\n",
      "1496/1500 [============================>.] - ETA: 0s - loss: 0.3424 - accuracy: 0.8742\n",
      "Epoch 7: val_loss improved from 0.34313 to 0.33599, saving model to data/model_best.h5\n",
      "1500/1500 [==============================] - 3s 2ms/step - loss: 0.3423 - accuracy: 0.8743 - val_loss: 0.3360 - val_accuracy: 0.8798\n",
      "Epoch 8/20\n",
      "1492/1500 [============================>.] - ETA: 0s - loss: 0.3309 - accuracy: 0.8771\n",
      "Epoch 8: val_loss improved from 0.33599 to 0.33461, saving model to data/model_best.h5\n",
      "1500/1500 [==============================] - 3s 2ms/step - loss: 0.3309 - accuracy: 0.8771 - val_loss: 0.3346 - val_accuracy: 0.8797\n",
      "Epoch 9/20\n",
      "1477/1500 [============================>.] - ETA: 0s - loss: 0.3264 - accuracy: 0.8785\n",
      "Epoch 9: val_loss did not improve from 0.33461\n",
      "1500/1500 [==============================] - 3s 2ms/step - loss: 0.3263 - accuracy: 0.8785 - val_loss: 0.3410 - val_accuracy: 0.8786\n",
      "Epoch 10/20\n",
      "1485/1500 [============================>.] - ETA: 0s - loss: 0.3197 - accuracy: 0.8809\n",
      "Epoch 10: val_loss did not improve from 0.33461\n",
      "1500/1500 [==============================] - 3s 2ms/step - loss: 0.3195 - accuracy: 0.8809 - val_loss: 0.3363 - val_accuracy: 0.8827\n",
      "Epoch 11/20\n",
      "1489/1500 [============================>.] - ETA: 0s - loss: 0.3096 - accuracy: 0.8839\n",
      "Epoch 11: val_loss improved from 0.33461 to 0.33228, saving model to data/model_best.h5\n",
      "1500/1500 [==============================] - 3s 2ms/step - loss: 0.3097 - accuracy: 0.8839 - val_loss: 0.3323 - val_accuracy: 0.8823\n",
      "Epoch 12/20\n",
      "1487/1500 [============================>.] - ETA: 0s - loss: 0.3053 - accuracy: 0.8853\n",
      "Epoch 12: val_loss improved from 0.33228 to 0.32702, saving model to data/model_best.h5\n",
      "1500/1500 [==============================] - 4s 2ms/step - loss: 0.3056 - accuracy: 0.8852 - val_loss: 0.3270 - val_accuracy: 0.8844\n",
      "Epoch 13/20\n",
      "1486/1500 [============================>.] - ETA: 0s - loss: 0.3020 - accuracy: 0.8883\n",
      "Epoch 13: val_loss did not improve from 0.32702\n",
      "1500/1500 [==============================] - 3s 2ms/step - loss: 0.3018 - accuracy: 0.8884 - val_loss: 0.3387 - val_accuracy: 0.8810\n",
      "Epoch 14/20\n",
      "1478/1500 [============================>.] - ETA: 0s - loss: 0.2956 - accuracy: 0.8884\n",
      "Epoch 14: val_loss improved from 0.32702 to 0.32260, saving model to data/model_best.h5\n",
      "1500/1500 [==============================] - 4s 2ms/step - loss: 0.2957 - accuracy: 0.8885 - val_loss: 0.3226 - val_accuracy: 0.8858\n",
      "Epoch 15/20\n",
      "1482/1500 [============================>.] - ETA: 0s - loss: 0.2927 - accuracy: 0.8891\n",
      "Epoch 15: val_loss did not improve from 0.32260\n",
      "1500/1500 [==============================] - 4s 3ms/step - loss: 0.2921 - accuracy: 0.8894 - val_loss: 0.3264 - val_accuracy: 0.8826\n",
      "Epoch 16/20\n",
      "1490/1500 [============================>.] - ETA: 0s - loss: 0.2875 - accuracy: 0.8913\n",
      "Epoch 16: val_loss improved from 0.32260 to 0.31854, saving model to data/model_best.h5\n",
      "1500/1500 [==============================] - 3s 2ms/step - loss: 0.2876 - accuracy: 0.8913 - val_loss: 0.3185 - val_accuracy: 0.8884\n",
      "Epoch 17/20\n",
      "1483/1500 [============================>.] - ETA: 0s - loss: 0.2826 - accuracy: 0.8933\n",
      "Epoch 17: val_loss did not improve from 0.31854\n",
      "1500/1500 [==============================] - 3s 2ms/step - loss: 0.2827 - accuracy: 0.8933 - val_loss: 0.3190 - val_accuracy: 0.8872\n",
      "Epoch 18/20\n",
      "1494/1500 [============================>.] - ETA: 0s - loss: 0.2800 - accuracy: 0.8934\n",
      "Epoch 18: val_loss did not improve from 0.31854\n",
      "1500/1500 [==============================] - 3s 2ms/step - loss: 0.2802 - accuracy: 0.8934 - val_loss: 0.3273 - val_accuracy: 0.8883\n",
      "Epoch 19/20\n",
      "1488/1500 [============================>.] - ETA: 0s - loss: 0.2787 - accuracy: 0.8947\n",
      "Epoch 19: val_loss did not improve from 0.31854\n",
      "1500/1500 [==============================] - 3s 2ms/step - loss: 0.2785 - accuracy: 0.8949 - val_loss: 0.3313 - val_accuracy: 0.8873\n",
      "Epoch 20/20\n",
      "1484/1500 [============================>.] - ETA: 0s - loss: 0.2716 - accuracy: 0.8974\n",
      "Epoch 20: val_loss did not improve from 0.31854\n",
      "1500/1500 [==============================] - 4s 3ms/step - loss: 0.2715 - accuracy: 0.8974 - val_loss: 0.3280 - val_accuracy: 0.8855\n"
     ]
    },
    {
     "data": {
      "text/plain": [
       "<keras.callbacks.History at 0x7fd0cb84afd0>"
      ]
     },
     "execution_count": 29,
     "metadata": {},
     "output_type": "execute_result"
    }
   ],
   "source": [
    "model = build_model(keras.layers.Dropout(0.3)) # 30% dropout\n",
    "model.compile(\n",
    "  optimizer='adam',\n",
    "  loss='sparse_categorical_crossentropy',\n",
    "  metrics=['accuracy']\n",
    ")\n",
    "checkpoint_callback = keras.callbacks.ModelCheckpoint(\n",
    "  'data/model_best.h5',\n",
    "  monitor='val_loss',\n",
    "  verbose=1,\n",
    "  save_best_only=True,\n",
    "  mode='min'\n",
    ")\n",
    "\n",
    "model.fit(\n",
    "  train_scaled, train_target,\n",
    "  epochs=20,\n",
    "  validation_data=(valid_scaled, valid_target),\n",
    "  callbacks=[checkpoint_callback]\n",
    ")"
   ]
  },
  {
   "cell_type": "code",
   "execution_count": 30,
   "metadata": {},
   "outputs": [
    {
     "name": "stdout",
     "output_type": "stream",
     "text": [
      "313/313 [==============================] - 1s 2ms/step - loss: 0.3401 - accuracy: 0.8801\n"
     ]
    },
    {
     "data": {
      "text/plain": [
       "[0.3401472270488739, 0.8801000118255615]"
      ]
     },
     "execution_count": 30,
     "metadata": {},
     "output_type": "execute_result"
    }
   ],
   "source": [
    "model = keras.models.load_model('data/model_best.h5')\n",
    "model.evaluate(test_scaled, test_target)"
   ]
  },
  {
   "cell_type": "markdown",
   "metadata": {},
   "source": [
    "---\n",
    "# Early-Stopping(조기종료)\n",
    "##### Callbacks처럼 끝까지 기다리는 것이 아니고 hyper parameter를 선정해 한계값을 정해 실행\n",
    "##### 특정 조건을 만족하면 조기종료"
   ]
  },
  {
   "cell_type": "code",
   "execution_count": 32,
   "metadata": {},
   "outputs": [
    {
     "name": "stdout",
     "output_type": "stream",
     "text": [
      "Epoch 1/20\n",
      "1486/1500 [============================>.] - ETA: 0s - loss: 0.5943 - accuracy: 0.7921\n",
      "Epoch 1: val_loss improved from inf to 0.43300, saving model to data/model_best.h5\n",
      "1500/1500 [==============================] - 4s 2ms/step - loss: 0.5939 - accuracy: 0.7923 - val_loss: 0.4330 - val_accuracy: 0.8453\n",
      "Epoch 2/20\n",
      "1494/1500 [============================>.] - ETA: 0s - loss: 0.4407 - accuracy: 0.8401\n",
      "Epoch 2: val_loss improved from 0.43300 to 0.38997, saving model to data/model_best.h5\n",
      "1500/1500 [==============================] - 3s 2ms/step - loss: 0.4408 - accuracy: 0.8401 - val_loss: 0.3900 - val_accuracy: 0.8583\n",
      "Epoch 3/20\n",
      "1478/1500 [============================>.] - ETA: 0s - loss: 0.4049 - accuracy: 0.8533\n",
      "Epoch 3: val_loss improved from 0.38997 to 0.38686, saving model to data/model_best.h5\n",
      "1500/1500 [==============================] - 4s 2ms/step - loss: 0.4045 - accuracy: 0.8534 - val_loss: 0.3869 - val_accuracy: 0.8579\n",
      "Epoch 4/20\n",
      "1493/1500 [============================>.] - ETA: 0s - loss: 0.3823 - accuracy: 0.8593\n",
      "Epoch 4: val_loss improved from 0.38686 to 0.35471, saving model to data/model_best.h5\n",
      "1500/1500 [==============================] - 3s 2ms/step - loss: 0.3821 - accuracy: 0.8594 - val_loss: 0.3547 - val_accuracy: 0.8700\n",
      "Epoch 5/20\n",
      "1492/1500 [============================>.] - ETA: 0s - loss: 0.3680 - accuracy: 0.8649\n",
      "Epoch 5: val_loss improved from 0.35471 to 0.34862, saving model to data/model_best.h5\n",
      "1500/1500 [==============================] - 3s 2ms/step - loss: 0.3679 - accuracy: 0.8649 - val_loss: 0.3486 - val_accuracy: 0.8715\n",
      "Epoch 6/20\n",
      "1473/1500 [============================>.] - ETA: 0s - loss: 0.3548 - accuracy: 0.8668\n",
      "Epoch 6: val_loss did not improve from 0.34862\n",
      "1500/1500 [==============================] - 3s 2ms/step - loss: 0.3548 - accuracy: 0.8669 - val_loss: 0.3563 - val_accuracy: 0.8709\n",
      "Epoch 7/20\n",
      "1499/1500 [============================>.] - ETA: 0s - loss: 0.3445 - accuracy: 0.8718\n",
      "Epoch 7: val_loss improved from 0.34862 to 0.34859, saving model to data/model_best.h5\n",
      "1500/1500 [==============================] - 3s 2ms/step - loss: 0.3446 - accuracy: 0.8718 - val_loss: 0.3486 - val_accuracy: 0.8733\n",
      "Epoch 8/20\n",
      "1475/1500 [============================>.] - ETA: 0s - loss: 0.3356 - accuracy: 0.8758\n",
      "Epoch 8: val_loss improved from 0.34859 to 0.34309, saving model to data/model_best.h5\n",
      "1500/1500 [==============================] - 3s 2ms/step - loss: 0.3355 - accuracy: 0.8757 - val_loss: 0.3431 - val_accuracy: 0.8774\n",
      "Epoch 9/20\n",
      "1489/1500 [============================>.] - ETA: 0s - loss: 0.3273 - accuracy: 0.8777\n",
      "Epoch 9: val_loss improved from 0.34309 to 0.32965, saving model to data/model_best.h5\n",
      "1500/1500 [==============================] - 4s 2ms/step - loss: 0.3269 - accuracy: 0.8780 - val_loss: 0.3296 - val_accuracy: 0.8822\n",
      "Epoch 10/20\n",
      "1479/1500 [============================>.] - ETA: 0s - loss: 0.3187 - accuracy: 0.8820\n",
      "Epoch 10: val_loss improved from 0.32965 to 0.32477, saving model to data/model_best.h5\n",
      "1500/1500 [==============================] - 4s 2ms/step - loss: 0.3191 - accuracy: 0.8819 - val_loss: 0.3248 - val_accuracy: 0.8830\n",
      "Epoch 11/20\n",
      "1482/1500 [============================>.] - ETA: 0s - loss: 0.3162 - accuracy: 0.8823\n",
      "Epoch 11: val_loss did not improve from 0.32477\n",
      "1500/1500 [==============================] - 4s 3ms/step - loss: 0.3163 - accuracy: 0.8821 - val_loss: 0.3358 - val_accuracy: 0.8797\n",
      "Epoch 12/20\n",
      "1487/1500 [============================>.] - ETA: 0s - loss: 0.3088 - accuracy: 0.8863\n",
      "Epoch 12: val_loss did not improve from 0.32477\n",
      "Restoring model weights from the end of the best epoch: 10.\n",
      "1500/1500 [==============================] - 4s 3ms/step - loss: 0.3090 - accuracy: 0.8864 - val_loss: 0.3294 - val_accuracy: 0.8824\n",
      "Epoch 12: early stopping\n"
     ]
    }
   ],
   "source": [
    "# early stopping\n",
    "model = build_model(keras.layers.Dropout(0.3)) # 30% dropout\n",
    "model.compile(\n",
    "  optimizer='adam',\n",
    "  loss='sparse_categorical_crossentropy',\n",
    "  metrics=['accuracy']\n",
    ")\n",
    "checkpoint_callback = keras.callbacks.ModelCheckpoint(\n",
    "  'data/model_best.h5',\n",
    "  monitor='val_loss',\n",
    "  verbose=1,\n",
    "  save_best_only=True,\n",
    "  mode='min'\n",
    ")\n",
    "early_stopping_callback = keras.callbacks.EarlyStopping(\n",
    "  monitor='val_loss',\n",
    "  patience=2, # val_loss가 2번까지 올라가도 참아줌\n",
    "  verbose=1,\n",
    "  mode='min',\n",
    "  restore_best_weights=True # 없으면 손실이 증가한 채로 저장되어버림\n",
    ")\n",
    "history = model.fit(\n",
    "  train_scaled, train_target,\n",
    "  epochs=20,\n",
    "  validation_data=(valid_scaled, valid_target),\n",
    "  callbacks=[checkpoint_callback, early_stopping_callback]\n",
    ")"
   ]
  },
  {
   "cell_type": "code",
   "execution_count": 33,
   "metadata": {},
   "outputs": [
    {
     "data": {
      "image/png": "[encoded data removed]",
      "text/plain": [
       "<Figure size 432x288 with 1 Axes>"
      ]
     },
     "metadata": {
      "needs_background": "light"
     },
     "output_type": "display_data"
    }
   ],
   "source": [
    "# validation과 accuracy 그래프 같이 그려보기\n",
    "plt.plot(history.history['loss'])\n",
    "plt.plot(history.history['val_loss'])\n",
    "plt.xlabel('epoch')\n",
    "plt.ylabel('loss')\n",
    "plt.legend(['train', 'valid'])\n",
    "plt.show()"
   ]
  }
 ],
 "metadata": {
  "kernelspec": {
   "display_name": "Python 3.7.13 ('tensorflow')",
   "language": "python",
   "name": "python3"
  },
  "language_info": {
   "codemirror_mode": {
    "name": "ipython",
    "version": 3
   },
   "file_extension": ".py",
   "mimetype": "text/x-python",
   "name": "python",
   "nbconvert_exporter": "python",
   "pygments_lexer": "ipython3",
   "version": "3.7.13"
  },
  "orig_nbformat": 4,
  "vscode": {
   "interpreter": {
    "hash": "031516d5089d8191e78e906aaec9fc12f69b6ded71cabf4c1fff4df0e2792dca"
   }
  }
 },
 "nbformat": 4,
 "nbformat_minor": 2
}
