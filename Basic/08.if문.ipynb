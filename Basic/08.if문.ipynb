{
 "cells": [
  {
   "cell_type": "code",
   "execution_count": 1,
   "metadata": {},
   "outputs": [],
   "source": [
    "from random import randint"
   ]
  },
  {
   "cell_type": "code",
   "execution_count": 2,
   "metadata": {},
   "outputs": [
    {
     "data": {
      "text/plain": [
       "57"
      ]
     },
     "execution_count": 2,
     "metadata": {},
     "output_type": "execute_result"
    }
   ],
   "source": [
    "randint(1,100)"
   ]
  },
  {
   "cell_type": "code",
   "execution_count": 3,
   "metadata": {},
   "outputs": [
    {
     "name": "stdout",
     "output_type": "stream",
     "text": [
      "0보다 큽니다.\n"
     ]
    }
   ],
   "source": [
    "x = randint(1,100)\n",
    "if x > 70:\n",
    "    print(\"70보다 큽니다.\")\n",
    "elif x > 50:\n",
    "    print(\"50보다 큽니다.\")\n",
    "elif x > 30:\n",
    "    print(\"30보다 큽니다.\")\n",
    "else:\n",
    "    print(\"0보다 큽니다.\")"
   ]
  },
  {
   "cell_type": "code",
   "execution_count": 4,
   "metadata": {},
   "outputs": [
    {
     "name": "stdout",
     "output_type": "stream",
     "text": [
      "홀수입니다.\n"
     ]
    }
   ],
   "source": [
    "#홀짝수 구분\n",
    "\n",
    "x = randint(1,100)\n",
    "if(x % 2 == 1):\n",
    "    print(\"홀수입니다.\")\n",
    "else:\n",
    "    print(\"짝수입니다.\")"
   ]
  },
  {
   "cell_type": "code",
   "execution_count": 5,
   "metadata": {},
   "outputs": [
    {
     "ename": "ValueError",
     "evalue": "invalid literal for int() with base 10: ''",
     "output_type": "error",
     "traceback": [
      "\u001b[0;31m---------------------------------------------------------------------------\u001b[0m",
      "\u001b[0;31mValueError\u001b[0m                                Traceback (most recent call last)",
      "\u001b[0;32m/var/folders/51/xmc_l6t13wv1nc5z6qmyg58r0000gn/T/ipykernel_1668/4201140950.py\u001b[0m in \u001b[0;36m<module>\u001b[0;34m\u001b[0m\n\u001b[1;32m      1\u001b[0m \u001b[0;31m# 사용자로부터 숫자를 입력받자\u001b[0m\u001b[0;34m\u001b[0m\u001b[0;34m\u001b[0m\u001b[0m\n\u001b[0;32m----> 2\u001b[0;31m \u001b[0mnumber\u001b[0m \u001b[0;34m=\u001b[0m \u001b[0mint\u001b[0m\u001b[0;34m(\u001b[0m\u001b[0minput\u001b[0m\u001b[0;34m(\u001b[0m\u001b[0;34m\"숫자를 입력하세요: \"\u001b[0m\u001b[0;34m)\u001b[0m\u001b[0;34m)\u001b[0m\u001b[0;34m\u001b[0m\u001b[0;34m\u001b[0m\u001b[0m\n\u001b[0m\u001b[1;32m      3\u001b[0m \u001b[0;34m\u001b[0m\u001b[0m\n\u001b[1;32m      4\u001b[0m \u001b[0mprint\u001b[0m\u001b[0;34m(\u001b[0m\u001b[0mtype\u001b[0m\u001b[0;34m(\u001b[0m\u001b[0mnumber\u001b[0m\u001b[0;34m)\u001b[0m\u001b[0;34m,\u001b[0m \u001b[0mnumber\u001b[0m\u001b[0;34m)\u001b[0m\u001b[0;34m\u001b[0m\u001b[0;34m\u001b[0m\u001b[0m\n",
      "\u001b[0;31mValueError\u001b[0m: invalid literal for int() with base 10: ''"
     ]
    }
   ],
   "source": [
    "# 사용자로부터 숫자를 입력받자\n",
    "number = int(input(\"숫자를 입력하세요: \"))\n",
    "\n",
    "print(type(number), number)"
   ]
  },
  {
   "cell_type": "code",
   "execution_count": null,
   "metadata": {},
   "outputs": [
    {
     "name": "stdout",
     "output_type": "stream",
     "text": [
      "4는 짝수입니다.\n"
     ]
    }
   ],
   "source": [
    "number = int(input(\"숫쟈를 입력하세요\"))\n",
    "\n",
    "if(number % 2 == 1):\n",
    "    print(f'{number}는 홀수입니다.')\n",
    "else:\n",
    "    print(f'{number}는 짝수입니다.')"
   ]
  },
  {
   "cell_type": "code",
   "execution_count": null,
   "metadata": {},
   "outputs": [
    {
     "name": "stdout",
     "output_type": "stream",
     "text": [
      "점수는 88점이고 B학점입니다.\n"
     ]
    }
   ],
   "source": [
    "score = int(input(\"점수를 입력하세요\"))\n",
    "grade = 'F'\n",
    "\n",
    "if(score >= 90):\n",
    "    grade = 'A'\n",
    "elif(score >= 80):\n",
    "    grade = 'B'\n",
    "elif(score >= 70):\n",
    "    grade = 'C'\n",
    "elif(score >= 60):\n",
    "    grade = 'D'\n",
    "\n",
    "print(f'점수는 {score}점이고 {grade}학점입니다.')"
   ]
  },
  {
   "cell_type": "code",
   "execution_count": null,
   "metadata": {},
   "outputs": [],
   "source": [
    "import math"
   ]
  },
  {
   "cell_type": "code",
   "execution_count": null,
   "metadata": {},
   "outputs": [
    {
     "name": "stdout",
     "output_type": "stream",
     "text": [
      "입력한 45의 제곱근은 6.708203932499369입니다.\n"
     ]
    }
   ],
   "source": [
    "number = int(input('숫자를 입력하세요'))\n",
    "\n",
    "if(number % 5 == 0):\n",
    "    print(f'입력한 {number}의 제곱근은 {math.sqrt(number)}입니다.')\n",
    "else:\n",
    "    print(f'입력한 숫자는 {number}입니다.')"
   ]
  },
  {
   "cell_type": "code",
   "execution_count": null,
   "metadata": {},
   "outputs": [
    {
     "name": "stdout",
     "output_type": "stream",
     "text": [
      "신용카드를 사용해 택시 타기!\n",
      "--- End ---\n"
     ]
    }
   ],
   "source": [
    "# list의 내용을 if문으로 확인하기\n",
    "\n",
    "pocket = ['paper', 'smartphone']\n",
    "card = 1\n",
    "\n",
    "if 'money' in pocket:\n",
    "    print('현금으로 택시타기!')\n",
    "elif card: #0일때만 false\n",
    "    print('신용카드를 사용해 택시 타기!')\n",
    "else:\n",
    "    print('튼튼한 다리를 사용!')\n",
    "\n",
    "print('--- End ---')\n"
   ]
  },
  {
   "cell_type": "markdown",
   "metadata": {},
   "source": [
    "# 변수 = (참인 경우) if (조건) else (거짓인 경우)"
   ]
  },
  {
   "cell_type": "code",
   "execution_count": null,
   "metadata": {},
   "outputs": [
    {
     "name": "stdout",
     "output_type": "stream",
     "text": [
      "18\n"
     ]
    }
   ],
   "source": [
    "# 3항 연산자 비슷한 녀석\n",
    "num = 9\n",
    "result = 0\n",
    "\n",
    "result = num * 2 if num >= 5 else num + 2\n",
    "\n",
    "print(result)"
   ]
  },
  {
   "cell_type": "code",
   "execution_count": null,
   "metadata": {},
   "outputs": [
    {
     "name": "stdout",
     "output_type": "stream",
     "text": [
      "나무를 1번 찍었습니다.\n",
      "나무를 2번 찍었습니다.\n",
      "나무를 3번 찍었습니다.\n",
      "나무를 4번 찍었습니다.\n",
      "나무를 5번 찍었습니다.\n",
      "나무를 6번 찍었습니다.\n",
      "나무를 7번 찍었습니다.\n",
      "나무를 8번 찍었습니다.\n",
      "나무를 9번 찍었습니다.\n",
      "나무를 10번 찍었습니다.\n",
      "나무 넘어 갑니다.\n"
     ]
    }
   ],
   "source": [
    "treeHit = 0\n",
    "\n",
    "while treeHit < 10:\n",
    "    treeHit += 1\n",
    "    print(\"나무를 %d번 찍었습니다.\"%treeHit)\n",
    "\n",
    "    if treeHit == 10:\n",
    "        print('나무 넘어 갑니다.')"
   ]
  },
  {
   "cell_type": "code",
   "execution_count": null,
   "metadata": {},
   "outputs": [],
   "source": [
    "prompt = \"\"\"\n",
    "1. 덧셈\n",
    " 2. 곱셈\n",
    "  3. 나눗셈\n",
    "   4. 종료\n",
    "\n",
    "숫자를 입력하세요:\n",
    "\n",
    "\"\"\""
   ]
  },
  {
   "cell_type": "code",
   "execution_count": null,
   "metadata": {},
   "outputs": [
    {
     "name": "stdout",
     "output_type": "stream",
     "text": [
      "\n",
      "1. 덧셈\n",
      " 2. 곱셈\n",
      "  3. 나눗셈\n",
      "   4. 종료\n",
      "\n",
      "숫자를 입력하세요:\n",
      "\n",
      "\n",
      "\n",
      "1. 덧셈\n",
      " 2. 곱셈\n",
      "  3. 나눗셈\n",
      "   4. 종료\n",
      "\n",
      "숫자를 입력하세요:\n",
      "\n",
      "\n",
      "\n",
      "1. 덧셈\n",
      " 2. 곱셈\n",
      "  3. 나눗셈\n",
      "   4. 종료\n",
      "\n",
      "숫자를 입력하세요:\n",
      "\n",
      "\n",
      "\n",
      "1. 덧셈\n",
      " 2. 곱셈\n",
      "  3. 나눗셈\n",
      "   4. 종료\n",
      "\n",
      "숫자를 입력하세요:\n",
      "\n",
      "\n"
     ]
    }
   ],
   "source": [
    "number = 0\n",
    "while number != 4:\n",
    "    print(prompt)\n",
    "    number = int(input())"
   ]
  },
  {
   "cell_type": "markdown",
   "metadata": {},
   "source": [
    "- 5번의 커피를 판매할 수 있는 커피 자판기가 있다.\n",
    "- 커피의 금액은 300원이다.\n",
    "- 300원보다 큰 금액을 입력하면 커피를 주고(판매회수 감소) 거스름돈을 준다.\n",
    "- 커피의 판매 횟수를 소진하면 판매가 중단된다."
   ]
  },
  {
   "cell_type": "code",
   "execution_count": null,
   "metadata": {},
   "outputs": [
    {
     "name": "stdout",
     "output_type": "stream",
     "text": [
      "커피가 나옵니다. 거스름돈은 50원입니다.\n",
      "남은 커피 재고 4개\n",
      "커피가 나옵니다. 거스름돈은 360원입니다.\n",
      "남은 커피 재고 3개\n",
      "커피가 나옵니다. 거스름돈은 100원입니다.\n",
      "남은 커피 재고 2개\n",
      "커피가 나옵니다. 거스름돈은 없습니다.\n",
      "남은 커피 재고 1개\n",
      "커피가 나옵니다. 거스름돈은 없습니다.\n",
      "재고가 없습니다.커피 판매가 중단되었습니다.\n"
     ]
    }
   ],
   "source": [
    "coffee = 5\n",
    "\n",
    "while coffee > 0:\n",
    "    number = int(input('금액을 투입하세요'))\n",
    "    if(number < 300):\n",
    "        print('300원보다 큰 돈을 투입하세요.')\n",
    "    elif(number == 300):\n",
    "        print('커피가 나옵니다. 거스름돈은 없습니다.')\n",
    "        coffee = coffee - 1\n",
    "    else:\n",
    "        print(f'커피가 나옵니다. 거스름돈은 {number - 300}원입니다.')\n",
    "        coffee = coffee - 1\n",
    "    if coffee == 0:\n",
    "        print('재고가 없습니다.커피 판매가 중단되었습니다.')\n",
    "    else:\n",
    "        print(f'남은 커피 재고 {coffee}개')\n",
    "        "
   ]
  },
  {
   "cell_type": "code",
   "execution_count": null,
   "metadata": {},
   "outputs": [
    {
     "name": "stdout",
     "output_type": "stream",
     "text": [
      "0\n",
      "1\n",
      "2\n",
      "3\n",
      "4\n"
     ]
    }
   ],
   "source": [
    "# break 문을 사용하여 a가 5인 경우 while문 빠져나가기\n",
    "\n",
    "var = 0\n",
    "\n",
    "while True:\n",
    "    print(var)\n",
    "    var += 1\n",
    "    if var == 5:\n",
    "        break"
   ]
  },
  {
   "cell_type": "code",
   "execution_count": null,
   "metadata": {},
   "outputs": [
    {
     "name": "stdout",
     "output_type": "stream",
     "text": [
      "1\n",
      "2\n",
      "3\n",
      "4\n",
      "6\n",
      "7\n",
      "8\n",
      "9\n",
      "10\n"
     ]
    }
   ],
   "source": [
    "# 10보다 작은 수중 5인 경우에만 출력 안 하고 나머지 숫자는 출력하기\n",
    "\n",
    "var = 0\n",
    "\n",
    "while var < 10:\n",
    "    var += 1\n",
    "    if var == 5:\n",
    "        continue #반복문 처음으로 올라감\n",
    "    print(var)"
   ]
  },
  {
   "cell_type": "code",
   "execution_count": null,
   "metadata": {},
   "outputs": [
    {
     "name": "stdout",
     "output_type": "stream",
     "text": [
      "1\n",
      "3\n",
      "5\n",
      "7\n",
      "9\n"
     ]
    }
   ],
   "source": [
    "# continue 문을 사용하여 홀수 숫자만 출력하기\n",
    "\n",
    "var = 0\n",
    "while var < 10:\n",
    "    if var % 2 == 0:\n",
    "        var += 1\n",
    "        continue\n",
    "    \n",
    "    print(var)\n",
    "    var += 1"
   ]
  },
  {
   "cell_type": "code",
   "execution_count": null,
   "metadata": {},
   "outputs": [
    {
     "name": "stdout",
     "output_type": "stream",
     "text": [
      "노력\n",
      "우수\n",
      "우수\n",
      "노력\n"
     ]
    }
   ],
   "source": [
    "# 점수가 80점 이상이면 우수, 나머지는 노력으로 출력 #1\n",
    "scores = [78, 85, 95, 65]\n",
    "\n",
    "var = 0\n",
    "\n",
    "while var < len(scores):\n",
    "    if scores[var] >= 80:\n",
    "        print('우수')\n",
    "    else:\n",
    "        print('노력')\n",
    "    var += 1"
   ]
  },
  {
   "cell_type": "code",
   "execution_count": null,
   "metadata": {},
   "outputs": [
    {
     "name": "stdout",
     "output_type": "stream",
     "text": [
      "노력\n",
      "우수\n",
      "우수\n",
      "노력\n"
     ]
    }
   ],
   "source": [
    "# 점수가 80점 이상이면 우수, 나머지는 노력으로 출력 #2\n",
    "scores = [78, 85, 95, 65]\n",
    "var = 0\n",
    "\n",
    "while scores:\n",
    "    if scores.pop(0) >= 80:\n",
    "        print('우수')\n",
    "    else:\n",
    "        print('노력')\n"
   ]
  },
  {
   "cell_type": "code",
   "execution_count": 6,
   "metadata": {},
   "outputs": [
    {
     "name": "stdout",
     "output_type": "stream",
     "text": [
      "80.75\n"
     ]
    }
   ],
   "source": [
    "# 평균 구하기\n",
    "\n",
    "scores = [78, 85, 95, 65]\n",
    "list_len = len(scores)\n",
    "total = 0\n",
    "\n",
    "while scores:\n",
    "    total += scores.pop()\n",
    "    \n",
    "print(total/list_len)"
   ]
  },
  {
   "cell_type": "code",
   "execution_count": 7,
   "metadata": {},
   "outputs": [],
   "source": [
    "import numpy as np"
   ]
  },
  {
   "cell_type": "code",
   "execution_count": 8,
   "metadata": {},
   "outputs": [
    {
     "data": {
      "text/plain": [
       "80.75"
      ]
     },
     "execution_count": 8,
     "metadata": {},
     "output_type": "execute_result"
    }
   ],
   "source": [
    "scores = [78, 85, 95, 65]\n",
    "np.mean(scores)"
   ]
  },
  {
   "cell_type": "code",
   "execution_count": 12,
   "metadata": {},
   "outputs": [
    {
     "name": "stdout",
     "output_type": "stream",
     "text": [
      "12.149074038789951\n"
     ]
    }
   ],
   "source": [
    "import math\n",
    "\n",
    "# 표준편차 생으로 코딩\n",
    "scores = [89, 56, 76, 71, 88]\n",
    "var = 0\n",
    "\n",
    "# 평균 구하기\n",
    "total = 0\n",
    "while var < len(scores):\n",
    "    total += scores[var]\n",
    "    var += 1\n",
    "mean = total / len(scores)\n",
    "\n",
    "# 각 데이터와 평균의 차이의 제곱의 합의 평균 구하기s\n",
    "total = 0\n",
    "var = 0\n",
    "while var < len(scores):\n",
    "    total += (scores[var] - mean) ** 2\n",
    "    var += 1\n",
    "\n",
    "avg = total / len(scores)\n",
    "\n",
    "print(math.sqrt(avg))"
   ]
  }
 ],
 "metadata": {
  "kernelspec": {
   "display_name": "Python 3.9.7 ('base')",
   "language": "python",
   "name": "python3"
  },
  "language_info": {
   "codemirror_mode": {
    "name": "ipython",
    "version": 3
   },
   "file_extension": ".py",
   "mimetype": "text/x-python",
   "name": "python",
   "nbconvert_exporter": "python",
   "pygments_lexer": "ipython3",
   "version": "3.9.7"
  },
  "orig_nbformat": 4,
  "vscode": {
   "interpreter": {
    "hash": "c34e8390e776d2ee205b71ed5a6130fee3cef8da5e87e926ce18e14f4a070d72"
   }
  }
 },
 "nbformat": 4,
 "nbformat_minor": 2
}
