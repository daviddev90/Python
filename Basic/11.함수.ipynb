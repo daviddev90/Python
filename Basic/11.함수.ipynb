{
 "cells": [
  {
   "cell_type": "markdown",
   "metadata": {},
   "source": [
    "# numpy 내장함수"
   ]
  },
  {
   "cell_type": "code",
   "execution_count": 1,
   "metadata": {},
   "outputs": [],
   "source": [
    "# import numpy\n",
    "import numpy as np"
   ]
  },
  {
   "cell_type": "code",
   "execution_count": 9,
   "metadata": {},
   "outputs": [
    {
     "name": "stdout",
     "output_type": "stream",
     "text": [
      "45\n",
      "6.666666666666667\n",
      "5.0\n",
      "2.581988897471611\n",
      "1\n",
      "9\n",
      "5.0\n",
      "True\n",
      "False\n",
      "False\n"
     ]
    }
   ],
   "source": [
    "#sum of range(1,10)\n",
    "print(sum(range(1,10)))\n",
    "\n",
    "#variance of range(1,10)\n",
    "print(np.var(range(1,10)))\n",
    "\n",
    "#mean of range(1,10)\n",
    "print(np.mean(range(1,10)))\n",
    "\n",
    "#std of range(1,10)\n",
    "print(np.std(range(1,10)))\n",
    "\n",
    "#min of range(1,10)\n",
    "print(np.min(range(1,10)))\n",
    "\n",
    "#max of range(1,10)\n",
    "print(np.max(range(1,10)))\n",
    "\n",
    "#median of range(1,10)\n",
    "print(np.median(range(1,10)))\n",
    "\n",
    "a = np.sqrt(np.var(range(1,10)))\n",
    "b = np.std(range(1,10))\n",
    "\n",
    "print(a == b) #할당된 값이 같은지 비교\n",
    "print(a is b) #원래값 > 달라짐\n",
    "print(1.000000000000001 == 1.0) #정확도 문제로 인해 오차가 나는 경우"
   ]
  },
  {
   "cell_type": "code",
   "execution_count": 10,
   "metadata": {},
   "outputs": [
    {
     "data": {
      "text/plain": [
       "5.5"
      ]
     },
     "execution_count": 10,
     "metadata": {},
     "output_type": "execute_result"
    }
   ],
   "source": [
    "np.median(range(1,11))"
   ]
  },
  {
   "cell_type": "code",
   "execution_count": 14,
   "metadata": {},
   "outputs": [
    {
     "name": "stdout",
     "output_type": "stream",
     "text": [
      "[ 1  3  6 10 15 21 28 36 45 55]\n"
     ]
    }
   ],
   "source": [
    "# 누적합\n",
    "print(np.cumsum(range(1,11)))\n",
    "# 넘파이의 배열은 파이썬의 리스트와 다르다.\n",
    "# 넘파이의 배열은 이미지를 저장하는 것이 아니라 수치를 저장하는 것이다.\n"
   ]
  },
  {
   "cell_type": "code",
   "execution_count": 15,
   "metadata": {},
   "outputs": [
    {
     "name": "stdout",
     "output_type": "stream",
     "text": [
      "55\n"
     ]
    }
   ],
   "source": [
    "# get last value of cumulative sum\n",
    "print(np.cumsum(range(1,11))[-1])"
   ]
  },
  {
   "cell_type": "code",
   "execution_count": 18,
   "metadata": {},
   "outputs": [
    {
     "name": "stdout",
     "output_type": "stream",
     "text": [
      "    *\n",
      "   ***\n",
      "  *****\n",
      " *******\n",
      "*********\n"
     ]
    }
   ],
   "source": [
    "# print diamond pattern\n",
    "for i in range(1,6):\n",
    "    print(' '*(5-i) + '*'*(2*i-1))\n"
   ]
  },
  {
   "cell_type": "code",
   "execution_count": 19,
   "metadata": {},
   "outputs": [
    {
     "name": "stdout",
     "output_type": "stream",
     "text": [
      "[      1       2       6      24     120     720    5040   40320  362880\n",
      " 3628800]\n"
     ]
    }
   ],
   "source": [
    "#누적곱\n",
    "print(np.cumprod(range(1,11)))"
   ]
  },
  {
   "cell_type": "markdown",
   "metadata": {},
   "source": [
    "---\n",
    "# 사용자 정의 함수"
   ]
  },
  {
   "cell_type": "code",
   "execution_count": 23,
   "metadata": {},
   "outputs": [
    {
     "name": "stdout",
     "output_type": "stream",
     "text": [
      "4\n",
      "8\n"
     ]
    }
   ],
   "source": [
    "# 사용자 정의 함수\n",
    "def my_func(x):\n",
    "    return x**2\n",
    "\n",
    "print(my_func(2))\n",
    "\n",
    "# define function with multiple arguments\n",
    "def my_func2(x,y):\n",
    "    return x**y\n",
    "print(my_func2(2,3))"
   ]
  },
  {
   "cell_type": "code",
   "execution_count": 24,
   "metadata": {},
   "outputs": [
    {
     "name": "stdout",
     "output_type": "stream",
     "text": [
      "4\n"
     ]
    }
   ],
   "source": [
    "# define function with default argument\n",
    "def my_func3(x,y=2):\n",
    "    return x**y\n",
    "print(my_func3(2))"
   ]
  },
  {
   "cell_type": "code",
   "execution_count": 25,
   "metadata": {},
   "outputs": [
    {
     "name": "stdout",
     "output_type": "stream",
     "text": [
      "15\n"
     ]
    }
   ],
   "source": [
    "# define function with variable number of arguments\n",
    "def my_func4(*args):\n",
    "    return sum(args)\n",
    "print(my_func4(1,2,3,4,5))\n"
   ]
  },
  {
   "cell_type": "code",
   "execution_count": 26,
   "metadata": {},
   "outputs": [
    {
     "name": "stdout",
     "output_type": "stream",
     "text": [
      "120\n"
     ]
    }
   ],
   "source": [
    "# define function factorial\n",
    "def factorial(x):\n",
    "    if x == 0:\n",
    "        return 1\n",
    "    else:\n",
    "        return x*factorial(x-1)\n",
    "\n",
    "print(factorial(5))"
   ]
  },
  {
   "cell_type": "code",
   "execution_count": 27,
   "metadata": {},
   "outputs": [
    {
     "name": "stdout",
     "output_type": "stream",
     "text": [
      "86.0\n"
     ]
    }
   ],
   "source": [
    "# define celcius to fahrenheit\n",
    "def c2f(c):\n",
    "    return c*9/5+32\n",
    "print(c2f(30))"
   ]
  },
  {
   "cell_type": "code",
   "execution_count": 28,
   "metadata": {},
   "outputs": [
    {
     "name": "stdout",
     "output_type": "stream",
     "text": [
      "4\n"
     ]
    }
   ],
   "source": [
    "# define caculate difference of max and min with variable number of arguments\n",
    "def max_min(*args):\n",
    "    return max(args)-min(args)\n",
    "print(max_min(1,2,3,4,5))"
   ]
  },
  {
   "cell_type": "code",
   "execution_count": 31,
   "metadata": {},
   "outputs": [
    {
     "name": "stdout",
     "output_type": "stream",
     "text": [
      "2 X 6 = 12\n",
      "2 X 7 = 14\n",
      "2 X 8 = 16\n",
      "2 X 9 = 18\n",
      "----------\n",
      "5 X 6 = 30\n",
      "5 X 7 = 35\n",
      "5 X 8 = 40\n",
      "5 X 9 = 45\n",
      "----------\n",
      "8 X 6 = 48\n",
      "8 X 7 = 56\n",
      "8 X 8 = 64\n",
      "8 X 9 = 72\n",
      "----------\n"
     ]
    }
   ],
   "source": [
    "x = [2,5,8]\n",
    "y = [6,7,8,9]\n",
    "\n",
    "def multiplication_table(x,y):\n",
    "    for i in x:\n",
    "        for j in y:\n",
    "            print(f'{i} X {j} = {i*j}')\n",
    "        print('-'*10)\n",
    "\n",
    "multiplication_table([2, 5, 8], [6, 7, 8, 9])\n"
   ]
  },
  {
   "cell_type": "code",
   "execution_count": 32,
   "metadata": {},
   "outputs": [
    {
     "name": "stdout",
     "output_type": "stream",
     "text": [
      "2 X 6 = 12\n",
      "2 X 7 = 14\n",
      "2 X 8 = 16\n",
      "2 X 9 = 18\n",
      "----------\n",
      "5 X 6 = 30\n",
      "5 X 7 = 35\n",
      "5 X 8 = 40\n",
      "5 X 9 = 45\n",
      "----------\n",
      "8 X 6 = 48\n",
      "8 X 7 = 56\n",
      "8 X 8 = 64\n",
      "8 X 9 = 72\n",
      "----------\n"
     ]
    }
   ],
   "source": [
    "# 구구단표 출력\n",
    "def multiplication_table(x,y):\n",
    "    for i in x:\n",
    "        for j in y:\n",
    "            print(f'{i} X {j} = {i*j}')\n",
    "        print('-'*10)\n",
    "\n",
    "multiplication_table([2, 5, 8], [6, 7, 8, 9])"
   ]
  },
  {
   "cell_type": "code",
   "execution_count": 41,
   "metadata": {},
   "outputs": [
    {
     "name": "stdout",
     "output_type": "stream",
     "text": [
      "120\n"
     ]
    }
   ],
   "source": [
    "#define function with type of arithmetic operation in string and variable number of arguments\n",
    "def arithmetic_operation(operator, *args):\n",
    "    if operator == '+':\n",
    "        return sum(args)\n",
    "    elif operator == '*':\n",
    "        # return np.cumprod(args) as list\n",
    "        return np.cumprod(args)[-1]\n",
    "    else:\n",
    "        return 'what are you talking about?'\n",
    "\n",
    "print(arithmetic_operation('*',1,2,3,4,5))\n"
   ]
  },
  {
   "cell_type": "code",
   "execution_count": 47,
   "metadata": {},
   "outputs": [
    {
     "data": {
      "text/plain": [
       "(2, 4)"
      ]
     },
     "execution_count": 47,
     "metadata": {},
     "output_type": "execute_result"
    }
   ],
   "source": [
    "# return multiple values\n",
    "def my_func(x):\n",
    "    return x, x**2\n",
    "\n",
    "my_func(2)"
   ]
  },
  {
   "cell_type": "code",
   "execution_count": 49,
   "metadata": {},
   "outputs": [
    {
     "name": "stdout",
     "output_type": "stream",
     "text": [
      "4\n",
      "8\n"
     ]
    }
   ],
   "source": [
    "# 함수에 초기값을 설정하는 방법\n",
    "def my_func(x,y=2):\n",
    "    return x**y\n",
    "\n",
    "print(my_func(2))\n",
    "print(my_func(2,3))\n",
    "\n",
    "# 두번째 인자를 전달하지 않으면 에러가 발생하는 것을 방지하기 위해 초기값을 설정하는 방법"
   ]
  },
  {
   "cell_type": "code",
   "execution_count": 52,
   "metadata": {},
   "outputs": [
    {
     "name": "stdout",
     "output_type": "stream",
     "text": [
      "3\n",
      "2\n"
     ]
    }
   ],
   "source": [
    "addLambda = lambda x,y: x+y\n",
    "print(addLambda(1,2))\n",
    "\n",
    "multiLambda = lambda x,y: x*y\n",
    "print(multiLambda(1,2))"
   ]
  },
  {
   "cell_type": "code",
   "execution_count": 55,
   "metadata": {},
   "outputs": [
    {
     "name": "stdout",
     "output_type": "stream",
     "text": [
      "120\n"
     ]
    }
   ],
   "source": [
    "#재귀함수\n",
    "def factorial(x):\n",
    "    if x == 0:\n",
    "        return 1\n",
    "    else:\n",
    "        return x*factorial(x-1)\n",
    "\n",
    "print(factorial(5))"
   ]
  }
 ],
 "metadata": {
  "kernelspec": {
   "display_name": "Python 3.9.7 ('base')",
   "language": "python",
   "name": "python3"
  },
  "language_info": {
   "codemirror_mode": {
    "name": "ipython",
    "version": 3
   },
   "file_extension": ".py",
   "mimetype": "text/x-python",
   "name": "python",
   "nbconvert_exporter": "python",
   "pygments_lexer": "ipython3",
   "version": "3.9.7"
  },
  "orig_nbformat": 4,
  "vscode": {
   "interpreter": {
    "hash": "c34e8390e776d2ee205b71ed5a6130fee3cef8da5e87e926ce18e14f4a070d72"
   }
  }
 },
 "nbformat": 4,
 "nbformat_minor": 2
}
