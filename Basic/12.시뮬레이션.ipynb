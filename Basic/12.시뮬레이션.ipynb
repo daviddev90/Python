{
 "cells": [
  {
   "cell_type": "markdown",
   "metadata": {},
   "source": [
    "### 몬테카를로 시뮬레이션\n",
    "- 자료 없이 난수를 통해 가설을 검증하는 방법"
   ]
  },
  {
   "cell_type": "code",
   "execution_count": 21,
   "metadata": {},
   "outputs": [
    {
     "name": "stdout",
     "output_type": "stream",
     "text": [
      " 100000번 동작시 49.95% 참\n",
      "  10000번 동작시 48.97% 참\n",
      "   1000번 동작시 52.80% 참\n",
      "    100번 동작시 53.00% 참\n",
      "     10번 동작시 70.00% 참\n"
     ]
    }
   ],
   "source": [
    "# monte-carlo coin-flip simulation\n",
    "import random\n",
    "def flip_coin(num):\n",
    "    heads = 0\n",
    "    for i in range(num):\n",
    "        if random.random() < 0.5:\n",
    "            heads += 1\n",
    "    return heads\n",
    "\n",
    "print(f'%7d번 동작시 %.2f%% 참' % (100000, flip_coin(100000) / 100000 * 100))\n",
    "print(f'%7d번 동작시 %.2f%% 참' % (10000, flip_coin(10000) / 10000 * 100))\n",
    "print(f'%7d번 동작시 %.2f%% 참' % (1000, flip_coin(1000) / 1000 * 100))\n",
    "print(f'%7d번 동작시 %.2f%% 참' % (100, flip_coin(100) / 100 * 100))\n",
    "print(f'%7d번 동작시 %.2f%% 참' % (10, flip_coin(10) / 10 * 100))\n",
    "\n",
    "\n"
   ]
  },
  {
   "cell_type": "code",
   "execution_count": 52,
   "metadata": {},
   "outputs": [
    {
     "name": "stdout",
     "output_type": "stream",
     "text": [
      "     10번 동작시 가위는      5 있고 바위는      2 있고 보는      3 있다.\n",
      "    100번 동작시 가위는     33 있고 바위는     41 있고 보는     26 있다.\n",
      "   1000번 동작시 가위는    289 있고 바위는    347 있고 보는    364 있다.\n",
      "  10000번 동작시 가위는   3417 있고 바위는   3334 있고 보는   3249 있다.\n",
      " 100000번 동작시 가위는  33629 있고 바위는  33010 있고 보는  33361 있다.\n",
      "1000000번 동작시 가위는 334248 있고 바위는 332383 있고 보는 333369 있다.\n"
     ]
    }
   ],
   "source": [
    "# monte-carlo rock-paper-scissors simulation\n",
    "import random\n",
    "def rock_paper_scissors(num):\n",
    "    rock = 0\n",
    "    paper = 0\n",
    "    scissors = 0\n",
    "    for i in range(num):\n",
    "        count = random.random()\n",
    "        if count < 0.333333:\n",
    "            rock += 1\n",
    "        elif count < 0.666666:\n",
    "            paper += 1\n",
    "        else:\n",
    "            scissors += 1\n",
    "    return rock, paper, scissors\n",
    "\n",
    "#print number of rock, paper, scissors\n",
    "def print_number_of_rock_paper_scissors(num):\n",
    "    rock, paper, scissors = rock_paper_scissors(num)\n",
    "    print(f'%7d번 동작시 가위는 %6d 있고 바위는 %6d 있고 보는 %6d 있다.' % (num, scissors,rock, paper ))\n",
    "\n",
    "print_number_of_rock_paper_scissors(10)\n",
    "print_number_of_rock_paper_scissors(100)\n",
    "print_number_of_rock_paper_scissors(1000)\n",
    "print_number_of_rock_paper_scissors(10000)\n",
    "print_number_of_rock_paper_scissors(100000)\n",
    "print_number_of_rock_paper_scissors(1000000)"
   ]
  }
 ],
 "metadata": {
  "kernelspec": {
   "display_name": "Python 3.9.7 ('base')",
   "language": "python",
   "name": "python3"
  },
  "language_info": {
   "codemirror_mode": {
    "name": "ipython",
    "version": 3
   },
   "file_extension": ".py",
   "mimetype": "text/x-python",
   "name": "python",
   "nbconvert_exporter": "python",
   "pygments_lexer": "ipython3",
   "version": "3.9.7"
  },
  "orig_nbformat": 4,
  "vscode": {
   "interpreter": {
    "hash": "c34e8390e776d2ee205b71ed5a6130fee3cef8da5e87e926ce18e14f4a070d72"
   }
  }
 },
 "nbformat": 4,
 "nbformat_minor": 2
}
