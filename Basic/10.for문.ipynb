{
 "cells": [
  {
   "cell_type": "code",
   "execution_count": 4,
   "metadata": {},
   "outputs": [
    {
     "name": "stdout",
     "output_type": "stream",
     "text": [
      "[0, 2, 4, 6, 8, 10]\n",
      "[11, 9, 7, 5, 3, 1]\n"
     ]
    }
   ],
   "source": [
    "print(list(range(0,11,2)))\n",
    "print(list(range(11,0,-2)))"
   ]
  },
  {
   "cell_type": "code",
   "execution_count": 5,
   "metadata": {},
   "outputs": [
    {
     "name": "stdout",
     "output_type": "stream",
     "text": [
      "1\n",
      "2\n",
      "3\n",
      "4\n",
      "5\n",
      "6\n",
      "7\n",
      "8\n",
      "9\n",
      "10\n"
     ]
    }
   ],
   "source": [
    "for i in range(1,11):\n",
    "    print(i)"
   ]
  },
  {
   "cell_type": "code",
   "execution_count": 14,
   "metadata": {},
   "outputs": [
    {
     "name": "stdout",
     "output_type": "stream",
     "text": [
      " 1 : 1.00000000\n",
      " 2 : 1.41421356\n",
      " 3 : 1.73205081\n",
      " 4 : 2.00000000\n",
      " 5 : 2.23606798\n",
      " 6 : 2.44948974\n",
      " 7 : 2.64575131\n",
      " 8 : 2.82842712\n",
      " 9 : 3.00000000\n",
      "10 : 3.16227766\n"
     ]
    }
   ],
   "source": [
    "import math\n",
    "for i in range(1,11):\n",
    "    print('%2d : %0.8f'%(i, math.sqrt(i)))"
   ]
  },
  {
   "cell_type": "code",
   "execution_count": 20,
   "metadata": {},
   "outputs": [
    {
     "name": "stdout",
     "output_type": "stream",
     "text": [
      " 2  4  6  8 10 12 14 16 18 \n",
      " 3  6  9 12 15 18 21 24 27 \n",
      " 4  8 12 16 20 24 28 32 36 \n",
      " 5 10 15 20 25 30 35 40 45 \n",
      " 6 12 18 24 30 36 42 48 54 \n",
      " 7 14 21 28 35 42 49 56 63 \n",
      " 8 16 24 32 40 48 56 64 72 \n",
      " 9 18 27 36 45 54 63 72 81 \n"
     ]
    }
   ],
   "source": [
    "for i in range(2, 10):\n",
    "    for j in range(1, 10):\n",
    "        print(\"%2d\"%(i*j), end=' ')\n",
    "    print()"
   ]
  },
  {
   "cell_type": "code",
   "execution_count": 2,
   "metadata": {},
   "outputs": [
    {
     "name": "stdout",
     "output_type": "stream",
     "text": [
      "1 : 2\n",
      "3 : 4\n",
      "5 : 6\n",
      "7 : 8\n",
      "1 : 3 : 2\n",
      "3 : 5 : 4\n",
      "5 : 7 : 6\n",
      "7 : 9 : 8\n"
     ]
    }
   ],
   "source": [
    "# for문에 tuple 사용하기\n",
    "var = [(1,2),(3,4),(5,6),(7,8),]\n",
    "\n",
    "for first, last in var:\n",
    "    print(first,':', last)\n",
    "\n",
    "\n",
    "# for문에 tuple 사용하기\n",
    "var = [(1,2,3),(3,4,5),(5,6,7),(7,8,9),]\n",
    "\n",
    "for first, mid, last in var:\n",
    "    print(first,':', last,\":\", mid)"
   ]
  },
  {
   "cell_type": "markdown",
   "metadata": {},
   "source": [
    "- 총 5명의 학생이 시험을 보았다\n",
    "- 시험점수가 60점을 넘으면 합격\n",
    "- 그렇지 않으면 불합격\n",
    "- 합격 불합격 보여주기"
   ]
  },
  {
   "cell_type": "code",
   "execution_count": 1,
   "metadata": {},
   "outputs": [
    {
     "name": "stdout",
     "output_type": "stream",
     "text": [
      "1번째 학생은 합격입니다.\n",
      "2번째 학생은 불합격입니다.\n",
      "3번째 학생은 합격입니다.\n",
      "4번째 학생은 불합격입니다.\n",
      "5번째 학생은 합격입니다.\n"
     ]
    }
   ],
   "source": [
    "scores = [90, 25, 67, 45, 80]\n",
    "\n",
    "for number in range(len(scores)):\n",
    "    res = '합격' if scores[number] > 60 else '불합격'\n",
    "    print(f'{number+1}번째 학생은 {res}입니다.')"
   ]
  },
  {
   "cell_type": "code",
   "execution_count": 11,
   "metadata": {},
   "outputs": [
    {
     "name": "stdout",
     "output_type": "stream",
     "text": [
      "1번째 학생은 합격입니다.\n",
      "2번째 학생은 불합격입니다.\n",
      "3번째 학생은 합격입니다.\n",
      "4번째 학생은 불합격입니다.\n",
      "5번째 학생은 합격입니다.\n"
     ]
    }
   ],
   "source": [
    "scores = [90, 25, 67, 45, 80]\n",
    "\n",
    "for score in scores:\n",
    "    res = '합격' if score > 60 else '불합격'\n",
    "    print(f'{scores.index(score)+1}번째 학생은 {res}입니다.')"
   ]
  },
  {
   "cell_type": "code",
   "execution_count": 16,
   "metadata": {},
   "outputs": [
    {
     "name": "stdout",
     "output_type": "stream",
     "text": [
      "[(0, 90), (1, 25), (2, 67), (3, 45), (4, 80)]\n",
      "1번째 학생은 90점으로 합격입니다.\n",
      "2번째 학생은 25점으로 불합격입니다.\n",
      "3번째 학생은 67점으로 합격입니다.\n",
      "4번째 학생은 45점으로 불합격입니다.\n",
      "5번째 학생은 80점으로 합격입니다.\n"
     ]
    }
   ],
   "source": [
    "scores = [90, 25, 67, 45, 80]\n",
    "print(list(enumerate(scores)))\n",
    "\n",
    "for i, score in  enumerate(scores):\n",
    "    res = '합격' if score > 60 else '불합격'\n",
    "    print(f'{i+1}번째 학생은 {score}점으로 {res}입니다.')"
   ]
  },
  {
   "cell_type": "markdown",
   "metadata": {},
   "source": [
    "- 학생들 점수의 평균을 구하여 평균보다 낮으면 불합격\n",
    "- 평균과 같거나 높으면 합격"
   ]
  },
  {
   "cell_type": "code",
   "execution_count": 17,
   "metadata": {},
   "outputs": [],
   "source": [
    "import numpy as np"
   ]
  },
  {
   "cell_type": "code",
   "execution_count": 26,
   "metadata": {},
   "outputs": [
    {
     "name": "stdout",
     "output_type": "stream",
     "text": [
      "학급 평균 점수는 61.40입니다.\n",
      "1번째 학생은 90점이므로 합격입니다.\n",
      "2번째 학생은 25점이어서 불합격입니다.\n",
      "3번째 학생은 67점이므로 합격입니다.\n",
      "4번째 학생은 45점이어서 불합격입니다.\n",
      "5번째 학생은 80점이므로 합격입니다.\n"
     ]
    }
   ],
   "source": [
    "scores = [90, 25, 67, 45, 80]\n",
    "mean = np.mean(scores)\n",
    "\n",
    "print(f'학급 평균 점수는 {\"%0.2f\"%mean}입니다.')\n",
    "\n",
    "for i, score in  enumerate(scores):\n",
    "    res = '이므로 합격' if score > mean else '이어서 불합격'\n",
    "    print(f'{i+1}번째 학생은 {score}점{res}입니다.')"
   ]
  },
  {
   "cell_type": "code",
   "execution_count": 27,
   "metadata": {},
   "outputs": [
    {
     "name": "stdout",
     "output_type": "stream",
     "text": [
      "1의 학생은 합격 입니다.\n",
      "3의 학생은 합격 입니다.\n",
      "5의 학생은 합격 입니다.\n"
     ]
    }
   ],
   "source": [
    "scores = [90, 25, 67, 45, 80]\n",
    "\n",
    "for i, score in enumerate(scores):\n",
    "    if score > 60:\n",
    "        print(f'{i+1}의 학생은 합격 입니다.')"
   ]
  },
  {
   "cell_type": "code",
   "execution_count": 35,
   "metadata": {},
   "outputs": [
    {
     "name": "stdout",
     "output_type": "stream",
     "text": [
      " 합격자 번호\n",
      "----------\n",
      "    1     \n",
      "    3     \n",
      "    5     \n"
     ]
    }
   ],
   "source": [
    "scores = [90, 25, 67, 45, 80]\n",
    "congratulations = []\n",
    "\n",
    "for i, score in enumerate(scores):\n",
    "    if (score > 60):\n",
    "        congratulations.append(i+1)\n",
    "\n",
    "print(' 합격자 번호')\n",
    "print('----------')\n",
    "for i in congratulations:\n",
    "    print('{0:^10}'.format(i))\n"
   ]
  },
  {
   "cell_type": "markdown",
   "metadata": {},
   "source": [
    "# 문장과 단어 추출"
   ]
  },
  {
   "cell_type": "code",
   "execution_count": 2,
   "metadata": {},
   "outputs": [
    {
     "data": {
      "text/plain": [
       "'나는 홍길동 입니다.\\n주소는 서울시 입니다.\\n나이는 35세 입니다.'"
      ]
     },
     "execution_count": 2,
     "metadata": {},
     "output_type": "execute_result"
    }
   ],
   "source": [
    "string = \"\"\"나는 홍길동 입니다.\n",
    "주소는 서울시 입니다.\n",
    "나이는 35세 입니다.\"\"\"\n",
    "string"
   ]
  },
  {
   "cell_type": "code",
   "execution_count": 10,
   "metadata": {},
   "outputs": [
    {
     "name": "stdout",
     "output_type": "stream",
     "text": [
      "['나는 홍길동 입니다.', '주소는 서울시 입니다.', '나이는 35세 입니다.']\n",
      "['나는', '홍길동', '입니다.', '주소는', '서울시', '입니다.', '나이는', '35세', '입니다.']\n"
     ]
    }
   ],
   "source": [
    "sents = [] # 문장 저장\n",
    "words = [] # 단어 저장\n",
    "\n",
    "# 문단 -> 문장\n",
    "for sen in string.split('\\n'):\n",
    "    sents.append(sen)\n",
    "    # 문장 -> 단어\n",
    "    for word in sen.split():\n",
    "        words.append(word)\n",
    "\n",
    "print(sents)\n",
    "print(words)\n",
    "\n",
    "#save words as csv file\n",
    "with open('test.csv', 'w') as f:\n",
    "    for word in words:\n",
    "        f.write(word + '\\n')\n"
   ]
  },
  {
   "cell_type": "code",
   "execution_count": 13,
   "metadata": {},
   "outputs": [
    {
     "name": "stdout",
     "output_type": "stream",
     "text": [
      "[5, 10, 15, 20, 25, 30, 35, 40, 45, 50]\n"
     ]
    }
   ],
   "source": [
    "var01 = [1,2,3,4,5,6,7,8,9,10]\n",
    "var02 = []\n",
    "\n",
    "#var02 = index of var01*5\n",
    "var02 = [i*5 for i in var01]\n",
    "\n",
    "print(var02)"
   ]
  },
  {
   "cell_type": "code",
   "execution_count": 14,
   "metadata": {},
   "outputs": [
    {
     "name": "stdout",
     "output_type": "stream",
     "text": [
      "[10, 20, 30, 40, 50]\n"
     ]
    }
   ],
   "source": [
    "#if var01 is even, append var01*5 to var02\n",
    "var02 = []\n",
    "for i in var01:\n",
    "    if i%2 == 0:\n",
    "        var02.append(i*5)\n",
    "\n",
    "print(var02)"
   ]
  },
  {
   "cell_type": "code",
   "execution_count": 16,
   "metadata": {},
   "outputs": [
    {
     "name": "stdout",
     "output_type": "stream",
     "text": [
      "[10, 20, 30, 40, 50]\n"
     ]
    }
   ],
   "source": [
    "#if var01 is even, append var01*5 to var02\n",
    "var02 = []\n",
    "var02 = [i*5 for i in var01 if i%2 == 0]\n",
    "print(var02)"
   ]
  },
  {
   "cell_type": "code",
   "execution_count": 18,
   "metadata": {},
   "outputs": [],
   "source": [
    "#scrape data from kospi\n",
    "import requests\n",
    "from bs4 import BeautifulSoup\n",
    "\n",
    "url = 'https://finance.naver.com/sise/sise_index_day.nhn?code=KOSPI'\n",
    "res = requests.get(url)\n",
    "soup = BeautifulSoup(res.content, 'html.parser')\n",
    "\n",
    "#save data as csv file\n",
    "with open('kospi.csv', 'w') as f:\n",
    "    for tr in soup.select('tr'):\n",
    "        for td in tr.select('td'):\n",
    "            f.write(td.text + '\\n')\n",
    "            "
   ]
  },
  {
   "cell_type": "code",
   "execution_count": 20,
   "metadata": {},
   "outputs": [
    {
     "name": "stdout",
     "output_type": "stream",
     "text": [
      "[2, 4, 6, 8, 10, 12, 14, 16, 18, 3, 6, 9, 12, 15, 18, 21, 24, 27, 4, 8, 12, 16, 20, 24, 28, 32, 36, 5, 10, 15, 20, 25, 30, 35, 40, 45, 6, 12, 18, 24, 30, 36, 42, 48, 54, 7, 14, 21, 28, 35, 42, 49, 56, 63, 8, 16, 24, 32, 40, 48, 56, 64, 72, 9, 18, 27, 36, 45, 54, 63, 72, 81]\n"
     ]
    }
   ],
   "source": [
    "#구구단 결과 리스트\n",
    "result = []\n",
    "result = [i*j for i in range(2,10) for j in range(1,10)]\n",
    "print(result)"
   ]
  },
  {
   "cell_type": "code",
   "execution_count": 34,
   "metadata": {},
   "outputs": [
    {
     "name": "stdout",
     "output_type": "stream",
     "text": [
      "합격한 학생들의 평균 점수는 79.00입니다.\n"
     ]
    }
   ],
   "source": [
    "scores = [90, 25, 67, 45, 80]\n",
    "\n",
    "#make a list of scores that are greater than 60 and print average\n",
    "result = [i for i in scores if i > 60]\n",
    "\n",
    "# average 2 decimal places\n",
    "res = f'{sum(result)/len(result):.2f}'\n",
    "print(f'합격한 학생들의 평균 점수는 {res}입니다.')"
   ]
  },
  {
   "cell_type": "code",
   "execution_count": 36,
   "metadata": {},
   "outputs": [
    {
     "name": "stdout",
     "output_type": "stream",
     "text": [
      "5050\n"
     ]
    }
   ],
   "source": [
    "#1부터 100까지 합계 구하기\n",
    "result = [i for i in range(1,101)]\n",
    "\n",
    "#get sum of result\n",
    "res = sum(result)\n",
    "print(res)"
   ]
  },
  {
   "cell_type": "code",
   "execution_count": null,
   "metadata": {},
   "outputs": [],
   "source": []
  }
 ],
 "metadata": {
  "kernelspec": {
   "display_name": "Python 3.9.7 ('base')",
   "language": "python",
   "name": "python3"
  },
  "language_info": {
   "codemirror_mode": {
    "name": "ipython",
    "version": 3
   },
   "file_extension": ".py",
   "mimetype": "text/x-python",
   "name": "python",
   "nbconvert_exporter": "python",
   "pygments_lexer": "ipython3",
   "version": "3.9.7"
  },
  "orig_nbformat": 4,
  "vscode": {
   "interpreter": {
    "hash": "c34e8390e776d2ee205b71ed5a6130fee3cef8da5e87e926ce18e14f4a070d72"
   }
  }
 },
 "nbformat": 4,
 "nbformat_minor": 2
}
